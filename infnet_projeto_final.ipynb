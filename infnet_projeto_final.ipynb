{
  "nbformat": 4,
  "nbformat_minor": 0,
  "metadata": {
    "colab": {
      "name": "Cópia de infnet_projeto_final.ipynb",
      "provenance": []
    },
    "kernelspec": {
      "name": "python3",
      "display_name": "Python 3"
    },
    "language_info": {
      "name": "python"
    }
  },
  "cells": [
    {
      "cell_type": "markdown",
      "metadata": {
        "id": "RojVNLagiix3"
      },
      "source": [
        "<h2>Projeto Final - Pós-graduação MIT em Data Science, Data Analytics & Machine Learning</h2>\n",
        "\n"
      ]
    },
    {
      "cell_type": "markdown",
      "metadata": {
        "id": "ysdO5HTPl8B6"
      },
      "source": [
        "![logo_infnet.png](data:image/png;base64,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)"
      ]
    },
    {
      "cell_type": "markdown",
      "metadata": {
        "id": "tB48RdTFk6T7"
      },
      "source": [
        "<h1>É possível prever o volume de vendas de lojas do Walmart baseado no histórico de vendas?</h1>\n",
        "\n"
      ]
    },
    {
      "cell_type": "markdown",
      "metadata": {
        "id": "4FtPDXaFllR7"
      },
      "source": [
        "## Sumário\n",
        "* [Introdução: Descrição do problema](#introduction)\n",
        "* [Configuração](#setup)\n",
        "* [Metodologia](#methodology)\n",
        "* [Análise](#analysis)\n",
        "* [Resultados e discussões](#results)\n",
        "* [Conclusão](#conclusion)"
      ]
    },
    {
      "cell_type": "markdown",
      "metadata": {
        "id": "AckHVbBYlvOm"
      },
      "source": [
        "## Introdução: <a name=\"introduction\"></a>"
      ]
    },
    {
      "cell_type": "markdown",
      "metadata": {
        "id": "fXhqcFl_kxOE"
      },
      "source": [
        "A previsão de vendas é uma estimativa de quanto será vendido por uma empresa num determinado período de tempo. Assim, a contribuição da previsão de vendas no processo do planejamento corporativo é amplamente necessário e reconhecido.\n",
        "\n",
        "Quantas empresas desejariam saber o quanto irá vender no dia seguinte?\n",
        "Essa resposta facilita a vida das empresas em muitos aspectos, tais como:\n",
        "- Melhor controle de estoque;\n",
        "- Qual a quantidade de colaboradores necessárias em épocas de sazonalidade?;\n",
        "- Previsão de receita;\n",
        "- Previsão de custos e muitos outros.\n",
        "\n",
        "*\"É preciso haver um norte para que a administração da produção possa trabalhar. A previsão de vendas oferece este direcionamento\" (Peinaldo, 2007).*\n",
        "\n"
      ]
    },
    {
      "cell_type": "markdown",
      "metadata": {
        "id": "jBQPUxCcm54X"
      },
      "source": [
        "## Configuração<a name=\"setup\"></a>"
      ]
    },
    {
      "cell_type": "markdown",
      "metadata": {
        "id": "_PQNryc6ibz1"
      },
      "source": [
        "Importando as bibliotecas necessárias"
      ]
    },
    {
      "cell_type": "code",
      "metadata": {
        "id": "v3JKDc_mBhj6",
        "outputId": "c76725a7-ef09-4c68-b3db-cf33ffdeb97e",
        "colab": {
          "base_uri": "https://localhost:8080/"
        }
      },
      "source": [
        "!pip install prophet\n",
        "import warnings"
      ],
      "execution_count": 1,
      "outputs": [
        {
          "output_type": "stream",
          "text": [
            "Collecting prophet\n",
            "\u001b[?25l  Downloading https://files.pythonhosted.org/packages/f0/fa/c382f0ac5abe9f0a4df9d874a5e8843db035fe2f071b5c00a545b1e3c10b/prophet-1.0.1.tar.gz (65kB)\n",
            "\u001b[K     |████████████████████████████████| 71kB 2.4MB/s \n",
            "\u001b[?25hRequirement already satisfied: Cython>=0.22 in /usr/local/lib/python3.7/dist-packages (from prophet) (0.29.23)\n",
            "Collecting cmdstanpy==0.9.68\n",
            "\u001b[?25l  Downloading https://files.pythonhosted.org/packages/08/b9/b4f0938b38dbe775c4def707f525ab816b9d0215ecd8ab2d76780f4514f8/cmdstanpy-0.9.68-py3-none-any.whl (49kB)\n",
            "\u001b[K     |████████████████████████████████| 51kB 3.4MB/s \n",
            "\u001b[?25hRequirement already satisfied: pystan~=2.19.1.1 in /usr/local/lib/python3.7/dist-packages (from prophet) (2.19.1.1)\n",
            "Requirement already satisfied: numpy>=1.15.4 in /usr/local/lib/python3.7/dist-packages (from prophet) (1.19.5)\n",
            "Requirement already satisfied: pandas>=1.0.4 in /usr/local/lib/python3.7/dist-packages (from prophet) (1.1.5)\n",
            "Requirement already satisfied: matplotlib>=2.0.0 in /usr/local/lib/python3.7/dist-packages (from prophet) (3.2.2)\n",
            "Requirement already satisfied: LunarCalendar>=0.0.9 in /usr/local/lib/python3.7/dist-packages (from prophet) (0.0.9)\n",
            "Requirement already satisfied: convertdate>=2.1.2 in /usr/local/lib/python3.7/dist-packages (from prophet) (2.3.2)\n",
            "Requirement already satisfied: holidays>=0.10.2 in /usr/local/lib/python3.7/dist-packages (from prophet) (0.10.5.2)\n",
            "Requirement already satisfied: setuptools-git>=1.2 in /usr/local/lib/python3.7/dist-packages (from prophet) (1.2)\n",
            "Requirement already satisfied: python-dateutil>=2.8.0 in /usr/local/lib/python3.7/dist-packages (from prophet) (2.8.1)\n",
            "Requirement already satisfied: tqdm>=4.36.1 in /usr/local/lib/python3.7/dist-packages (from prophet) (4.41.1)\n",
            "Collecting ujson\n",
            "\u001b[?25l  Downloading https://files.pythonhosted.org/packages/17/4e/50e8e4cf5f00b537095711c2c86ac4d7191aed2b4fffd5a19f06898f6929/ujson-4.0.2-cp37-cp37m-manylinux1_x86_64.whl (179kB)\n",
            "\u001b[K     |████████████████████████████████| 184kB 5.0MB/s \n",
            "\u001b[?25hRequirement already satisfied: pytz>=2017.2 in /usr/local/lib/python3.7/dist-packages (from pandas>=1.0.4->prophet) (2018.9)\n",
            "Requirement already satisfied: cycler>=0.10 in /usr/local/lib/python3.7/dist-packages (from matplotlib>=2.0.0->prophet) (0.10.0)\n",
            "Requirement already satisfied: pyparsing!=2.0.4,!=2.1.2,!=2.1.6,>=2.0.1 in /usr/local/lib/python3.7/dist-packages (from matplotlib>=2.0.0->prophet) (2.4.7)\n",
            "Requirement already satisfied: kiwisolver>=1.0.1 in /usr/local/lib/python3.7/dist-packages (from matplotlib>=2.0.0->prophet) (1.3.1)\n",
            "Requirement already satisfied: ephem>=3.7.5.3 in /usr/local/lib/python3.7/dist-packages (from LunarCalendar>=0.0.9->prophet) (4.0.0.2)\n",
            "Requirement already satisfied: pymeeus<=1,>=0.3.13 in /usr/local/lib/python3.7/dist-packages (from convertdate>=2.1.2->prophet) (0.5.11)\n",
            "Requirement already satisfied: korean-lunar-calendar in /usr/local/lib/python3.7/dist-packages (from holidays>=0.10.2->prophet) (0.2.1)\n",
            "Requirement already satisfied: hijri-converter in /usr/local/lib/python3.7/dist-packages (from holidays>=0.10.2->prophet) (2.1.2)\n",
            "Requirement already satisfied: six in /usr/local/lib/python3.7/dist-packages (from holidays>=0.10.2->prophet) (1.15.0)\n",
            "Building wheels for collected packages: prophet\n",
            "  Building wheel for prophet (setup.py) ... \u001b[?25l\u001b[?25hdone\n",
            "  Created wheel for prophet: filename=prophet-1.0.1-cp37-none-any.whl size=6639264 sha256=b6faeee3981612116fc61d2ffbdf8c9d4be4dbaaff56b1a6b4af9ff3e84170e6\n",
            "  Stored in directory: /root/.cache/pip/wheels/92/1d/02/bc0a91bd3a84e060722075d2b0b68e875e37ec7dc49451d513\n",
            "Successfully built prophet\n",
            "\u001b[31mERROR: fbprophet 0.7.1 has requirement cmdstanpy==0.9.5, but you'll have cmdstanpy 0.9.68 which is incompatible.\u001b[0m\n",
            "Installing collected packages: ujson, cmdstanpy, prophet\n",
            "  Found existing installation: cmdstanpy 0.9.5\n",
            "    Uninstalling cmdstanpy-0.9.5:\n",
            "      Successfully uninstalled cmdstanpy-0.9.5\n",
            "Successfully installed cmdstanpy-0.9.68 prophet-1.0.1 ujson-4.0.2\n"
          ],
          "name": "stdout"
        }
      ]
    },
    {
      "cell_type": "code",
      "metadata": {
        "id": "DfzQqbZrgkcZ"
      },
      "source": [
        "import pandas as pd\n",
        "import numpy as np\n",
        "\n",
        "import matplotlib.pyplot as plt\n",
        "import seaborn as sns\n",
        "\n",
        "from fbprophet import Prophet\n",
        "from prophet.plot import plot_plotly, plot_components_plotly\n",
        "\n",
        "from sklearn.preprocessing import MinMaxScaler\n",
        "\n",
        "from tensorflow.keras.models import Sequential\n",
        "from tensorflow.keras.layers import Dense, Dropout, LSTM\n"
      ],
      "execution_count": 2,
      "outputs": []
    },
    {
      "cell_type": "markdown",
      "metadata": {
        "id": "3JQqGH1rnM5b"
      },
      "source": [
        "## Lendo os dados"
      ]
    },
    {
      "cell_type": "markdown",
      "metadata": {
        "id": "u60jEjB4jMOl"
      },
      "source": [
        "O objeto de estudo desse trabalho será a série temporal que compreende os dados de venda semanais do Walmart ao longo de vários anos, os quais foram disponibilizados no site Kaggle, disponível no seguinte link:\n",
        "\n",
        "\n",
        "[Walmart Recruiting - Store Sales Forecasting\n",
        "Use historical markdown data to predict store sales](https://www.kaggle.com/c/walmart-recruiting-store-sales-forecasting)"
      ]
    },
    {
      "cell_type": "code",
      "metadata": {
        "id": "NudpX0fFgtS_"
      },
      "source": [
        "df = pd.read_csv('https://raw.githubusercontent.com/naokityokoyama/infnet/main/train.csv')"
      ],
      "execution_count": 4,
      "outputs": []
    },
    {
      "cell_type": "markdown",
      "metadata": {
        "id": "a9pLdCyKnn5A"
      },
      "source": [
        "##Verificando se há informações nulas"
      ]
    },
    {
      "cell_type": "code",
      "metadata": {
        "colab": {
          "base_uri": "https://localhost:8080/"
        },
        "id": "5SCj5MMFgwat",
        "outputId": "46ffebff-c9d9-428c-f9be-c1d769a3212c"
      },
      "source": [
        "df.isnull().sum()"
      ],
      "execution_count": null,
      "outputs": [
        {
          "output_type": "execute_result",
          "data": {
            "text/plain": [
              "Store           0\n",
              "Dept            0\n",
              "Date            0\n",
              "Weekly_Sales    0\n",
              "IsHoliday       0\n",
              "dtype: int64"
            ]
          },
          "metadata": {
            "tags": []
          },
          "execution_count": 4
        }
      ]
    },
    {
      "cell_type": "markdown",
      "metadata": {
        "id": "1r7Fhpu-nw-K"
      },
      "source": [
        "## Visão geral dos dados"
      ]
    },
    {
      "cell_type": "markdown",
      "metadata": {
        "id": "J_7Xaf8tn3Py"
      },
      "source": [
        "Descrição dos Dados"
      ]
    },
    {
      "cell_type": "code",
      "metadata": {
        "colab": {
          "base_uri": "https://localhost:8080/",
          "height": 297
        },
        "id": "0-TevwKBg4H7",
        "outputId": "43e9334f-b773-4dc1-c7b5-34bff45933b9"
      },
      "source": [
        "df.describe()"
      ],
      "execution_count": null,
      "outputs": [
        {
          "output_type": "execute_result",
          "data": {
            "text/html": [
              "<div>\n",
              "<style scoped>\n",
              "    .dataframe tbody tr th:only-of-type {\n",
              "        vertical-align: middle;\n",
              "    }\n",
              "\n",
              "    .dataframe tbody tr th {\n",
              "        vertical-align: top;\n",
              "    }\n",
              "\n",
              "    .dataframe thead th {\n",
              "        text-align: right;\n",
              "    }\n",
              "</style>\n",
              "<table border=\"1\" class=\"dataframe\">\n",
              "  <thead>\n",
              "    <tr style=\"text-align: right;\">\n",
              "      <th></th>\n",
              "      <th>Store</th>\n",
              "      <th>Dept</th>\n",
              "      <th>Weekly_Sales</th>\n",
              "    </tr>\n",
              "  </thead>\n",
              "  <tbody>\n",
              "    <tr>\n",
              "      <th>count</th>\n",
              "      <td>421570.000000</td>\n",
              "      <td>421570.000000</td>\n",
              "      <td>421570.000000</td>\n",
              "    </tr>\n",
              "    <tr>\n",
              "      <th>mean</th>\n",
              "      <td>22.200546</td>\n",
              "      <td>44.260317</td>\n",
              "      <td>15981.258123</td>\n",
              "    </tr>\n",
              "    <tr>\n",
              "      <th>std</th>\n",
              "      <td>12.785297</td>\n",
              "      <td>30.492054</td>\n",
              "      <td>22711.183519</td>\n",
              "    </tr>\n",
              "    <tr>\n",
              "      <th>min</th>\n",
              "      <td>1.000000</td>\n",
              "      <td>1.000000</td>\n",
              "      <td>-4988.940000</td>\n",
              "    </tr>\n",
              "    <tr>\n",
              "      <th>25%</th>\n",
              "      <td>11.000000</td>\n",
              "      <td>18.000000</td>\n",
              "      <td>2079.650000</td>\n",
              "    </tr>\n",
              "    <tr>\n",
              "      <th>50%</th>\n",
              "      <td>22.000000</td>\n",
              "      <td>37.000000</td>\n",
              "      <td>7612.030000</td>\n",
              "    </tr>\n",
              "    <tr>\n",
              "      <th>75%</th>\n",
              "      <td>33.000000</td>\n",
              "      <td>74.000000</td>\n",
              "      <td>20205.852500</td>\n",
              "    </tr>\n",
              "    <tr>\n",
              "      <th>max</th>\n",
              "      <td>45.000000</td>\n",
              "      <td>99.000000</td>\n",
              "      <td>693099.360000</td>\n",
              "    </tr>\n",
              "  </tbody>\n",
              "</table>\n",
              "</div>"
            ],
            "text/plain": [
              "               Store           Dept   Weekly_Sales\n",
              "count  421570.000000  421570.000000  421570.000000\n",
              "mean       22.200546      44.260317   15981.258123\n",
              "std        12.785297      30.492054   22711.183519\n",
              "min         1.000000       1.000000   -4988.940000\n",
              "25%        11.000000      18.000000    2079.650000\n",
              "50%        22.000000      37.000000    7612.030000\n",
              "75%        33.000000      74.000000   20205.852500\n",
              "max        45.000000      99.000000  693099.360000"
            ]
          },
          "metadata": {
            "tags": []
          },
          "execution_count": 15
        }
      ]
    },
    {
      "cell_type": "markdown",
      "metadata": {
        "id": "9AJOs2aIn77E"
      },
      "source": [
        "Tamanho da base de dados"
      ]
    },
    {
      "cell_type": "code",
      "metadata": {
        "colab": {
          "base_uri": "https://localhost:8080/"
        },
        "id": "azFf6o6ThJ1y",
        "outputId": "cf05ca7d-129f-44ca-b8d4-cd912fac1d15"
      },
      "source": [
        "df.shape"
      ],
      "execution_count": null,
      "outputs": [
        {
          "output_type": "execute_result",
          "data": {
            "text/plain": [
              "(421570, 5)"
            ]
          },
          "metadata": {
            "tags": []
          },
          "execution_count": 9
        }
      ]
    },
    {
      "cell_type": "markdown",
      "metadata": {
        "id": "kivdP1GcoAwI"
      },
      "source": [
        "Detalhes sobre os dados"
      ]
    },
    {
      "cell_type": "code",
      "metadata": {
        "colab": {
          "base_uri": "https://localhost:8080/"
        },
        "id": "o3SrcGaHhcTU",
        "outputId": "97cffc47-9487-4ac5-d9ac-a7655a9f41a8"
      },
      "source": [
        "df.info()"
      ],
      "execution_count": null,
      "outputs": [
        {
          "output_type": "stream",
          "text": [
            "<class 'pandas.core.frame.DataFrame'>\n",
            "RangeIndex: 421570 entries, 0 to 421569\n",
            "Data columns (total 5 columns):\n",
            " #   Column        Non-Null Count   Dtype  \n",
            "---  ------        --------------   -----  \n",
            " 0   Store         421570 non-null  int64  \n",
            " 1   Dept          421570 non-null  int64  \n",
            " 2   Date          421570 non-null  object \n",
            " 3   Weekly_Sales  421570 non-null  float64\n",
            " 4   IsHoliday     421570 non-null  bool   \n",
            "dtypes: bool(1), float64(1), int64(2), object(1)\n",
            "memory usage: 13.3+ MB\n"
          ],
          "name": "stdout"
        }
      ]
    },
    {
      "cell_type": "markdown",
      "metadata": {
        "id": "Bhe4LrYUoKio"
      },
      "source": [
        "## Pré-processamento dos dados"
      ]
    },
    {
      "cell_type": "markdown",
      "metadata": {
        "id": "33T3-n1LoUcc"
      },
      "source": [
        "Convertendo para o formato Date-time"
      ]
    },
    {
      "cell_type": "code",
      "metadata": {
        "id": "SDq0NqgUheAo"
      },
      "source": [
        "df['Date'] = pd.to_datetime(df['Date'])"
      ],
      "execution_count": null,
      "outputs": []
    },
    {
      "cell_type": "markdown",
      "metadata": {
        "id": "nlxzkQP9opyp"
      },
      "source": [
        "Confirmando se os dados foram convertidos"
      ]
    },
    {
      "cell_type": "code",
      "metadata": {
        "colab": {
          "base_uri": "https://localhost:8080/"
        },
        "id": "gScosXmnhwA1",
        "outputId": "5afd5c08-ab5b-4374-ff7a-7213a2902b98"
      },
      "source": [
        "df.info()"
      ],
      "execution_count": null,
      "outputs": [
        {
          "output_type": "stream",
          "text": [
            "<class 'pandas.core.frame.DataFrame'>\n",
            "RangeIndex: 421570 entries, 0 to 421569\n",
            "Data columns (total 5 columns):\n",
            " #   Column        Non-Null Count   Dtype         \n",
            "---  ------        --------------   -----         \n",
            " 0   Store         421570 non-null  int64         \n",
            " 1   Dept          421570 non-null  int64         \n",
            " 2   Date          421570 non-null  datetime64[ns]\n",
            " 3   Weekly_Sales  421570 non-null  float64       \n",
            " 4   IsHoliday     421570 non-null  bool          \n",
            "dtypes: bool(1), datetime64[ns](1), float64(1), int64(2)\n",
            "memory usage: 13.3 MB\n"
          ],
          "name": "stdout"
        }
      ]
    },
    {
      "cell_type": "markdown",
      "metadata": {
        "id": "u9_0Bp95oyh_"
      },
      "source": [
        "## Visualização dos Dados"
      ]
    },
    {
      "cell_type": "markdown",
      "metadata": {
        "id": "bE7-NNmso6ab"
      },
      "source": [
        "Visualizando a série completa"
      ]
    },
    {
      "cell_type": "code",
      "metadata": {
        "colab": {
          "base_uri": "https://localhost:8080/",
          "height": 351
        },
        "id": "e1j0ukW2h0wh",
        "outputId": "c4a954d1-9f8f-416a-f3f8-ee19fae85f3f"
      },
      "source": [
        "plt.figure(figsize=(18,5))\n",
        "sns.lineplot(data=df, x='Date', y='Weekly_Sales')"
      ],
      "execution_count": null,
      "outputs": [
        {
          "output_type": "execute_result",
          "data": {
            "text/plain": [
              "<matplotlib.axes._subplots.AxesSubplot at 0x7f5915861390>"
            ]
          },
          "metadata": {
            "tags": []
          },
          "execution_count": 20
        },
        {
          "output_type": "display_data",
          "data": {
            "image/png": "[encoded data removed]",
            "text/plain": [
              "<Figure size 1296x360 with 1 Axes>"
            ]
          },
          "metadata": {
            "tags": [],
            "needs_background": "light"
          }
        }
      ]
    },
    {
      "cell_type": "markdown",
      "metadata": {
        "id": "eP3ncSmVqWpO"
      },
      "source": [
        "Verificando vendas negativas"
      ]
    },
    {
      "cell_type": "code",
      "metadata": {
        "colab": {
          "base_uri": "https://localhost:8080/",
          "height": 351
        },
        "id": "AdnY_KHkiD-J",
        "outputId": "302c7aa9-8f9b-41dd-add2-2a2bd368e98a"
      },
      "source": [
        "sales_neg = df.loc[df['Weekly_Sales']<0]\n",
        "plt.figure(figsize=(18,5))\n",
        "sns.lineplot(data=sales_neg, x='Date', y='Weekly_Sales')"
      ],
      "execution_count": null,
      "outputs": [
        {
          "output_type": "execute_result",
          "data": {
            "text/plain": [
              "<matplotlib.axes._subplots.AxesSubplot at 0x7f5913e63050>"
            ]
          },
          "metadata": {
            "tags": []
          },
          "execution_count": 65
        },
        {
          "output_type": "display_data",
          "data": {
            "image/png": "[encoded data removed]",
            "text/plain": [
              "<Figure size 1296x360 with 1 Axes>"
            ]
          },
          "metadata": {
            "tags": [],
            "needs_background": "light"
          }
        }
      ]
    },
    {
      "cell_type": "markdown",
      "metadata": {
        "id": "28jWm-lcrVWp"
      },
      "source": [
        "#Analizando as vendas negativas"
      ]
    },
    {
      "cell_type": "code",
      "metadata": {
        "colab": {
          "base_uri": "https://localhost:8080/"
        },
        "id": "kgio4lEIiibS",
        "outputId": "96e0dd6a-79b8-407e-ae60-fa21d4d9c746"
      },
      "source": [
        "sales_neg.shape[0]"
      ],
      "execution_count": null,
      "outputs": [
        {
          "output_type": "execute_result",
          "data": {
            "text/plain": [
              "1285"
            ]
          },
          "metadata": {
            "tags": []
          },
          "execution_count": 67
        }
      ]
    },
    {
      "cell_type": "code",
      "metadata": {
        "colab": {
          "base_uri": "https://localhost:8080/"
        },
        "id": "RzRRYU3Qi_Kb",
        "outputId": "40922800-1272-4d07-af9a-b0d0ff232eb4"
      },
      "source": [
        "round (sales_neg.shape[0] / df.shape[0] ,4)*100"
      ],
      "execution_count": null,
      "outputs": [
        {
          "output_type": "execute_result",
          "data": {
            "text/plain": [
              "0.3"
            ]
          },
          "metadata": {
            "tags": []
          },
          "execution_count": 68
        }
      ]
    },
    {
      "cell_type": "code",
      "metadata": {
        "colab": {
          "base_uri": "https://localhost:8080/"
        },
        "id": "49T3KOlcjJWM",
        "outputId": "6f707d89-c15c-4ebb-ab50-3ff67e4a39b1"
      },
      "source": [
        "df.shape[0]"
      ],
      "execution_count": null,
      "outputs": [
        {
          "output_type": "execute_result",
          "data": {
            "text/plain": [
              "421570"
            ]
          },
          "metadata": {
            "tags": []
          },
          "execution_count": 36
        }
      ]
    },
    {
      "cell_type": "code",
      "metadata": {
        "colab": {
          "base_uri": "https://localhost:8080/",
          "height": 419
        },
        "id": "WnQv8IR3jnT3",
        "outputId": "f554d2b2-53dd-45c3-e56d-aed2dfed0eee"
      },
      "source": [
        "sales_neg"
      ],
      "execution_count": null,
      "outputs": [
        {
          "output_type": "execute_result",
          "data": {
            "text/html": [
              "<div>\n",
              "<style scoped>\n",
              "    .dataframe tbody tr th:only-of-type {\n",
              "        vertical-align: middle;\n",
              "    }\n",
              "\n",
              "    .dataframe tbody tr th {\n",
              "        vertical-align: top;\n",
              "    }\n",
              "\n",
              "    .dataframe thead th {\n",
              "        text-align: right;\n",
              "    }\n",
              "</style>\n",
              "<table border=\"1\" class=\"dataframe\">\n",
              "  <thead>\n",
              "    <tr style=\"text-align: right;\">\n",
              "      <th></th>\n",
              "      <th>Store</th>\n",
              "      <th>Dept</th>\n",
              "      <th>Date</th>\n",
              "      <th>Weekly_Sales</th>\n",
              "      <th>IsHoliday</th>\n",
              "    </tr>\n",
              "  </thead>\n",
              "  <tbody>\n",
              "    <tr>\n",
              "      <th>846</th>\n",
              "      <td>1</td>\n",
              "      <td>6</td>\n",
              "      <td>2012-08-10</td>\n",
              "      <td>-139.65</td>\n",
              "      <td>False</td>\n",
              "    </tr>\n",
              "    <tr>\n",
              "      <th>2384</th>\n",
              "      <td>1</td>\n",
              "      <td>18</td>\n",
              "      <td>2012-05-04</td>\n",
              "      <td>-1.27</td>\n",
              "      <td>False</td>\n",
              "    </tr>\n",
              "    <tr>\n",
              "      <th>6048</th>\n",
              "      <td>1</td>\n",
              "      <td>47</td>\n",
              "      <td>2010-02-19</td>\n",
              "      <td>-863.00</td>\n",
              "      <td>False</td>\n",
              "    </tr>\n",
              "    <tr>\n",
              "      <th>6049</th>\n",
              "      <td>1</td>\n",
              "      <td>47</td>\n",
              "      <td>2010-03-12</td>\n",
              "      <td>-698.00</td>\n",
              "      <td>False</td>\n",
              "    </tr>\n",
              "    <tr>\n",
              "      <th>6051</th>\n",
              "      <td>1</td>\n",
              "      <td>47</td>\n",
              "      <td>2010-10-08</td>\n",
              "      <td>-58.00</td>\n",
              "      <td>False</td>\n",
              "    </tr>\n",
              "    <tr>\n",
              "      <th>...</th>\n",
              "      <td>...</td>\n",
              "      <td>...</td>\n",
              "      <td>...</td>\n",
              "      <td>...</td>\n",
              "      <td>...</td>\n",
              "    </tr>\n",
              "    <tr>\n",
              "      <th>419597</th>\n",
              "      <td>45</td>\n",
              "      <td>80</td>\n",
              "      <td>2010-02-12</td>\n",
              "      <td>-0.43</td>\n",
              "      <td>True</td>\n",
              "    </tr>\n",
              "    <tr>\n",
              "      <th>419598</th>\n",
              "      <td>45</td>\n",
              "      <td>80</td>\n",
              "      <td>2010-02-19</td>\n",
              "      <td>-0.27</td>\n",
              "      <td>False</td>\n",
              "    </tr>\n",
              "    <tr>\n",
              "      <th>419603</th>\n",
              "      <td>45</td>\n",
              "      <td>80</td>\n",
              "      <td>2010-04-16</td>\n",
              "      <td>-1.61</td>\n",
              "      <td>False</td>\n",
              "    </tr>\n",
              "    <tr>\n",
              "      <th>419614</th>\n",
              "      <td>45</td>\n",
              "      <td>80</td>\n",
              "      <td>2010-07-02</td>\n",
              "      <td>-0.27</td>\n",
              "      <td>False</td>\n",
              "    </tr>\n",
              "    <tr>\n",
              "      <th>419640</th>\n",
              "      <td>45</td>\n",
              "      <td>80</td>\n",
              "      <td>2011-02-11</td>\n",
              "      <td>-0.24</td>\n",
              "      <td>True</td>\n",
              "    </tr>\n",
              "  </tbody>\n",
              "</table>\n",
              "<p>1358 rows × 5 columns</p>\n",
              "</div>"
            ],
            "text/plain": [
              "        Store  Dept       Date  Weekly_Sales  IsHoliday\n",
              "846         1     6 2012-08-10       -139.65      False\n",
              "2384        1    18 2012-05-04         -1.27      False\n",
              "6048        1    47 2010-02-19       -863.00      False\n",
              "6049        1    47 2010-03-12       -698.00      False\n",
              "6051        1    47 2010-10-08        -58.00      False\n",
              "...       ...   ...        ...           ...        ...\n",
              "419597     45    80 2010-02-12         -0.43       True\n",
              "419598     45    80 2010-02-19         -0.27      False\n",
              "419603     45    80 2010-04-16         -1.61      False\n",
              "419614     45    80 2010-07-02         -0.27      False\n",
              "419640     45    80 2011-02-11         -0.24       True\n",
              "\n",
              "[1358 rows x 5 columns]"
            ]
          },
          "metadata": {
            "tags": []
          },
          "execution_count": 61
        }
      ]
    },
    {
      "cell_type": "markdown",
      "metadata": {
        "id": "LoDvaMy04xDi"
      },
      "source": [
        "Venda mínima por departamento"
      ]
    },
    {
      "cell_type": "code",
      "metadata": {
        "colab": {
          "base_uri": "https://localhost:8080/",
          "height": 450
        },
        "id": "XUpEcMEcj1TA",
        "outputId": "3a87d3a0-635b-43a1-b99f-6e2066585696"
      },
      "source": [
        "df.groupby('Dept').min()"
      ],
      "execution_count": null,
      "outputs": [
        {
          "output_type": "execute_result",
          "data": {
            "text/html": [
              "<div>\n",
              "<style scoped>\n",
              "    .dataframe tbody tr th:only-of-type {\n",
              "        vertical-align: middle;\n",
              "    }\n",
              "\n",
              "    .dataframe tbody tr th {\n",
              "        vertical-align: top;\n",
              "    }\n",
              "\n",
              "    .dataframe thead th {\n",
              "        text-align: right;\n",
              "    }\n",
              "</style>\n",
              "<table border=\"1\" class=\"dataframe\">\n",
              "  <thead>\n",
              "    <tr style=\"text-align: right;\">\n",
              "      <th></th>\n",
              "      <th>Store</th>\n",
              "      <th>Date</th>\n",
              "      <th>Weekly_Sales</th>\n",
              "      <th>IsHoliday</th>\n",
              "    </tr>\n",
              "    <tr>\n",
              "      <th>Dept</th>\n",
              "      <th></th>\n",
              "      <th></th>\n",
              "      <th></th>\n",
              "      <th></th>\n",
              "    </tr>\n",
              "  </thead>\n",
              "  <tbody>\n",
              "    <tr>\n",
              "      <th>1</th>\n",
              "      <td>1</td>\n",
              "      <td>2010-02-05</td>\n",
              "      <td>711.11</td>\n",
              "      <td>False</td>\n",
              "    </tr>\n",
              "    <tr>\n",
              "      <th>2</th>\n",
              "      <td>1</td>\n",
              "      <td>2010-02-05</td>\n",
              "      <td>5453.18</td>\n",
              "      <td>False</td>\n",
              "    </tr>\n",
              "    <tr>\n",
              "      <th>3</th>\n",
              "      <td>1</td>\n",
              "      <td>2010-02-05</td>\n",
              "      <td>2.00</td>\n",
              "      <td>False</td>\n",
              "    </tr>\n",
              "    <tr>\n",
              "      <th>4</th>\n",
              "      <td>1</td>\n",
              "      <td>2010-02-05</td>\n",
              "      <td>4695.19</td>\n",
              "      <td>False</td>\n",
              "    </tr>\n",
              "    <tr>\n",
              "      <th>5</th>\n",
              "      <td>1</td>\n",
              "      <td>2010-02-05</td>\n",
              "      <td>-0.04</td>\n",
              "      <td>False</td>\n",
              "    </tr>\n",
              "    <tr>\n",
              "      <th>...</th>\n",
              "      <td>...</td>\n",
              "      <td>...</td>\n",
              "      <td>...</td>\n",
              "      <td>...</td>\n",
              "    </tr>\n",
              "    <tr>\n",
              "      <th>95</th>\n",
              "      <td>1</td>\n",
              "      <td>2010-02-05</td>\n",
              "      <td>11158.06</td>\n",
              "      <td>False</td>\n",
              "    </tr>\n",
              "    <tr>\n",
              "      <th>96</th>\n",
              "      <td>1</td>\n",
              "      <td>2010-02-05</td>\n",
              "      <td>-63.80</td>\n",
              "      <td>False</td>\n",
              "    </tr>\n",
              "    <tr>\n",
              "      <th>97</th>\n",
              "      <td>1</td>\n",
              "      <td>2010-02-05</td>\n",
              "      <td>-9.92</td>\n",
              "      <td>False</td>\n",
              "    </tr>\n",
              "    <tr>\n",
              "      <th>98</th>\n",
              "      <td>1</td>\n",
              "      <td>2010-02-05</td>\n",
              "      <td>-30.00</td>\n",
              "      <td>False</td>\n",
              "    </tr>\n",
              "    <tr>\n",
              "      <th>99</th>\n",
              "      <td>1</td>\n",
              "      <td>2010-02-05</td>\n",
              "      <td>-147.00</td>\n",
              "      <td>False</td>\n",
              "    </tr>\n",
              "  </tbody>\n",
              "</table>\n",
              "<p>81 rows × 4 columns</p>\n",
              "</div>"
            ],
            "text/plain": [
              "      Store       Date  Weekly_Sales  IsHoliday\n",
              "Dept                                           \n",
              "1         1 2010-02-05        711.11      False\n",
              "2         1 2010-02-05       5453.18      False\n",
              "3         1 2010-02-05          2.00      False\n",
              "4         1 2010-02-05       4695.19      False\n",
              "5         1 2010-02-05         -0.04      False\n",
              "...     ...        ...           ...        ...\n",
              "95        1 2010-02-05      11158.06      False\n",
              "96        1 2010-02-05        -63.80      False\n",
              "97        1 2010-02-05         -9.92      False\n",
              "98        1 2010-02-05        -30.00      False\n",
              "99        1 2010-02-05       -147.00      False\n",
              "\n",
              "[81 rows x 4 columns]"
            ]
          },
          "metadata": {
            "tags": []
          },
          "execution_count": 59
        }
      ]
    },
    {
      "cell_type": "markdown",
      "metadata": {
        "id": "hXSpfGr641nc"
      },
      "source": [
        "#Criando uma lista com as vendas mínimas por departamento"
      ]
    },
    {
      "cell_type": "code",
      "metadata": {
        "id": "eUK9BPatj90j"
      },
      "source": [
        "lista = []\n",
        "for i in range(1,100):\n",
        "  lista.append (df[df.Dept==i]['Weekly_Sales'].min())"
      ],
      "execution_count": null,
      "outputs": []
    },
    {
      "cell_type": "code",
      "metadata": {
        "id": "AkdXxvAyoQFM"
      },
      "source": [
        "df_dp_min = pd.DataFrame(lista)"
      ],
      "execution_count": null,
      "outputs": []
    },
    {
      "cell_type": "markdown",
      "metadata": {
        "id": "275eu9ncp7D0"
      },
      "source": [
        "Departamentos que não existem : 15\n",
        "53\n",
        "57\n",
        "61\n",
        "62\n",
        "63\n",
        "64\n",
        "66\n",
        "68\n",
        "69\n",
        "70\n",
        "73\n",
        "75\n",
        "76\n",
        "84\n",
        "86\n",
        "88\n",
        "89\n",
        "\n"
      ]
    },
    {
      "cell_type": "code",
      "metadata": {
        "id": "vEs6u-TcqYFr"
      },
      "source": [
        "lista_dp = []\n",
        "lista_dep_vazios = [15, 53, 57, 61, 62, 63, 64, 66, 68, 69, 70, 73, 75, 76, 84, 86, 88, 89]\n",
        "for dep in lista_dep_vazios:\n",
        "  lista_dp.append(df[df.Dept==dep])"
      ],
      "execution_count": null,
      "outputs": []
    },
    {
      "cell_type": "code",
      "metadata": {
        "colab": {
          "base_uri": "https://localhost:8080/"
        },
        "id": "gDCRipXjrzi-",
        "outputId": "b09c4356-1108-43af-9b0a-aa56b8cc6e82"
      },
      "source": [
        "lista_dp"
      ],
      "execution_count": null,
      "outputs": [
        {
          "output_type": "execute_result",
          "data": {
            "text/plain": [
              "[Empty DataFrame\n",
              " Columns: [Store, Dept, Date, Weekly_Sales, IsHoliday]\n",
              " Index: [], Empty DataFrame\n",
              " Columns: [Store, Dept, Date, Weekly_Sales, IsHoliday]\n",
              " Index: [], Empty DataFrame\n",
              " Columns: [Store, Dept, Date, Weekly_Sales, IsHoliday]\n",
              " Index: [], Empty DataFrame\n",
              " Columns: [Store, Dept, Date, Weekly_Sales, IsHoliday]\n",
              " Index: [], Empty DataFrame\n",
              " Columns: [Store, Dept, Date, Weekly_Sales, IsHoliday]\n",
              " Index: [], Empty DataFrame\n",
              " Columns: [Store, Dept, Date, Weekly_Sales, IsHoliday]\n",
              " Index: [], Empty DataFrame\n",
              " Columns: [Store, Dept, Date, Weekly_Sales, IsHoliday]\n",
              " Index: [], Empty DataFrame\n",
              " Columns: [Store, Dept, Date, Weekly_Sales, IsHoliday]\n",
              " Index: [], Empty DataFrame\n",
              " Columns: [Store, Dept, Date, Weekly_Sales, IsHoliday]\n",
              " Index: [], Empty DataFrame\n",
              " Columns: [Store, Dept, Date, Weekly_Sales, IsHoliday]\n",
              " Index: [], Empty DataFrame\n",
              " Columns: [Store, Dept, Date, Weekly_Sales, IsHoliday]\n",
              " Index: [], Empty DataFrame\n",
              " Columns: [Store, Dept, Date, Weekly_Sales, IsHoliday]\n",
              " Index: [], Empty DataFrame\n",
              " Columns: [Store, Dept, Date, Weekly_Sales, IsHoliday]\n",
              " Index: [], Empty DataFrame\n",
              " Columns: [Store, Dept, Date, Weekly_Sales, IsHoliday]\n",
              " Index: [], Empty DataFrame\n",
              " Columns: [Store, Dept, Date, Weekly_Sales, IsHoliday]\n",
              " Index: [], Empty DataFrame\n",
              " Columns: [Store, Dept, Date, Weekly_Sales, IsHoliday]\n",
              " Index: [], Empty DataFrame\n",
              " Columns: [Store, Dept, Date, Weekly_Sales, IsHoliday]\n",
              " Index: [], Empty DataFrame\n",
              " Columns: [Store, Dept, Date, Weekly_Sales, IsHoliday]\n",
              " Index: []]"
            ]
          },
          "metadata": {
            "tags": []
          },
          "execution_count": 107
        }
      ]
    },
    {
      "cell_type": "markdown",
      "metadata": {
        "id": "NKlo3_kIr_2s"
      },
      "source": [
        "Departamentos Vazios : pulou linhas"
      ]
    },
    {
      "cell_type": "code",
      "metadata": {
        "colab": {
          "base_uri": "https://localhost:8080/"
        },
        "id": "FK5K8m0pke_D",
        "outputId": "17c3ecbe-b1f9-47b9-c342-dd3cf50c1c96"
      },
      "source": [
        "df[df.Dept==1]['Weekly_Sales'].describe()"
      ],
      "execution_count": null,
      "outputs": [
        {
          "output_type": "execute_result",
          "data": {
            "text/plain": [
              "count      6435.000000\n",
              "mean      19213.485088\n",
              "std       15102.373853\n",
              "min         711.110000\n",
              "25%       10423.465000\n",
              "50%       15314.910000\n",
              "75%       23135.595000\n",
              "max      172225.550000\n",
              "Name: Weekly_Sales, dtype: float64"
            ]
          },
          "metadata": {
            "tags": []
          },
          "execution_count": 63
        }
      ]
    },
    {
      "cell_type": "code",
      "metadata": {
        "colab": {
          "base_uri": "https://localhost:8080/",
          "height": 297
        },
        "id": "ovOV3sWDm3zf",
        "outputId": "a82dd582-e1f6-435e-b669-8f4ca6504698"
      },
      "source": [
        "df[df.Dept==1].describe()"
      ],
      "execution_count": null,
      "outputs": [
        {
          "output_type": "execute_result",
          "data": {
            "text/html": [
              "<div>\n",
              "<style scoped>\n",
              "    .dataframe tbody tr th:only-of-type {\n",
              "        vertical-align: middle;\n",
              "    }\n",
              "\n",
              "    .dataframe tbody tr th {\n",
              "        vertical-align: top;\n",
              "    }\n",
              "\n",
              "    .dataframe thead th {\n",
              "        text-align: right;\n",
              "    }\n",
              "</style>\n",
              "<table border=\"1\" class=\"dataframe\">\n",
              "  <thead>\n",
              "    <tr style=\"text-align: right;\">\n",
              "      <th></th>\n",
              "      <th>Store</th>\n",
              "      <th>Dept</th>\n",
              "      <th>Weekly_Sales</th>\n",
              "    </tr>\n",
              "  </thead>\n",
              "  <tbody>\n",
              "    <tr>\n",
              "      <th>count</th>\n",
              "      <td>6435.000000</td>\n",
              "      <td>6435.0</td>\n",
              "      <td>6435.000000</td>\n",
              "    </tr>\n",
              "    <tr>\n",
              "      <th>mean</th>\n",
              "      <td>23.000000</td>\n",
              "      <td>1.0</td>\n",
              "      <td>19213.485088</td>\n",
              "    </tr>\n",
              "    <tr>\n",
              "      <th>std</th>\n",
              "      <td>12.988182</td>\n",
              "      <td>0.0</td>\n",
              "      <td>15102.373853</td>\n",
              "    </tr>\n",
              "    <tr>\n",
              "      <th>min</th>\n",
              "      <td>1.000000</td>\n",
              "      <td>1.0</td>\n",
              "      <td>711.110000</td>\n",
              "    </tr>\n",
              "    <tr>\n",
              "      <th>25%</th>\n",
              "      <td>12.000000</td>\n",
              "      <td>1.0</td>\n",
              "      <td>10423.465000</td>\n",
              "    </tr>\n",
              "    <tr>\n",
              "      <th>50%</th>\n",
              "      <td>23.000000</td>\n",
              "      <td>1.0</td>\n",
              "      <td>15314.910000</td>\n",
              "    </tr>\n",
              "    <tr>\n",
              "      <th>75%</th>\n",
              "      <td>34.000000</td>\n",
              "      <td>1.0</td>\n",
              "      <td>23135.595000</td>\n",
              "    </tr>\n",
              "    <tr>\n",
              "      <th>max</th>\n",
              "      <td>45.000000</td>\n",
              "      <td>1.0</td>\n",
              "      <td>172225.550000</td>\n",
              "    </tr>\n",
              "  </tbody>\n",
              "</table>\n",
              "</div>"
            ],
            "text/plain": [
              "             Store    Dept   Weekly_Sales\n",
              "count  6435.000000  6435.0    6435.000000\n",
              "mean     23.000000     1.0   19213.485088\n",
              "std      12.988182     0.0   15102.373853\n",
              "min       1.000000     1.0     711.110000\n",
              "25%      12.000000     1.0   10423.465000\n",
              "50%      23.000000     1.0   15314.910000\n",
              "75%      34.000000     1.0   23135.595000\n",
              "max      45.000000     1.0  172225.550000"
            ]
          },
          "metadata": {
            "tags": []
          },
          "execution_count": 64
        }
      ]
    },
    {
      "cell_type": "markdown",
      "metadata": {
        "id": "J2tPlznr5J2L"
      },
      "source": [
        "#Criando uma lista de lojas"
      ]
    },
    {
      "cell_type": "code",
      "metadata": {
        "id": "Llnk5QwLm87C"
      },
      "source": [
        "lista_lojas = []\n",
        "for loja in range(1,46):\n",
        "  lista_lojas.append(df.loc[df['Store']==loja].shape[0])"
      ],
      "execution_count": null,
      "outputs": []
    },
    {
      "cell_type": "code",
      "metadata": {
        "colab": {
          "base_uri": "https://localhost:8080/",
          "height": 419
        },
        "id": "lQptzKUvtnTD",
        "outputId": "06a427b8-2ecb-4d7a-9152-4e2e2169a13b"
      },
      "source": [
        "df.loc[df['Store']==1]"
      ],
      "execution_count": null,
      "outputs": [
        {
          "output_type": "execute_result",
          "data": {
            "text/html": [
              "<div>\n",
              "<style scoped>\n",
              "    .dataframe tbody tr th:only-of-type {\n",
              "        vertical-align: middle;\n",
              "    }\n",
              "\n",
              "    .dataframe tbody tr th {\n",
              "        vertical-align: top;\n",
              "    }\n",
              "\n",
              "    .dataframe thead th {\n",
              "        text-align: right;\n",
              "    }\n",
              "</style>\n",
              "<table border=\"1\" class=\"dataframe\">\n",
              "  <thead>\n",
              "    <tr style=\"text-align: right;\">\n",
              "      <th></th>\n",
              "      <th>Store</th>\n",
              "      <th>Dept</th>\n",
              "      <th>Date</th>\n",
              "      <th>Weekly_Sales</th>\n",
              "      <th>IsHoliday</th>\n",
              "    </tr>\n",
              "  </thead>\n",
              "  <tbody>\n",
              "    <tr>\n",
              "      <th>0</th>\n",
              "      <td>1</td>\n",
              "      <td>1</td>\n",
              "      <td>2010-02-05</td>\n",
              "      <td>24924.50</td>\n",
              "      <td>False</td>\n",
              "    </tr>\n",
              "    <tr>\n",
              "      <th>1</th>\n",
              "      <td>1</td>\n",
              "      <td>1</td>\n",
              "      <td>2010-02-12</td>\n",
              "      <td>46039.49</td>\n",
              "      <td>True</td>\n",
              "    </tr>\n",
              "    <tr>\n",
              "      <th>2</th>\n",
              "      <td>1</td>\n",
              "      <td>1</td>\n",
              "      <td>2010-02-19</td>\n",
              "      <td>41595.55</td>\n",
              "      <td>False</td>\n",
              "    </tr>\n",
              "    <tr>\n",
              "      <th>3</th>\n",
              "      <td>1</td>\n",
              "      <td>1</td>\n",
              "      <td>2010-02-26</td>\n",
              "      <td>19403.54</td>\n",
              "      <td>False</td>\n",
              "    </tr>\n",
              "    <tr>\n",
              "      <th>4</th>\n",
              "      <td>1</td>\n",
              "      <td>1</td>\n",
              "      <td>2010-03-05</td>\n",
              "      <td>21827.90</td>\n",
              "      <td>False</td>\n",
              "    </tr>\n",
              "    <tr>\n",
              "      <th>...</th>\n",
              "      <td>...</td>\n",
              "      <td>...</td>\n",
              "      <td>...</td>\n",
              "      <td>...</td>\n",
              "      <td>...</td>\n",
              "    </tr>\n",
              "    <tr>\n",
              "      <th>10239</th>\n",
              "      <td>1</td>\n",
              "      <td>99</td>\n",
              "      <td>2012-08-31</td>\n",
              "      <td>20.06</td>\n",
              "      <td>False</td>\n",
              "    </tr>\n",
              "    <tr>\n",
              "      <th>10240</th>\n",
              "      <td>1</td>\n",
              "      <td>99</td>\n",
              "      <td>2012-09-07</td>\n",
              "      <td>0.05</td>\n",
              "      <td>True</td>\n",
              "    </tr>\n",
              "    <tr>\n",
              "      <th>10241</th>\n",
              "      <td>1</td>\n",
              "      <td>99</td>\n",
              "      <td>2012-09-14</td>\n",
              "      <td>0.03</td>\n",
              "      <td>False</td>\n",
              "    </tr>\n",
              "    <tr>\n",
              "      <th>10242</th>\n",
              "      <td>1</td>\n",
              "      <td>99</td>\n",
              "      <td>2012-10-05</td>\n",
              "      <td>635.00</td>\n",
              "      <td>False</td>\n",
              "    </tr>\n",
              "    <tr>\n",
              "      <th>10243</th>\n",
              "      <td>1</td>\n",
              "      <td>99</td>\n",
              "      <td>2012-10-12</td>\n",
              "      <td>80.00</td>\n",
              "      <td>False</td>\n",
              "    </tr>\n",
              "  </tbody>\n",
              "</table>\n",
              "<p>10244 rows × 5 columns</p>\n",
              "</div>"
            ],
            "text/plain": [
              "       Store  Dept       Date  Weekly_Sales  IsHoliday\n",
              "0          1     1 2010-02-05      24924.50      False\n",
              "1          1     1 2010-02-12      46039.49       True\n",
              "2          1     1 2010-02-19      41595.55      False\n",
              "3          1     1 2010-02-26      19403.54      False\n",
              "4          1     1 2010-03-05      21827.90      False\n",
              "...      ...   ...        ...           ...        ...\n",
              "10239      1    99 2012-08-31         20.06      False\n",
              "10240      1    99 2012-09-07          0.05       True\n",
              "10241      1    99 2012-09-14          0.03      False\n",
              "10242      1    99 2012-10-05        635.00      False\n",
              "10243      1    99 2012-10-12         80.00      False\n",
              "\n",
              "[10244 rows x 5 columns]"
            ]
          },
          "metadata": {
            "tags": []
          },
          "execution_count": 116
        }
      ]
    },
    {
      "cell_type": "code",
      "metadata": {
        "colab": {
          "base_uri": "https://localhost:8080/",
          "height": 419
        },
        "id": "lcvT05k0uFFZ",
        "outputId": "1d4e4a96-bb44-499a-9c94-c37af0246f42"
      },
      "source": [
        "df.loc[df['Store']==3]"
      ],
      "execution_count": null,
      "outputs": [
        {
          "output_type": "execute_result",
          "data": {
            "text/html": [
              "<div>\n",
              "<style scoped>\n",
              "    .dataframe tbody tr th:only-of-type {\n",
              "        vertical-align: middle;\n",
              "    }\n",
              "\n",
              "    .dataframe tbody tr th {\n",
              "        vertical-align: top;\n",
              "    }\n",
              "\n",
              "    .dataframe thead th {\n",
              "        text-align: right;\n",
              "    }\n",
              "</style>\n",
              "<table border=\"1\" class=\"dataframe\">\n",
              "  <thead>\n",
              "    <tr style=\"text-align: right;\">\n",
              "      <th></th>\n",
              "      <th>Store</th>\n",
              "      <th>Dept</th>\n",
              "      <th>Date</th>\n",
              "      <th>Weekly_Sales</th>\n",
              "      <th>IsHoliday</th>\n",
              "    </tr>\n",
              "  </thead>\n",
              "  <tbody>\n",
              "    <tr>\n",
              "      <th>20482</th>\n",
              "      <td>3</td>\n",
              "      <td>1</td>\n",
              "      <td>2010-02-05</td>\n",
              "      <td>6453.58</td>\n",
              "      <td>False</td>\n",
              "    </tr>\n",
              "    <tr>\n",
              "      <th>20483</th>\n",
              "      <td>3</td>\n",
              "      <td>1</td>\n",
              "      <td>2010-02-12</td>\n",
              "      <td>12748.72</td>\n",
              "      <td>True</td>\n",
              "    </tr>\n",
              "    <tr>\n",
              "      <th>20484</th>\n",
              "      <td>3</td>\n",
              "      <td>1</td>\n",
              "      <td>2010-02-19</td>\n",
              "      <td>8918.31</td>\n",
              "      <td>False</td>\n",
              "    </tr>\n",
              "    <tr>\n",
              "      <th>20485</th>\n",
              "      <td>3</td>\n",
              "      <td>1</td>\n",
              "      <td>2010-02-26</td>\n",
              "      <td>4992.00</td>\n",
              "      <td>False</td>\n",
              "    </tr>\n",
              "    <tr>\n",
              "      <th>20486</th>\n",
              "      <td>3</td>\n",
              "      <td>1</td>\n",
              "      <td>2010-03-05</td>\n",
              "      <td>5172.73</td>\n",
              "      <td>False</td>\n",
              "    </tr>\n",
              "    <tr>\n",
              "      <th>...</th>\n",
              "      <td>...</td>\n",
              "      <td>...</td>\n",
              "      <td>...</td>\n",
              "      <td>...</td>\n",
              "      <td>...</td>\n",
              "    </tr>\n",
              "    <tr>\n",
              "      <th>29513</th>\n",
              "      <td>3</td>\n",
              "      <td>98</td>\n",
              "      <td>2012-06-01</td>\n",
              "      <td>49.50</td>\n",
              "      <td>False</td>\n",
              "    </tr>\n",
              "    <tr>\n",
              "      <th>29514</th>\n",
              "      <td>3</td>\n",
              "      <td>98</td>\n",
              "      <td>2012-06-29</td>\n",
              "      <td>94.50</td>\n",
              "      <td>False</td>\n",
              "    </tr>\n",
              "    <tr>\n",
              "      <th>29515</th>\n",
              "      <td>3</td>\n",
              "      <td>98</td>\n",
              "      <td>2012-07-06</td>\n",
              "      <td>40.50</td>\n",
              "      <td>False</td>\n",
              "    </tr>\n",
              "    <tr>\n",
              "      <th>29516</th>\n",
              "      <td>3</td>\n",
              "      <td>98</td>\n",
              "      <td>2012-07-13</td>\n",
              "      <td>9.00</td>\n",
              "      <td>False</td>\n",
              "    </tr>\n",
              "    <tr>\n",
              "      <th>29517</th>\n",
              "      <td>3</td>\n",
              "      <td>98</td>\n",
              "      <td>2012-08-03</td>\n",
              "      <td>21.50</td>\n",
              "      <td>False</td>\n",
              "    </tr>\n",
              "  </tbody>\n",
              "</table>\n",
              "<p>9036 rows × 5 columns</p>\n",
              "</div>"
            ],
            "text/plain": [
              "       Store  Dept       Date  Weekly_Sales  IsHoliday\n",
              "20482      3     1 2010-02-05       6453.58      False\n",
              "20483      3     1 2010-02-12      12748.72       True\n",
              "20484      3     1 2010-02-19       8918.31      False\n",
              "20485      3     1 2010-02-26       4992.00      False\n",
              "20486      3     1 2010-03-05       5172.73      False\n",
              "...      ...   ...        ...           ...        ...\n",
              "29513      3    98 2012-06-01         49.50      False\n",
              "29514      3    98 2012-06-29         94.50      False\n",
              "29515      3    98 2012-07-06         40.50      False\n",
              "29516      3    98 2012-07-13          9.00      False\n",
              "29517      3    98 2012-08-03         21.50      False\n",
              "\n",
              "[9036 rows x 5 columns]"
            ]
          },
          "metadata": {
            "tags": []
          },
          "execution_count": 118
        }
      ]
    },
    {
      "cell_type": "code",
      "metadata": {
        "colab": {
          "base_uri": "https://localhost:8080/",
          "height": 1000
        },
        "id": "UakA8bmkshmv",
        "outputId": "ed3db338-e380-4f69-e208-0050ae2117dd"
      },
      "source": [
        "pd.DataFrame(lista_lojas)"
      ],
      "execution_count": null,
      "outputs": [
        {
          "output_type": "execute_result",
          "data": {
            "text/html": [
              "<div>\n",
              "<style scoped>\n",
              "    .dataframe tbody tr th:only-of-type {\n",
              "        vertical-align: middle;\n",
              "    }\n",
              "\n",
              "    .dataframe tbody tr th {\n",
              "        vertical-align: top;\n",
              "    }\n",
              "\n",
              "    .dataframe thead th {\n",
              "        text-align: right;\n",
              "    }\n",
              "</style>\n",
              "<table border=\"1\" class=\"dataframe\">\n",
              "  <thead>\n",
              "    <tr style=\"text-align: right;\">\n",
              "      <th></th>\n",
              "      <th>0</th>\n",
              "    </tr>\n",
              "  </thead>\n",
              "  <tbody>\n",
              "    <tr>\n",
              "      <th>0</th>\n",
              "      <td>10244</td>\n",
              "    </tr>\n",
              "    <tr>\n",
              "      <th>1</th>\n",
              "      <td>10238</td>\n",
              "    </tr>\n",
              "    <tr>\n",
              "      <th>2</th>\n",
              "      <td>9036</td>\n",
              "    </tr>\n",
              "    <tr>\n",
              "      <th>3</th>\n",
              "      <td>10272</td>\n",
              "    </tr>\n",
              "    <tr>\n",
              "      <th>4</th>\n",
              "      <td>8999</td>\n",
              "    </tr>\n",
              "    <tr>\n",
              "      <th>5</th>\n",
              "      <td>10211</td>\n",
              "    </tr>\n",
              "    <tr>\n",
              "      <th>6</th>\n",
              "      <td>9762</td>\n",
              "    </tr>\n",
              "    <tr>\n",
              "      <th>7</th>\n",
              "      <td>9895</td>\n",
              "    </tr>\n",
              "    <tr>\n",
              "      <th>8</th>\n",
              "      <td>8867</td>\n",
              "    </tr>\n",
              "    <tr>\n",
              "      <th>9</th>\n",
              "      <td>10315</td>\n",
              "    </tr>\n",
              "    <tr>\n",
              "      <th>10</th>\n",
              "      <td>10062</td>\n",
              "    </tr>\n",
              "    <tr>\n",
              "      <th>11</th>\n",
              "      <td>9705</td>\n",
              "    </tr>\n",
              "    <tr>\n",
              "      <th>12</th>\n",
              "      <td>10474</td>\n",
              "    </tr>\n",
              "    <tr>\n",
              "      <th>13</th>\n",
              "      <td>10040</td>\n",
              "    </tr>\n",
              "    <tr>\n",
              "      <th>14</th>\n",
              "      <td>9901</td>\n",
              "    </tr>\n",
              "    <tr>\n",
              "      <th>15</th>\n",
              "      <td>9443</td>\n",
              "    </tr>\n",
              "    <tr>\n",
              "      <th>16</th>\n",
              "      <td>9864</td>\n",
              "    </tr>\n",
              "    <tr>\n",
              "      <th>17</th>\n",
              "      <td>9859</td>\n",
              "    </tr>\n",
              "    <tr>\n",
              "      <th>18</th>\n",
              "      <td>10148</td>\n",
              "    </tr>\n",
              "    <tr>\n",
              "      <th>19</th>\n",
              "      <td>10214</td>\n",
              "    </tr>\n",
              "    <tr>\n",
              "      <th>20</th>\n",
              "      <td>9582</td>\n",
              "    </tr>\n",
              "    <tr>\n",
              "      <th>21</th>\n",
              "      <td>9688</td>\n",
              "    </tr>\n",
              "    <tr>\n",
              "      <th>22</th>\n",
              "      <td>10050</td>\n",
              "    </tr>\n",
              "    <tr>\n",
              "      <th>23</th>\n",
              "      <td>10228</td>\n",
              "    </tr>\n",
              "    <tr>\n",
              "      <th>24</th>\n",
              "      <td>9804</td>\n",
              "    </tr>\n",
              "    <tr>\n",
              "      <th>25</th>\n",
              "      <td>9854</td>\n",
              "    </tr>\n",
              "    <tr>\n",
              "      <th>26</th>\n",
              "      <td>10225</td>\n",
              "    </tr>\n",
              "    <tr>\n",
              "      <th>27</th>\n",
              "      <td>10113</td>\n",
              "    </tr>\n",
              "    <tr>\n",
              "      <th>28</th>\n",
              "      <td>9455</td>\n",
              "    </tr>\n",
              "    <tr>\n",
              "      <th>29</th>\n",
              "      <td>7156</td>\n",
              "    </tr>\n",
              "    <tr>\n",
              "      <th>30</th>\n",
              "      <td>10142</td>\n",
              "    </tr>\n",
              "    <tr>\n",
              "      <th>31</th>\n",
              "      <td>10202</td>\n",
              "    </tr>\n",
              "    <tr>\n",
              "      <th>32</th>\n",
              "      <td>6487</td>\n",
              "    </tr>\n",
              "    <tr>\n",
              "      <th>33</th>\n",
              "      <td>10224</td>\n",
              "    </tr>\n",
              "    <tr>\n",
              "      <th>34</th>\n",
              "      <td>9528</td>\n",
              "    </tr>\n",
              "    <tr>\n",
              "      <th>35</th>\n",
              "      <td>6222</td>\n",
              "    </tr>\n",
              "    <tr>\n",
              "      <th>36</th>\n",
              "      <td>7206</td>\n",
              "    </tr>\n",
              "    <tr>\n",
              "      <th>37</th>\n",
              "      <td>7362</td>\n",
              "    </tr>\n",
              "    <tr>\n",
              "      <th>38</th>\n",
              "      <td>9878</td>\n",
              "    </tr>\n",
              "    <tr>\n",
              "      <th>39</th>\n",
              "      <td>10017</td>\n",
              "    </tr>\n",
              "    <tr>\n",
              "      <th>40</th>\n",
              "      <td>10088</td>\n",
              "    </tr>\n",
              "    <tr>\n",
              "      <th>41</th>\n",
              "      <td>6953</td>\n",
              "    </tr>\n",
              "    <tr>\n",
              "      <th>42</th>\n",
              "      <td>6751</td>\n",
              "    </tr>\n",
              "    <tr>\n",
              "      <th>43</th>\n",
              "      <td>7169</td>\n",
              "    </tr>\n",
              "    <tr>\n",
              "      <th>44</th>\n",
              "      <td>9637</td>\n",
              "    </tr>\n",
              "  </tbody>\n",
              "</table>\n",
              "</div>"
            ],
            "text/plain": [
              "        0\n",
              "0   10244\n",
              "1   10238\n",
              "2    9036\n",
              "3   10272\n",
              "4    8999\n",
              "5   10211\n",
              "6    9762\n",
              "7    9895\n",
              "8    8867\n",
              "9   10315\n",
              "10  10062\n",
              "11   9705\n",
              "12  10474\n",
              "13  10040\n",
              "14   9901\n",
              "15   9443\n",
              "16   9864\n",
              "17   9859\n",
              "18  10148\n",
              "19  10214\n",
              "20   9582\n",
              "21   9688\n",
              "22  10050\n",
              "23  10228\n",
              "24   9804\n",
              "25   9854\n",
              "26  10225\n",
              "27  10113\n",
              "28   9455\n",
              "29   7156\n",
              "30  10142\n",
              "31  10202\n",
              "32   6487\n",
              "33  10224\n",
              "34   9528\n",
              "35   6222\n",
              "36   7206\n",
              "37   7362\n",
              "38   9878\n",
              "39  10017\n",
              "40  10088\n",
              "41   6953\n",
              "42   6751\n",
              "43   7169\n",
              "44   9637"
            ]
          },
          "metadata": {
            "tags": []
          },
          "execution_count": 114
        }
      ]
    },
    {
      "cell_type": "code",
      "metadata": {
        "colab": {
          "base_uri": "https://localhost:8080/",
          "height": 419
        },
        "id": "NnCMSSD8tFDB",
        "outputId": "fbc2c697-7deb-4b87-cb31-40daa6f84e92"
      },
      "source": [
        "df"
      ],
      "execution_count": null,
      "outputs": [
        {
          "output_type": "execute_result",
          "data": {
            "text/html": [
              "<div>\n",
              "<style scoped>\n",
              "    .dataframe tbody tr th:only-of-type {\n",
              "        vertical-align: middle;\n",
              "    }\n",
              "\n",
              "    .dataframe tbody tr th {\n",
              "        vertical-align: top;\n",
              "    }\n",
              "\n",
              "    .dataframe thead th {\n",
              "        text-align: right;\n",
              "    }\n",
              "</style>\n",
              "<table border=\"1\" class=\"dataframe\">\n",
              "  <thead>\n",
              "    <tr style=\"text-align: right;\">\n",
              "      <th></th>\n",
              "      <th>Store</th>\n",
              "      <th>Dept</th>\n",
              "      <th>Date</th>\n",
              "      <th>Weekly_Sales</th>\n",
              "      <th>IsHoliday</th>\n",
              "    </tr>\n",
              "  </thead>\n",
              "  <tbody>\n",
              "    <tr>\n",
              "      <th>0</th>\n",
              "      <td>1</td>\n",
              "      <td>1</td>\n",
              "      <td>2010-02-05</td>\n",
              "      <td>24924.50</td>\n",
              "      <td>False</td>\n",
              "    </tr>\n",
              "    <tr>\n",
              "      <th>1</th>\n",
              "      <td>1</td>\n",
              "      <td>1</td>\n",
              "      <td>2010-02-12</td>\n",
              "      <td>46039.49</td>\n",
              "      <td>True</td>\n",
              "    </tr>\n",
              "    <tr>\n",
              "      <th>2</th>\n",
              "      <td>1</td>\n",
              "      <td>1</td>\n",
              "      <td>2010-02-19</td>\n",
              "      <td>41595.55</td>\n",
              "      <td>False</td>\n",
              "    </tr>\n",
              "    <tr>\n",
              "      <th>3</th>\n",
              "      <td>1</td>\n",
              "      <td>1</td>\n",
              "      <td>2010-02-26</td>\n",
              "      <td>19403.54</td>\n",
              "      <td>False</td>\n",
              "    </tr>\n",
              "    <tr>\n",
              "      <th>4</th>\n",
              "      <td>1</td>\n",
              "      <td>1</td>\n",
              "      <td>2010-03-05</td>\n",
              "      <td>21827.90</td>\n",
              "      <td>False</td>\n",
              "    </tr>\n",
              "    <tr>\n",
              "      <th>...</th>\n",
              "      <td>...</td>\n",
              "      <td>...</td>\n",
              "      <td>...</td>\n",
              "      <td>...</td>\n",
              "      <td>...</td>\n",
              "    </tr>\n",
              "    <tr>\n",
              "      <th>421565</th>\n",
              "      <td>45</td>\n",
              "      <td>98</td>\n",
              "      <td>2012-09-28</td>\n",
              "      <td>508.37</td>\n",
              "      <td>False</td>\n",
              "    </tr>\n",
              "    <tr>\n",
              "      <th>421566</th>\n",
              "      <td>45</td>\n",
              "      <td>98</td>\n",
              "      <td>2012-10-05</td>\n",
              "      <td>628.10</td>\n",
              "      <td>False</td>\n",
              "    </tr>\n",
              "    <tr>\n",
              "      <th>421567</th>\n",
              "      <td>45</td>\n",
              "      <td>98</td>\n",
              "      <td>2012-10-12</td>\n",
              "      <td>1061.02</td>\n",
              "      <td>False</td>\n",
              "    </tr>\n",
              "    <tr>\n",
              "      <th>421568</th>\n",
              "      <td>45</td>\n",
              "      <td>98</td>\n",
              "      <td>2012-10-19</td>\n",
              "      <td>760.01</td>\n",
              "      <td>False</td>\n",
              "    </tr>\n",
              "    <tr>\n",
              "      <th>421569</th>\n",
              "      <td>45</td>\n",
              "      <td>98</td>\n",
              "      <td>2012-10-26</td>\n",
              "      <td>1076.80</td>\n",
              "      <td>False</td>\n",
              "    </tr>\n",
              "  </tbody>\n",
              "</table>\n",
              "<p>421570 rows × 5 columns</p>\n",
              "</div>"
            ],
            "text/plain": [
              "        Store  Dept       Date  Weekly_Sales  IsHoliday\n",
              "0           1     1 2010-02-05      24924.50      False\n",
              "1           1     1 2010-02-12      46039.49       True\n",
              "2           1     1 2010-02-19      41595.55      False\n",
              "3           1     1 2010-02-26      19403.54      False\n",
              "4           1     1 2010-03-05      21827.90      False\n",
              "...       ...   ...        ...           ...        ...\n",
              "421565     45    98 2012-09-28        508.37      False\n",
              "421566     45    98 2012-10-05        628.10      False\n",
              "421567     45    98 2012-10-12       1061.02      False\n",
              "421568     45    98 2012-10-19        760.01      False\n",
              "421569     45    98 2012-10-26       1076.80      False\n",
              "\n",
              "[421570 rows x 5 columns]"
            ]
          },
          "metadata": {
            "tags": []
          },
          "execution_count": 115
        }
      ]
    },
    {
      "cell_type": "markdown",
      "metadata": {
        "id": "JkrtF3K18uxf"
      },
      "source": [
        "#Visualizando as lojas com maiores vendas"
      ]
    },
    {
      "cell_type": "code",
      "metadata": {
        "id": "HlDEtvXXtMYu"
      },
      "source": [
        "top_vendas = pd.DataFrame(df.groupby('Store')['Weekly_Sales'].sum()).reset_index()"
      ],
      "execution_count": null,
      "outputs": []
    },
    {
      "cell_type": "code",
      "metadata": {
        "colab": {
          "base_uri": "https://localhost:8080/",
          "height": 1000
        },
        "id": "HZjhWL_IvoI9",
        "outputId": "afadf177-9501-423b-d02b-2b8e4d54d33d"
      },
      "source": [
        "top_vendas"
      ],
      "execution_count": null,
      "outputs": [
        {
          "output_type": "execute_result",
          "data": {
            "text/html": [
              "<div>\n",
              "<style scoped>\n",
              "    .dataframe tbody tr th:only-of-type {\n",
              "        vertical-align: middle;\n",
              "    }\n",
              "\n",
              "    .dataframe tbody tr th {\n",
              "        vertical-align: top;\n",
              "    }\n",
              "\n",
              "    .dataframe thead th {\n",
              "        text-align: right;\n",
              "    }\n",
              "</style>\n",
              "<table border=\"1\" class=\"dataframe\">\n",
              "  <thead>\n",
              "    <tr style=\"text-align: right;\">\n",
              "      <th></th>\n",
              "      <th>Store</th>\n",
              "      <th>Weekly_Sales</th>\n",
              "    </tr>\n",
              "  </thead>\n",
              "  <tbody>\n",
              "    <tr>\n",
              "      <th>0</th>\n",
              "      <td>1</td>\n",
              "      <td>2.224028e+08</td>\n",
              "    </tr>\n",
              "    <tr>\n",
              "      <th>1</th>\n",
              "      <td>2</td>\n",
              "      <td>2.753824e+08</td>\n",
              "    </tr>\n",
              "    <tr>\n",
              "      <th>2</th>\n",
              "      <td>3</td>\n",
              "      <td>5.758674e+07</td>\n",
              "    </tr>\n",
              "    <tr>\n",
              "      <th>3</th>\n",
              "      <td>4</td>\n",
              "      <td>2.995440e+08</td>\n",
              "    </tr>\n",
              "    <tr>\n",
              "      <th>4</th>\n",
              "      <td>5</td>\n",
              "      <td>4.547569e+07</td>\n",
              "    </tr>\n",
              "    <tr>\n",
              "      <th>5</th>\n",
              "      <td>6</td>\n",
              "      <td>2.237561e+08</td>\n",
              "    </tr>\n",
              "    <tr>\n",
              "      <th>6</th>\n",
              "      <td>7</td>\n",
              "      <td>8.159828e+07</td>\n",
              "    </tr>\n",
              "    <tr>\n",
              "      <th>7</th>\n",
              "      <td>8</td>\n",
              "      <td>1.299512e+08</td>\n",
              "    </tr>\n",
              "    <tr>\n",
              "      <th>8</th>\n",
              "      <td>9</td>\n",
              "      <td>7.778922e+07</td>\n",
              "    </tr>\n",
              "    <tr>\n",
              "      <th>9</th>\n",
              "      <td>10</td>\n",
              "      <td>2.716177e+08</td>\n",
              "    </tr>\n",
              "    <tr>\n",
              "      <th>10</th>\n",
              "      <td>11</td>\n",
              "      <td>1.939628e+08</td>\n",
              "    </tr>\n",
              "    <tr>\n",
              "      <th>11</th>\n",
              "      <td>12</td>\n",
              "      <td>1.442872e+08</td>\n",
              "    </tr>\n",
              "    <tr>\n",
              "      <th>12</th>\n",
              "      <td>13</td>\n",
              "      <td>2.865177e+08</td>\n",
              "    </tr>\n",
              "    <tr>\n",
              "      <th>13</th>\n",
              "      <td>14</td>\n",
              "      <td>2.889999e+08</td>\n",
              "    </tr>\n",
              "    <tr>\n",
              "      <th>14</th>\n",
              "      <td>15</td>\n",
              "      <td>8.913368e+07</td>\n",
              "    </tr>\n",
              "    <tr>\n",
              "      <th>15</th>\n",
              "      <td>16</td>\n",
              "      <td>7.425243e+07</td>\n",
              "    </tr>\n",
              "    <tr>\n",
              "      <th>16</th>\n",
              "      <td>17</td>\n",
              "      <td>1.277821e+08</td>\n",
              "    </tr>\n",
              "    <tr>\n",
              "      <th>17</th>\n",
              "      <td>18</td>\n",
              "      <td>1.551147e+08</td>\n",
              "    </tr>\n",
              "    <tr>\n",
              "      <th>18</th>\n",
              "      <td>19</td>\n",
              "      <td>2.066349e+08</td>\n",
              "    </tr>\n",
              "    <tr>\n",
              "      <th>19</th>\n",
              "      <td>20</td>\n",
              "      <td>3.013978e+08</td>\n",
              "    </tr>\n",
              "    <tr>\n",
              "      <th>20</th>\n",
              "      <td>21</td>\n",
              "      <td>1.081179e+08</td>\n",
              "    </tr>\n",
              "    <tr>\n",
              "      <th>21</th>\n",
              "      <td>22</td>\n",
              "      <td>1.470756e+08</td>\n",
              "    </tr>\n",
              "    <tr>\n",
              "      <th>22</th>\n",
              "      <td>23</td>\n",
              "      <td>1.987506e+08</td>\n",
              "    </tr>\n",
              "    <tr>\n",
              "      <th>23</th>\n",
              "      <td>24</td>\n",
              "      <td>1.940160e+08</td>\n",
              "    </tr>\n",
              "    <tr>\n",
              "      <th>24</th>\n",
              "      <td>25</td>\n",
              "      <td>1.010612e+08</td>\n",
              "    </tr>\n",
              "    <tr>\n",
              "      <th>25</th>\n",
              "      <td>26</td>\n",
              "      <td>1.434164e+08</td>\n",
              "    </tr>\n",
              "    <tr>\n",
              "      <th>26</th>\n",
              "      <td>27</td>\n",
              "      <td>2.538559e+08</td>\n",
              "    </tr>\n",
              "    <tr>\n",
              "      <th>27</th>\n",
              "      <td>28</td>\n",
              "      <td>1.892637e+08</td>\n",
              "    </tr>\n",
              "    <tr>\n",
              "      <th>28</th>\n",
              "      <td>29</td>\n",
              "      <td>7.714155e+07</td>\n",
              "    </tr>\n",
              "    <tr>\n",
              "      <th>29</th>\n",
              "      <td>30</td>\n",
              "      <td>6.271689e+07</td>\n",
              "    </tr>\n",
              "    <tr>\n",
              "      <th>30</th>\n",
              "      <td>31</td>\n",
              "      <td>1.996139e+08</td>\n",
              "    </tr>\n",
              "    <tr>\n",
              "      <th>31</th>\n",
              "      <td>32</td>\n",
              "      <td>1.668192e+08</td>\n",
              "    </tr>\n",
              "    <tr>\n",
              "      <th>32</th>\n",
              "      <td>33</td>\n",
              "      <td>3.716022e+07</td>\n",
              "    </tr>\n",
              "    <tr>\n",
              "      <th>33</th>\n",
              "      <td>34</td>\n",
              "      <td>1.382498e+08</td>\n",
              "    </tr>\n",
              "    <tr>\n",
              "      <th>34</th>\n",
              "      <td>35</td>\n",
              "      <td>1.315207e+08</td>\n",
              "    </tr>\n",
              "    <tr>\n",
              "      <th>35</th>\n",
              "      <td>36</td>\n",
              "      <td>5.341221e+07</td>\n",
              "    </tr>\n",
              "    <tr>\n",
              "      <th>36</th>\n",
              "      <td>37</td>\n",
              "      <td>7.420274e+07</td>\n",
              "    </tr>\n",
              "    <tr>\n",
              "      <th>37</th>\n",
              "      <td>38</td>\n",
              "      <td>5.515963e+07</td>\n",
              "    </tr>\n",
              "    <tr>\n",
              "      <th>38</th>\n",
              "      <td>39</td>\n",
              "      <td>2.074455e+08</td>\n",
              "    </tr>\n",
              "    <tr>\n",
              "      <th>39</th>\n",
              "      <td>40</td>\n",
              "      <td>1.378703e+08</td>\n",
              "    </tr>\n",
              "    <tr>\n",
              "      <th>40</th>\n",
              "      <td>41</td>\n",
              "      <td>1.813419e+08</td>\n",
              "    </tr>\n",
              "    <tr>\n",
              "      <th>41</th>\n",
              "      <td>42</td>\n",
              "      <td>7.956575e+07</td>\n",
              "    </tr>\n",
              "    <tr>\n",
              "      <th>42</th>\n",
              "      <td>43</td>\n",
              "      <td>9.056544e+07</td>\n",
              "    </tr>\n",
              "    <tr>\n",
              "      <th>43</th>\n",
              "      <td>44</td>\n",
              "      <td>4.329309e+07</td>\n",
              "    </tr>\n",
              "    <tr>\n",
              "      <th>44</th>\n",
              "      <td>45</td>\n",
              "      <td>1.123953e+08</td>\n",
              "    </tr>\n",
              "  </tbody>\n",
              "</table>\n",
              "</div>"
            ],
            "text/plain": [
              "    Store  Weekly_Sales\n",
              "0       1  2.224028e+08\n",
              "1       2  2.753824e+08\n",
              "2       3  5.758674e+07\n",
              "3       4  2.995440e+08\n",
              "4       5  4.547569e+07\n",
              "5       6  2.237561e+08\n",
              "6       7  8.159828e+07\n",
              "7       8  1.299512e+08\n",
              "8       9  7.778922e+07\n",
              "9      10  2.716177e+08\n",
              "10     11  1.939628e+08\n",
              "11     12  1.442872e+08\n",
              "12     13  2.865177e+08\n",
              "13     14  2.889999e+08\n",
              "14     15  8.913368e+07\n",
              "15     16  7.425243e+07\n",
              "16     17  1.277821e+08\n",
              "17     18  1.551147e+08\n",
              "18     19  2.066349e+08\n",
              "19     20  3.013978e+08\n",
              "20     21  1.081179e+08\n",
              "21     22  1.470756e+08\n",
              "22     23  1.987506e+08\n",
              "23     24  1.940160e+08\n",
              "24     25  1.010612e+08\n",
              "25     26  1.434164e+08\n",
              "26     27  2.538559e+08\n",
              "27     28  1.892637e+08\n",
              "28     29  7.714155e+07\n",
              "29     30  6.271689e+07\n",
              "30     31  1.996139e+08\n",
              "31     32  1.668192e+08\n",
              "32     33  3.716022e+07\n",
              "33     34  1.382498e+08\n",
              "34     35  1.315207e+08\n",
              "35     36  5.341221e+07\n",
              "36     37  7.420274e+07\n",
              "37     38  5.515963e+07\n",
              "38     39  2.074455e+08\n",
              "39     40  1.378703e+08\n",
              "40     41  1.813419e+08\n",
              "41     42  7.956575e+07\n",
              "42     43  9.056544e+07\n",
              "43     44  4.329309e+07\n",
              "44     45  1.123953e+08"
            ]
          },
          "metadata": {
            "tags": []
          },
          "execution_count": 135
        }
      ]
    },
    {
      "cell_type": "markdown",
      "metadata": {
        "id": "1Dm5Mu995a8E"
      },
      "source": [
        "**<h2>Gráfico 3: Total de vendas por loja</h2>**"
      ]
    },
    {
      "cell_type": "code",
      "metadata": {
        "colab": {
          "base_uri": "https://localhost:8080/",
          "height": 525
        },
        "id": "u7dymSFevDSK",
        "outputId": "2df0fd12-02b3-4df8-f65a-068cdd03188a"
      },
      "source": [
        "plt.figure(figsize=(20,8))\n",
        "sns.barplot(data=top_vendas, x='Store', y='Weekly_Sales')"
      ],
      "execution_count": null,
      "outputs": [
        {
          "output_type": "execute_result",
          "data": {
            "text/plain": [
              "<matplotlib.axes._subplots.AxesSubplot at 0x7f5911d008d0>"
            ]
          },
          "metadata": {
            "tags": []
          },
          "execution_count": 139
        },
        {
          "output_type": "display_data",
          "data": {
            "image/png": "[encoded data removed]",
            "text/plain": [
              "<Figure size 1440x576 with 1 Axes>"
            ]
          },
          "metadata": {
            "tags": [],
            "needs_background": "light"
          }
        }
      ]
    },
    {
      "cell_type": "markdown",
      "metadata": {
        "id": "-QFhZm7T9L6h"
      },
      "source": [
        "#**Departamentos com maiores vendas**"
      ]
    },
    {
      "cell_type": "code",
      "metadata": {
        "id": "iFE3qRXHu-Gl"
      },
      "source": [
        "top_dep = pd.DataFrame(df.groupby('Dept')['Weekly_Sales'].sum()).reset_index()"
      ],
      "execution_count": null,
      "outputs": []
    },
    {
      "cell_type": "code",
      "metadata": {
        "colab": {
          "base_uri": "https://localhost:8080/",
          "height": 419
        },
        "id": "mIhwUFIVwqK9",
        "outputId": "ec69ff36-ff84-47c4-95c7-65cb5704739f"
      },
      "source": [
        "top_dep"
      ],
      "execution_count": null,
      "outputs": [
        {
          "output_type": "execute_result",
          "data": {
            "text/html": [
              "<div>\n",
              "<style scoped>\n",
              "    .dataframe tbody tr th:only-of-type {\n",
              "        vertical-align: middle;\n",
              "    }\n",
              "\n",
              "    .dataframe tbody tr th {\n",
              "        vertical-align: top;\n",
              "    }\n",
              "\n",
              "    .dataframe thead th {\n",
              "        text-align: right;\n",
              "    }\n",
              "</style>\n",
              "<table border=\"1\" class=\"dataframe\">\n",
              "  <thead>\n",
              "    <tr style=\"text-align: right;\">\n",
              "      <th></th>\n",
              "      <th>Dept</th>\n",
              "      <th>Weekly_Sales</th>\n",
              "    </tr>\n",
              "  </thead>\n",
              "  <tbody>\n",
              "    <tr>\n",
              "      <th>0</th>\n",
              "      <td>1</td>\n",
              "      <td>1.236388e+08</td>\n",
              "    </tr>\n",
              "    <tr>\n",
              "      <th>1</th>\n",
              "      <td>2</td>\n",
              "      <td>2.806112e+08</td>\n",
              "    </tr>\n",
              "    <tr>\n",
              "      <th>2</th>\n",
              "      <td>3</td>\n",
              "      <td>7.589245e+07</td>\n",
              "    </tr>\n",
              "    <tr>\n",
              "      <th>3</th>\n",
              "      <td>4</td>\n",
              "      <td>1.671467e+08</td>\n",
              "    </tr>\n",
              "    <tr>\n",
              "      <th>4</th>\n",
              "      <td>5</td>\n",
              "      <td>1.356074e+08</td>\n",
              "    </tr>\n",
              "    <tr>\n",
              "      <th>...</th>\n",
              "      <td>...</td>\n",
              "      <td>...</td>\n",
              "    </tr>\n",
              "    <tr>\n",
              "      <th>76</th>\n",
              "      <td>95</td>\n",
              "      <td>4.493202e+08</td>\n",
              "    </tr>\n",
              "    <tr>\n",
              "      <th>77</th>\n",
              "      <td>96</td>\n",
              "      <td>7.383392e+07</td>\n",
              "    </tr>\n",
              "    <tr>\n",
              "      <th>78</th>\n",
              "      <td>97</td>\n",
              "      <td>8.949651e+07</td>\n",
              "    </tr>\n",
              "    <tr>\n",
              "      <th>79</th>\n",
              "      <td>98</td>\n",
              "      <td>3.982892e+07</td>\n",
              "    </tr>\n",
              "    <tr>\n",
              "      <th>80</th>\n",
              "      <td>99</td>\n",
              "      <td>3.581499e+05</td>\n",
              "    </tr>\n",
              "  </tbody>\n",
              "</table>\n",
              "<p>81 rows × 2 columns</p>\n",
              "</div>"
            ],
            "text/plain": [
              "    Dept  Weekly_Sales\n",
              "0      1  1.236388e+08\n",
              "1      2  2.806112e+08\n",
              "2      3  7.589245e+07\n",
              "3      4  1.671467e+08\n",
              "4      5  1.356074e+08\n",
              "..   ...           ...\n",
              "76    95  4.493202e+08\n",
              "77    96  7.383392e+07\n",
              "78    97  8.949651e+07\n",
              "79    98  3.982892e+07\n",
              "80    99  3.581499e+05\n",
              "\n",
              "[81 rows x 2 columns]"
            ]
          },
          "metadata": {
            "tags": []
          },
          "execution_count": 143
        }
      ]
    },
    {
      "cell_type": "markdown",
      "metadata": {
        "id": "8jWpnYfn9XgD"
      },
      "source": [
        "**Gráfico 4: Somatório de vendas por departamento**"
      ]
    },
    {
      "cell_type": "code",
      "metadata": {
        "colab": {
          "base_uri": "https://localhost:8080/",
          "height": 525
        },
        "id": "qOscrvNmwc2l",
        "outputId": "f59c1669-08a5-479f-9c85-0bcbef5d493e"
      },
      "source": [
        "plt.figure(figsize=(20,8))\n",
        "sns.barplot(data=top_dep, x='Dept', y='Weekly_Sales')"
      ],
      "execution_count": null,
      "outputs": [
        {
          "output_type": "execute_result",
          "data": {
            "text/plain": [
              "<matplotlib.axes._subplots.AxesSubplot at 0x7f5911b01790>"
            ]
          },
          "metadata": {
            "tags": []
          },
          "execution_count": 144
        },
        {
          "output_type": "display_data",
          "data": {
            "image/png": "[encoded data removed]",
            "text/plain": [
              "<Figure size 1440x576 with 1 Axes>"
            ]
          },
          "metadata": {
            "tags": [],
            "needs_background": "light"
          }
        }
      ]
    },
    {
      "cell_type": "markdown",
      "metadata": {
        "id": "00BNKWZ45nGM"
      },
      "source": [
        "# Começando a construção do modelo apenas para a Loja 1"
      ]
    },
    {
      "cell_type": "code",
      "metadata": {
        "id": "MxsH2uAFBU04"
      },
      "source": [
        "loja_1 = df[df['Store']==1]"
      ],
      "execution_count": 16,
      "outputs": []
    },
    {
      "cell_type": "code",
      "metadata": {
        "id": "R4qhdyI46hEe"
      },
      "source": [
        "loja_1 = loja_1.drop(['Store'\t,'Dept'], axis=1)"
      ],
      "execution_count": 18,
      "outputs": []
    },
    {
      "cell_type": "code",
      "metadata": {
        "colab": {
          "base_uri": "https://localhost:8080/"
        },
        "id": "ZUgQNqT7x4YQ",
        "outputId": "331bd53f-e892-45e1-ef69-238699eb9283"
      },
      "source": [
        "loja_1['Date'].nunique()"
      ],
      "execution_count": 13,
      "outputs": [
        {
          "output_type": "execute_result",
          "data": {
            "text/plain": [
              "143"
            ]
          },
          "metadata": {
            "tags": []
          },
          "execution_count": 13
        }
      ]
    },
    {
      "cell_type": "markdown",
      "metadata": {
        "id": "4IRD_R__57Dr"
      },
      "source": [
        "Convertendo para Data Frame e agrupando as vendas por data"
      ]
    },
    {
      "cell_type": "code",
      "metadata": {
        "id": "5mEpHLlm6CFj"
      },
      "source": [
        "loja_1 = loja_1.groupby('Date').sum().reset_index()\n",
        "mapa = {0:False, 71:True, 72:True, 73:True}\n",
        "loja_1.IsHoliday = loja_1.IsHoliday.map(mapa)"
      ],
      "execution_count": 22,
      "outputs": []
    },
    {
      "cell_type": "markdown",
      "metadata": {
        "id": "8niuWKLY6Hkv"
      },
      "source": [
        "Convertendo para Date Time"
      ]
    },
    {
      "cell_type": "code",
      "metadata": {
        "id": "MH0z3ESlyZAW"
      },
      "source": [
        "loja_1['Date'] = pd.to_datetime(loja_1['Date'])"
      ],
      "execution_count": 26,
      "outputs": []
    },
    {
      "cell_type": "markdown",
      "metadata": {
        "id": "x0kbvY9iFLJ-"
      },
      "source": [
        "Separação treino e test"
      ]
    },
    {
      "cell_type": "code",
      "metadata": {
        "id": "mR-Xla6dF1u3"
      },
      "source": [
        "treino = loja_1.iloc[0:131]\n",
        "test = loja_1.tail(12)"
      ],
      "execution_count": 31,
      "outputs": []
    },
    {
      "cell_type": "markdown",
      "metadata": {
        "id": "8IyO9tKC_aMN"
      },
      "source": [
        "FB Prophet"
      ]
    },
    {
      "cell_type": "code",
      "metadata": {
        "id": "wyQmE24Xy32Z"
      },
      "source": [
        "X = pd.DataFrame(loja_1[['Date', 'Weekly_Sales']])\n",
        "X = X.rename(columns={'Date':'ds', 'Weekly_Sales':'y'})\n",
        "X['ds'] = pd.to_datetime(X['ds'])"
      ],
      "execution_count": 33,
      "outputs": []
    },
    {
      "cell_type": "code",
      "metadata": {
        "id": "YtCzMeguGbUg",
        "outputId": "767847d5-4960-4da7-80e0-5ef323df983e",
        "colab": {
          "base_uri": "https://localhost:8080/"
        }
      },
      "source": [
        "m = Prophet(yearly_seasonality=True)\n",
        "m.add_country_holidays(country_name='US')\n",
        "m.fit(X)"
      ],
      "execution_count": 34,
      "outputs": [
        {
          "output_type": "stream",
          "text": [
            "INFO:fbprophet:Disabling weekly seasonality. Run prophet with weekly_seasonality=True to override this.\n",
            "INFO:fbprophet:Disabling daily seasonality. Run prophet with daily_seasonality=True to override this.\n"
          ],
          "name": "stderr"
        },
        {
          "output_type": "execute_result",
          "data": {
            "text/plain": [
              "<fbprophet.forecaster.Prophet at 0x7f760d276650>"
            ]
          },
          "metadata": {
            "tags": []
          },
          "execution_count": 34
        }
      ]
    },
    {
      "cell_type": "code",
      "metadata": {
        "id": "xtFFI4B08AKa"
      },
      "source": [
        "future = m.make_future_dataframe(periods=12, freq='w')"
      ],
      "execution_count": 35,
      "outputs": []
    },
    {
      "cell_type": "code",
      "metadata": {
        "colab": {
          "base_uri": "https://localhost:8080/",
          "height": 421
        },
        "id": "hZmhiGXaBnZg",
        "outputId": "ea5aa116-c1e2-4292-fc3a-f0b696fd54f0"
      },
      "source": [
        "future.tail(12)"
      ],
      "execution_count": 36,
      "outputs": [
        {
          "output_type": "execute_result",
          "data": {
            "text/html": [
              "<div>\n",
              "<style scoped>\n",
              "    .dataframe tbody tr th:only-of-type {\n",
              "        vertical-align: middle;\n",
              "    }\n",
              "\n",
              "    .dataframe tbody tr th {\n",
              "        vertical-align: top;\n",
              "    }\n",
              "\n",
              "    .dataframe thead th {\n",
              "        text-align: right;\n",
              "    }\n",
              "</style>\n",
              "<table border=\"1\" class=\"dataframe\">\n",
              "  <thead>\n",
              "    <tr style=\"text-align: right;\">\n",
              "      <th></th>\n",
              "      <th>ds</th>\n",
              "    </tr>\n",
              "  </thead>\n",
              "  <tbody>\n",
              "    <tr>\n",
              "      <th>143</th>\n",
              "      <td>2012-10-28</td>\n",
              "    </tr>\n",
              "    <tr>\n",
              "      <th>144</th>\n",
              "      <td>2012-11-04</td>\n",
              "    </tr>\n",
              "    <tr>\n",
              "      <th>145</th>\n",
              "      <td>2012-11-11</td>\n",
              "    </tr>\n",
              "    <tr>\n",
              "      <th>146</th>\n",
              "      <td>2012-11-18</td>\n",
              "    </tr>\n",
              "    <tr>\n",
              "      <th>147</th>\n",
              "      <td>2012-11-25</td>\n",
              "    </tr>\n",
              "    <tr>\n",
              "      <th>148</th>\n",
              "      <td>2012-12-02</td>\n",
              "    </tr>\n",
              "    <tr>\n",
              "      <th>149</th>\n",
              "      <td>2012-12-09</td>\n",
              "    </tr>\n",
              "    <tr>\n",
              "      <th>150</th>\n",
              "      <td>2012-12-16</td>\n",
              "    </tr>\n",
              "    <tr>\n",
              "      <th>151</th>\n",
              "      <td>2012-12-23</td>\n",
              "    </tr>\n",
              "    <tr>\n",
              "      <th>152</th>\n",
              "      <td>2012-12-30</td>\n",
              "    </tr>\n",
              "    <tr>\n",
              "      <th>153</th>\n",
              "      <td>2013-01-06</td>\n",
              "    </tr>\n",
              "    <tr>\n",
              "      <th>154</th>\n",
              "      <td>2013-01-13</td>\n",
              "    </tr>\n",
              "  </tbody>\n",
              "</table>\n",
              "</div>"
            ],
            "text/plain": [
              "            ds\n",
              "143 2012-10-28\n",
              "144 2012-11-04\n",
              "145 2012-11-11\n",
              "146 2012-11-18\n",
              "147 2012-11-25\n",
              "148 2012-12-02\n",
              "149 2012-12-09\n",
              "150 2012-12-16\n",
              "151 2012-12-23\n",
              "152 2012-12-30\n",
              "153 2013-01-06\n",
              "154 2013-01-13"
            ]
          },
          "metadata": {
            "tags": []
          },
          "execution_count": 36
        }
      ]
    },
    {
      "cell_type": "code",
      "metadata": {
        "id": "v_00z2cbBoQj"
      },
      "source": [
        "forecast = m.predict(future)"
      ],
      "execution_count": 37,
      "outputs": []
    },
    {
      "cell_type": "code",
      "metadata": {
        "id": "17fbz9-FCbtO",
        "outputId": "cabc2057-6616-4557-df4d-adf5ec1d18cd",
        "colab": {
          "base_uri": "https://localhost:8080/",
          "height": 421
        }
      },
      "source": [
        "round(forecast[['ds', 'yhat', 'yhat_lower', 'yhat_upper']]).tail(12)"
      ],
      "execution_count": 38,
      "outputs": [
        {
          "output_type": "execute_result",
          "data": {
            "text/html": [
              "<div>\n",
              "<style scoped>\n",
              "    .dataframe tbody tr th:only-of-type {\n",
              "        vertical-align: middle;\n",
              "    }\n",
              "\n",
              "    .dataframe tbody tr th {\n",
              "        vertical-align: top;\n",
              "    }\n",
              "\n",
              "    .dataframe thead th {\n",
              "        text-align: right;\n",
              "    }\n",
              "</style>\n",
              "<table border=\"1\" class=\"dataframe\">\n",
              "  <thead>\n",
              "    <tr style=\"text-align: right;\">\n",
              "      <th></th>\n",
              "      <th>ds</th>\n",
              "      <th>yhat</th>\n",
              "      <th>yhat_lower</th>\n",
              "      <th>yhat_upper</th>\n",
              "    </tr>\n",
              "  </thead>\n",
              "  <tbody>\n",
              "    <tr>\n",
              "      <th>143</th>\n",
              "      <td>2012-10-28</td>\n",
              "      <td>1534891.0</td>\n",
              "      <td>1417141.0</td>\n",
              "      <td>1656893.0</td>\n",
              "    </tr>\n",
              "    <tr>\n",
              "      <th>144</th>\n",
              "      <td>2012-11-04</td>\n",
              "      <td>1592087.0</td>\n",
              "      <td>1470668.0</td>\n",
              "      <td>1716601.0</td>\n",
              "    </tr>\n",
              "    <tr>\n",
              "      <th>145</th>\n",
              "      <td>2012-11-11</td>\n",
              "      <td>1661840.0</td>\n",
              "      <td>1546267.0</td>\n",
              "      <td>1785874.0</td>\n",
              "    </tr>\n",
              "    <tr>\n",
              "      <th>146</th>\n",
              "      <td>2012-11-18</td>\n",
              "      <td>1760214.0</td>\n",
              "      <td>1636928.0</td>\n",
              "      <td>1870826.0</td>\n",
              "    </tr>\n",
              "    <tr>\n",
              "      <th>147</th>\n",
              "      <td>2012-11-25</td>\n",
              "      <td>1791335.0</td>\n",
              "      <td>1677823.0</td>\n",
              "      <td>1914721.0</td>\n",
              "    </tr>\n",
              "    <tr>\n",
              "      <th>148</th>\n",
              "      <td>2012-12-02</td>\n",
              "      <td>1815952.0</td>\n",
              "      <td>1704245.0</td>\n",
              "      <td>1934298.0</td>\n",
              "    </tr>\n",
              "    <tr>\n",
              "      <th>149</th>\n",
              "      <td>2012-12-09</td>\n",
              "      <td>1878487.0</td>\n",
              "      <td>1758107.0</td>\n",
              "      <td>1986619.0</td>\n",
              "    </tr>\n",
              "    <tr>\n",
              "      <th>150</th>\n",
              "      <td>2012-12-16</td>\n",
              "      <td>1958251.0</td>\n",
              "      <td>1839268.0</td>\n",
              "      <td>2076938.0</td>\n",
              "    </tr>\n",
              "    <tr>\n",
              "      <th>151</th>\n",
              "      <td>2012-12-23</td>\n",
              "      <td>1967920.0</td>\n",
              "      <td>1851321.0</td>\n",
              "      <td>2083171.0</td>\n",
              "    </tr>\n",
              "    <tr>\n",
              "      <th>152</th>\n",
              "      <td>2012-12-30</td>\n",
              "      <td>1840441.0</td>\n",
              "      <td>1721157.0</td>\n",
              "      <td>1954657.0</td>\n",
              "    </tr>\n",
              "    <tr>\n",
              "      <th>153</th>\n",
              "      <td>2013-01-06</td>\n",
              "      <td>1616148.0</td>\n",
              "      <td>1510050.0</td>\n",
              "      <td>1735577.0</td>\n",
              "    </tr>\n",
              "    <tr>\n",
              "      <th>154</th>\n",
              "      <td>2013-01-13</td>\n",
              "      <td>1430017.0</td>\n",
              "      <td>1323343.0</td>\n",
              "      <td>1548632.0</td>\n",
              "    </tr>\n",
              "  </tbody>\n",
              "</table>\n",
              "</div>"
            ],
            "text/plain": [
              "            ds       yhat  yhat_lower  yhat_upper\n",
              "143 2012-10-28  1534891.0   1417141.0   1656893.0\n",
              "144 2012-11-04  1592087.0   1470668.0   1716601.0\n",
              "145 2012-11-11  1661840.0   1546267.0   1785874.0\n",
              "146 2012-11-18  1760214.0   1636928.0   1870826.0\n",
              "147 2012-11-25  1791335.0   1677823.0   1914721.0\n",
              "148 2012-12-02  1815952.0   1704245.0   1934298.0\n",
              "149 2012-12-09  1878487.0   1758107.0   1986619.0\n",
              "150 2012-12-16  1958251.0   1839268.0   2076938.0\n",
              "151 2012-12-23  1967920.0   1851321.0   2083171.0\n",
              "152 2012-12-30  1840441.0   1721157.0   1954657.0\n",
              "153 2013-01-06  1616148.0   1510050.0   1735577.0\n",
              "154 2013-01-13  1430017.0   1323343.0   1548632.0"
            ]
          },
          "metadata": {
            "tags": []
          },
          "execution_count": 38
        }
      ]
    },
    {
      "cell_type": "code",
      "metadata": {
        "colab": {
          "base_uri": "https://localhost:8080/",
          "height": 1000
        },
        "id": "J2ei7vseCtg8",
        "outputId": "1cce6e09-9ac4-4f50-ea99-25aec09fc176"
      },
      "source": [
        " m.plot_components(forecast)"
      ],
      "execution_count": 39,
      "outputs": [
        {
          "output_type": "execute_result",
          "data": {
            "image/png": "[encoded data removed]",
            "text/plain": [
              "<Figure size 648x648 with 3 Axes>"
            ]
          },
          "metadata": {
            "tags": []
          },
          "execution_count": 39
        },
        {
          "output_type": "display_data",
          "data": {
            "image/png": "[encoded data removed]",
            "text/plain": [
              "<Figure size 648x648 with 3 Axes>"
            ]
          },
          "metadata": {
            "tags": []
          }
        }
      ]
    },
    {
      "cell_type": "code",
      "metadata": {
        "id": "YlUM1RBkC2Qr",
        "outputId": "f68d3cdc-e9be-419b-c1a2-b25c61ae931c",
        "colab": {
          "base_uri": "https://localhost:8080/",
          "height": 617
        }
      },
      "source": [
        "plot_plotly(m, forecast)"
      ],
      "execution_count": 40,
      "outputs": [
        {
          "output_type": "display_data",
          "data": {
            "text/html": [
              "<html>\n",
              "<head><meta charset=\"utf-8\" /></head>\n",
              "<body>\n",
              "    <div>\n",
              "            <script src=\"https://cdnjs.cloudflare.com/ajax/libs/mathjax/2.7.5/MathJax.js?config=TeX-AMS-MML_SVG\"></script><script type=\"text/javascript\">if (window.MathJax) {MathJax.Hub.Config({SVG: {font: \"STIX-Web\"}});}</script>\n",
              "                <script type=\"text/javascript\">window.PlotlyConfig = {MathJaxConfig: 'local'};</script>\n",
              "        <script src=\"https://cdn.plot.ly/plotly-latest.min.js\"></script>    \n",
              "            <div id=\"84407724-7fbb-4a3a-9329-b4fe64a722e2\" class=\"plotly-graph-div\" style=\"height:600px; width:900px;\"></div>\n",
              "            <script type=\"text/javascript\">\n",
              "                \n",
              "                    window.PLOTLYENV=window.PLOTLYENV || {};\n",
              "                    \n",
              "                if (document.getElementById(\"84407724-7fbb-4a3a-9329-b4fe64a722e2\")) {\n",
              "                    Plotly.newPlot(\n",
              "                        '84407724-7fbb-4a3a-9329-b4fe64a722e2',\n",
              "                        [{\"marker\": {\"color\": \"black\", \"size\": 4}, \"mode\": \"markers\", \"name\": \"Actual\", \"type\": \"scatter\", \"x\": [\"2010-02-05T00:00:00\", \"2010-02-12T00:00:00\", \"2010-02-19T00:00:00\", \"2010-02-26T00:00:00\", \"2010-03-05T00:00:00\", \"2010-03-12T00:00:00\", \"2010-03-19T00:00:00\", \"2010-03-26T00:00:00\", \"2010-04-02T00:00:00\", \"2010-04-09T00:00:00\", \"2010-04-16T00:00:00\", \"2010-04-23T00:00:00\", \"2010-04-30T00:00:00\", \"2010-05-07T00:00:00\", \"2010-05-14T00:00:00\", \"2010-05-21T00:00:00\", \"2010-05-28T00:00:00\", \"2010-06-04T00:00:00\", \"2010-06-11T00:00:00\", \"2010-06-18T00:00:00\", \"2010-06-25T00:00:00\", \"2010-07-02T00:00:00\", \"2010-07-09T00:00:00\", \"2010-07-16T00:00:00\", \"2010-07-23T00:00:00\", \"2010-07-30T00:00:00\", \"2010-08-06T00:00:00\", \"2010-08-13T00:00:00\", \"2010-08-20T00:00:00\", \"2010-08-27T00:00:00\", \"2010-09-03T00:00:00\", \"2010-09-10T00:00:00\", \"2010-09-17T00:00:00\", \"2010-09-24T00:00:00\", \"2010-10-01T00:00:00\", \"2010-10-08T00:00:00\", \"2010-10-15T00:00:00\", \"2010-10-22T00:00:00\", \"2010-10-29T00:00:00\", \"2010-11-05T00:00:00\", \"2010-11-12T00:00:00\", \"2010-11-19T00:00:00\", \"2010-11-26T00:00:00\", \"2010-12-03T00:00:00\", \"2010-12-10T00:00:00\", \"2010-12-17T00:00:00\", \"2010-12-24T00:00:00\", \"2010-12-31T00:00:00\", \"2011-01-07T00:00:00\", \"2011-01-14T00:00:00\", \"2011-01-21T00:00:00\", \"2011-01-28T00:00:00\", \"2011-02-04T00:00:00\", \"2011-02-11T00:00:00\", \"2011-02-18T00:00:00\", \"2011-02-25T00:00:00\", \"2011-03-04T00:00:00\", \"2011-03-11T00:00:00\", \"2011-03-18T00:00:00\", \"2011-03-25T00:00:00\", \"2011-04-01T00:00:00\", \"2011-04-08T00:00:00\", \"2011-04-15T00:00:00\", \"2011-04-22T00:00:00\", \"2011-04-29T00:00:00\", \"2011-05-06T00:00:00\", \"2011-05-13T00:00:00\", \"2011-05-20T00:00:00\", \"2011-05-27T00:00:00\", \"2011-06-03T00:00:00\", \"2011-06-10T00:00:00\", \"2011-06-17T00:00:00\", \"2011-06-24T00:00:00\", \"2011-07-01T00:00:00\", \"2011-07-08T00:00:00\", \"2011-07-15T00:00:00\", \"2011-07-22T00:00:00\", \"2011-07-29T00:00:00\", \"2011-08-05T00:00:00\", \"2011-08-12T00:00:00\", \"2011-08-19T00:00:00\", \"2011-08-26T00:00:00\", \"2011-09-02T00:00:00\", \"2011-09-09T00:00:00\", \"2011-09-16T00:00:00\", \"2011-09-23T00:00:00\", \"2011-09-30T00:00:00\", \"2011-10-07T00:00:00\", \"2011-10-14T00:00:00\", \"2011-10-21T00:00:00\", \"2011-10-28T00:00:00\", \"2011-11-04T00:00:00\", \"2011-11-11T00:00:00\", \"2011-11-18T00:00:00\", \"2011-11-25T00:00:00\", \"2011-12-02T00:00:00\", \"2011-12-09T00:00:00\", \"2011-12-16T00:00:00\", \"2011-12-23T00:00:00\", \"2011-12-30T00:00:00\", \"2012-01-06T00:00:00\", \"2012-01-13T00:00:00\", \"2012-01-20T00:00:00\", \"2012-01-27T00:00:00\", \"2012-02-03T00:00:00\", \"2012-02-10T00:00:00\", \"2012-02-17T00:00:00\", \"2012-02-24T00:00:00\", \"2012-03-02T00:00:00\", \"2012-03-09T00:00:00\", \"2012-03-16T00:00:00\", \"2012-03-23T00:00:00\", \"2012-03-30T00:00:00\", \"2012-04-06T00:00:00\", \"2012-04-13T00:00:00\", \"2012-04-20T00:00:00\", \"2012-04-27T00:00:00\", \"2012-05-04T00:00:00\", \"2012-05-11T00:00:00\", \"2012-05-18T00:00:00\", \"2012-05-25T00:00:00\", \"2012-06-01T00:00:00\", \"2012-06-08T00:00:00\", \"2012-06-15T00:00:00\", \"2012-06-22T00:00:00\", \"2012-06-29T00:00:00\", \"2012-07-06T00:00:00\", \"2012-07-13T00:00:00\", \"2012-07-20T00:00:00\", \"2012-07-27T00:00:00\", \"2012-08-03T00:00:00\", \"2012-08-10T00:00:00\", \"2012-08-17T00:00:00\", \"2012-08-24T00:00:00\", \"2012-08-31T00:00:00\", \"2012-09-07T00:00:00\", \"2012-09-14T00:00:00\", \"2012-09-21T00:00:00\", \"2012-09-28T00:00:00\", \"2012-10-05T00:00:00\", \"2012-10-12T00:00:00\", \"2012-10-19T00:00:00\", \"2012-10-26T00:00:00\"], \"y\": [1643690.9, 1641957.4399999997, 1611968.17, 1409727.5900000003, 1554806.68, 1439541.5900000005, 1472515.7899999998, 1404429.9200000004, 1594968.2799999998, 1545418.5300000005, 1466058.28, 1391256.12, 1425100.7100000002, 1603955.1200000003, 1494251.5000000002, 1399662.0700000003, 1432069.9500000002, 1615524.71, 1542561.09, 1503284.0599999998, 1422711.5999999996, 1492418.1399999997, 1546074.1799999997, 1448938.9200000002, 1385065.2000000004, 1371986.6, 1605491.7799999998, 1508237.7600000005, 1513080.49, 1449142.9200000004, 1540163.53, 1507460.6900000002, 1430378.67, 1351791.03, 1453329.4999999998, 1508239.93, 1459409.0999999996, 1345454.0, 1384209.2200000002, 1551659.2799999993, 1494479.4899999998, 1483784.1800000006, 1955624.1099999996, 1548033.7799999993, 1682614.26, 1891034.929999999, 2387950.1999999997, 1367320.0099999998, 1444732.2799999996, 1391013.9599999997, 1327405.4200000002, 1316899.31, 1606629.5799999998, 1649614.9300000002, 1686842.7799999996, 1456800.2799999998, 1636263.41, 1553191.6300000001, 1576818.0599999998, 1541102.38, 1495064.75, 1614259.3500000006, 1559888.9999999998, 1564819.81, 1455090.6899999997, 1629391.2800000003, 1604775.58, 1428218.2699999996, 1466046.6699999995, 1635078.4100000004, 1588948.3199999998, 1532114.8599999996, 1438830.1500000001, 1488538.09, 1534849.6400000004, 1455119.97, 1396926.8200000005, 1352219.7899999998, 1624383.75, 1525147.09, 1530761.43, 1464693.4599999997, 1550229.2200000002, 1540471.2400000002, 1514259.7799999996, 1380020.2699999998, 1394561.83, 1630989.9499999993, 1493525.9300000002, 1502562.7800000003, 1445249.0899999999, 1697229.5799999994, 1594938.8900000001, 1539483.7000000002, 2033320.6600000001, 1584083.95, 1799682.38, 1881176.67, 2270188.99, 1497462.7199999997, 1550369.9199999997, 1459601.1700000002, 1394393.84, 1319325.59, 1636339.6500000001, 1802477.4300000004, 1819869.9999999995, 1539387.8300000003, 1688420.7599999998, 1675431.1599999997, 1677472.78, 1511068.0699999998, 1649604.63, 1899676.8799999997, 1621031.7, 1521577.8699999999, 1468928.3699999994, 1684519.99, 1611096.05, 1595901.8699999996, 1555444.5500000003, 1624477.5800000003, 1697230.9600000002, 1630606.9999999998, 1527845.81, 1540421.4900000002, 1769854.16, 1527014.04, 1497954.7600000002, 1439123.7100000004, 1631135.7899999996, 1592409.97, 1597868.0500000003, 1494122.3800000004, 1582083.4000000001, 1661767.3299999998, 1517428.8699999999, 1506126.06, 1437059.2600000002, 1670785.9699999997, 1573072.8099999998, 1508068.7700000003, 1493659.7399999995]}, {\"hoverinfo\": \"skip\", \"line\": {\"width\": 0}, \"mode\": \"lines\", \"type\": \"scatter\", \"x\": [\"2010-02-05T00:00:00\", \"2010-02-12T00:00:00\", \"2010-02-19T00:00:00\", \"2010-02-26T00:00:00\", \"2010-03-05T00:00:00\", \"2010-03-12T00:00:00\", \"2010-03-19T00:00:00\", \"2010-03-26T00:00:00\", \"2010-04-02T00:00:00\", \"2010-04-09T00:00:00\", \"2010-04-16T00:00:00\", \"2010-04-23T00:00:00\", \"2010-04-30T00:00:00\", \"2010-05-07T00:00:00\", \"2010-05-14T00:00:00\", \"2010-05-21T00:00:00\", \"2010-05-28T00:00:00\", \"2010-06-04T00:00:00\", \"2010-06-11T00:00:00\", \"2010-06-18T00:00:00\", \"2010-06-25T00:00:00\", \"2010-07-02T00:00:00\", \"2010-07-09T00:00:00\", \"2010-07-16T00:00:00\", \"2010-07-23T00:00:00\", \"2010-07-30T00:00:00\", \"2010-08-06T00:00:00\", \"2010-08-13T00:00:00\", \"2010-08-20T00:00:00\", \"2010-08-27T00:00:00\", \"2010-09-03T00:00:00\", \"2010-09-10T00:00:00\", \"2010-09-17T00:00:00\", \"2010-09-24T00:00:00\", \"2010-10-01T00:00:00\", \"2010-10-08T00:00:00\", \"2010-10-15T00:00:00\", \"2010-10-22T00:00:00\", \"2010-10-29T00:00:00\", \"2010-11-05T00:00:00\", \"2010-11-12T00:00:00\", \"2010-11-19T00:00:00\", \"2010-11-26T00:00:00\", \"2010-12-03T00:00:00\", \"2010-12-10T00:00:00\", \"2010-12-17T00:00:00\", \"2010-12-24T00:00:00\", \"2010-12-31T00:00:00\", \"2011-01-07T00:00:00\", \"2011-01-14T00:00:00\", \"2011-01-21T00:00:00\", \"2011-01-28T00:00:00\", \"2011-02-04T00:00:00\", \"2011-02-11T00:00:00\", \"2011-02-18T00:00:00\", \"2011-02-25T00:00:00\", \"2011-03-04T00:00:00\", \"2011-03-11T00:00:00\", \"2011-03-18T00:00:00\", \"2011-03-25T00:00:00\", \"2011-04-01T00:00:00\", \"2011-04-08T00:00:00\", \"2011-04-15T00:00:00\", \"2011-04-22T00:00:00\", \"2011-04-29T00:00:00\", \"2011-05-06T00:00:00\", \"2011-05-13T00:00:00\", \"2011-05-20T00:00:00\", \"2011-05-27T00:00:00\", \"2011-06-03T00:00:00\", \"2011-06-10T00:00:00\", \"2011-06-17T00:00:00\", \"2011-06-24T00:00:00\", \"2011-07-01T00:00:00\", \"2011-07-08T00:00:00\", \"2011-07-15T00:00:00\", \"2011-07-22T00:00:00\", \"2011-07-29T00:00:00\", \"2011-08-05T00:00:00\", \"2011-08-12T00:00:00\", \"2011-08-19T00:00:00\", \"2011-08-26T00:00:00\", \"2011-09-02T00:00:00\", \"2011-09-09T00:00:00\", \"2011-09-16T00:00:00\", \"2011-09-23T00:00:00\", \"2011-09-30T00:00:00\", \"2011-10-07T00:00:00\", \"2011-10-14T00:00:00\", \"2011-10-21T00:00:00\", \"2011-10-28T00:00:00\", \"2011-11-04T00:00:00\", \"2011-11-11T00:00:00\", \"2011-11-18T00:00:00\", \"2011-11-25T00:00:00\", \"2011-12-02T00:00:00\", \"2011-12-09T00:00:00\", \"2011-12-16T00:00:00\", \"2011-12-23T00:00:00\", \"2011-12-30T00:00:00\", \"2012-01-06T00:00:00\", \"2012-01-13T00:00:00\", \"2012-01-20T00:00:00\", \"2012-01-27T00:00:00\", \"2012-02-03T00:00:00\", \"2012-02-10T00:00:00\", \"2012-02-17T00:00:00\", \"2012-02-24T00:00:00\", \"2012-03-02T00:00:00\", \"2012-03-09T00:00:00\", \"2012-03-16T00:00:00\", \"2012-03-23T00:00:00\", \"2012-03-30T00:00:00\", \"2012-04-06T00:00:00\", \"2012-04-13T00:00:00\", \"2012-04-20T00:00:00\", \"2012-04-27T00:00:00\", \"2012-05-04T00:00:00\", \"2012-05-11T00:00:00\", \"2012-05-18T00:00:00\", \"2012-05-25T00:00:00\", \"2012-06-01T00:00:00\", \"2012-06-08T00:00:00\", \"2012-06-15T00:00:00\", \"2012-06-22T00:00:00\", \"2012-06-29T00:00:00\", \"2012-07-06T00:00:00\", \"2012-07-13T00:00:00\", \"2012-07-20T00:00:00\", \"2012-07-27T00:00:00\", \"2012-08-03T00:00:00\", \"2012-08-10T00:00:00\", \"2012-08-17T00:00:00\", \"2012-08-24T00:00:00\", \"2012-08-31T00:00:00\", \"2012-09-07T00:00:00\", \"2012-09-14T00:00:00\", \"2012-09-21T00:00:00\", \"2012-09-28T00:00:00\", \"2012-10-05T00:00:00\", \"2012-10-12T00:00:00\", \"2012-10-19T00:00:00\", \"2012-10-26T00:00:00\", \"2012-10-28T00:00:00\", \"2012-11-04T00:00:00\", \"2012-11-11T00:00:00\", \"2012-11-18T00:00:00\", \"2012-11-25T00:00:00\", \"2012-12-02T00:00:00\", \"2012-12-09T00:00:00\", \"2012-12-16T00:00:00\", \"2012-12-23T00:00:00\", \"2012-12-30T00:00:00\", \"2013-01-06T00:00:00\", \"2013-01-13T00:00:00\"], \"y\": [1448137.058324052, 1520538.9478712422, 1477688.739105659, 1408185.7725731342, 1358368.387442721, 1378650.341007381, 1391393.1867733127, 1404618.1969753935, 1404485.0801064665, 1399014.4274266025, 1382515.2283011125, 1359916.453526715, 1343263.7361310062, 1342211.9228290876, 1367446.697527983, 1377240.2095736822, 1379551.178287818, 1379562.5482028085, 1374532.7376899414, 1372634.2001377973, 1378632.4397652927, 1358101.8811209258, 1308113.6157439668, 1294523.4999650181, 1300101.7853288602, 1314414.6269181797, 1342856.774832796, 1354751.3711928395, 1371224.2220196375, 1378858.0977556177, 1360593.8913552137, 1329748.6815739041, 1290940.8389409506, 1288393.3273289257, 1310295.2126176313, 1340119.402038398, 1328150.6551486573, 1303088.0262552311, 1304680.457845325, 1367198.8379705397, 1460246.3560789414, 1523455.6968440327, 1553659.248048834, 1581006.714713063, 1648813.9082867352, 1732024.6930024454, 2301020.8064555987, 1234028.0831386296, 1358837.0518820141, 1187868.9967909777, 1166700.4612735645, 1306959.3698081258, 1476640.1708387746, 1577497.816920989, 1553575.254910408, 1471773.218555718, 1425835.9455478434, 1415618.2235079883, 1442911.0153301721, 1468354.3544314252, 1463817.2801658842, 1458465.1509141533, 1445621.6835454826, 1425443.677154578, 1408371.613967759, 1398405.478131723, 1423446.5242716796, 1429281.4477307773, 1443577.9971448774, 1433576.0938461304, 1430936.1740798964, 1433180.8195180288, 1437149.6745187698, 1412693.1672400406, 1388198.3302519154, 1352606.319979404, 1339789.5682995212, 1370654.6427697325, 1397272.8553648845, 1419516.8128083125, 1433460.6724320145, 1438180.0309394202, 1427423.6531164427, 1382970.7391192596, 1361649.9248691455, 1334925.1198147084, 1373525.7491837032, 1389979.7497710888, 1394940.419897582, 1354103.983372452, 1357444.5666382979, 1410006.12766473, 1476894.5232563266, 1575446.302195546, 1618812.6001105546, 1629673.356581871, 1689043.2881767629, 1778311.3748405643, 1799985.5369201407, 1680315.4869211088, 1470508.8486654172, 1268844.875588364, 1224689.1241432764, 1340369.0065630348, 1511122.8610838845, 1617114.7060204726, 1612074.3487519976, 1546488.251097589, 1496693.8246062314, 1478650.0701762643, 1491183.5221667169, 1522182.325187307, 1525401.1566024027, 1525483.2871321186, 1511375.485278154, 1485983.9790589237, 1462451.777707029, 1458790.052897904, 1475573.687793109, 1486361.0655345803, 1502664.78028137, 1483951.8982624577, 1481782.935860887, 1492942.2060382818, 1499382.85634372, 1480824.9481996011, 1448112.4960143482, 1417662.4756797762, 1405053.7220608506, 1420924.6995871896, 1438686.62645688, 1469554.0009777662, 1482311.7899513876, 1491749.4579494293, 1488706.5349673987, 1462009.1518711913, 1415890.1783171897, 1403168.2435751955, 1425325.2772109266, 1442906.654976181, 1458469.679172806, 1438161.9152708815, 1410877.808767818, 1417141.1077374155, 1470668.2722854016, 1546267.3850094166, 1636927.9423317313, 1677822.805106456, 1704244.8359514605, 1758106.8697881247, 1839268.2133619203, 1851321.1590405267, 1721157.1730408738, 1510049.9996731235, 1323342.6933029545]}, {\"fill\": \"tonexty\", \"fillcolor\": \"rgba(0, 114, 178, 0.2)\", \"line\": {\"color\": \"#0072B2\", \"width\": 2}, \"mode\": \"lines\", \"name\": \"Predicted\", \"type\": \"scatter\", \"x\": [\"2010-02-05T00:00:00\", \"2010-02-12T00:00:00\", \"2010-02-19T00:00:00\", \"2010-02-26T00:00:00\", \"2010-03-05T00:00:00\", \"2010-03-12T00:00:00\", \"2010-03-19T00:00:00\", \"2010-03-26T00:00:00\", \"2010-04-02T00:00:00\", \"2010-04-09T00:00:00\", \"2010-04-16T00:00:00\", \"2010-04-23T00:00:00\", \"2010-04-30T00:00:00\", \"2010-05-07T00:00:00\", \"2010-05-14T00:00:00\", \"2010-05-21T00:00:00\", \"2010-05-28T00:00:00\", \"2010-06-04T00:00:00\", \"2010-06-11T00:00:00\", \"2010-06-18T00:00:00\", \"2010-06-25T00:00:00\", \"2010-07-02T00:00:00\", \"2010-07-09T00:00:00\", \"2010-07-16T00:00:00\", \"2010-07-23T00:00:00\", \"2010-07-30T00:00:00\", \"2010-08-06T00:00:00\", \"2010-08-13T00:00:00\", \"2010-08-20T00:00:00\", \"2010-08-27T00:00:00\", \"2010-09-03T00:00:00\", \"2010-09-10T00:00:00\", \"2010-09-17T00:00:00\", \"2010-09-24T00:00:00\", \"2010-10-01T00:00:00\", \"2010-10-08T00:00:00\", \"2010-10-15T00:00:00\", \"2010-10-22T00:00:00\", \"2010-10-29T00:00:00\", \"2010-11-05T00:00:00\", \"2010-11-12T00:00:00\", \"2010-11-19T00:00:00\", \"2010-11-26T00:00:00\", \"2010-12-03T00:00:00\", \"2010-12-10T00:00:00\", \"2010-12-17T00:00:00\", \"2010-12-24T00:00:00\", \"2010-12-31T00:00:00\", \"2011-01-07T00:00:00\", \"2011-01-14T00:00:00\", \"2011-01-21T00:00:00\", \"2011-01-28T00:00:00\", \"2011-02-04T00:00:00\", \"2011-02-11T00:00:00\", \"2011-02-18T00:00:00\", \"2011-02-25T00:00:00\", \"2011-03-04T00:00:00\", \"2011-03-11T00:00:00\", \"2011-03-18T00:00:00\", \"2011-03-25T00:00:00\", \"2011-04-01T00:00:00\", \"2011-04-08T00:00:00\", \"2011-04-15T00:00:00\", \"2011-04-22T00:00:00\", \"2011-04-29T00:00:00\", \"2011-05-06T00:00:00\", \"2011-05-13T00:00:00\", \"2011-05-20T00:00:00\", \"2011-05-27T00:00:00\", \"2011-06-03T00:00:00\", \"2011-06-10T00:00:00\", \"2011-06-17T00:00:00\", \"2011-06-24T00:00:00\", \"2011-07-01T00:00:00\", \"2011-07-08T00:00:00\", \"2011-07-15T00:00:00\", \"2011-07-22T00:00:00\", \"2011-07-29T00:00:00\", \"2011-08-05T00:00:00\", \"2011-08-12T00:00:00\", \"2011-08-19T00:00:00\", \"2011-08-26T00:00:00\", \"2011-09-02T00:00:00\", \"2011-09-09T00:00:00\", \"2011-09-16T00:00:00\", \"2011-09-23T00:00:00\", \"2011-09-30T00:00:00\", \"2011-10-07T00:00:00\", \"2011-10-14T00:00:00\", \"2011-10-21T00:00:00\", \"2011-10-28T00:00:00\", \"2011-11-04T00:00:00\", \"2011-11-11T00:00:00\", \"2011-11-18T00:00:00\", \"2011-11-25T00:00:00\", \"2011-12-02T00:00:00\", \"2011-12-09T00:00:00\", \"2011-12-16T00:00:00\", \"2011-12-23T00:00:00\", \"2011-12-30T00:00:00\", \"2012-01-06T00:00:00\", \"2012-01-13T00:00:00\", \"2012-01-20T00:00:00\", \"2012-01-27T00:00:00\", \"2012-02-03T00:00:00\", \"2012-02-10T00:00:00\", \"2012-02-17T00:00:00\", \"2012-02-24T00:00:00\", \"2012-03-02T00:00:00\", \"2012-03-09T00:00:00\", \"2012-03-16T00:00:00\", \"2012-03-23T00:00:00\", \"2012-03-30T00:00:00\", \"2012-04-06T00:00:00\", \"2012-04-13T00:00:00\", \"2012-04-20T00:00:00\", \"2012-04-27T00:00:00\", \"2012-05-04T00:00:00\", \"2012-05-11T00:00:00\", \"2012-05-18T00:00:00\", \"2012-05-25T00:00:00\", \"2012-06-01T00:00:00\", \"2012-06-08T00:00:00\", \"2012-06-15T00:00:00\", \"2012-06-22T00:00:00\", \"2012-06-29T00:00:00\", \"2012-07-06T00:00:00\", \"2012-07-13T00:00:00\", \"2012-07-20T00:00:00\", \"2012-07-27T00:00:00\", \"2012-08-03T00:00:00\", \"2012-08-10T00:00:00\", \"2012-08-17T00:00:00\", \"2012-08-24T00:00:00\", \"2012-08-31T00:00:00\", \"2012-09-07T00:00:00\", \"2012-09-14T00:00:00\", \"2012-09-21T00:00:00\", \"2012-09-28T00:00:00\", \"2012-10-05T00:00:00\", \"2012-10-12T00:00:00\", \"2012-10-19T00:00:00\", \"2012-10-26T00:00:00\", \"2012-10-28T00:00:00\", \"2012-11-04T00:00:00\", \"2012-11-11T00:00:00\", \"2012-11-18T00:00:00\", \"2012-11-25T00:00:00\", \"2012-12-02T00:00:00\", \"2012-12-09T00:00:00\", \"2012-12-16T00:00:00\", \"2012-12-23T00:00:00\", \"2012-12-30T00:00:00\", \"2013-01-06T00:00:00\", \"2013-01-13T00:00:00\"], \"y\": [1563792.4277277936, 1632612.570949507, 1597216.1355969368, 1524774.6900757798, 1481731.821701403, 1483135.2342770721, 1504367.6924637724, 1520578.6918682167, 1525050.478103308, 1519470.417388451, 1503603.7633710147, 1480392.7386707964, 1462368.747901733, 1462608.24512976, 1479141.85399247, 1495343.6415370323, 1498728.0571112714, 1494453.4394924294, 1495299.4109529282, 1501252.5257562764, 1496750.5837717373, 1470786.6067546569, 1434169.0038451315, 1410821.546133582, 1413338.9026781719, 1432968.5410196122, 1454295.4425718193, 1472350.771759017, 1489060.2851049856, 1497725.637226973, 1483489.501907336, 1445087.3443253348, 1408114.8423611687, 1403946.8004701983, 1433020.0600420334, 1459250.7707722601, 1450448.935751875, 1420826.589043073, 1421305.7986568646, 1482619.8449870516, 1577028.8078667459, 1648148.1272586603, 1677041.364502812, 1703322.5305708526, 1768806.528738644, 1846858.4001323257, 2411411.7964690067, 1349195.2634819828, 1484180.3956488147, 1306319.766411341, 1289989.4971464276, 1425846.2371430844, 1597335.8403035915, 1686864.7435205933, 1666437.8668162443, 1594704.8464896465, 1543651.1880443275, 1538298.8229313684, 1558252.7484382123, 1576351.4430594177, 1582823.0291890637, 1578986.4484206375, 1564975.5194926406, 1542415.8852941883, 1522290.6364098636, 1518845.9306589712, 1533451.8898970522, 1551035.3203487815, 1556847.6861656613, 1552934.2277672326, 1552300.706909686, 1558211.2503467621, 1556849.570896807, 1534607.569594129, 1498205.261438214, 1470950.8928557027, 1468957.2342055873, 1486768.6867499477, 1508552.4448574265, 1527038.9069413717, 1544081.5397374888, 1555250.3765181915, 1545918.5475111045, 1510662.3785841442, 1470784.5629160912, 1459469.3948660283, 1484523.454866226, 1514461.9084080232, 1512469.1663593706, 1483277.3226792105, 1474726.657513859, 1525502.9930814714, 1593977.0342847358, 1696667.4039517823, 1731523.2045353523, 1754141.216932975, 1812070.2292922332, 1893491.623181347, 1915174.46526014, 1802702.4369905125, 1583284.500812973, 1385988.0697396346, 1337429.9315316144, 1452681.6048083205, 1627996.8988546869, 1737360.402228214, 1733996.7725727377, 1665441.837886027, 1607159.4199375124, 1594279.6157639, 1612021.2087987626, 1631723.7847747037, 1640277.788325345, 1638177.0639693309, 1626044.5413506774, 1604503.8742545785, 1582783.3320193405, 1575710.9305198821, 1587856.4644959567, 1606299.127683714, 1614622.7910629776, 1611550.79233728, 1609565.741353194, 1614939.2248622475, 1616220.474338357, 1597925.9876025105, 1562556.2237091318, 1531952.7017221646, 1525237.3458873257, 1540665.4269899342, 1562673.8236447282, 1581702.441599452, 1598952.6309706597, 1612097.824526909, 1607438.5536744602, 1576049.435780175, 1534439.904863251, 1516273.4935832361, 1536202.6750088916, 1568529.330611608, 1573488.2681825755, 1546411.661589293, 1530210.9573607906, 1534891.0882547712, 1592087.0445783746, 1661839.954539249, 1760213.8097994826, 1791335.2765819847, 1815951.6275403174, 1878487.1182778457, 1958251.1397587082, 1967919.5168238634, 1840441.0508328276, 1616147.5863547532, 1430017.020174322]}, {\"fill\": \"tonexty\", \"fillcolor\": \"rgba(0, 114, 178, 0.2)\", \"hoverinfo\": \"skip\", \"line\": {\"width\": 0}, \"mode\": \"lines\", \"type\": \"scatter\", \"x\": [\"2010-02-05T00:00:00\", \"2010-02-12T00:00:00\", \"2010-02-19T00:00:00\", \"2010-02-26T00:00:00\", \"2010-03-05T00:00:00\", \"2010-03-12T00:00:00\", \"2010-03-19T00:00:00\", \"2010-03-26T00:00:00\", \"2010-04-02T00:00:00\", \"2010-04-09T00:00:00\", \"2010-04-16T00:00:00\", \"2010-04-23T00:00:00\", \"2010-04-30T00:00:00\", \"2010-05-07T00:00:00\", \"2010-05-14T00:00:00\", \"2010-05-21T00:00:00\", \"2010-05-28T00:00:00\", \"2010-06-04T00:00:00\", \"2010-06-11T00:00:00\", \"2010-06-18T00:00:00\", \"2010-06-25T00:00:00\", \"2010-07-02T00:00:00\", \"2010-07-09T00:00:00\", \"2010-07-16T00:00:00\", \"2010-07-23T00:00:00\", \"2010-07-30T00:00:00\", \"2010-08-06T00:00:00\", \"2010-08-13T00:00:00\", \"2010-08-20T00:00:00\", \"2010-08-27T00:00:00\", \"2010-09-03T00:00:00\", \"2010-09-10T00:00:00\", \"2010-09-17T00:00:00\", \"2010-09-24T00:00:00\", \"2010-10-01T00:00:00\", \"2010-10-08T00:00:00\", \"2010-10-15T00:00:00\", \"2010-10-22T00:00:00\", \"2010-10-29T00:00:00\", \"2010-11-05T00:00:00\", \"2010-11-12T00:00:00\", \"2010-11-19T00:00:00\", \"2010-11-26T00:00:00\", \"2010-12-03T00:00:00\", \"2010-12-10T00:00:00\", \"2010-12-17T00:00:00\", \"2010-12-24T00:00:00\", \"2010-12-31T00:00:00\", \"2011-01-07T00:00:00\", \"2011-01-14T00:00:00\", \"2011-01-21T00:00:00\", \"2011-01-28T00:00:00\", \"2011-02-04T00:00:00\", \"2011-02-11T00:00:00\", \"2011-02-18T00:00:00\", \"2011-02-25T00:00:00\", \"2011-03-04T00:00:00\", \"2011-03-11T00:00:00\", \"2011-03-18T00:00:00\", \"2011-03-25T00:00:00\", \"2011-04-01T00:00:00\", \"2011-04-08T00:00:00\", \"2011-04-15T00:00:00\", \"2011-04-22T00:00:00\", \"2011-04-29T00:00:00\", \"2011-05-06T00:00:00\", \"2011-05-13T00:00:00\", \"2011-05-20T00:00:00\", \"2011-05-27T00:00:00\", \"2011-06-03T00:00:00\", \"2011-06-10T00:00:00\", \"2011-06-17T00:00:00\", \"2011-06-24T00:00:00\", \"2011-07-01T00:00:00\", \"2011-07-08T00:00:00\", \"2011-07-15T00:00:00\", \"2011-07-22T00:00:00\", \"2011-07-29T00:00:00\", \"2011-08-05T00:00:00\", \"2011-08-12T00:00:00\", \"2011-08-19T00:00:00\", \"2011-08-26T00:00:00\", \"2011-09-02T00:00:00\", \"2011-09-09T00:00:00\", \"2011-09-16T00:00:00\", \"2011-09-23T00:00:00\", \"2011-09-30T00:00:00\", \"2011-10-07T00:00:00\", \"2011-10-14T00:00:00\", \"2011-10-21T00:00:00\", \"2011-10-28T00:00:00\", \"2011-11-04T00:00:00\", \"2011-11-11T00:00:00\", \"2011-11-18T00:00:00\", \"2011-11-25T00:00:00\", \"2011-12-02T00:00:00\", \"2011-12-09T00:00:00\", \"2011-12-16T00:00:00\", \"2011-12-23T00:00:00\", \"2011-12-30T00:00:00\", \"2012-01-06T00:00:00\", \"2012-01-13T00:00:00\", \"2012-01-20T00:00:00\", \"2012-01-27T00:00:00\", \"2012-02-03T00:00:00\", \"2012-02-10T00:00:00\", \"2012-02-17T00:00:00\", \"2012-02-24T00:00:00\", \"2012-03-02T00:00:00\", \"2012-03-09T00:00:00\", \"2012-03-16T00:00:00\", \"2012-03-23T00:00:00\", \"2012-03-30T00:00:00\", \"2012-04-06T00:00:00\", \"2012-04-13T00:00:00\", \"2012-04-20T00:00:00\", \"2012-04-27T00:00:00\", \"2012-05-04T00:00:00\", \"2012-05-11T00:00:00\", \"2012-05-18T00:00:00\", \"2012-05-25T00:00:00\", \"2012-06-01T00:00:00\", \"2012-06-08T00:00:00\", \"2012-06-15T00:00:00\", \"2012-06-22T00:00:00\", \"2012-06-29T00:00:00\", \"2012-07-06T00:00:00\", \"2012-07-13T00:00:00\", \"2012-07-20T00:00:00\", \"2012-07-27T00:00:00\", \"2012-08-03T00:00:00\", \"2012-08-10T00:00:00\", \"2012-08-17T00:00:00\", \"2012-08-24T00:00:00\", \"2012-08-31T00:00:00\", \"2012-09-07T00:00:00\", \"2012-09-14T00:00:00\", \"2012-09-21T00:00:00\", \"2012-09-28T00:00:00\", \"2012-10-05T00:00:00\", \"2012-10-12T00:00:00\", \"2012-10-19T00:00:00\", \"2012-10-26T00:00:00\", \"2012-10-28T00:00:00\", \"2012-11-04T00:00:00\", \"2012-11-11T00:00:00\", \"2012-11-18T00:00:00\", \"2012-11-25T00:00:00\", \"2012-12-02T00:00:00\", \"2012-12-09T00:00:00\", \"2012-12-16T00:00:00\", \"2012-12-23T00:00:00\", \"2012-12-30T00:00:00\", \"2013-01-06T00:00:00\", \"2013-01-13T00:00:00\"], \"y\": [1680077.4201607802, 1748590.3789160242, 1710835.9392371143, 1645461.0427314688, 1599816.1689401127, 1608947.0094375524, 1619695.480963006, 1647789.9043751424, 1648916.0620402878, 1636862.1011224196, 1615277.1945424438, 1595596.5598058621, 1585125.9975142984, 1580504.875972772, 1603348.5829222966, 1607638.2474214793, 1612380.6090845023, 1602740.935499549, 1619195.4337544388, 1615571.26829692, 1622740.5224318493, 1589200.319670401, 1549340.0187734636, 1521326.587078624, 1535007.4717068046, 1551736.204806375, 1568803.8332965022, 1590277.5360479895, 1613011.4449729365, 1609894.9748860544, 1590407.9627653265, 1560570.6688098204, 1519213.2974439214, 1518681.7410390447, 1554613.9026136755, 1579457.2627169662, 1567772.3023719634, 1532648.3441449043, 1536674.5613918055, 1611999.066393015, 1699366.991137281, 1764688.7829251979, 1794912.1043182767, 1820944.837220651, 1896968.7353767399, 1961407.0656005577, 2524564.6893796595, 1470591.267495299, 1598292.0885862133, 1419272.6327475044, 1417628.4984625613, 1538855.285040315, 1708480.3201566176, 1809312.9722760092, 1785661.7341263269, 1708139.1470017352, 1653524.0913133791, 1653345.5398368696, 1679460.1324891504, 1698120.4071612018, 1698454.1468713146, 1692920.0530912525, 1684931.2727587558, 1664134.343137797, 1636559.1541077537, 1630341.907763218, 1651415.134856638, 1672057.2865567617, 1671953.3027995408, 1672749.8877681806, 1669448.476048792, 1680526.3294941862, 1672925.3703385063, 1653307.3373533, 1617706.0248493946, 1579578.817793617, 1581995.6181858177, 1596809.891443768, 1627129.8640276361, 1652432.4334869678, 1659306.19347675, 1673565.13671773, 1661855.5683216199, 1623542.4827054355, 1585558.2274684275, 1578247.3903834843, 1602228.2088810932, 1634469.0500574408, 1626678.9948704059, 1599990.2253248137, 1591608.6654589982, 1644891.2690784987, 1705837.768272856, 1817297.6517456688, 1850278.694001146, 1866075.479864636, 1927416.064390128, 2009544.179633179, 2039319.710905393, 1922830.9871340485, 1703299.6205574253, 1508098.8422802761, 1456386.4819667814, 1572274.0535116587, 1743998.8174487646, 1851866.3942893392, 1853363.1090257084, 1778718.4221584806, 1727034.3215423434, 1711401.7065746593, 1735530.8673407023, 1746832.849825285, 1767815.5307821804, 1744099.2011699937, 1740671.3173144006, 1717127.0106268744, 1704484.2398439602, 1703840.3831550637, 1709323.2403031015, 1726394.0621585927, 1738336.124558651, 1735882.272442093, 1725796.9858579966, 1730624.8128829412, 1732533.1142327604, 1714872.9835960094, 1682255.3992729664, 1655161.983634227, 1647908.3579935203, 1657435.9077634905, 1675544.8828357619, 1705600.5560925198, 1715130.793763373, 1723297.8172916798, 1728999.9240151546, 1692900.865850488, 1654715.1914975785, 1633461.890175146, 1657128.3835435538, 1680915.5120553132, 1700598.6316629727, 1667397.9523958256, 1642195.249924024, 1656893.1426652474, 1716600.8226463348, 1785873.6637905645, 1870826.33647973, 1914720.6232652743, 1934297.6356852616, 1986618.5331913705, 2076938.3726596946, 2083171.0005955738, 1954657.0389927558, 1735577.4932201041, 1548632.1822152808]}],\n",
              "                        {\"height\": 600, \"showlegend\": false, \"template\": {\"data\": {\"bar\": [{\"error_x\": {\"color\": \"#2a3f5f\"}, \"error_y\": {\"color\": \"#2a3f5f\"}, \"marker\": {\"line\": {\"color\": \"#E5ECF6\", \"width\": 0.5}}, \"type\": \"bar\"}], \"barpolar\": [{\"marker\": {\"line\": {\"color\": \"#E5ECF6\", \"width\": 0.5}}, \"type\": \"barpolar\"}], \"carpet\": [{\"aaxis\": {\"endlinecolor\": \"#2a3f5f\", \"gridcolor\": \"white\", \"linecolor\": \"white\", \"minorgridcolor\": \"white\", \"startlinecolor\": \"#2a3f5f\"}, \"baxis\": {\"endlinecolor\": \"#2a3f5f\", \"gridcolor\": \"white\", \"linecolor\": \"white\", \"minorgridcolor\": \"white\", \"startlinecolor\": \"#2a3f5f\"}, \"type\": \"carpet\"}], \"choropleth\": [{\"colorbar\": {\"outlinewidth\": 0, \"ticks\": \"\"}, \"type\": \"choropleth\"}], \"contour\": [{\"colorbar\": {\"outlinewidth\": 0, \"ticks\": \"\"}, \"colorscale\": [[0.0, \"#0d0887\"], [0.1111111111111111, \"#46039f\"], [0.2222222222222222, \"#7201a8\"], [0.3333333333333333, \"#9c179e\"], [0.4444444444444444, \"#bd3786\"], [0.5555555555555556, \"#d8576b\"], [0.6666666666666666, \"#ed7953\"], [0.7777777777777778, \"#fb9f3a\"], [0.8888888888888888, \"#fdca26\"], [1.0, \"#f0f921\"]], \"type\": \"contour\"}], \"contourcarpet\": [{\"colorbar\": {\"outlinewidth\": 0, \"ticks\": \"\"}, \"type\": \"contourcarpet\"}], \"heatmap\": [{\"colorbar\": {\"outlinewidth\": 0, \"ticks\": \"\"}, \"colorscale\": [[0.0, \"#0d0887\"], [0.1111111111111111, \"#46039f\"], [0.2222222222222222, \"#7201a8\"], [0.3333333333333333, \"#9c179e\"], [0.4444444444444444, \"#bd3786\"], [0.5555555555555556, \"#d8576b\"], [0.6666666666666666, \"#ed7953\"], [0.7777777777777778, \"#fb9f3a\"], [0.8888888888888888, \"#fdca26\"], [1.0, \"#f0f921\"]], \"type\": \"heatmap\"}], \"heatmapgl\": [{\"colorbar\": {\"outlinewidth\": 0, \"ticks\": \"\"}, \"colorscale\": [[0.0, \"#0d0887\"], [0.1111111111111111, \"#46039f\"], [0.2222222222222222, \"#7201a8\"], [0.3333333333333333, \"#9c179e\"], [0.4444444444444444, \"#bd3786\"], [0.5555555555555556, \"#d8576b\"], [0.6666666666666666, \"#ed7953\"], [0.7777777777777778, \"#fb9f3a\"], [0.8888888888888888, \"#fdca26\"], [1.0, \"#f0f921\"]], \"type\": \"heatmapgl\"}], \"histogram\": [{\"marker\": {\"colorbar\": {\"outlinewidth\": 0, \"ticks\": \"\"}}, \"type\": \"histogram\"}], \"histogram2d\": [{\"colorbar\": {\"outlinewidth\": 0, \"ticks\": \"\"}, \"colorscale\": [[0.0, \"#0d0887\"], [0.1111111111111111, \"#46039f\"], [0.2222222222222222, \"#7201a8\"], [0.3333333333333333, \"#9c179e\"], [0.4444444444444444, \"#bd3786\"], [0.5555555555555556, \"#d8576b\"], [0.6666666666666666, \"#ed7953\"], [0.7777777777777778, \"#fb9f3a\"], [0.8888888888888888, \"#fdca26\"], [1.0, \"#f0f921\"]], \"type\": \"histogram2d\"}], \"histogram2dcontour\": [{\"colorbar\": {\"outlinewidth\": 0, \"ticks\": \"\"}, \"colorscale\": [[0.0, \"#0d0887\"], [0.1111111111111111, \"#46039f\"], [0.2222222222222222, \"#7201a8\"], [0.3333333333333333, \"#9c179e\"], [0.4444444444444444, \"#bd3786\"], [0.5555555555555556, \"#d8576b\"], [0.6666666666666666, \"#ed7953\"], [0.7777777777777778, \"#fb9f3a\"], [0.8888888888888888, \"#fdca26\"], [1.0, \"#f0f921\"]], \"type\": \"histogram2dcontour\"}], \"mesh3d\": [{\"colorbar\": {\"outlinewidth\": 0, \"ticks\": \"\"}, \"type\": \"mesh3d\"}], \"parcoords\": [{\"line\": {\"colorbar\": {\"outlinewidth\": 0, \"ticks\": \"\"}}, \"type\": \"parcoords\"}], \"pie\": [{\"automargin\": true, \"type\": \"pie\"}], \"scatter\": [{\"marker\": {\"colorbar\": {\"outlinewidth\": 0, \"ticks\": \"\"}}, \"type\": \"scatter\"}], \"scatter3d\": [{\"line\": {\"colorbar\": {\"outlinewidth\": 0, \"ticks\": \"\"}}, \"marker\": {\"colorbar\": {\"outlinewidth\": 0, \"ticks\": \"\"}}, \"type\": \"scatter3d\"}], \"scattercarpet\": [{\"marker\": {\"colorbar\": {\"outlinewidth\": 0, \"ticks\": \"\"}}, \"type\": \"scattercarpet\"}], \"scattergeo\": [{\"marker\": {\"colorbar\": {\"outlinewidth\": 0, \"ticks\": \"\"}}, \"type\": \"scattergeo\"}], \"scattergl\": [{\"marker\": {\"colorbar\": {\"outlinewidth\": 0, \"ticks\": \"\"}}, \"type\": \"scattergl\"}], \"scattermapbox\": [{\"marker\": {\"colorbar\": {\"outlinewidth\": 0, \"ticks\": \"\"}}, \"type\": \"scattermapbox\"}], \"scatterpolar\": [{\"marker\": {\"colorbar\": {\"outlinewidth\": 0, \"ticks\": \"\"}}, \"type\": \"scatterpolar\"}], \"scatterpolargl\": [{\"marker\": {\"colorbar\": {\"outlinewidth\": 0, \"ticks\": \"\"}}, \"type\": \"scatterpolargl\"}], \"scatterternary\": [{\"marker\": {\"colorbar\": {\"outlinewidth\": 0, \"ticks\": \"\"}}, \"type\": \"scatterternary\"}], \"surface\": [{\"colorbar\": {\"outlinewidth\": 0, \"ticks\": \"\"}, \"colorscale\": [[0.0, \"#0d0887\"], [0.1111111111111111, \"#46039f\"], [0.2222222222222222, \"#7201a8\"], [0.3333333333333333, \"#9c179e\"], [0.4444444444444444, \"#bd3786\"], [0.5555555555555556, \"#d8576b\"], [0.6666666666666666, \"#ed7953\"], [0.7777777777777778, \"#fb9f3a\"], [0.8888888888888888, \"#fdca26\"], [1.0, \"#f0f921\"]], \"type\": \"surface\"}], \"table\": [{\"cells\": {\"fill\": {\"color\": \"#EBF0F8\"}, \"line\": {\"color\": \"white\"}}, \"header\": {\"fill\": {\"color\": \"#C8D4E3\"}, \"line\": {\"color\": \"white\"}}, \"type\": \"table\"}]}, \"layout\": {\"annotationdefaults\": {\"arrowcolor\": \"#2a3f5f\", \"arrowhead\": 0, \"arrowwidth\": 1}, \"coloraxis\": {\"colorbar\": {\"outlinewidth\": 0, \"ticks\": \"\"}}, \"colorscale\": {\"diverging\": [[0, \"#8e0152\"], [0.1, \"#c51b7d\"], [0.2, \"#de77ae\"], [0.3, \"#f1b6da\"], [0.4, \"#fde0ef\"], [0.5, \"#f7f7f7\"], [0.6, \"#e6f5d0\"], [0.7, \"#b8e186\"], [0.8, \"#7fbc41\"], [0.9, \"#4d9221\"], [1, \"#276419\"]], \"sequential\": [[0.0, \"#0d0887\"], [0.1111111111111111, \"#46039f\"], [0.2222222222222222, \"#7201a8\"], [0.3333333333333333, \"#9c179e\"], [0.4444444444444444, \"#bd3786\"], [0.5555555555555556, \"#d8576b\"], [0.6666666666666666, \"#ed7953\"], [0.7777777777777778, \"#fb9f3a\"], [0.8888888888888888, \"#fdca26\"], [1.0, \"#f0f921\"]], \"sequentialminus\": [[0.0, \"#0d0887\"], [0.1111111111111111, \"#46039f\"], [0.2222222222222222, \"#7201a8\"], [0.3333333333333333, \"#9c179e\"], [0.4444444444444444, \"#bd3786\"], [0.5555555555555556, \"#d8576b\"], [0.6666666666666666, \"#ed7953\"], [0.7777777777777778, \"#fb9f3a\"], [0.8888888888888888, \"#fdca26\"], [1.0, \"#f0f921\"]]}, \"colorway\": [\"#636efa\", \"#EF553B\", \"#00cc96\", \"#ab63fa\", \"#FFA15A\", \"#19d3f3\", \"#FF6692\", \"#B6E880\", \"#FF97FF\", \"#FECB52\"], \"font\": {\"color\": \"#2a3f5f\"}, \"geo\": {\"bgcolor\": \"white\", \"lakecolor\": \"white\", \"landcolor\": \"#E5ECF6\", \"showlakes\": true, \"showland\": true, \"subunitcolor\": \"white\"}, \"hoverlabel\": {\"align\": \"left\"}, \"hovermode\": \"closest\", \"mapbox\": {\"style\": \"light\"}, \"paper_bgcolor\": \"white\", \"plot_bgcolor\": \"#E5ECF6\", \"polar\": {\"angularaxis\": {\"gridcolor\": \"white\", \"linecolor\": \"white\", \"ticks\": \"\"}, \"bgcolor\": \"#E5ECF6\", \"radialaxis\": {\"gridcolor\": \"white\", \"linecolor\": \"white\", \"ticks\": \"\"}}, \"scene\": {\"xaxis\": {\"backgroundcolor\": \"#E5ECF6\", \"gridcolor\": \"white\", \"gridwidth\": 2, \"linecolor\": \"white\", \"showbackground\": true, \"ticks\": \"\", \"zerolinecolor\": \"white\"}, \"yaxis\": {\"backgroundcolor\": \"#E5ECF6\", \"gridcolor\": \"white\", \"gridwidth\": 2, \"linecolor\": \"white\", \"showbackground\": true, \"ticks\": \"\", \"zerolinecolor\": \"white\"}, \"zaxis\": {\"backgroundcolor\": \"#E5ECF6\", \"gridcolor\": \"white\", \"gridwidth\": 2, \"linecolor\": \"white\", \"showbackground\": true, \"ticks\": \"\", \"zerolinecolor\": \"white\"}}, \"shapedefaults\": {\"line\": {\"color\": \"#2a3f5f\"}}, \"ternary\": {\"aaxis\": {\"gridcolor\": \"white\", \"linecolor\": \"white\", \"ticks\": \"\"}, \"baxis\": {\"gridcolor\": \"white\", \"linecolor\": \"white\", \"ticks\": \"\"}, \"bgcolor\": \"#E5ECF6\", \"caxis\": {\"gridcolor\": \"white\", \"linecolor\": \"white\", \"ticks\": \"\"}}, \"title\": {\"x\": 0.05}, \"xaxis\": {\"automargin\": true, \"gridcolor\": \"white\", \"linecolor\": \"white\", \"ticks\": \"\", \"title\": {\"standoff\": 15}, \"zerolinecolor\": \"white\", \"zerolinewidth\": 2}, \"yaxis\": {\"automargin\": true, \"gridcolor\": \"white\", \"linecolor\": \"white\", \"ticks\": \"\", \"title\": {\"standoff\": 15}, \"zerolinecolor\": \"white\", \"zerolinewidth\": 2}}}, \"width\": 900, \"xaxis\": {\"rangeselector\": {\"buttons\": [{\"count\": 7, \"label\": \"1w\", \"step\": \"day\", \"stepmode\": \"backward\"}, {\"count\": 1, \"label\": \"1m\", \"step\": \"month\", \"stepmode\": \"backward\"}, {\"count\": 6, \"label\": \"6m\", \"step\": \"month\", \"stepmode\": \"backward\"}, {\"count\": 1, \"label\": \"1y\", \"step\": \"year\", \"stepmode\": \"backward\"}, {\"step\": \"all\"}]}, \"rangeslider\": {\"visible\": true}, \"title\": {\"text\": \"ds\"}, \"type\": \"date\"}, \"yaxis\": {\"title\": {\"text\": \"y\"}}},\n",
              "                        {\"responsive\": true}\n",
              "                    ).then(function(){\n",
              "                            \n",
              "var gd = document.getElementById('84407724-7fbb-4a3a-9329-b4fe64a722e2');\n",
              "var x = new MutationObserver(function (mutations, observer) {{\n",
              "        var display = window.getComputedStyle(gd).display;\n",
              "        if (!display || display === 'none') {{\n",
              "            console.log([gd, 'removed!']);\n",
              "            Plotly.purge(gd);\n",
              "            observer.disconnect();\n",
              "        }}\n",
              "}});\n",
              "\n",
              "// Listen for the removal of the full notebook cells\n",
              "var notebookContainer = gd.closest('#notebook-container');\n",
              "if (notebookContainer) {{\n",
              "    x.observe(notebookContainer, {childList: true});\n",
              "}}\n",
              "\n",
              "// Listen for the clearing of the current output cell\n",
              "var outputEl = gd.closest('.output');\n",
              "if (outputEl) {{\n",
              "    x.observe(outputEl, {childList: true});\n",
              "}}\n",
              "\n",
              "                        })\n",
              "                };\n",
              "                \n",
              "            </script>\n",
              "        </div>\n",
              "</body>\n",
              "</html>"
            ]
          },
          "metadata": {
            "tags": []
          }
        }
      ]
    },
    {
      "cell_type": "code",
      "metadata": {
        "id": "zt5o-bybComY"
      },
      "source": [
        "fore = pd.DataFrame(round(forecast['yhat']).tail(12)).reset_index()\n",
        "fore = fore.drop('index', axis=1)"
      ],
      "execution_count": 70,
      "outputs": []
    },
    {
      "cell_type": "code",
      "metadata": {
        "id": "xyyNGEouH9sm"
      },
      "source": [
        "test = test.reset_index().drop('index', axis=1)"
      ],
      "execution_count": 75,
      "outputs": []
    },
    {
      "cell_type": "code",
      "metadata": {
        "id": "DG-Jn-THDOyT"
      },
      "source": [
        "resultado_final_prophet_loja1 = pd.concat([test, fore], axis=1).drop('IsHoliday', axis=1)\n",
        "resultado_final_prophet_loja1['diff'] = resultado_final_prophet_loja1['Weekly_Sales'] -  resultado_final_prophet_loja1['yhat']\n",
        "resultado_final_prophet_loja1['%'] =  (resultado_final_prophet_loja1['diff']  / resultado_final_prophet_loja1['Weekly_Sales'])*100 "
      ],
      "execution_count": 80,
      "outputs": []
    },
    {
      "cell_type": "code",
      "metadata": {
        "colab": {
          "base_uri": "https://localhost:8080/",
          "height": 421
        },
        "id": "BelYvck2DYFG",
        "outputId": "9718071a-eb7d-4bde-d7d7-7a0566c51e6e"
      },
      "source": [
        "resultado_final_prophet_loja1"
      ],
      "execution_count": 81,
      "outputs": [
        {
          "output_type": "execute_result",
          "data": {
            "text/html": [
              "<div>\n",
              "<style scoped>\n",
              "    .dataframe tbody tr th:only-of-type {\n",
              "        vertical-align: middle;\n",
              "    }\n",
              "\n",
              "    .dataframe tbody tr th {\n",
              "        vertical-align: top;\n",
              "    }\n",
              "\n",
              "    .dataframe thead th {\n",
              "        text-align: right;\n",
              "    }\n",
              "</style>\n",
              "<table border=\"1\" class=\"dataframe\">\n",
              "  <thead>\n",
              "    <tr style=\"text-align: right;\">\n",
              "      <th></th>\n",
              "      <th>Date</th>\n",
              "      <th>Weekly_Sales</th>\n",
              "      <th>yhat</th>\n",
              "      <th>diff</th>\n",
              "      <th>%</th>\n",
              "    </tr>\n",
              "  </thead>\n",
              "  <tbody>\n",
              "    <tr>\n",
              "      <th>0</th>\n",
              "      <td>2012-08-10</td>\n",
              "      <td>1592409.97</td>\n",
              "      <td>1534891.0</td>\n",
              "      <td>57518.97</td>\n",
              "      <td>3.612070</td>\n",
              "    </tr>\n",
              "    <tr>\n",
              "      <th>1</th>\n",
              "      <td>2012-08-17</td>\n",
              "      <td>1597868.05</td>\n",
              "      <td>1592087.0</td>\n",
              "      <td>5781.05</td>\n",
              "      <td>0.361798</td>\n",
              "    </tr>\n",
              "    <tr>\n",
              "      <th>2</th>\n",
              "      <td>2012-08-24</td>\n",
              "      <td>1494122.38</td>\n",
              "      <td>1661840.0</td>\n",
              "      <td>-167717.62</td>\n",
              "      <td>-11.225159</td>\n",
              "    </tr>\n",
              "    <tr>\n",
              "      <th>3</th>\n",
              "      <td>2012-08-31</td>\n",
              "      <td>1582083.40</td>\n",
              "      <td>1760214.0</td>\n",
              "      <td>-178130.60</td>\n",
              "      <td>-11.259242</td>\n",
              "    </tr>\n",
              "    <tr>\n",
              "      <th>4</th>\n",
              "      <td>2012-09-07</td>\n",
              "      <td>1661767.33</td>\n",
              "      <td>1791335.0</td>\n",
              "      <td>-129567.67</td>\n",
              "      <td>-7.796980</td>\n",
              "    </tr>\n",
              "    <tr>\n",
              "      <th>5</th>\n",
              "      <td>2012-09-14</td>\n",
              "      <td>1517428.87</td>\n",
              "      <td>1815952.0</td>\n",
              "      <td>-298523.13</td>\n",
              "      <td>-19.672957</td>\n",
              "    </tr>\n",
              "    <tr>\n",
              "      <th>6</th>\n",
              "      <td>2012-09-21</td>\n",
              "      <td>1506126.06</td>\n",
              "      <td>1878487.0</td>\n",
              "      <td>-372360.94</td>\n",
              "      <td>-24.723093</td>\n",
              "    </tr>\n",
              "    <tr>\n",
              "      <th>7</th>\n",
              "      <td>2012-09-28</td>\n",
              "      <td>1437059.26</td>\n",
              "      <td>1958251.0</td>\n",
              "      <td>-521191.74</td>\n",
              "      <td>-36.267937</td>\n",
              "    </tr>\n",
              "    <tr>\n",
              "      <th>8</th>\n",
              "      <td>2012-10-05</td>\n",
              "      <td>1670785.97</td>\n",
              "      <td>1967920.0</td>\n",
              "      <td>-297134.03</td>\n",
              "      <td>-17.784087</td>\n",
              "    </tr>\n",
              "    <tr>\n",
              "      <th>9</th>\n",
              "      <td>2012-10-12</td>\n",
              "      <td>1573072.81</td>\n",
              "      <td>1840441.0</td>\n",
              "      <td>-267368.19</td>\n",
              "      <td>-16.996555</td>\n",
              "    </tr>\n",
              "    <tr>\n",
              "      <th>10</th>\n",
              "      <td>2012-10-19</td>\n",
              "      <td>1508068.77</td>\n",
              "      <td>1616148.0</td>\n",
              "      <td>-108079.23</td>\n",
              "      <td>-7.166731</td>\n",
              "    </tr>\n",
              "    <tr>\n",
              "      <th>11</th>\n",
              "      <td>2012-10-26</td>\n",
              "      <td>1493659.74</td>\n",
              "      <td>1430017.0</td>\n",
              "      <td>63642.74</td>\n",
              "      <td>4.260859</td>\n",
              "    </tr>\n",
              "  </tbody>\n",
              "</table>\n",
              "</div>"
            ],
            "text/plain": [
              "         Date  Weekly_Sales       yhat       diff          %\n",
              "0  2012-08-10    1592409.97  1534891.0   57518.97   3.612070\n",
              "1  2012-08-17    1597868.05  1592087.0    5781.05   0.361798\n",
              "2  2012-08-24    1494122.38  1661840.0 -167717.62 -11.225159\n",
              "3  2012-08-31    1582083.40  1760214.0 -178130.60 -11.259242\n",
              "4  2012-09-07    1661767.33  1791335.0 -129567.67  -7.796980\n",
              "5  2012-09-14    1517428.87  1815952.0 -298523.13 -19.672957\n",
              "6  2012-09-21    1506126.06  1878487.0 -372360.94 -24.723093\n",
              "7  2012-09-28    1437059.26  1958251.0 -521191.74 -36.267937\n",
              "8  2012-10-05    1670785.97  1967920.0 -297134.03 -17.784087\n",
              "9  2012-10-12    1573072.81  1840441.0 -267368.19 -16.996555\n",
              "10 2012-10-19    1508068.77  1616148.0 -108079.23  -7.166731\n",
              "11 2012-10-26    1493659.74  1430017.0   63642.74   4.260859"
            ]
          },
          "metadata": {
            "tags": []
          },
          "execution_count": 81
        }
      ]
    },
    {
      "cell_type": "code",
      "metadata": {
        "colab": {
          "base_uri": "https://localhost:8080/",
          "height": 865
        },
        "id": "TFBukbJL9juH",
        "outputId": "d3f1a5d5-a3d4-4bc5-935b-360d57a5b22b"
      },
      "source": [
        " m.plot_components(forecast)"
      ],
      "execution_count": null,
      "outputs": [
        {
          "output_type": "execute_result",
          "data": {
            "image/png": "[encoded data removed]",
            "text/plain": [
              "<Figure size 648x432 with 2 Axes>"
            ]
          },
          "metadata": {
            "tags": []
          },
          "execution_count": 157
        },
        {
          "output_type": "display_data",
          "data": {
            "image/png": "[encoded data removed]",
            "text/plain": [
              "<Figure size 648x432 with 2 Axes>"
            ]
          },
          "metadata": {
            "tags": []
          }
        }
      ]
    },
    {
      "cell_type": "markdown",
      "metadata": {
        "id": "QCtFIq0SJNx3"
      },
      "source": [
        "RNN"
      ]
    },
    {
      "cell_type": "code",
      "metadata": {
        "id": "dXQ0j61hHlvR"
      },
      "source": [
        "base_treino = treino['Weekly_Sales'].values\n",
        "base_teste = test['Weekly_Sales'].values "
      ],
      "execution_count": 82,
      "outputs": []
    },
    {
      "cell_type": "code",
      "metadata": {
        "id": "A7mc7nNWJSs6"
      },
      "source": [
        "min = MinMaxScaler()\n",
        "base_treino = base_treino.reshape(-1,1)\n",
        "base_treino = min.fit_transform(base_treino)\n",
        "base_treino = base_treino[:,0]"
      ],
      "execution_count": 83,
      "outputs": []
    },
    {
      "cell_type": "code",
      "metadata": {
        "id": "YBw8bOP-JdAH"
      },
      "source": [
        "previsores = []\n",
        "preco_real = []\n",
        "\n",
        "for i in range(12, treino.shape[0]):\n",
        "  previsores.append(base_treino[i-12:i])\n",
        "  preco_real.append(base_treino[i])"
      ],
      "execution_count": 84,
      "outputs": []
    },
    {
      "cell_type": "code",
      "metadata": {
        "id": "Mw_bd0EnJgmq"
      },
      "source": [
        "previsores, preco_real = np.array(previsores), np.array(preco_real)"
      ],
      "execution_count": 85,
      "outputs": []
    },
    {
      "cell_type": "code",
      "metadata": {
        "id": "_P6-vbY6JlbA"
      },
      "source": [
        "previsores = np.reshape(previsores, (previsores.shape[0], previsores.shape[1], 1))"
      ],
      "execution_count": 86,
      "outputs": []
    },
    {
      "cell_type": "code",
      "metadata": {
        "id": "uSSlCe8FJoJH"
      },
      "source": [
        "regressor = Sequential()\n",
        "\n",
        "regressor.add(LSTM(units=100, return_sequences=True, input_shape = (12,1)))\n",
        "regressor.add(Dropout(0.3))\n",
        "\n",
        "regressor.add(LSTM(units=50, return_sequences=True))\n",
        "regressor.add(Dropout(0.3))\n",
        "\n",
        "regressor.add(LSTM(units=50, return_sequences=False))\n",
        "regressor.add(Dropout(0.3))\n",
        "\n",
        "regressor.add(Dense(units=1, activation='linear'))\n",
        "\n",
        "regressor.compile(optimizer='adam', loss='mean_squared_error', metrics=['mean_absolute_error'])\n",
        "\n",
        "regressor.fit(previsores, preco_real, epochs=2000, batch_size=15)"
      ],
      "execution_count": null,
      "outputs": []
    },
    {
      "cell_type": "markdown",
      "metadata": {
        "id": "jzXUPO5AJ2Kb"
      },
      "source": [
        "Base de teste"
      ]
    },
    {
      "cell_type": "code",
      "metadata": {
        "id": "nFp2bJVHJ3ur"
      },
      "source": [
        "preco_real_test = test['Weekly_Sales'].values\n",
        "base_completa = pd.concat([treino['Weekly_Sales'], test['Weekly_Sales']], axis=0)"
      ],
      "execution_count": 89,
      "outputs": []
    },
    {
      "cell_type": "code",
      "metadata": {
        "id": "IOWMiRf0J7TH"
      },
      "source": [
        "entradas = base_completa[len(base_completa)-len(test)-12:].values"
      ],
      "execution_count": 90,
      "outputs": []
    },
    {
      "cell_type": "code",
      "metadata": {
        "id": "l6AiPpQtJ8Hn"
      },
      "source": [
        "entradas = entradas.reshape(-1,1)\n",
        "entradas = min.transform(entradas)\n",
        "entradas = entradas[:,0]"
      ],
      "execution_count": 91,
      "outputs": []
    },
    {
      "cell_type": "code",
      "metadata": {
        "id": "bWhojwmtKEZb"
      },
      "source": [
        "x_test = []\n",
        "for i in range(12, test.shape[0]+12):\n",
        "  x_test.append(entradas[i-12:i])"
      ],
      "execution_count": 92,
      "outputs": []
    },
    {
      "cell_type": "code",
      "metadata": {
        "id": "e4hHBCPBKGsb"
      },
      "source": [
        "x_test = np.array(x_test)  "
      ],
      "execution_count": 93,
      "outputs": []
    },
    {
      "cell_type": "code",
      "metadata": {
        "id": "zsZCDFbcKJRP"
      },
      "source": [
        "x_test = np.reshape(x_test, (x_test.shape[0], x_test.shape[1], 1))"
      ],
      "execution_count": 94,
      "outputs": []
    },
    {
      "cell_type": "code",
      "metadata": {
        "id": "fMa4VId-KLoY"
      },
      "source": [
        "previsoes = regressor.predict(x_test)"
      ],
      "execution_count": 95,
      "outputs": []
    },
    {
      "cell_type": "code",
      "metadata": {
        "id": "dTQrivGeKLyV"
      },
      "source": [
        "previsoes = min.inverse_transform(previsoes)"
      ],
      "execution_count": 96,
      "outputs": []
    },
    {
      "cell_type": "code",
      "metadata": {
        "id": "bsqVq53fKSZD",
        "outputId": "69d072e6-16e7-458f-9f27-7337594ebe07",
        "colab": {
          "base_uri": "https://localhost:8080/",
          "height": 281
        }
      },
      "source": [
        "plt.plot(preco_real_test, color='r', label='Preco Real')\n",
        "plt.plot(previsoes, color='b', label='Previsao')\n",
        "plt.title('Previsao venda Walmart')\n",
        "plt.ylabel('Venda Walmart')\n",
        "plt.legend()\n",
        "plt.show()"
      ],
      "execution_count": 97,
      "outputs": [
        {
          "output_type": "display_data",
          "data": {
            "image/png": "[encoded data removed]",
            "text/plain": [
              "<Figure size 432x288 with 1 Axes>"
            ]
          },
          "metadata": {
            "tags": [],
            "needs_background": "light"
          }
        }
      ]
    }
  ]
}