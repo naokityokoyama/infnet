{
  "nbformat": 4,
  "nbformat_minor": 0,
  "metadata": {
    "colab": {
      "name": "Cópia de infnet_projeto_final.ipynb",
      "provenance": []
    },
    "kernelspec": {
      "name": "python3",
      "display_name": "Python 3"
    },
    "language_info": {
      "name": "python"
    }
  },
  "cells": [
    {
      "cell_type": "markdown",
      "metadata": {
        "id": "RojVNLagiix3"
      },
      "source": [
        "<h2>Projeto Final - Pós-graduação MIT em Data Science, Data Analytics & Machine Learning</h2>\n",
        "\n"
      ]
    },
    {
      "cell_type": "markdown",
      "metadata": {
        "id": "ysdO5HTPl8B6"
      },
      "source": [
        "![logo_infnet.png](data:image/png;base64,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)"
      ]
    },
    {
      "cell_type": "markdown",
      "metadata": {
        "id": "tB48RdTFk6T7"
      },
      "source": [
        "<h1>É possível prever o volume de vendas de lojas do Walmart baseado no histórico de vendas?</h1>\n",
        "\n"
      ]
    },
    {
      "cell_type": "markdown",
      "metadata": {
        "id": "4FtPDXaFllR7"
      },
      "source": [
        "## Sumário\n",
        "* [Introdução: Descrição do problema](#introduction)\n",
        "* [Configuração](#setup)\n",
        "* [Metodologia](#methodology)\n",
        "* [Análise](#analysis)\n",
        "* [Resultados e discussões](#results)\n",
        "* [Conclusão](#conclusion)"
      ]
    },
    {
      "cell_type": "markdown",
      "metadata": {
        "id": "AckHVbBYlvOm"
      },
      "source": [
        "## Introdução: <a name=\"introduction\"></a>"
      ]
    },
    {
      "cell_type": "markdown",
      "metadata": {
        "id": "fXhqcFl_kxOE"
      },
      "source": [
        "A previsão de vendas é uma estimativa de quanto será vendido por uma empresa num determinado período de tempo. Assim, a contribuição da previsão de vendas no processo do planejamento corporativo é amplamente necessário e reconhecido.\n",
        "\n",
        "Quantas empresas desejariam saber o quanto irá vender no dia seguinte?\n",
        "Essa resposta facilita a vida das empresas em muitos aspectos, tais como:\n",
        "- Melhor controle de estoque;\n",
        "- Qual a quantidade de colaboradores necessárias em épocas de sazonalidade?;\n",
        "- Previsão de receita;\n",
        "- Previsão de custos e muitos outros.\n",
        "\n",
        "*\"É preciso haver um norte para que a administração da produção possa trabalhar. A previsão de vendas oferece este direcionamento\" (Peinaldo, 2007).*\n",
        "\n"
      ]
    },
    {
      "cell_type": "markdown",
      "metadata": {
        "id": "jBQPUxCcm54X"
      },
      "source": [
        "## Configuração<a name=\"setup\"></a>"
      ]
    },
    {
      "cell_type": "markdown",
      "metadata": {
        "id": "_PQNryc6ibz1"
      },
      "source": [
        "Importando as bibliotecas necessárias"
      ]
    },
    {
      "cell_type": "code",
      "metadata": {
        "id": "DfzQqbZrgkcZ"
      },
      "source": [
        "import pandas as pd\n",
        "import matplotlib.pyplot as plt\n",
        "import seaborn as sns\n",
        "from fbprophet import Prophet"
      ],
      "execution_count": null,
      "outputs": []
    },
    {
      "cell_type": "markdown",
      "metadata": {
        "id": "3JQqGH1rnM5b"
      },
      "source": [
        "## Lendo os dados"
      ]
    },
    {
      "cell_type": "markdown",
      "metadata": {
        "id": "u60jEjB4jMOl"
      },
      "source": [
        "O objeto de estudo desse trabalho será a série temporal que compreende os dados de venda semanais do Walmart ao longo de vários anos, os quais foram disponibilizados no site Kaggle, disponível no seguinte link:\n",
        "\n",
        "\n",
        "[Walmart Recruiting - Store Sales Forecasting\n",
        "Use historical markdown data to predict store sales](https://www.kaggle.com/c/walmart-recruiting-store-sales-forecasting)"
      ]
    },
    {
      "cell_type": "code",
      "metadata": {
        "id": "NudpX0fFgtS_"
      },
      "source": [
        "df = pd.read_csv('https://raw.githubusercontent.com/naokityokoyama/infnet/main/train.csv')"
      ],
      "execution_count": null,
      "outputs": []
    },
    {
      "cell_type": "markdown",
      "metadata": {
        "id": "a9pLdCyKnn5A"
      },
      "source": [
        "##Verificando se há informações nulas"
      ]
    },
    {
      "cell_type": "code",
      "metadata": {
        "colab": {
          "base_uri": "https://localhost:8080/"
        },
        "id": "5SCj5MMFgwat",
        "outputId": "46ffebff-c9d9-428c-f9be-c1d769a3212c"
      },
      "source": [
        "df.isnull().sum()"
      ],
      "execution_count": null,
      "outputs": [
        {
          "output_type": "execute_result",
          "data": {
            "text/plain": [
              "Store           0\n",
              "Dept            0\n",
              "Date            0\n",
              "Weekly_Sales    0\n",
              "IsHoliday       0\n",
              "dtype: int64"
            ]
          },
          "metadata": {
            "tags": []
          },
          "execution_count": 4
        }
      ]
    },
    {
      "cell_type": "markdown",
      "metadata": {
        "id": "1r7Fhpu-nw-K"
      },
      "source": [
        "## Visão geral dos dados"
      ]
    },
    {
      "cell_type": "markdown",
      "metadata": {
        "id": "J_7Xaf8tn3Py"
      },
      "source": [
        "Descrição dos Dados"
      ]
    },
    {
      "cell_type": "code",
      "metadata": {
        "colab": {
          "base_uri": "https://localhost:8080/",
          "height": 297
        },
        "id": "0-TevwKBg4H7",
        "outputId": "43e9334f-b773-4dc1-c7b5-34bff45933b9"
      },
      "source": [
        "df.describe()"
      ],
      "execution_count": null,
      "outputs": [
        {
          "output_type": "execute_result",
          "data": {
            "text/html": [
              "<div>\n",
              "<style scoped>\n",
              "    .dataframe tbody tr th:only-of-type {\n",
              "        vertical-align: middle;\n",
              "    }\n",
              "\n",
              "    .dataframe tbody tr th {\n",
              "        vertical-align: top;\n",
              "    }\n",
              "\n",
              "    .dataframe thead th {\n",
              "        text-align: right;\n",
              "    }\n",
              "</style>\n",
              "<table border=\"1\" class=\"dataframe\">\n",
              "  <thead>\n",
              "    <tr style=\"text-align: right;\">\n",
              "      <th></th>\n",
              "      <th>Store</th>\n",
              "      <th>Dept</th>\n",
              "      <th>Weekly_Sales</th>\n",
              "    </tr>\n",
              "  </thead>\n",
              "  <tbody>\n",
              "    <tr>\n",
              "      <th>count</th>\n",
              "      <td>421570.000000</td>\n",
              "      <td>421570.000000</td>\n",
              "      <td>421570.000000</td>\n",
              "    </tr>\n",
              "    <tr>\n",
              "      <th>mean</th>\n",
              "      <td>22.200546</td>\n",
              "      <td>44.260317</td>\n",
              "      <td>15981.258123</td>\n",
              "    </tr>\n",
              "    <tr>\n",
              "      <th>std</th>\n",
              "      <td>12.785297</td>\n",
              "      <td>30.492054</td>\n",
              "      <td>22711.183519</td>\n",
              "    </tr>\n",
              "    <tr>\n",
              "      <th>min</th>\n",
              "      <td>1.000000</td>\n",
              "      <td>1.000000</td>\n",
              "      <td>-4988.940000</td>\n",
              "    </tr>\n",
              "    <tr>\n",
              "      <th>25%</th>\n",
              "      <td>11.000000</td>\n",
              "      <td>18.000000</td>\n",
              "      <td>2079.650000</td>\n",
              "    </tr>\n",
              "    <tr>\n",
              "      <th>50%</th>\n",
              "      <td>22.000000</td>\n",
              "      <td>37.000000</td>\n",
              "      <td>7612.030000</td>\n",
              "    </tr>\n",
              "    <tr>\n",
              "      <th>75%</th>\n",
              "      <td>33.000000</td>\n",
              "      <td>74.000000</td>\n",
              "      <td>20205.852500</td>\n",
              "    </tr>\n",
              "    <tr>\n",
              "      <th>max</th>\n",
              "      <td>45.000000</td>\n",
              "      <td>99.000000</td>\n",
              "      <td>693099.360000</td>\n",
              "    </tr>\n",
              "  </tbody>\n",
              "</table>\n",
              "</div>"
            ],
            "text/plain": [
              "               Store           Dept   Weekly_Sales\n",
              "count  421570.000000  421570.000000  421570.000000\n",
              "mean       22.200546      44.260317   15981.258123\n",
              "std        12.785297      30.492054   22711.183519\n",
              "min         1.000000       1.000000   -4988.940000\n",
              "25%        11.000000      18.000000    2079.650000\n",
              "50%        22.000000      37.000000    7612.030000\n",
              "75%        33.000000      74.000000   20205.852500\n",
              "max        45.000000      99.000000  693099.360000"
            ]
          },
          "metadata": {
            "tags": []
          },
          "execution_count": 15
        }
      ]
    },
    {
      "cell_type": "markdown",
      "metadata": {
        "id": "9AJOs2aIn77E"
      },
      "source": [
        "Tamanho da base de dados"
      ]
    },
    {
      "cell_type": "code",
      "metadata": {
        "colab": {
          "base_uri": "https://localhost:8080/"
        },
        "id": "azFf6o6ThJ1y",
        "outputId": "cf05ca7d-129f-44ca-b8d4-cd912fac1d15"
      },
      "source": [
        "df.shape"
      ],
      "execution_count": null,
      "outputs": [
        {
          "output_type": "execute_result",
          "data": {
            "text/plain": [
              "(421570, 5)"
            ]
          },
          "metadata": {
            "tags": []
          },
          "execution_count": 9
        }
      ]
    },
    {
      "cell_type": "markdown",
      "metadata": {
        "id": "kivdP1GcoAwI"
      },
      "source": [
        "Detalhes sobre os dados"
      ]
    },
    {
      "cell_type": "code",
      "metadata": {
        "colab": {
          "base_uri": "https://localhost:8080/"
        },
        "id": "o3SrcGaHhcTU",
        "outputId": "97cffc47-9487-4ac5-d9ac-a7655a9f41a8"
      },
      "source": [
        "df.info()"
      ],
      "execution_count": null,
      "outputs": [
        {
          "output_type": "stream",
          "text": [
            "<class 'pandas.core.frame.DataFrame'>\n",
            "RangeIndex: 421570 entries, 0 to 421569\n",
            "Data columns (total 5 columns):\n",
            " #   Column        Non-Null Count   Dtype  \n",
            "---  ------        --------------   -----  \n",
            " 0   Store         421570 non-null  int64  \n",
            " 1   Dept          421570 non-null  int64  \n",
            " 2   Date          421570 non-null  object \n",
            " 3   Weekly_Sales  421570 non-null  float64\n",
            " 4   IsHoliday     421570 non-null  bool   \n",
            "dtypes: bool(1), float64(1), int64(2), object(1)\n",
            "memory usage: 13.3+ MB\n"
          ],
          "name": "stdout"
        }
      ]
    },
    {
      "cell_type": "markdown",
      "metadata": {
        "id": "Bhe4LrYUoKio"
      },
      "source": [
        "## Pré-processamento dos dados"
      ]
    },
    {
      "cell_type": "markdown",
      "metadata": {
        "id": "33T3-n1LoUcc"
      },
      "source": [
        "Convertendo para o formato Date-time"
      ]
    },
    {
      "cell_type": "code",
      "metadata": {
        "id": "SDq0NqgUheAo"
      },
      "source": [
        "df['Date'] = pd.to_datetime(df['Date'])"
      ],
      "execution_count": null,
      "outputs": []
    },
    {
      "cell_type": "markdown",
      "metadata": {
        "id": "nlxzkQP9opyp"
      },
      "source": [
        "Confirmando se os dados foram convertidos"
      ]
    },
    {
      "cell_type": "code",
      "metadata": {
        "colab": {
          "base_uri": "https://localhost:8080/"
        },
        "id": "gScosXmnhwA1",
        "outputId": "5afd5c08-ab5b-4374-ff7a-7213a2902b98"
      },
      "source": [
        "df.info()"
      ],
      "execution_count": null,
      "outputs": [
        {
          "output_type": "stream",
          "text": [
            "<class 'pandas.core.frame.DataFrame'>\n",
            "RangeIndex: 421570 entries, 0 to 421569\n",
            "Data columns (total 5 columns):\n",
            " #   Column        Non-Null Count   Dtype         \n",
            "---  ------        --------------   -----         \n",
            " 0   Store         421570 non-null  int64         \n",
            " 1   Dept          421570 non-null  int64         \n",
            " 2   Date          421570 non-null  datetime64[ns]\n",
            " 3   Weekly_Sales  421570 non-null  float64       \n",
            " 4   IsHoliday     421570 non-null  bool          \n",
            "dtypes: bool(1), datetime64[ns](1), float64(1), int64(2)\n",
            "memory usage: 13.3 MB\n"
          ],
          "name": "stdout"
        }
      ]
    },
    {
      "cell_type": "markdown",
      "metadata": {
        "id": "u9_0Bp95oyh_"
      },
      "source": [
        "## Visualização dos Dados"
      ]
    },
    {
      "cell_type": "markdown",
      "metadata": {
        "id": "bE7-NNmso6ab"
      },
      "source": [
        "Visualizando a série completa"
      ]
    },
    {
      "cell_type": "code",
      "metadata": {
        "colab": {
          "base_uri": "https://localhost:8080/",
          "height": 351
        },
        "id": "e1j0ukW2h0wh",
        "outputId": "c4a954d1-9f8f-416a-f3f8-ee19fae85f3f"
      },
      "source": [
        "plt.figure(figsize=(18,5))\n",
        "sns.lineplot(data=df, x='Date', y='Weekly_Sales')"
      ],
      "execution_count": null,
      "outputs": [
        {
          "output_type": "execute_result",
          "data": {
            "text/plain": [
              "<matplotlib.axes._subplots.AxesSubplot at 0x7f5915861390>"
            ]
          },
          "metadata": {
            "tags": []
          },
          "execution_count": 20
        },
        {
          "output_type": "display_data",
          "data": {
            "image/png": "[encoded data removed]",
            "text/plain": [
              "<Figure size 1296x360 with 1 Axes>"
            ]
          },
          "metadata": {
            "tags": [],
            "needs_background": "light"
          }
        }
      ]
    },
    {
      "cell_type": "markdown",
      "metadata": {
        "id": "eP3ncSmVqWpO"
      },
      "source": [
        "Verificando vendas negativas"
      ]
    },
    {
      "cell_type": "code",
      "metadata": {
        "colab": {
          "base_uri": "https://localhost:8080/",
          "height": 351
        },
        "id": "AdnY_KHkiD-J",
        "outputId": "302c7aa9-8f9b-41dd-add2-2a2bd368e98a"
      },
      "source": [
        "sales_neg = df.loc[df['Weekly_Sales']<0]\n",
        "plt.figure(figsize=(18,5))\n",
        "sns.lineplot(data=sales_neg, x='Date', y='Weekly_Sales')"
      ],
      "execution_count": null,
      "outputs": [
        {
          "output_type": "execute_result",
          "data": {
            "text/plain": [
              "<matplotlib.axes._subplots.AxesSubplot at 0x7f5913e63050>"
            ]
          },
          "metadata": {
            "tags": []
          },
          "execution_count": 65
        },
        {
          "output_type": "display_data",
          "data": {
            "image/png": "[encoded data removed]",
            "text/plain": [
              "<Figure size 1296x360 with 1 Axes>"
            ]
          },
          "metadata": {
            "tags": [],
            "needs_background": "light"
          }
        }
      ]
    },
    {
      "cell_type": "markdown",
      "metadata": {
        "id": "28jWm-lcrVWp"
      },
      "source": [
        "#Analizando as vendas negativas"
      ]
    },
    {
      "cell_type": "code",
      "metadata": {
        "colab": {
          "base_uri": "https://localhost:8080/"
        },
        "id": "kgio4lEIiibS",
        "outputId": "96e0dd6a-79b8-407e-ae60-fa21d4d9c746"
      },
      "source": [
        "sales_neg.shape[0]"
      ],
      "execution_count": null,
      "outputs": [
        {
          "output_type": "execute_result",
          "data": {
            "text/plain": [
              "1285"
            ]
          },
          "metadata": {
            "tags": []
          },
          "execution_count": 67
        }
      ]
    },
    {
      "cell_type": "code",
      "metadata": {
        "colab": {
          "base_uri": "https://localhost:8080/"
        },
        "id": "RzRRYU3Qi_Kb",
        "outputId": "40922800-1272-4d07-af9a-b0d0ff232eb4"
      },
      "source": [
        "round (sales_neg.shape[0] / df.shape[0] ,4)*100"
      ],
      "execution_count": null,
      "outputs": [
        {
          "output_type": "execute_result",
          "data": {
            "text/plain": [
              "0.3"
            ]
          },
          "metadata": {
            "tags": []
          },
          "execution_count": 68
        }
      ]
    },
    {
      "cell_type": "code",
      "metadata": {
        "colab": {
          "base_uri": "https://localhost:8080/"
        },
        "id": "49T3KOlcjJWM",
        "outputId": "6f707d89-c15c-4ebb-ab50-3ff67e4a39b1"
      },
      "source": [
        "df.shape[0]"
      ],
      "execution_count": null,
      "outputs": [
        {
          "output_type": "execute_result",
          "data": {
            "text/plain": [
              "421570"
            ]
          },
          "metadata": {
            "tags": []
          },
          "execution_count": 36
        }
      ]
    },
    {
      "cell_type": "code",
      "metadata": {
        "colab": {
          "base_uri": "https://localhost:8080/",
          "height": 419
        },
        "id": "WnQv8IR3jnT3",
        "outputId": "f554d2b2-53dd-45c3-e56d-aed2dfed0eee"
      },
      "source": [
        "sales_neg"
      ],
      "execution_count": null,
      "outputs": [
        {
          "output_type": "execute_result",
          "data": {
            "text/html": [
              "<div>\n",
              "<style scoped>\n",
              "    .dataframe tbody tr th:only-of-type {\n",
              "        vertical-align: middle;\n",
              "    }\n",
              "\n",
              "    .dataframe tbody tr th {\n",
              "        vertical-align: top;\n",
              "    }\n",
              "\n",
              "    .dataframe thead th {\n",
              "        text-align: right;\n",
              "    }\n",
              "</style>\n",
              "<table border=\"1\" class=\"dataframe\">\n",
              "  <thead>\n",
              "    <tr style=\"text-align: right;\">\n",
              "      <th></th>\n",
              "      <th>Store</th>\n",
              "      <th>Dept</th>\n",
              "      <th>Date</th>\n",
              "      <th>Weekly_Sales</th>\n",
              "      <th>IsHoliday</th>\n",
              "    </tr>\n",
              "  </thead>\n",
              "  <tbody>\n",
              "    <tr>\n",
              "      <th>846</th>\n",
              "      <td>1</td>\n",
              "      <td>6</td>\n",
              "      <td>2012-08-10</td>\n",
              "      <td>-139.65</td>\n",
              "      <td>False</td>\n",
              "    </tr>\n",
              "    <tr>\n",
              "      <th>2384</th>\n",
              "      <td>1</td>\n",
              "      <td>18</td>\n",
              "      <td>2012-05-04</td>\n",
              "      <td>-1.27</td>\n",
              "      <td>False</td>\n",
              "    </tr>\n",
              "    <tr>\n",
              "      <th>6048</th>\n",
              "      <td>1</td>\n",
              "      <td>47</td>\n",
              "      <td>2010-02-19</td>\n",
              "      <td>-863.00</td>\n",
              "      <td>False</td>\n",
              "    </tr>\n",
              "    <tr>\n",
              "      <th>6049</th>\n",
              "      <td>1</td>\n",
              "      <td>47</td>\n",
              "      <td>2010-03-12</td>\n",
              "      <td>-698.00</td>\n",
              "      <td>False</td>\n",
              "    </tr>\n",
              "    <tr>\n",
              "      <th>6051</th>\n",
              "      <td>1</td>\n",
              "      <td>47</td>\n",
              "      <td>2010-10-08</td>\n",
              "      <td>-58.00</td>\n",
              "      <td>False</td>\n",
              "    </tr>\n",
              "    <tr>\n",
              "      <th>...</th>\n",
              "      <td>...</td>\n",
              "      <td>...</td>\n",
              "      <td>...</td>\n",
              "      <td>...</td>\n",
              "      <td>...</td>\n",
              "    </tr>\n",
              "    <tr>\n",
              "      <th>419597</th>\n",
              "      <td>45</td>\n",
              "      <td>80</td>\n",
              "      <td>2010-02-12</td>\n",
              "      <td>-0.43</td>\n",
              "      <td>True</td>\n",
              "    </tr>\n",
              "    <tr>\n",
              "      <th>419598</th>\n",
              "      <td>45</td>\n",
              "      <td>80</td>\n",
              "      <td>2010-02-19</td>\n",
              "      <td>-0.27</td>\n",
              "      <td>False</td>\n",
              "    </tr>\n",
              "    <tr>\n",
              "      <th>419603</th>\n",
              "      <td>45</td>\n",
              "      <td>80</td>\n",
              "      <td>2010-04-16</td>\n",
              "      <td>-1.61</td>\n",
              "      <td>False</td>\n",
              "    </tr>\n",
              "    <tr>\n",
              "      <th>419614</th>\n",
              "      <td>45</td>\n",
              "      <td>80</td>\n",
              "      <td>2010-07-02</td>\n",
              "      <td>-0.27</td>\n",
              "      <td>False</td>\n",
              "    </tr>\n",
              "    <tr>\n",
              "      <th>419640</th>\n",
              "      <td>45</td>\n",
              "      <td>80</td>\n",
              "      <td>2011-02-11</td>\n",
              "      <td>-0.24</td>\n",
              "      <td>True</td>\n",
              "    </tr>\n",
              "  </tbody>\n",
              "</table>\n",
              "<p>1358 rows × 5 columns</p>\n",
              "</div>"
            ],
            "text/plain": [
              "        Store  Dept       Date  Weekly_Sales  IsHoliday\n",
              "846         1     6 2012-08-10       -139.65      False\n",
              "2384        1    18 2012-05-04         -1.27      False\n",
              "6048        1    47 2010-02-19       -863.00      False\n",
              "6049        1    47 2010-03-12       -698.00      False\n",
              "6051        1    47 2010-10-08        -58.00      False\n",
              "...       ...   ...        ...           ...        ...\n",
              "419597     45    80 2010-02-12         -0.43       True\n",
              "419598     45    80 2010-02-19         -0.27      False\n",
              "419603     45    80 2010-04-16         -1.61      False\n",
              "419614     45    80 2010-07-02         -0.27      False\n",
              "419640     45    80 2011-02-11         -0.24       True\n",
              "\n",
              "[1358 rows x 5 columns]"
            ]
          },
          "metadata": {
            "tags": []
          },
          "execution_count": 61
        }
      ]
    },
    {
      "cell_type": "markdown",
      "metadata": {
        "id": "LoDvaMy04xDi"
      },
      "source": [
        "Venda mínima por departamento"
      ]
    },
    {
      "cell_type": "code",
      "metadata": {
        "colab": {
          "base_uri": "https://localhost:8080/",
          "height": 450
        },
        "id": "XUpEcMEcj1TA",
        "outputId": "3a87d3a0-635b-43a1-b99f-6e2066585696"
      },
      "source": [
        "df.groupby('Dept').min()"
      ],
      "execution_count": null,
      "outputs": [
        {
          "output_type": "execute_result",
          "data": {
            "text/html": [
              "<div>\n",
              "<style scoped>\n",
              "    .dataframe tbody tr th:only-of-type {\n",
              "        vertical-align: middle;\n",
              "    }\n",
              "\n",
              "    .dataframe tbody tr th {\n",
              "        vertical-align: top;\n",
              "    }\n",
              "\n",
              "    .dataframe thead th {\n",
              "        text-align: right;\n",
              "    }\n",
              "</style>\n",
              "<table border=\"1\" class=\"dataframe\">\n",
              "  <thead>\n",
              "    <tr style=\"text-align: right;\">\n",
              "      <th></th>\n",
              "      <th>Store</th>\n",
              "      <th>Date</th>\n",
              "      <th>Weekly_Sales</th>\n",
              "      <th>IsHoliday</th>\n",
              "    </tr>\n",
              "    <tr>\n",
              "      <th>Dept</th>\n",
              "      <th></th>\n",
              "      <th></th>\n",
              "      <th></th>\n",
              "      <th></th>\n",
              "    </tr>\n",
              "  </thead>\n",
              "  <tbody>\n",
              "    <tr>\n",
              "      <th>1</th>\n",
              "      <td>1</td>\n",
              "      <td>2010-02-05</td>\n",
              "      <td>711.11</td>\n",
              "      <td>False</td>\n",
              "    </tr>\n",
              "    <tr>\n",
              "      <th>2</th>\n",
              "      <td>1</td>\n",
              "      <td>2010-02-05</td>\n",
              "      <td>5453.18</td>\n",
              "      <td>False</td>\n",
              "    </tr>\n",
              "    <tr>\n",
              "      <th>3</th>\n",
              "      <td>1</td>\n",
              "      <td>2010-02-05</td>\n",
              "      <td>2.00</td>\n",
              "      <td>False</td>\n",
              "    </tr>\n",
              "    <tr>\n",
              "      <th>4</th>\n",
              "      <td>1</td>\n",
              "      <td>2010-02-05</td>\n",
              "      <td>4695.19</td>\n",
              "      <td>False</td>\n",
              "    </tr>\n",
              "    <tr>\n",
              "      <th>5</th>\n",
              "      <td>1</td>\n",
              "      <td>2010-02-05</td>\n",
              "      <td>-0.04</td>\n",
              "      <td>False</td>\n",
              "    </tr>\n",
              "    <tr>\n",
              "      <th>...</th>\n",
              "      <td>...</td>\n",
              "      <td>...</td>\n",
              "      <td>...</td>\n",
              "      <td>...</td>\n",
              "    </tr>\n",
              "    <tr>\n",
              "      <th>95</th>\n",
              "      <td>1</td>\n",
              "      <td>2010-02-05</td>\n",
              "      <td>11158.06</td>\n",
              "      <td>False</td>\n",
              "    </tr>\n",
              "    <tr>\n",
              "      <th>96</th>\n",
              "      <td>1</td>\n",
              "      <td>2010-02-05</td>\n",
              "      <td>-63.80</td>\n",
              "      <td>False</td>\n",
              "    </tr>\n",
              "    <tr>\n",
              "      <th>97</th>\n",
              "      <td>1</td>\n",
              "      <td>2010-02-05</td>\n",
              "      <td>-9.92</td>\n",
              "      <td>False</td>\n",
              "    </tr>\n",
              "    <tr>\n",
              "      <th>98</th>\n",
              "      <td>1</td>\n",
              "      <td>2010-02-05</td>\n",
              "      <td>-30.00</td>\n",
              "      <td>False</td>\n",
              "    </tr>\n",
              "    <tr>\n",
              "      <th>99</th>\n",
              "      <td>1</td>\n",
              "      <td>2010-02-05</td>\n",
              "      <td>-147.00</td>\n",
              "      <td>False</td>\n",
              "    </tr>\n",
              "  </tbody>\n",
              "</table>\n",
              "<p>81 rows × 4 columns</p>\n",
              "</div>"
            ],
            "text/plain": [
              "      Store       Date  Weekly_Sales  IsHoliday\n",
              "Dept                                           \n",
              "1         1 2010-02-05        711.11      False\n",
              "2         1 2010-02-05       5453.18      False\n",
              "3         1 2010-02-05          2.00      False\n",
              "4         1 2010-02-05       4695.19      False\n",
              "5         1 2010-02-05         -0.04      False\n",
              "...     ...        ...           ...        ...\n",
              "95        1 2010-02-05      11158.06      False\n",
              "96        1 2010-02-05        -63.80      False\n",
              "97        1 2010-02-05         -9.92      False\n",
              "98        1 2010-02-05        -30.00      False\n",
              "99        1 2010-02-05       -147.00      False\n",
              "\n",
              "[81 rows x 4 columns]"
            ]
          },
          "metadata": {
            "tags": []
          },
          "execution_count": 59
        }
      ]
    },
    {
      "cell_type": "markdown",
      "metadata": {
        "id": "hXSpfGr641nc"
      },
      "source": [
        "#Criando uma lista com as vendas mínimas por departamento"
      ]
    },
    {
      "cell_type": "code",
      "metadata": {
        "id": "eUK9BPatj90j"
      },
      "source": [
        "lista = []\n",
        "for i in range(1,100):\n",
        "  lista.append (df[df.Dept==i]['Weekly_Sales'].min())"
      ],
      "execution_count": null,
      "outputs": []
    },
    {
      "cell_type": "code",
      "metadata": {
        "id": "AkdXxvAyoQFM"
      },
      "source": [
        "df_dp_min = pd.DataFrame(lista)"
      ],
      "execution_count": null,
      "outputs": []
    },
    {
      "cell_type": "markdown",
      "metadata": {
        "id": "275eu9ncp7D0"
      },
      "source": [
        "Departamentos que não existem : 15\n",
        "53\n",
        "57\n",
        "61\n",
        "62\n",
        "63\n",
        "64\n",
        "66\n",
        "68\n",
        "69\n",
        "70\n",
        "73\n",
        "75\n",
        "76\n",
        "84\n",
        "86\n",
        "88\n",
        "89\n",
        "\n"
      ]
    },
    {
      "cell_type": "code",
      "metadata": {
        "id": "vEs6u-TcqYFr"
      },
      "source": [
        "lista_dp = []\n",
        "lista_dep_vazios = [15, 53, 57, 61, 62, 63, 64, 66, 68, 69, 70, 73, 75, 76, 84, 86, 88, 89]\n",
        "for dep in lista_dep_vazios:\n",
        "  lista_dp.append(df[df.Dept==dep])"
      ],
      "execution_count": null,
      "outputs": []
    },
    {
      "cell_type": "code",
      "metadata": {
        "colab": {
          "base_uri": "https://localhost:8080/"
        },
        "id": "gDCRipXjrzi-",
        "outputId": "b09c4356-1108-43af-9b0a-aa56b8cc6e82"
      },
      "source": [
        "lista_dp"
      ],
      "execution_count": null,
      "outputs": [
        {
          "output_type": "execute_result",
          "data": {
            "text/plain": [
              "[Empty DataFrame\n",
              " Columns: [Store, Dept, Date, Weekly_Sales, IsHoliday]\n",
              " Index: [], Empty DataFrame\n",
              " Columns: [Store, Dept, Date, Weekly_Sales, IsHoliday]\n",
              " Index: [], Empty DataFrame\n",
              " Columns: [Store, Dept, Date, Weekly_Sales, IsHoliday]\n",
              " Index: [], Empty DataFrame\n",
              " Columns: [Store, Dept, Date, Weekly_Sales, IsHoliday]\n",
              " Index: [], Empty DataFrame\n",
              " Columns: [Store, Dept, Date, Weekly_Sales, IsHoliday]\n",
              " Index: [], Empty DataFrame\n",
              " Columns: [Store, Dept, Date, Weekly_Sales, IsHoliday]\n",
              " Index: [], Empty DataFrame\n",
              " Columns: [Store, Dept, Date, Weekly_Sales, IsHoliday]\n",
              " Index: [], Empty DataFrame\n",
              " Columns: [Store, Dept, Date, Weekly_Sales, IsHoliday]\n",
              " Index: [], Empty DataFrame\n",
              " Columns: [Store, Dept, Date, Weekly_Sales, IsHoliday]\n",
              " Index: [], Empty DataFrame\n",
              " Columns: [Store, Dept, Date, Weekly_Sales, IsHoliday]\n",
              " Index: [], Empty DataFrame\n",
              " Columns: [Store, Dept, Date, Weekly_Sales, IsHoliday]\n",
              " Index: [], Empty DataFrame\n",
              " Columns: [Store, Dept, Date, Weekly_Sales, IsHoliday]\n",
              " Index: [], Empty DataFrame\n",
              " Columns: [Store, Dept, Date, Weekly_Sales, IsHoliday]\n",
              " Index: [], Empty DataFrame\n",
              " Columns: [Store, Dept, Date, Weekly_Sales, IsHoliday]\n",
              " Index: [], Empty DataFrame\n",
              " Columns: [Store, Dept, Date, Weekly_Sales, IsHoliday]\n",
              " Index: [], Empty DataFrame\n",
              " Columns: [Store, Dept, Date, Weekly_Sales, IsHoliday]\n",
              " Index: [], Empty DataFrame\n",
              " Columns: [Store, Dept, Date, Weekly_Sales, IsHoliday]\n",
              " Index: [], Empty DataFrame\n",
              " Columns: [Store, Dept, Date, Weekly_Sales, IsHoliday]\n",
              " Index: []]"
            ]
          },
          "metadata": {
            "tags": []
          },
          "execution_count": 107
        }
      ]
    },
    {
      "cell_type": "markdown",
      "metadata": {
        "id": "NKlo3_kIr_2s"
      },
      "source": [
        "Departamentos Vazios : pulou linhas"
      ]
    },
    {
      "cell_type": "code",
      "metadata": {
        "colab": {
          "base_uri": "https://localhost:8080/"
        },
        "id": "FK5K8m0pke_D",
        "outputId": "17c3ecbe-b1f9-47b9-c342-dd3cf50c1c96"
      },
      "source": [
        "df[df.Dept==1]['Weekly_Sales'].describe()"
      ],
      "execution_count": null,
      "outputs": [
        {
          "output_type": "execute_result",
          "data": {
            "text/plain": [
              "count      6435.000000\n",
              "mean      19213.485088\n",
              "std       15102.373853\n",
              "min         711.110000\n",
              "25%       10423.465000\n",
              "50%       15314.910000\n",
              "75%       23135.595000\n",
              "max      172225.550000\n",
              "Name: Weekly_Sales, dtype: float64"
            ]
          },
          "metadata": {
            "tags": []
          },
          "execution_count": 63
        }
      ]
    },
    {
      "cell_type": "code",
      "metadata": {
        "colab": {
          "base_uri": "https://localhost:8080/",
          "height": 297
        },
        "id": "ovOV3sWDm3zf",
        "outputId": "a82dd582-e1f6-435e-b669-8f4ca6504698"
      },
      "source": [
        "df[df.Dept==1].describe()"
      ],
      "execution_count": null,
      "outputs": [
        {
          "output_type": "execute_result",
          "data": {
            "text/html": [
              "<div>\n",
              "<style scoped>\n",
              "    .dataframe tbody tr th:only-of-type {\n",
              "        vertical-align: middle;\n",
              "    }\n",
              "\n",
              "    .dataframe tbody tr th {\n",
              "        vertical-align: top;\n",
              "    }\n",
              "\n",
              "    .dataframe thead th {\n",
              "        text-align: right;\n",
              "    }\n",
              "</style>\n",
              "<table border=\"1\" class=\"dataframe\">\n",
              "  <thead>\n",
              "    <tr style=\"text-align: right;\">\n",
              "      <th></th>\n",
              "      <th>Store</th>\n",
              "      <th>Dept</th>\n",
              "      <th>Weekly_Sales</th>\n",
              "    </tr>\n",
              "  </thead>\n",
              "  <tbody>\n",
              "    <tr>\n",
              "      <th>count</th>\n",
              "      <td>6435.000000</td>\n",
              "      <td>6435.0</td>\n",
              "      <td>6435.000000</td>\n",
              "    </tr>\n",
              "    <tr>\n",
              "      <th>mean</th>\n",
              "      <td>23.000000</td>\n",
              "      <td>1.0</td>\n",
              "      <td>19213.485088</td>\n",
              "    </tr>\n",
              "    <tr>\n",
              "      <th>std</th>\n",
              "      <td>12.988182</td>\n",
              "      <td>0.0</td>\n",
              "      <td>15102.373853</td>\n",
              "    </tr>\n",
              "    <tr>\n",
              "      <th>min</th>\n",
              "      <td>1.000000</td>\n",
              "      <td>1.0</td>\n",
              "      <td>711.110000</td>\n",
              "    </tr>\n",
              "    <tr>\n",
              "      <th>25%</th>\n",
              "      <td>12.000000</td>\n",
              "      <td>1.0</td>\n",
              "      <td>10423.465000</td>\n",
              "    </tr>\n",
              "    <tr>\n",
              "      <th>50%</th>\n",
              "      <td>23.000000</td>\n",
              "      <td>1.0</td>\n",
              "      <td>15314.910000</td>\n",
              "    </tr>\n",
              "    <tr>\n",
              "      <th>75%</th>\n",
              "      <td>34.000000</td>\n",
              "      <td>1.0</td>\n",
              "      <td>23135.595000</td>\n",
              "    </tr>\n",
              "    <tr>\n",
              "      <th>max</th>\n",
              "      <td>45.000000</td>\n",
              "      <td>1.0</td>\n",
              "      <td>172225.550000</td>\n",
              "    </tr>\n",
              "  </tbody>\n",
              "</table>\n",
              "</div>"
            ],
            "text/plain": [
              "             Store    Dept   Weekly_Sales\n",
              "count  6435.000000  6435.0    6435.000000\n",
              "mean     23.000000     1.0   19213.485088\n",
              "std      12.988182     0.0   15102.373853\n",
              "min       1.000000     1.0     711.110000\n",
              "25%      12.000000     1.0   10423.465000\n",
              "50%      23.000000     1.0   15314.910000\n",
              "75%      34.000000     1.0   23135.595000\n",
              "max      45.000000     1.0  172225.550000"
            ]
          },
          "metadata": {
            "tags": []
          },
          "execution_count": 64
        }
      ]
    },
    {
      "cell_type": "markdown",
      "metadata": {
        "id": "J2tPlznr5J2L"
      },
      "source": [
        "#Criando uma lista de lojas"
      ]
    },
    {
      "cell_type": "code",
      "metadata": {
        "id": "Llnk5QwLm87C"
      },
      "source": [
        "lista_lojas = []\n",
        "for loja in range(1,46):\n",
        "  lista_lojas.append(df.loc[df['Store']==loja].shape[0])"
      ],
      "execution_count": null,
      "outputs": []
    },
    {
      "cell_type": "code",
      "metadata": {
        "colab": {
          "base_uri": "https://localhost:8080/",
          "height": 419
        },
        "id": "lQptzKUvtnTD",
        "outputId": "06a427b8-2ecb-4d7a-9152-4e2e2169a13b"
      },
      "source": [
        "df.loc[df['Store']==1]"
      ],
      "execution_count": null,
      "outputs": [
        {
          "output_type": "execute_result",
          "data": {
            "text/html": [
              "<div>\n",
              "<style scoped>\n",
              "    .dataframe tbody tr th:only-of-type {\n",
              "        vertical-align: middle;\n",
              "    }\n",
              "\n",
              "    .dataframe tbody tr th {\n",
              "        vertical-align: top;\n",
              "    }\n",
              "\n",
              "    .dataframe thead th {\n",
              "        text-align: right;\n",
              "    }\n",
              "</style>\n",
              "<table border=\"1\" class=\"dataframe\">\n",
              "  <thead>\n",
              "    <tr style=\"text-align: right;\">\n",
              "      <th></th>\n",
              "      <th>Store</th>\n",
              "      <th>Dept</th>\n",
              "      <th>Date</th>\n",
              "      <th>Weekly_Sales</th>\n",
              "      <th>IsHoliday</th>\n",
              "    </tr>\n",
              "  </thead>\n",
              "  <tbody>\n",
              "    <tr>\n",
              "      <th>0</th>\n",
              "      <td>1</td>\n",
              "      <td>1</td>\n",
              "      <td>2010-02-05</td>\n",
              "      <td>24924.50</td>\n",
              "      <td>False</td>\n",
              "    </tr>\n",
              "    <tr>\n",
              "      <th>1</th>\n",
              "      <td>1</td>\n",
              "      <td>1</td>\n",
              "      <td>2010-02-12</td>\n",
              "      <td>46039.49</td>\n",
              "      <td>True</td>\n",
              "    </tr>\n",
              "    <tr>\n",
              "      <th>2</th>\n",
              "      <td>1</td>\n",
              "      <td>1</td>\n",
              "      <td>2010-02-19</td>\n",
              "      <td>41595.55</td>\n",
              "      <td>False</td>\n",
              "    </tr>\n",
              "    <tr>\n",
              "      <th>3</th>\n",
              "      <td>1</td>\n",
              "      <td>1</td>\n",
              "      <td>2010-02-26</td>\n",
              "      <td>19403.54</td>\n",
              "      <td>False</td>\n",
              "    </tr>\n",
              "    <tr>\n",
              "      <th>4</th>\n",
              "      <td>1</td>\n",
              "      <td>1</td>\n",
              "      <td>2010-03-05</td>\n",
              "      <td>21827.90</td>\n",
              "      <td>False</td>\n",
              "    </tr>\n",
              "    <tr>\n",
              "      <th>...</th>\n",
              "      <td>...</td>\n",
              "      <td>...</td>\n",
              "      <td>...</td>\n",
              "      <td>...</td>\n",
              "      <td>...</td>\n",
              "    </tr>\n",
              "    <tr>\n",
              "      <th>10239</th>\n",
              "      <td>1</td>\n",
              "      <td>99</td>\n",
              "      <td>2012-08-31</td>\n",
              "      <td>20.06</td>\n",
              "      <td>False</td>\n",
              "    </tr>\n",
              "    <tr>\n",
              "      <th>10240</th>\n",
              "      <td>1</td>\n",
              "      <td>99</td>\n",
              "      <td>2012-09-07</td>\n",
              "      <td>0.05</td>\n",
              "      <td>True</td>\n",
              "    </tr>\n",
              "    <tr>\n",
              "      <th>10241</th>\n",
              "      <td>1</td>\n",
              "      <td>99</td>\n",
              "      <td>2012-09-14</td>\n",
              "      <td>0.03</td>\n",
              "      <td>False</td>\n",
              "    </tr>\n",
              "    <tr>\n",
              "      <th>10242</th>\n",
              "      <td>1</td>\n",
              "      <td>99</td>\n",
              "      <td>2012-10-05</td>\n",
              "      <td>635.00</td>\n",
              "      <td>False</td>\n",
              "    </tr>\n",
              "    <tr>\n",
              "      <th>10243</th>\n",
              "      <td>1</td>\n",
              "      <td>99</td>\n",
              "      <td>2012-10-12</td>\n",
              "      <td>80.00</td>\n",
              "      <td>False</td>\n",
              "    </tr>\n",
              "  </tbody>\n",
              "</table>\n",
              "<p>10244 rows × 5 columns</p>\n",
              "</div>"
            ],
            "text/plain": [
              "       Store  Dept       Date  Weekly_Sales  IsHoliday\n",
              "0          1     1 2010-02-05      24924.50      False\n",
              "1          1     1 2010-02-12      46039.49       True\n",
              "2          1     1 2010-02-19      41595.55      False\n",
              "3          1     1 2010-02-26      19403.54      False\n",
              "4          1     1 2010-03-05      21827.90      False\n",
              "...      ...   ...        ...           ...        ...\n",
              "10239      1    99 2012-08-31         20.06      False\n",
              "10240      1    99 2012-09-07          0.05       True\n",
              "10241      1    99 2012-09-14          0.03      False\n",
              "10242      1    99 2012-10-05        635.00      False\n",
              "10243      1    99 2012-10-12         80.00      False\n",
              "\n",
              "[10244 rows x 5 columns]"
            ]
          },
          "metadata": {
            "tags": []
          },
          "execution_count": 116
        }
      ]
    },
    {
      "cell_type": "code",
      "metadata": {
        "colab": {
          "base_uri": "https://localhost:8080/",
          "height": 419
        },
        "id": "lcvT05k0uFFZ",
        "outputId": "1d4e4a96-bb44-499a-9c94-c37af0246f42"
      },
      "source": [
        "df.loc[df['Store']==3]"
      ],
      "execution_count": null,
      "outputs": [
        {
          "output_type": "execute_result",
          "data": {
            "text/html": [
              "<div>\n",
              "<style scoped>\n",
              "    .dataframe tbody tr th:only-of-type {\n",
              "        vertical-align: middle;\n",
              "    }\n",
              "\n",
              "    .dataframe tbody tr th {\n",
              "        vertical-align: top;\n",
              "    }\n",
              "\n",
              "    .dataframe thead th {\n",
              "        text-align: right;\n",
              "    }\n",
              "</style>\n",
              "<table border=\"1\" class=\"dataframe\">\n",
              "  <thead>\n",
              "    <tr style=\"text-align: right;\">\n",
              "      <th></th>\n",
              "      <th>Store</th>\n",
              "      <th>Dept</th>\n",
              "      <th>Date</th>\n",
              "      <th>Weekly_Sales</th>\n",
              "      <th>IsHoliday</th>\n",
              "    </tr>\n",
              "  </thead>\n",
              "  <tbody>\n",
              "    <tr>\n",
              "      <th>20482</th>\n",
              "      <td>3</td>\n",
              "      <td>1</td>\n",
              "      <td>2010-02-05</td>\n",
              "      <td>6453.58</td>\n",
              "      <td>False</td>\n",
              "    </tr>\n",
              "    <tr>\n",
              "      <th>20483</th>\n",
              "      <td>3</td>\n",
              "      <td>1</td>\n",
              "      <td>2010-02-12</td>\n",
              "      <td>12748.72</td>\n",
              "      <td>True</td>\n",
              "    </tr>\n",
              "    <tr>\n",
              "      <th>20484</th>\n",
              "      <td>3</td>\n",
              "      <td>1</td>\n",
              "      <td>2010-02-19</td>\n",
              "      <td>8918.31</td>\n",
              "      <td>False</td>\n",
              "    </tr>\n",
              "    <tr>\n",
              "      <th>20485</th>\n",
              "      <td>3</td>\n",
              "      <td>1</td>\n",
              "      <td>2010-02-26</td>\n",
              "      <td>4992.00</td>\n",
              "      <td>False</td>\n",
              "    </tr>\n",
              "    <tr>\n",
              "      <th>20486</th>\n",
              "      <td>3</td>\n",
              "      <td>1</td>\n",
              "      <td>2010-03-05</td>\n",
              "      <td>5172.73</td>\n",
              "      <td>False</td>\n",
              "    </tr>\n",
              "    <tr>\n",
              "      <th>...</th>\n",
              "      <td>...</td>\n",
              "      <td>...</td>\n",
              "      <td>...</td>\n",
              "      <td>...</td>\n",
              "      <td>...</td>\n",
              "    </tr>\n",
              "    <tr>\n",
              "      <th>29513</th>\n",
              "      <td>3</td>\n",
              "      <td>98</td>\n",
              "      <td>2012-06-01</td>\n",
              "      <td>49.50</td>\n",
              "      <td>False</td>\n",
              "    </tr>\n",
              "    <tr>\n",
              "      <th>29514</th>\n",
              "      <td>3</td>\n",
              "      <td>98</td>\n",
              "      <td>2012-06-29</td>\n",
              "      <td>94.50</td>\n",
              "      <td>False</td>\n",
              "    </tr>\n",
              "    <tr>\n",
              "      <th>29515</th>\n",
              "      <td>3</td>\n",
              "      <td>98</td>\n",
              "      <td>2012-07-06</td>\n",
              "      <td>40.50</td>\n",
              "      <td>False</td>\n",
              "    </tr>\n",
              "    <tr>\n",
              "      <th>29516</th>\n",
              "      <td>3</td>\n",
              "      <td>98</td>\n",
              "      <td>2012-07-13</td>\n",
              "      <td>9.00</td>\n",
              "      <td>False</td>\n",
              "    </tr>\n",
              "    <tr>\n",
              "      <th>29517</th>\n",
              "      <td>3</td>\n",
              "      <td>98</td>\n",
              "      <td>2012-08-03</td>\n",
              "      <td>21.50</td>\n",
              "      <td>False</td>\n",
              "    </tr>\n",
              "  </tbody>\n",
              "</table>\n",
              "<p>9036 rows × 5 columns</p>\n",
              "</div>"
            ],
            "text/plain": [
              "       Store  Dept       Date  Weekly_Sales  IsHoliday\n",
              "20482      3     1 2010-02-05       6453.58      False\n",
              "20483      3     1 2010-02-12      12748.72       True\n",
              "20484      3     1 2010-02-19       8918.31      False\n",
              "20485      3     1 2010-02-26       4992.00      False\n",
              "20486      3     1 2010-03-05       5172.73      False\n",
              "...      ...   ...        ...           ...        ...\n",
              "29513      3    98 2012-06-01         49.50      False\n",
              "29514      3    98 2012-06-29         94.50      False\n",
              "29515      3    98 2012-07-06         40.50      False\n",
              "29516      3    98 2012-07-13          9.00      False\n",
              "29517      3    98 2012-08-03         21.50      False\n",
              "\n",
              "[9036 rows x 5 columns]"
            ]
          },
          "metadata": {
            "tags": []
          },
          "execution_count": 118
        }
      ]
    },
    {
      "cell_type": "code",
      "metadata": {
        "colab": {
          "base_uri": "https://localhost:8080/",
          "height": 1000
        },
        "id": "UakA8bmkshmv",
        "outputId": "ed3db338-e380-4f69-e208-0050ae2117dd"
      },
      "source": [
        "pd.DataFrame(lista_lojas)"
      ],
      "execution_count": null,
      "outputs": [
        {
          "output_type": "execute_result",
          "data": {
            "text/html": [
              "<div>\n",
              "<style scoped>\n",
              "    .dataframe tbody tr th:only-of-type {\n",
              "        vertical-align: middle;\n",
              "    }\n",
              "\n",
              "    .dataframe tbody tr th {\n",
              "        vertical-align: top;\n",
              "    }\n",
              "\n",
              "    .dataframe thead th {\n",
              "        text-align: right;\n",
              "    }\n",
              "</style>\n",
              "<table border=\"1\" class=\"dataframe\">\n",
              "  <thead>\n",
              "    <tr style=\"text-align: right;\">\n",
              "      <th></th>\n",
              "      <th>0</th>\n",
              "    </tr>\n",
              "  </thead>\n",
              "  <tbody>\n",
              "    <tr>\n",
              "      <th>0</th>\n",
              "      <td>10244</td>\n",
              "    </tr>\n",
              "    <tr>\n",
              "      <th>1</th>\n",
              "      <td>10238</td>\n",
              "    </tr>\n",
              "    <tr>\n",
              "      <th>2</th>\n",
              "      <td>9036</td>\n",
              "    </tr>\n",
              "    <tr>\n",
              "      <th>3</th>\n",
              "      <td>10272</td>\n",
              "    </tr>\n",
              "    <tr>\n",
              "      <th>4</th>\n",
              "      <td>8999</td>\n",
              "    </tr>\n",
              "    <tr>\n",
              "      <th>5</th>\n",
              "      <td>10211</td>\n",
              "    </tr>\n",
              "    <tr>\n",
              "      <th>6</th>\n",
              "      <td>9762</td>\n",
              "    </tr>\n",
              "    <tr>\n",
              "      <th>7</th>\n",
              "      <td>9895</td>\n",
              "    </tr>\n",
              "    <tr>\n",
              "      <th>8</th>\n",
              "      <td>8867</td>\n",
              "    </tr>\n",
              "    <tr>\n",
              "      <th>9</th>\n",
              "      <td>10315</td>\n",
              "    </tr>\n",
              "    <tr>\n",
              "      <th>10</th>\n",
              "      <td>10062</td>\n",
              "    </tr>\n",
              "    <tr>\n",
              "      <th>11</th>\n",
              "      <td>9705</td>\n",
              "    </tr>\n",
              "    <tr>\n",
              "      <th>12</th>\n",
              "      <td>10474</td>\n",
              "    </tr>\n",
              "    <tr>\n",
              "      <th>13</th>\n",
              "      <td>10040</td>\n",
              "    </tr>\n",
              "    <tr>\n",
              "      <th>14</th>\n",
              "      <td>9901</td>\n",
              "    </tr>\n",
              "    <tr>\n",
              "      <th>15</th>\n",
              "      <td>9443</td>\n",
              "    </tr>\n",
              "    <tr>\n",
              "      <th>16</th>\n",
              "      <td>9864</td>\n",
              "    </tr>\n",
              "    <tr>\n",
              "      <th>17</th>\n",
              "      <td>9859</td>\n",
              "    </tr>\n",
              "    <tr>\n",
              "      <th>18</th>\n",
              "      <td>10148</td>\n",
              "    </tr>\n",
              "    <tr>\n",
              "      <th>19</th>\n",
              "      <td>10214</td>\n",
              "    </tr>\n",
              "    <tr>\n",
              "      <th>20</th>\n",
              "      <td>9582</td>\n",
              "    </tr>\n",
              "    <tr>\n",
              "      <th>21</th>\n",
              "      <td>9688</td>\n",
              "    </tr>\n",
              "    <tr>\n",
              "      <th>22</th>\n",
              "      <td>10050</td>\n",
              "    </tr>\n",
              "    <tr>\n",
              "      <th>23</th>\n",
              "      <td>10228</td>\n",
              "    </tr>\n",
              "    <tr>\n",
              "      <th>24</th>\n",
              "      <td>9804</td>\n",
              "    </tr>\n",
              "    <tr>\n",
              "      <th>25</th>\n",
              "      <td>9854</td>\n",
              "    </tr>\n",
              "    <tr>\n",
              "      <th>26</th>\n",
              "      <td>10225</td>\n",
              "    </tr>\n",
              "    <tr>\n",
              "      <th>27</th>\n",
              "      <td>10113</td>\n",
              "    </tr>\n",
              "    <tr>\n",
              "      <th>28</th>\n",
              "      <td>9455</td>\n",
              "    </tr>\n",
              "    <tr>\n",
              "      <th>29</th>\n",
              "      <td>7156</td>\n",
              "    </tr>\n",
              "    <tr>\n",
              "      <th>30</th>\n",
              "      <td>10142</td>\n",
              "    </tr>\n",
              "    <tr>\n",
              "      <th>31</th>\n",
              "      <td>10202</td>\n",
              "    </tr>\n",
              "    <tr>\n",
              "      <th>32</th>\n",
              "      <td>6487</td>\n",
              "    </tr>\n",
              "    <tr>\n",
              "      <th>33</th>\n",
              "      <td>10224</td>\n",
              "    </tr>\n",
              "    <tr>\n",
              "      <th>34</th>\n",
              "      <td>9528</td>\n",
              "    </tr>\n",
              "    <tr>\n",
              "      <th>35</th>\n",
              "      <td>6222</td>\n",
              "    </tr>\n",
              "    <tr>\n",
              "      <th>36</th>\n",
              "      <td>7206</td>\n",
              "    </tr>\n",
              "    <tr>\n",
              "      <th>37</th>\n",
              "      <td>7362</td>\n",
              "    </tr>\n",
              "    <tr>\n",
              "      <th>38</th>\n",
              "      <td>9878</td>\n",
              "    </tr>\n",
              "    <tr>\n",
              "      <th>39</th>\n",
              "      <td>10017</td>\n",
              "    </tr>\n",
              "    <tr>\n",
              "      <th>40</th>\n",
              "      <td>10088</td>\n",
              "    </tr>\n",
              "    <tr>\n",
              "      <th>41</th>\n",
              "      <td>6953</td>\n",
              "    </tr>\n",
              "    <tr>\n",
              "      <th>42</th>\n",
              "      <td>6751</td>\n",
              "    </tr>\n",
              "    <tr>\n",
              "      <th>43</th>\n",
              "      <td>7169</td>\n",
              "    </tr>\n",
              "    <tr>\n",
              "      <th>44</th>\n",
              "      <td>9637</td>\n",
              "    </tr>\n",
              "  </tbody>\n",
              "</table>\n",
              "</div>"
            ],
            "text/plain": [
              "        0\n",
              "0   10244\n",
              "1   10238\n",
              "2    9036\n",
              "3   10272\n",
              "4    8999\n",
              "5   10211\n",
              "6    9762\n",
              "7    9895\n",
              "8    8867\n",
              "9   10315\n",
              "10  10062\n",
              "11   9705\n",
              "12  10474\n",
              "13  10040\n",
              "14   9901\n",
              "15   9443\n",
              "16   9864\n",
              "17   9859\n",
              "18  10148\n",
              "19  10214\n",
              "20   9582\n",
              "21   9688\n",
              "22  10050\n",
              "23  10228\n",
              "24   9804\n",
              "25   9854\n",
              "26  10225\n",
              "27  10113\n",
              "28   9455\n",
              "29   7156\n",
              "30  10142\n",
              "31  10202\n",
              "32   6487\n",
              "33  10224\n",
              "34   9528\n",
              "35   6222\n",
              "36   7206\n",
              "37   7362\n",
              "38   9878\n",
              "39  10017\n",
              "40  10088\n",
              "41   6953\n",
              "42   6751\n",
              "43   7169\n",
              "44   9637"
            ]
          },
          "metadata": {
            "tags": []
          },
          "execution_count": 114
        }
      ]
    },
    {
      "cell_type": "code",
      "metadata": {
        "colab": {
          "base_uri": "https://localhost:8080/",
          "height": 419
        },
        "id": "NnCMSSD8tFDB",
        "outputId": "fbc2c697-7deb-4b87-cb31-40daa6f84e92"
      },
      "source": [
        "df"
      ],
      "execution_count": null,
      "outputs": [
        {
          "output_type": "execute_result",
          "data": {
            "text/html": [
              "<div>\n",
              "<style scoped>\n",
              "    .dataframe tbody tr th:only-of-type {\n",
              "        vertical-align: middle;\n",
              "    }\n",
              "\n",
              "    .dataframe tbody tr th {\n",
              "        vertical-align: top;\n",
              "    }\n",
              "\n",
              "    .dataframe thead th {\n",
              "        text-align: right;\n",
              "    }\n",
              "</style>\n",
              "<table border=\"1\" class=\"dataframe\">\n",
              "  <thead>\n",
              "    <tr style=\"text-align: right;\">\n",
              "      <th></th>\n",
              "      <th>Store</th>\n",
              "      <th>Dept</th>\n",
              "      <th>Date</th>\n",
              "      <th>Weekly_Sales</th>\n",
              "      <th>IsHoliday</th>\n",
              "    </tr>\n",
              "  </thead>\n",
              "  <tbody>\n",
              "    <tr>\n",
              "      <th>0</th>\n",
              "      <td>1</td>\n",
              "      <td>1</td>\n",
              "      <td>2010-02-05</td>\n",
              "      <td>24924.50</td>\n",
              "      <td>False</td>\n",
              "    </tr>\n",
              "    <tr>\n",
              "      <th>1</th>\n",
              "      <td>1</td>\n",
              "      <td>1</td>\n",
              "      <td>2010-02-12</td>\n",
              "      <td>46039.49</td>\n",
              "      <td>True</td>\n",
              "    </tr>\n",
              "    <tr>\n",
              "      <th>2</th>\n",
              "      <td>1</td>\n",
              "      <td>1</td>\n",
              "      <td>2010-02-19</td>\n",
              "      <td>41595.55</td>\n",
              "      <td>False</td>\n",
              "    </tr>\n",
              "    <tr>\n",
              "      <th>3</th>\n",
              "      <td>1</td>\n",
              "      <td>1</td>\n",
              "      <td>2010-02-26</td>\n",
              "      <td>19403.54</td>\n",
              "      <td>False</td>\n",
              "    </tr>\n",
              "    <tr>\n",
              "      <th>4</th>\n",
              "      <td>1</td>\n",
              "      <td>1</td>\n",
              "      <td>2010-03-05</td>\n",
              "      <td>21827.90</td>\n",
              "      <td>False</td>\n",
              "    </tr>\n",
              "    <tr>\n",
              "      <th>...</th>\n",
              "      <td>...</td>\n",
              "      <td>...</td>\n",
              "      <td>...</td>\n",
              "      <td>...</td>\n",
              "      <td>...</td>\n",
              "    </tr>\n",
              "    <tr>\n",
              "      <th>421565</th>\n",
              "      <td>45</td>\n",
              "      <td>98</td>\n",
              "      <td>2012-09-28</td>\n",
              "      <td>508.37</td>\n",
              "      <td>False</td>\n",
              "    </tr>\n",
              "    <tr>\n",
              "      <th>421566</th>\n",
              "      <td>45</td>\n",
              "      <td>98</td>\n",
              "      <td>2012-10-05</td>\n",
              "      <td>628.10</td>\n",
              "      <td>False</td>\n",
              "    </tr>\n",
              "    <tr>\n",
              "      <th>421567</th>\n",
              "      <td>45</td>\n",
              "      <td>98</td>\n",
              "      <td>2012-10-12</td>\n",
              "      <td>1061.02</td>\n",
              "      <td>False</td>\n",
              "    </tr>\n",
              "    <tr>\n",
              "      <th>421568</th>\n",
              "      <td>45</td>\n",
              "      <td>98</td>\n",
              "      <td>2012-10-19</td>\n",
              "      <td>760.01</td>\n",
              "      <td>False</td>\n",
              "    </tr>\n",
              "    <tr>\n",
              "      <th>421569</th>\n",
              "      <td>45</td>\n",
              "      <td>98</td>\n",
              "      <td>2012-10-26</td>\n",
              "      <td>1076.80</td>\n",
              "      <td>False</td>\n",
              "    </tr>\n",
              "  </tbody>\n",
              "</table>\n",
              "<p>421570 rows × 5 columns</p>\n",
              "</div>"
            ],
            "text/plain": [
              "        Store  Dept       Date  Weekly_Sales  IsHoliday\n",
              "0           1     1 2010-02-05      24924.50      False\n",
              "1           1     1 2010-02-12      46039.49       True\n",
              "2           1     1 2010-02-19      41595.55      False\n",
              "3           1     1 2010-02-26      19403.54      False\n",
              "4           1     1 2010-03-05      21827.90      False\n",
              "...       ...   ...        ...           ...        ...\n",
              "421565     45    98 2012-09-28        508.37      False\n",
              "421566     45    98 2012-10-05        628.10      False\n",
              "421567     45    98 2012-10-12       1061.02      False\n",
              "421568     45    98 2012-10-19        760.01      False\n",
              "421569     45    98 2012-10-26       1076.80      False\n",
              "\n",
              "[421570 rows x 5 columns]"
            ]
          },
          "metadata": {
            "tags": []
          },
          "execution_count": 115
        }
      ]
    },
    {
      "cell_type": "markdown",
      "metadata": {
        "id": "JkrtF3K18uxf"
      },
      "source": [
        "#Visualizando as lojas com maiores vendas"
      ]
    },
    {
      "cell_type": "code",
      "metadata": {
        "id": "HlDEtvXXtMYu"
      },
      "source": [
        "top_vendas = pd.DataFrame(df.groupby('Store')['Weekly_Sales'].sum()).reset_index()"
      ],
      "execution_count": null,
      "outputs": []
    },
    {
      "cell_type": "code",
      "metadata": {
        "colab": {
          "base_uri": "https://localhost:8080/",
          "height": 1000
        },
        "id": "HZjhWL_IvoI9",
        "outputId": "afadf177-9501-423b-d02b-2b8e4d54d33d"
      },
      "source": [
        "top_vendas"
      ],
      "execution_count": null,
      "outputs": [
        {
          "output_type": "execute_result",
          "data": {
            "text/html": [
              "<div>\n",
              "<style scoped>\n",
              "    .dataframe tbody tr th:only-of-type {\n",
              "        vertical-align: middle;\n",
              "    }\n",
              "\n",
              "    .dataframe tbody tr th {\n",
              "        vertical-align: top;\n",
              "    }\n",
              "\n",
              "    .dataframe thead th {\n",
              "        text-align: right;\n",
              "    }\n",
              "</style>\n",
              "<table border=\"1\" class=\"dataframe\">\n",
              "  <thead>\n",
              "    <tr style=\"text-align: right;\">\n",
              "      <th></th>\n",
              "      <th>Store</th>\n",
              "      <th>Weekly_Sales</th>\n",
              "    </tr>\n",
              "  </thead>\n",
              "  <tbody>\n",
              "    <tr>\n",
              "      <th>0</th>\n",
              "      <td>1</td>\n",
              "      <td>2.224028e+08</td>\n",
              "    </tr>\n",
              "    <tr>\n",
              "      <th>1</th>\n",
              "      <td>2</td>\n",
              "      <td>2.753824e+08</td>\n",
              "    </tr>\n",
              "    <tr>\n",
              "      <th>2</th>\n",
              "      <td>3</td>\n",
              "      <td>5.758674e+07</td>\n",
              "    </tr>\n",
              "    <tr>\n",
              "      <th>3</th>\n",
              "      <td>4</td>\n",
              "      <td>2.995440e+08</td>\n",
              "    </tr>\n",
              "    <tr>\n",
              "      <th>4</th>\n",
              "      <td>5</td>\n",
              "      <td>4.547569e+07</td>\n",
              "    </tr>\n",
              "    <tr>\n",
              "      <th>5</th>\n",
              "      <td>6</td>\n",
              "      <td>2.237561e+08</td>\n",
              "    </tr>\n",
              "    <tr>\n",
              "      <th>6</th>\n",
              "      <td>7</td>\n",
              "      <td>8.159828e+07</td>\n",
              "    </tr>\n",
              "    <tr>\n",
              "      <th>7</th>\n",
              "      <td>8</td>\n",
              "      <td>1.299512e+08</td>\n",
              "    </tr>\n",
              "    <tr>\n",
              "      <th>8</th>\n",
              "      <td>9</td>\n",
              "      <td>7.778922e+07</td>\n",
              "    </tr>\n",
              "    <tr>\n",
              "      <th>9</th>\n",
              "      <td>10</td>\n",
              "      <td>2.716177e+08</td>\n",
              "    </tr>\n",
              "    <tr>\n",
              "      <th>10</th>\n",
              "      <td>11</td>\n",
              "      <td>1.939628e+08</td>\n",
              "    </tr>\n",
              "    <tr>\n",
              "      <th>11</th>\n",
              "      <td>12</td>\n",
              "      <td>1.442872e+08</td>\n",
              "    </tr>\n",
              "    <tr>\n",
              "      <th>12</th>\n",
              "      <td>13</td>\n",
              "      <td>2.865177e+08</td>\n",
              "    </tr>\n",
              "    <tr>\n",
              "      <th>13</th>\n",
              "      <td>14</td>\n",
              "      <td>2.889999e+08</td>\n",
              "    </tr>\n",
              "    <tr>\n",
              "      <th>14</th>\n",
              "      <td>15</td>\n",
              "      <td>8.913368e+07</td>\n",
              "    </tr>\n",
              "    <tr>\n",
              "      <th>15</th>\n",
              "      <td>16</td>\n",
              "      <td>7.425243e+07</td>\n",
              "    </tr>\n",
              "    <tr>\n",
              "      <th>16</th>\n",
              "      <td>17</td>\n",
              "      <td>1.277821e+08</td>\n",
              "    </tr>\n",
              "    <tr>\n",
              "      <th>17</th>\n",
              "      <td>18</td>\n",
              "      <td>1.551147e+08</td>\n",
              "    </tr>\n",
              "    <tr>\n",
              "      <th>18</th>\n",
              "      <td>19</td>\n",
              "      <td>2.066349e+08</td>\n",
              "    </tr>\n",
              "    <tr>\n",
              "      <th>19</th>\n",
              "      <td>20</td>\n",
              "      <td>3.013978e+08</td>\n",
              "    </tr>\n",
              "    <tr>\n",
              "      <th>20</th>\n",
              "      <td>21</td>\n",
              "      <td>1.081179e+08</td>\n",
              "    </tr>\n",
              "    <tr>\n",
              "      <th>21</th>\n",
              "      <td>22</td>\n",
              "      <td>1.470756e+08</td>\n",
              "    </tr>\n",
              "    <tr>\n",
              "      <th>22</th>\n",
              "      <td>23</td>\n",
              "      <td>1.987506e+08</td>\n",
              "    </tr>\n",
              "    <tr>\n",
              "      <th>23</th>\n",
              "      <td>24</td>\n",
              "      <td>1.940160e+08</td>\n",
              "    </tr>\n",
              "    <tr>\n",
              "      <th>24</th>\n",
              "      <td>25</td>\n",
              "      <td>1.010612e+08</td>\n",
              "    </tr>\n",
              "    <tr>\n",
              "      <th>25</th>\n",
              "      <td>26</td>\n",
              "      <td>1.434164e+08</td>\n",
              "    </tr>\n",
              "    <tr>\n",
              "      <th>26</th>\n",
              "      <td>27</td>\n",
              "      <td>2.538559e+08</td>\n",
              "    </tr>\n",
              "    <tr>\n",
              "      <th>27</th>\n",
              "      <td>28</td>\n",
              "      <td>1.892637e+08</td>\n",
              "    </tr>\n",
              "    <tr>\n",
              "      <th>28</th>\n",
              "      <td>29</td>\n",
              "      <td>7.714155e+07</td>\n",
              "    </tr>\n",
              "    <tr>\n",
              "      <th>29</th>\n",
              "      <td>30</td>\n",
              "      <td>6.271689e+07</td>\n",
              "    </tr>\n",
              "    <tr>\n",
              "      <th>30</th>\n",
              "      <td>31</td>\n",
              "      <td>1.996139e+08</td>\n",
              "    </tr>\n",
              "    <tr>\n",
              "      <th>31</th>\n",
              "      <td>32</td>\n",
              "      <td>1.668192e+08</td>\n",
              "    </tr>\n",
              "    <tr>\n",
              "      <th>32</th>\n",
              "      <td>33</td>\n",
              "      <td>3.716022e+07</td>\n",
              "    </tr>\n",
              "    <tr>\n",
              "      <th>33</th>\n",
              "      <td>34</td>\n",
              "      <td>1.382498e+08</td>\n",
              "    </tr>\n",
              "    <tr>\n",
              "      <th>34</th>\n",
              "      <td>35</td>\n",
              "      <td>1.315207e+08</td>\n",
              "    </tr>\n",
              "    <tr>\n",
              "      <th>35</th>\n",
              "      <td>36</td>\n",
              "      <td>5.341221e+07</td>\n",
              "    </tr>\n",
              "    <tr>\n",
              "      <th>36</th>\n",
              "      <td>37</td>\n",
              "      <td>7.420274e+07</td>\n",
              "    </tr>\n",
              "    <tr>\n",
              "      <th>37</th>\n",
              "      <td>38</td>\n",
              "      <td>5.515963e+07</td>\n",
              "    </tr>\n",
              "    <tr>\n",
              "      <th>38</th>\n",
              "      <td>39</td>\n",
              "      <td>2.074455e+08</td>\n",
              "    </tr>\n",
              "    <tr>\n",
              "      <th>39</th>\n",
              "      <td>40</td>\n",
              "      <td>1.378703e+08</td>\n",
              "    </tr>\n",
              "    <tr>\n",
              "      <th>40</th>\n",
              "      <td>41</td>\n",
              "      <td>1.813419e+08</td>\n",
              "    </tr>\n",
              "    <tr>\n",
              "      <th>41</th>\n",
              "      <td>42</td>\n",
              "      <td>7.956575e+07</td>\n",
              "    </tr>\n",
              "    <tr>\n",
              "      <th>42</th>\n",
              "      <td>43</td>\n",
              "      <td>9.056544e+07</td>\n",
              "    </tr>\n",
              "    <tr>\n",
              "      <th>43</th>\n",
              "      <td>44</td>\n",
              "      <td>4.329309e+07</td>\n",
              "    </tr>\n",
              "    <tr>\n",
              "      <th>44</th>\n",
              "      <td>45</td>\n",
              "      <td>1.123953e+08</td>\n",
              "    </tr>\n",
              "  </tbody>\n",
              "</table>\n",
              "</div>"
            ],
            "text/plain": [
              "    Store  Weekly_Sales\n",
              "0       1  2.224028e+08\n",
              "1       2  2.753824e+08\n",
              "2       3  5.758674e+07\n",
              "3       4  2.995440e+08\n",
              "4       5  4.547569e+07\n",
              "5       6  2.237561e+08\n",
              "6       7  8.159828e+07\n",
              "7       8  1.299512e+08\n",
              "8       9  7.778922e+07\n",
              "9      10  2.716177e+08\n",
              "10     11  1.939628e+08\n",
              "11     12  1.442872e+08\n",
              "12     13  2.865177e+08\n",
              "13     14  2.889999e+08\n",
              "14     15  8.913368e+07\n",
              "15     16  7.425243e+07\n",
              "16     17  1.277821e+08\n",
              "17     18  1.551147e+08\n",
              "18     19  2.066349e+08\n",
              "19     20  3.013978e+08\n",
              "20     21  1.081179e+08\n",
              "21     22  1.470756e+08\n",
              "22     23  1.987506e+08\n",
              "23     24  1.940160e+08\n",
              "24     25  1.010612e+08\n",
              "25     26  1.434164e+08\n",
              "26     27  2.538559e+08\n",
              "27     28  1.892637e+08\n",
              "28     29  7.714155e+07\n",
              "29     30  6.271689e+07\n",
              "30     31  1.996139e+08\n",
              "31     32  1.668192e+08\n",
              "32     33  3.716022e+07\n",
              "33     34  1.382498e+08\n",
              "34     35  1.315207e+08\n",
              "35     36  5.341221e+07\n",
              "36     37  7.420274e+07\n",
              "37     38  5.515963e+07\n",
              "38     39  2.074455e+08\n",
              "39     40  1.378703e+08\n",
              "40     41  1.813419e+08\n",
              "41     42  7.956575e+07\n",
              "42     43  9.056544e+07\n",
              "43     44  4.329309e+07\n",
              "44     45  1.123953e+08"
            ]
          },
          "metadata": {
            "tags": []
          },
          "execution_count": 135
        }
      ]
    },
    {
      "cell_type": "markdown",
      "metadata": {
        "id": "1Dm5Mu995a8E"
      },
      "source": [
        "**<h2>Gráfico 3: Total de vendas por loja</h2>**"
      ]
    },
    {
      "cell_type": "code",
      "metadata": {
        "colab": {
          "base_uri": "https://localhost:8080/",
          "height": 525
        },
        "id": "u7dymSFevDSK",
        "outputId": "2df0fd12-02b3-4df8-f65a-068cdd03188a"
      },
      "source": [
        "plt.figure(figsize=(20,8))\n",
        "sns.barplot(data=top_vendas, x='Store', y='Weekly_Sales')"
      ],
      "execution_count": null,
      "outputs": [
        {
          "output_type": "execute_result",
          "data": {
            "text/plain": [
              "<matplotlib.axes._subplots.AxesSubplot at 0x7f5911d008d0>"
            ]
          },
          "metadata": {
            "tags": []
          },
          "execution_count": 139
        },
        {
          "output_type": "display_data",
          "data": {
            "image/png": "[encoded data removed]",
            "text/plain": [
              "<Figure size 1440x576 with 1 Axes>"
            ]
          },
          "metadata": {
            "tags": [],
            "needs_background": "light"
          }
        }
      ]
    },
    {
      "cell_type": "markdown",
      "metadata": {
        "id": "-QFhZm7T9L6h"
      },
      "source": [
        "#**Departamentos com maiores vendas**"
      ]
    },
    {
      "cell_type": "code",
      "metadata": {
        "id": "iFE3qRXHu-Gl"
      },
      "source": [
        "top_dep = pd.DataFrame(df.groupby('Dept')['Weekly_Sales'].sum()).reset_index()"
      ],
      "execution_count": null,
      "outputs": []
    },
    {
      "cell_type": "code",
      "metadata": {
        "colab": {
          "base_uri": "https://localhost:8080/",
          "height": 419
        },
        "id": "mIhwUFIVwqK9",
        "outputId": "ec69ff36-ff84-47c4-95c7-65cb5704739f"
      },
      "source": [
        "top_dep"
      ],
      "execution_count": null,
      "outputs": [
        {
          "output_type": "execute_result",
          "data": {
            "text/html": [
              "<div>\n",
              "<style scoped>\n",
              "    .dataframe tbody tr th:only-of-type {\n",
              "        vertical-align: middle;\n",
              "    }\n",
              "\n",
              "    .dataframe tbody tr th {\n",
              "        vertical-align: top;\n",
              "    }\n",
              "\n",
              "    .dataframe thead th {\n",
              "        text-align: right;\n",
              "    }\n",
              "</style>\n",
              "<table border=\"1\" class=\"dataframe\">\n",
              "  <thead>\n",
              "    <tr style=\"text-align: right;\">\n",
              "      <th></th>\n",
              "      <th>Dept</th>\n",
              "      <th>Weekly_Sales</th>\n",
              "    </tr>\n",
              "  </thead>\n",
              "  <tbody>\n",
              "    <tr>\n",
              "      <th>0</th>\n",
              "      <td>1</td>\n",
              "      <td>1.236388e+08</td>\n",
              "    </tr>\n",
              "    <tr>\n",
              "      <th>1</th>\n",
              "      <td>2</td>\n",
              "      <td>2.806112e+08</td>\n",
              "    </tr>\n",
              "    <tr>\n",
              "      <th>2</th>\n",
              "      <td>3</td>\n",
              "      <td>7.589245e+07</td>\n",
              "    </tr>\n",
              "    <tr>\n",
              "      <th>3</th>\n",
              "      <td>4</td>\n",
              "      <td>1.671467e+08</td>\n",
              "    </tr>\n",
              "    <tr>\n",
              "      <th>4</th>\n",
              "      <td>5</td>\n",
              "      <td>1.356074e+08</td>\n",
              "    </tr>\n",
              "    <tr>\n",
              "      <th>...</th>\n",
              "      <td>...</td>\n",
              "      <td>...</td>\n",
              "    </tr>\n",
              "    <tr>\n",
              "      <th>76</th>\n",
              "      <td>95</td>\n",
              "      <td>4.493202e+08</td>\n",
              "    </tr>\n",
              "    <tr>\n",
              "      <th>77</th>\n",
              "      <td>96</td>\n",
              "      <td>7.383392e+07</td>\n",
              "    </tr>\n",
              "    <tr>\n",
              "      <th>78</th>\n",
              "      <td>97</td>\n",
              "      <td>8.949651e+07</td>\n",
              "    </tr>\n",
              "    <tr>\n",
              "      <th>79</th>\n",
              "      <td>98</td>\n",
              "      <td>3.982892e+07</td>\n",
              "    </tr>\n",
              "    <tr>\n",
              "      <th>80</th>\n",
              "      <td>99</td>\n",
              "      <td>3.581499e+05</td>\n",
              "    </tr>\n",
              "  </tbody>\n",
              "</table>\n",
              "<p>81 rows × 2 columns</p>\n",
              "</div>"
            ],
            "text/plain": [
              "    Dept  Weekly_Sales\n",
              "0      1  1.236388e+08\n",
              "1      2  2.806112e+08\n",
              "2      3  7.589245e+07\n",
              "3      4  1.671467e+08\n",
              "4      5  1.356074e+08\n",
              "..   ...           ...\n",
              "76    95  4.493202e+08\n",
              "77    96  7.383392e+07\n",
              "78    97  8.949651e+07\n",
              "79    98  3.982892e+07\n",
              "80    99  3.581499e+05\n",
              "\n",
              "[81 rows x 2 columns]"
            ]
          },
          "metadata": {
            "tags": []
          },
          "execution_count": 143
        }
      ]
    },
    {
      "cell_type": "markdown",
      "metadata": {
        "id": "8jWpnYfn9XgD"
      },
      "source": [
        "**Gráfico 4: Somatório de vendas por departamento**"
      ]
    },
    {
      "cell_type": "code",
      "metadata": {
        "colab": {
          "base_uri": "https://localhost:8080/",
          "height": 525
        },
        "id": "qOscrvNmwc2l",
        "outputId": "f59c1669-08a5-479f-9c85-0bcbef5d493e"
      },
      "source": [
        "plt.figure(figsize=(20,8))\n",
        "sns.barplot(data=top_dep, x='Dept', y='Weekly_Sales')"
      ],
      "execution_count": null,
      "outputs": [
        {
          "output_type": "execute_result",
          "data": {
            "text/plain": [
              "<matplotlib.axes._subplots.AxesSubplot at 0x7f5911b01790>"
            ]
          },
          "metadata": {
            "tags": []
          },
          "execution_count": 144
        },
        {
          "output_type": "display_data",
          "data": {
            "image/png": "[encoded data removed]",
            "text/plain": [
              "<Figure size 1440x576 with 1 Axes>"
            ]
          },
          "metadata": {
            "tags": [],
            "needs_background": "light"
          }
        }
      ]
    },
    {
      "cell_type": "markdown",
      "metadata": {
        "id": "00BNKWZ45nGM"
      },
      "source": [
        "# Começando a construção do modelo apenas para a Loja 1"
      ]
    },
    {
      "cell_type": "code",
      "metadata": {
        "id": "MxsH2uAFBU04"
      },
      "source": [
        "loja_1 = df[df['Store']==1]"
      ],
      "execution_count": null,
      "outputs": []
    },
    {
      "cell_type": "code",
      "metadata": {
        "colab": {
          "base_uri": "https://localhost:8080/",
          "height": 419
        },
        "id": "R4qhdyI46hEe",
        "outputId": "05a645bb-84ee-408a-ca67-dcae6d33700c"
      },
      "source": [
        "loja_1"
      ],
      "execution_count": null,
      "outputs": [
        {
          "output_type": "execute_result",
          "data": {
            "text/html": [
              "<div>\n",
              "<style scoped>\n",
              "    .dataframe tbody tr th:only-of-type {\n",
              "        vertical-align: middle;\n",
              "    }\n",
              "\n",
              "    .dataframe tbody tr th {\n",
              "        vertical-align: top;\n",
              "    }\n",
              "\n",
              "    .dataframe thead th {\n",
              "        text-align: right;\n",
              "    }\n",
              "</style>\n",
              "<table border=\"1\" class=\"dataframe\">\n",
              "  <thead>\n",
              "    <tr style=\"text-align: right;\">\n",
              "      <th></th>\n",
              "      <th>Store</th>\n",
              "      <th>Dept</th>\n",
              "      <th>Date</th>\n",
              "      <th>Weekly_Sales</th>\n",
              "      <th>IsHoliday</th>\n",
              "    </tr>\n",
              "  </thead>\n",
              "  <tbody>\n",
              "    <tr>\n",
              "      <th>0</th>\n",
              "      <td>1</td>\n",
              "      <td>1</td>\n",
              "      <td>2010-02-05</td>\n",
              "      <td>24924.50</td>\n",
              "      <td>False</td>\n",
              "    </tr>\n",
              "    <tr>\n",
              "      <th>1</th>\n",
              "      <td>1</td>\n",
              "      <td>1</td>\n",
              "      <td>2010-02-12</td>\n",
              "      <td>46039.49</td>\n",
              "      <td>True</td>\n",
              "    </tr>\n",
              "    <tr>\n",
              "      <th>2</th>\n",
              "      <td>1</td>\n",
              "      <td>1</td>\n",
              "      <td>2010-02-19</td>\n",
              "      <td>41595.55</td>\n",
              "      <td>False</td>\n",
              "    </tr>\n",
              "    <tr>\n",
              "      <th>3</th>\n",
              "      <td>1</td>\n",
              "      <td>1</td>\n",
              "      <td>2010-02-26</td>\n",
              "      <td>19403.54</td>\n",
              "      <td>False</td>\n",
              "    </tr>\n",
              "    <tr>\n",
              "      <th>4</th>\n",
              "      <td>1</td>\n",
              "      <td>1</td>\n",
              "      <td>2010-03-05</td>\n",
              "      <td>21827.90</td>\n",
              "      <td>False</td>\n",
              "    </tr>\n",
              "    <tr>\n",
              "      <th>...</th>\n",
              "      <td>...</td>\n",
              "      <td>...</td>\n",
              "      <td>...</td>\n",
              "      <td>...</td>\n",
              "      <td>...</td>\n",
              "    </tr>\n",
              "    <tr>\n",
              "      <th>10239</th>\n",
              "      <td>1</td>\n",
              "      <td>99</td>\n",
              "      <td>2012-08-31</td>\n",
              "      <td>20.06</td>\n",
              "      <td>False</td>\n",
              "    </tr>\n",
              "    <tr>\n",
              "      <th>10240</th>\n",
              "      <td>1</td>\n",
              "      <td>99</td>\n",
              "      <td>2012-09-07</td>\n",
              "      <td>0.05</td>\n",
              "      <td>True</td>\n",
              "    </tr>\n",
              "    <tr>\n",
              "      <th>10241</th>\n",
              "      <td>1</td>\n",
              "      <td>99</td>\n",
              "      <td>2012-09-14</td>\n",
              "      <td>0.03</td>\n",
              "      <td>False</td>\n",
              "    </tr>\n",
              "    <tr>\n",
              "      <th>10242</th>\n",
              "      <td>1</td>\n",
              "      <td>99</td>\n",
              "      <td>2012-10-05</td>\n",
              "      <td>635.00</td>\n",
              "      <td>False</td>\n",
              "    </tr>\n",
              "    <tr>\n",
              "      <th>10243</th>\n",
              "      <td>1</td>\n",
              "      <td>99</td>\n",
              "      <td>2012-10-12</td>\n",
              "      <td>80.00</td>\n",
              "      <td>False</td>\n",
              "    </tr>\n",
              "  </tbody>\n",
              "</table>\n",
              "<p>10244 rows × 5 columns</p>\n",
              "</div>"
            ],
            "text/plain": [
              "       Store  Dept       Date  Weekly_Sales  IsHoliday\n",
              "0          1     1 2010-02-05      24924.50      False\n",
              "1          1     1 2010-02-12      46039.49       True\n",
              "2          1     1 2010-02-19      41595.55      False\n",
              "3          1     1 2010-02-26      19403.54      False\n",
              "4          1     1 2010-03-05      21827.90      False\n",
              "...      ...   ...        ...           ...        ...\n",
              "10239      1    99 2012-08-31         20.06      False\n",
              "10240      1    99 2012-09-07          0.05       True\n",
              "10241      1    99 2012-09-14          0.03      False\n",
              "10242      1    99 2012-10-05        635.00      False\n",
              "10243      1    99 2012-10-12         80.00      False\n",
              "\n",
              "[10244 rows x 5 columns]"
            ]
          },
          "metadata": {
            "tags": []
          },
          "execution_count": 68
        }
      ]
    },
    {
      "cell_type": "code",
      "metadata": {
        "colab": {
          "base_uri": "https://localhost:8080/"
        },
        "id": "ZUgQNqT7x4YQ",
        "outputId": "5e4e8d34-3c94-44ac-ff76-1d5025445fa7"
      },
      "source": [
        "loja_1['Date'].nunique()"
      ],
      "execution_count": null,
      "outputs": [
        {
          "output_type": "execute_result",
          "data": {
            "text/plain": [
              "143"
            ]
          },
          "metadata": {
            "tags": []
          },
          "execution_count": 44
        }
      ]
    },
    {
      "cell_type": "markdown",
      "metadata": {
        "id": "4IRD_R__57Dr"
      },
      "source": [
        "Convertendo para Data Frame e agrupando as vendas por data"
      ]
    },
    {
      "cell_type": "code",
      "metadata": {
        "colab": {
          "base_uri": "https://localhost:8080/",
          "height": 419
        },
        "id": "5mEpHLlm6CFj",
        "outputId": "193b0582-3dd4-4900-f1dd-bc50e9f1044d"
      },
      "source": [
        "loja_1_ = pd.DataFrame(loja_1.groupby('Date')['Weekly_Sales'].sum()).reset_index()\n",
        "loja_1_"
      ],
      "execution_count": null,
      "outputs": [
        {
          "output_type": "execute_result",
          "data": {
            "text/html": [
              "<div>\n",
              "<style scoped>\n",
              "    .dataframe tbody tr th:only-of-type {\n",
              "        vertical-align: middle;\n",
              "    }\n",
              "\n",
              "    .dataframe tbody tr th {\n",
              "        vertical-align: top;\n",
              "    }\n",
              "\n",
              "    .dataframe thead th {\n",
              "        text-align: right;\n",
              "    }\n",
              "</style>\n",
              "<table border=\"1\" class=\"dataframe\">\n",
              "  <thead>\n",
              "    <tr style=\"text-align: right;\">\n",
              "      <th></th>\n",
              "      <th>Date</th>\n",
              "      <th>Weekly_Sales</th>\n",
              "    </tr>\n",
              "  </thead>\n",
              "  <tbody>\n",
              "    <tr>\n",
              "      <th>0</th>\n",
              "      <td>2010-02-05</td>\n",
              "      <td>1643690.90</td>\n",
              "    </tr>\n",
              "    <tr>\n",
              "      <th>1</th>\n",
              "      <td>2010-02-12</td>\n",
              "      <td>1641957.44</td>\n",
              "    </tr>\n",
              "    <tr>\n",
              "      <th>2</th>\n",
              "      <td>2010-02-19</td>\n",
              "      <td>1611968.17</td>\n",
              "    </tr>\n",
              "    <tr>\n",
              "      <th>3</th>\n",
              "      <td>2010-02-26</td>\n",
              "      <td>1409727.59</td>\n",
              "    </tr>\n",
              "    <tr>\n",
              "      <th>4</th>\n",
              "      <td>2010-03-05</td>\n",
              "      <td>1554806.68</td>\n",
              "    </tr>\n",
              "    <tr>\n",
              "      <th>...</th>\n",
              "      <td>...</td>\n",
              "      <td>...</td>\n",
              "    </tr>\n",
              "    <tr>\n",
              "      <th>138</th>\n",
              "      <td>2012-09-28</td>\n",
              "      <td>1437059.26</td>\n",
              "    </tr>\n",
              "    <tr>\n",
              "      <th>139</th>\n",
              "      <td>2012-10-05</td>\n",
              "      <td>1670785.97</td>\n",
              "    </tr>\n",
              "    <tr>\n",
              "      <th>140</th>\n",
              "      <td>2012-10-12</td>\n",
              "      <td>1573072.81</td>\n",
              "    </tr>\n",
              "    <tr>\n",
              "      <th>141</th>\n",
              "      <td>2012-10-19</td>\n",
              "      <td>1508068.77</td>\n",
              "    </tr>\n",
              "    <tr>\n",
              "      <th>142</th>\n",
              "      <td>2012-10-26</td>\n",
              "      <td>1493659.74</td>\n",
              "    </tr>\n",
              "  </tbody>\n",
              "</table>\n",
              "<p>143 rows × 2 columns</p>\n",
              "</div>"
            ],
            "text/plain": [
              "           Date  Weekly_Sales\n",
              "0    2010-02-05    1643690.90\n",
              "1    2010-02-12    1641957.44\n",
              "2    2010-02-19    1611968.17\n",
              "3    2010-02-26    1409727.59\n",
              "4    2010-03-05    1554806.68\n",
              "..          ...           ...\n",
              "138  2012-09-28    1437059.26\n",
              "139  2012-10-05    1670785.97\n",
              "140  2012-10-12    1573072.81\n",
              "141  2012-10-19    1508068.77\n",
              "142  2012-10-26    1493659.74\n",
              "\n",
              "[143 rows x 2 columns]"
            ]
          },
          "metadata": {
            "tags": []
          },
          "execution_count": 79
        }
      ]
    },
    {
      "cell_type": "markdown",
      "metadata": {
        "id": "8niuWKLY6Hkv"
      },
      "source": [
        "Convertendo para Date Time"
      ]
    },
    {
      "cell_type": "code",
      "metadata": {
        "colab": {
          "base_uri": "https://localhost:8080/"
        },
        "id": "MH0z3ESlyZAW",
        "outputId": "003205a2-f2b8-42b4-88a8-8ac7c6186664"
      },
      "source": [
        "loja_1['Date'] = pd.to_datetime(loja_1['Date'])"
      ],
      "execution_count": null,
      "outputs": [
        {
          "output_type": "stream",
          "text": [
            "/usr/local/lib/python3.7/dist-packages/ipykernel_launcher.py:1: SettingWithCopyWarning:\n",
            "\n",
            "\n",
            "A value is trying to be set on a copy of a slice from a DataFrame.\n",
            "Try using .loc[row_indexer,col_indexer] = value instead\n",
            "\n",
            "See the caveats in the documentation: https://pandas.pydata.org/pandas-docs/stable/user_guide/indexing.html#returning-a-view-versus-a-copy\n",
            "\n"
          ],
          "name": "stderr"
        }
      ]
    },
    {
      "cell_type": "markdown",
      "metadata": {
        "id": "8IyO9tKC_aMN"
      },
      "source": [
        "FB Prophet"
      ]
    },
    {
      "cell_type": "code",
      "metadata": {
        "id": "wyQmE24Xy32Z"
      },
      "source": [
        "X = pd.DataFrame(loja_1[['Date', 'Weekly_Sales']])\n",
        "X = X.rename(columns={'Date':'ds', 'Weekly_Sales':'y'})\n",
        "X['ds'] = pd.to_datetime(X['ds'])"
      ],
      "execution_count": null,
      "outputs": []
    },
    {
      "cell_type": "code",
      "metadata": {
        "id": "xtFFI4B08AKa"
      },
      "source": [
        "l = loja_1_.rename(columns={'Date':'ds', 'Weekly_Sales':'y'})"
      ],
      "execution_count": null,
      "outputs": []
    },
    {
      "cell_type": "code",
      "metadata": {
        "colab": {
          "base_uri": "https://localhost:8080/",
          "height": 266
        },
        "id": "hZmhiGXaBnZg",
        "outputId": "a141a4dd-aa57-4810-f225-3bc290e0f0ea"
      },
      "source": [
        "l.tail(7)"
      ],
      "execution_count": null,
      "outputs": [
        {
          "output_type": "execute_result",
          "data": {
            "text/html": [
              "<div>\n",
              "<style scoped>\n",
              "    .dataframe tbody tr th:only-of-type {\n",
              "        vertical-align: middle;\n",
              "    }\n",
              "\n",
              "    .dataframe tbody tr th {\n",
              "        vertical-align: top;\n",
              "    }\n",
              "\n",
              "    .dataframe thead th {\n",
              "        text-align: right;\n",
              "    }\n",
              "</style>\n",
              "<table border=\"1\" class=\"dataframe\">\n",
              "  <thead>\n",
              "    <tr style=\"text-align: right;\">\n",
              "      <th></th>\n",
              "      <th>ds</th>\n",
              "      <th>y</th>\n",
              "    </tr>\n",
              "  </thead>\n",
              "  <tbody>\n",
              "    <tr>\n",
              "      <th>136</th>\n",
              "      <td>2012-09-14</td>\n",
              "      <td>1517428.87</td>\n",
              "    </tr>\n",
              "    <tr>\n",
              "      <th>137</th>\n",
              "      <td>2012-09-21</td>\n",
              "      <td>1506126.06</td>\n",
              "    </tr>\n",
              "    <tr>\n",
              "      <th>138</th>\n",
              "      <td>2012-09-28</td>\n",
              "      <td>1437059.26</td>\n",
              "    </tr>\n",
              "    <tr>\n",
              "      <th>139</th>\n",
              "      <td>2012-10-05</td>\n",
              "      <td>1670785.97</td>\n",
              "    </tr>\n",
              "    <tr>\n",
              "      <th>140</th>\n",
              "      <td>2012-10-12</td>\n",
              "      <td>1573072.81</td>\n",
              "    </tr>\n",
              "    <tr>\n",
              "      <th>141</th>\n",
              "      <td>2012-10-19</td>\n",
              "      <td>1508068.77</td>\n",
              "    </tr>\n",
              "    <tr>\n",
              "      <th>142</th>\n",
              "      <td>2012-10-26</td>\n",
              "      <td>1493659.74</td>\n",
              "    </tr>\n",
              "  </tbody>\n",
              "</table>\n",
              "</div>"
            ],
            "text/plain": [
              "             ds           y\n",
              "136  2012-09-14  1517428.87\n",
              "137  2012-09-21  1506126.06\n",
              "138  2012-09-28  1437059.26\n",
              "139  2012-10-05  1670785.97\n",
              "140  2012-10-12  1573072.81\n",
              "141  2012-10-19  1508068.77\n",
              "142  2012-10-26  1493659.74"
            ]
          },
          "metadata": {
            "tags": []
          },
          "execution_count": 103
        }
      ]
    },
    {
      "cell_type": "code",
      "metadata": {
        "colab": {
          "base_uri": "https://localhost:8080/"
        },
        "id": "v_00z2cbBoQj",
        "outputId": "dae1983c-879c-4e68-a707-bc360e5ba438"
      },
      "source": [
        "m = Prophet(yearly_seasonality=True)\n",
        "m.add_country_holidays(country_name='US')\n",
        "m.fit(l)"
      ],
      "execution_count": null,
      "outputs": [
        {
          "output_type": "stream",
          "text": [
            "INFO:fbprophet:Disabling weekly seasonality. Run prophet with weekly_seasonality=True to override this.\n",
            "INFO:fbprophet:Disabling daily seasonality. Run prophet with daily_seasonality=True to override this.\n"
          ],
          "name": "stderr"
        },
        {
          "output_type": "execute_result",
          "data": {
            "text/plain": [
              "<fbprophet.forecaster.Prophet at 0x7fea68fac610>"
            ]
          },
          "metadata": {
            "tags": []
          },
          "execution_count": 173
        }
      ]
    },
    {
      "cell_type": "code",
      "metadata": {
        "id": "17fbz9-FCbtO"
      },
      "source": [
        "future = m.make_future_dataframe(periods=40, freq='w')"
      ],
      "execution_count": null,
      "outputs": []
    },
    {
      "cell_type": "code",
      "metadata": {
        "colab": {
          "base_uri": "https://localhost:8080/",
          "height": 359
        },
        "id": "J2ei7vseCtg8",
        "outputId": "4b9f4ad0-a2f5-4638-bde0-c26d86afe5f6"
      },
      "source": [
        "future.tail(10)"
      ],
      "execution_count": null,
      "outputs": [
        {
          "output_type": "execute_result",
          "data": {
            "text/html": [
              "<div>\n",
              "<style scoped>\n",
              "    .dataframe tbody tr th:only-of-type {\n",
              "        vertical-align: middle;\n",
              "    }\n",
              "\n",
              "    .dataframe tbody tr th {\n",
              "        vertical-align: top;\n",
              "    }\n",
              "\n",
              "    .dataframe thead th {\n",
              "        text-align: right;\n",
              "    }\n",
              "</style>\n",
              "<table border=\"1\" class=\"dataframe\">\n",
              "  <thead>\n",
              "    <tr style=\"text-align: right;\">\n",
              "      <th></th>\n",
              "      <th>ds</th>\n",
              "    </tr>\n",
              "  </thead>\n",
              "  <tbody>\n",
              "    <tr>\n",
              "      <th>173</th>\n",
              "      <td>2013-05-26</td>\n",
              "    </tr>\n",
              "    <tr>\n",
              "      <th>174</th>\n",
              "      <td>2013-06-02</td>\n",
              "    </tr>\n",
              "    <tr>\n",
              "      <th>175</th>\n",
              "      <td>2013-06-09</td>\n",
              "    </tr>\n",
              "    <tr>\n",
              "      <th>176</th>\n",
              "      <td>2013-06-16</td>\n",
              "    </tr>\n",
              "    <tr>\n",
              "      <th>177</th>\n",
              "      <td>2013-06-23</td>\n",
              "    </tr>\n",
              "    <tr>\n",
              "      <th>178</th>\n",
              "      <td>2013-06-30</td>\n",
              "    </tr>\n",
              "    <tr>\n",
              "      <th>179</th>\n",
              "      <td>2013-07-07</td>\n",
              "    </tr>\n",
              "    <tr>\n",
              "      <th>180</th>\n",
              "      <td>2013-07-14</td>\n",
              "    </tr>\n",
              "    <tr>\n",
              "      <th>181</th>\n",
              "      <td>2013-07-21</td>\n",
              "    </tr>\n",
              "    <tr>\n",
              "      <th>182</th>\n",
              "      <td>2013-07-28</td>\n",
              "    </tr>\n",
              "  </tbody>\n",
              "</table>\n",
              "</div>"
            ],
            "text/plain": [
              "            ds\n",
              "173 2013-05-26\n",
              "174 2013-06-02\n",
              "175 2013-06-09\n",
              "176 2013-06-16\n",
              "177 2013-06-23\n",
              "178 2013-06-30\n",
              "179 2013-07-07\n",
              "180 2013-07-14\n",
              "181 2013-07-21\n",
              "182 2013-07-28"
            ]
          },
          "metadata": {
            "tags": []
          },
          "execution_count": 175
        }
      ]
    },
    {
      "cell_type": "code",
      "metadata": {
        "id": "YlUM1RBkC2Qr"
      },
      "source": [
        "forecast = m.predict(future)"
      ],
      "execution_count": null,
      "outputs": []
    },
    {
      "cell_type": "code",
      "metadata": {
        "colab": {
          "base_uri": "https://localhost:8080/",
          "height": 609
        },
        "id": "zt5o-bybComY",
        "outputId": "823079d0-0c21-4c8c-9b73-792bb351fab1"
      },
      "source": [
        "forecast"
      ],
      "execution_count": null,
      "outputs": [
        {
          "output_type": "execute_result",
          "data": {
            "text/html": [
              "<div>\n",
              "<style scoped>\n",
              "    .dataframe tbody tr th:only-of-type {\n",
              "        vertical-align: middle;\n",
              "    }\n",
              "\n",
              "    .dataframe tbody tr th {\n",
              "        vertical-align: top;\n",
              "    }\n",
              "\n",
              "    .dataframe thead th {\n",
              "        text-align: right;\n",
              "    }\n",
              "</style>\n",
              "<table border=\"1\" class=\"dataframe\">\n",
              "  <thead>\n",
              "    <tr style=\"text-align: right;\">\n",
              "      <th></th>\n",
              "      <th>ds</th>\n",
              "      <th>trend</th>\n",
              "      <th>yhat_lower</th>\n",
              "      <th>yhat_upper</th>\n",
              "      <th>trend_lower</th>\n",
              "      <th>trend_upper</th>\n",
              "      <th>additive_terms</th>\n",
              "      <th>additive_terms_lower</th>\n",
              "      <th>additive_terms_upper</th>\n",
              "      <th>multiplicative_terms</th>\n",
              "      <th>multiplicative_terms_lower</th>\n",
              "      <th>multiplicative_terms_upper</th>\n",
              "      <th>yhat</th>\n",
              "    </tr>\n",
              "  </thead>\n",
              "  <tbody>\n",
              "    <tr>\n",
              "      <th>0</th>\n",
              "      <td>2010-02-05</td>\n",
              "      <td>1.499445e+06</td>\n",
              "      <td>1.306420e+06</td>\n",
              "      <td>1.696297e+06</td>\n",
              "      <td>1.499445e+06</td>\n",
              "      <td>1.499445e+06</td>\n",
              "      <td>0.0</td>\n",
              "      <td>0.0</td>\n",
              "      <td>0.0</td>\n",
              "      <td>0.0</td>\n",
              "      <td>0.0</td>\n",
              "      <td>0.0</td>\n",
              "      <td>1.499445e+06</td>\n",
              "    </tr>\n",
              "    <tr>\n",
              "      <th>1</th>\n",
              "      <td>2010-02-12</td>\n",
              "      <td>1.500233e+06</td>\n",
              "      <td>1.313394e+06</td>\n",
              "      <td>1.695938e+06</td>\n",
              "      <td>1.500233e+06</td>\n",
              "      <td>1.500233e+06</td>\n",
              "      <td>0.0</td>\n",
              "      <td>0.0</td>\n",
              "      <td>0.0</td>\n",
              "      <td>0.0</td>\n",
              "      <td>0.0</td>\n",
              "      <td>0.0</td>\n",
              "      <td>1.500233e+06</td>\n",
              "    </tr>\n",
              "    <tr>\n",
              "      <th>2</th>\n",
              "      <td>2010-02-19</td>\n",
              "      <td>1.501022e+06</td>\n",
              "      <td>1.306982e+06</td>\n",
              "      <td>1.698758e+06</td>\n",
              "      <td>1.501022e+06</td>\n",
              "      <td>1.501022e+06</td>\n",
              "      <td>0.0</td>\n",
              "      <td>0.0</td>\n",
              "      <td>0.0</td>\n",
              "      <td>0.0</td>\n",
              "      <td>0.0</td>\n",
              "      <td>0.0</td>\n",
              "      <td>1.501022e+06</td>\n",
              "    </tr>\n",
              "    <tr>\n",
              "      <th>3</th>\n",
              "      <td>2010-02-26</td>\n",
              "      <td>1.501810e+06</td>\n",
              "      <td>1.326086e+06</td>\n",
              "      <td>1.693554e+06</td>\n",
              "      <td>1.501810e+06</td>\n",
              "      <td>1.501810e+06</td>\n",
              "      <td>0.0</td>\n",
              "      <td>0.0</td>\n",
              "      <td>0.0</td>\n",
              "      <td>0.0</td>\n",
              "      <td>0.0</td>\n",
              "      <td>0.0</td>\n",
              "      <td>1.501810e+06</td>\n",
              "    </tr>\n",
              "    <tr>\n",
              "      <th>4</th>\n",
              "      <td>2010-03-05</td>\n",
              "      <td>1.502599e+06</td>\n",
              "      <td>1.310812e+06</td>\n",
              "      <td>1.705552e+06</td>\n",
              "      <td>1.502599e+06</td>\n",
              "      <td>1.502599e+06</td>\n",
              "      <td>0.0</td>\n",
              "      <td>0.0</td>\n",
              "      <td>0.0</td>\n",
              "      <td>0.0</td>\n",
              "      <td>0.0</td>\n",
              "      <td>0.0</td>\n",
              "      <td>1.502599e+06</td>\n",
              "    </tr>\n",
              "    <tr>\n",
              "      <th>...</th>\n",
              "      <td>...</td>\n",
              "      <td>...</td>\n",
              "      <td>...</td>\n",
              "      <td>...</td>\n",
              "      <td>...</td>\n",
              "      <td>...</td>\n",
              "      <td>...</td>\n",
              "      <td>...</td>\n",
              "      <td>...</td>\n",
              "      <td>...</td>\n",
              "      <td>...</td>\n",
              "      <td>...</td>\n",
              "      <td>...</td>\n",
              "    </tr>\n",
              "    <tr>\n",
              "      <th>145</th>\n",
              "      <td>2012-10-29</td>\n",
              "      <td>1.611050e+06</td>\n",
              "      <td>1.411461e+06</td>\n",
              "      <td>1.815189e+06</td>\n",
              "      <td>1.611050e+06</td>\n",
              "      <td>1.611050e+06</td>\n",
              "      <td>0.0</td>\n",
              "      <td>0.0</td>\n",
              "      <td>0.0</td>\n",
              "      <td>0.0</td>\n",
              "      <td>0.0</td>\n",
              "      <td>0.0</td>\n",
              "      <td>1.611050e+06</td>\n",
              "    </tr>\n",
              "    <tr>\n",
              "      <th>146</th>\n",
              "      <td>2012-10-30</td>\n",
              "      <td>1.611160e+06</td>\n",
              "      <td>1.410529e+06</td>\n",
              "      <td>1.809677e+06</td>\n",
              "      <td>1.611160e+06</td>\n",
              "      <td>1.611160e+06</td>\n",
              "      <td>0.0</td>\n",
              "      <td>0.0</td>\n",
              "      <td>0.0</td>\n",
              "      <td>0.0</td>\n",
              "      <td>0.0</td>\n",
              "      <td>0.0</td>\n",
              "      <td>1.611160e+06</td>\n",
              "    </tr>\n",
              "    <tr>\n",
              "      <th>147</th>\n",
              "      <td>2012-10-31</td>\n",
              "      <td>1.611270e+06</td>\n",
              "      <td>1.422357e+06</td>\n",
              "      <td>1.809026e+06</td>\n",
              "      <td>1.611270e+06</td>\n",
              "      <td>1.611270e+06</td>\n",
              "      <td>0.0</td>\n",
              "      <td>0.0</td>\n",
              "      <td>0.0</td>\n",
              "      <td>0.0</td>\n",
              "      <td>0.0</td>\n",
              "      <td>0.0</td>\n",
              "      <td>1.611270e+06</td>\n",
              "    </tr>\n",
              "    <tr>\n",
              "      <th>148</th>\n",
              "      <td>2012-11-01</td>\n",
              "      <td>1.611379e+06</td>\n",
              "      <td>1.420188e+06</td>\n",
              "      <td>1.814008e+06</td>\n",
              "      <td>1.611379e+06</td>\n",
              "      <td>1.611379e+06</td>\n",
              "      <td>0.0</td>\n",
              "      <td>0.0</td>\n",
              "      <td>0.0</td>\n",
              "      <td>0.0</td>\n",
              "      <td>0.0</td>\n",
              "      <td>0.0</td>\n",
              "      <td>1.611379e+06</td>\n",
              "    </tr>\n",
              "    <tr>\n",
              "      <th>149</th>\n",
              "      <td>2012-11-02</td>\n",
              "      <td>1.611489e+06</td>\n",
              "      <td>1.414304e+06</td>\n",
              "      <td>1.808373e+06</td>\n",
              "      <td>1.611489e+06</td>\n",
              "      <td>1.611489e+06</td>\n",
              "      <td>0.0</td>\n",
              "      <td>0.0</td>\n",
              "      <td>0.0</td>\n",
              "      <td>0.0</td>\n",
              "      <td>0.0</td>\n",
              "      <td>0.0</td>\n",
              "      <td>1.611489e+06</td>\n",
              "    </tr>\n",
              "  </tbody>\n",
              "</table>\n",
              "<p>150 rows × 13 columns</p>\n",
              "</div>"
            ],
            "text/plain": [
              "            ds         trend  ...  multiplicative_terms_upper          yhat\n",
              "0   2010-02-05  1.499445e+06  ...                         0.0  1.499445e+06\n",
              "1   2010-02-12  1.500233e+06  ...                         0.0  1.500233e+06\n",
              "2   2010-02-19  1.501022e+06  ...                         0.0  1.501022e+06\n",
              "3   2010-02-26  1.501810e+06  ...                         0.0  1.501810e+06\n",
              "4   2010-03-05  1.502599e+06  ...                         0.0  1.502599e+06\n",
              "..         ...           ...  ...                         ...           ...\n",
              "145 2012-10-29  1.611050e+06  ...                         0.0  1.611050e+06\n",
              "146 2012-10-30  1.611160e+06  ...                         0.0  1.611160e+06\n",
              "147 2012-10-31  1.611270e+06  ...                         0.0  1.611270e+06\n",
              "148 2012-11-01  1.611379e+06  ...                         0.0  1.611379e+06\n",
              "149 2012-11-02  1.611489e+06  ...                         0.0  1.611489e+06\n",
              "\n",
              "[150 rows x 13 columns]"
            ]
          },
          "metadata": {
            "tags": []
          },
          "execution_count": 142
        }
      ]
    },
    {
      "cell_type": "code",
      "metadata": {
        "colab": {
          "base_uri": "https://localhost:8080/",
          "height": 419
        },
        "id": "DG-Jn-THDOyT",
        "outputId": "3f0fb84f-6539-4392-b956-b0f2bd7f63de"
      },
      "source": [
        "forecast[['ds', 'yhat', 'yhat_lower', 'yhat_upper']]"
      ],
      "execution_count": null,
      "outputs": [
        {
          "output_type": "execute_result",
          "data": {
            "text/html": [
              "<div>\n",
              "<style scoped>\n",
              "    .dataframe tbody tr th:only-of-type {\n",
              "        vertical-align: middle;\n",
              "    }\n",
              "\n",
              "    .dataframe tbody tr th {\n",
              "        vertical-align: top;\n",
              "    }\n",
              "\n",
              "    .dataframe thead th {\n",
              "        text-align: right;\n",
              "    }\n",
              "</style>\n",
              "<table border=\"1\" class=\"dataframe\">\n",
              "  <thead>\n",
              "    <tr style=\"text-align: right;\">\n",
              "      <th></th>\n",
              "      <th>ds</th>\n",
              "      <th>yhat</th>\n",
              "      <th>yhat_lower</th>\n",
              "      <th>yhat_upper</th>\n",
              "    </tr>\n",
              "  </thead>\n",
              "  <tbody>\n",
              "    <tr>\n",
              "      <th>0</th>\n",
              "      <td>2010-02-05</td>\n",
              "      <td>1.499445e+06</td>\n",
              "      <td>1.300218e+06</td>\n",
              "      <td>1.689339e+06</td>\n",
              "    </tr>\n",
              "    <tr>\n",
              "      <th>1</th>\n",
              "      <td>2010-02-12</td>\n",
              "      <td>1.500233e+06</td>\n",
              "      <td>1.305229e+06</td>\n",
              "      <td>1.690802e+06</td>\n",
              "    </tr>\n",
              "    <tr>\n",
              "      <th>2</th>\n",
              "      <td>2010-02-19</td>\n",
              "      <td>1.501022e+06</td>\n",
              "      <td>1.312251e+06</td>\n",
              "      <td>1.691718e+06</td>\n",
              "    </tr>\n",
              "    <tr>\n",
              "      <th>3</th>\n",
              "      <td>2010-02-26</td>\n",
              "      <td>1.501810e+06</td>\n",
              "      <td>1.313832e+06</td>\n",
              "      <td>1.701023e+06</td>\n",
              "    </tr>\n",
              "    <tr>\n",
              "      <th>4</th>\n",
              "      <td>2010-03-05</td>\n",
              "      <td>1.502599e+06</td>\n",
              "      <td>1.318137e+06</td>\n",
              "      <td>1.712832e+06</td>\n",
              "    </tr>\n",
              "    <tr>\n",
              "      <th>...</th>\n",
              "      <td>...</td>\n",
              "      <td>...</td>\n",
              "      <td>...</td>\n",
              "      <td>...</td>\n",
              "    </tr>\n",
              "    <tr>\n",
              "      <th>190</th>\n",
              "      <td>2013-09-22</td>\n",
              "      <td>1.647051e+06</td>\n",
              "      <td>1.450447e+06</td>\n",
              "      <td>1.845320e+06</td>\n",
              "    </tr>\n",
              "    <tr>\n",
              "      <th>191</th>\n",
              "      <td>2013-09-29</td>\n",
              "      <td>1.647820e+06</td>\n",
              "      <td>1.444664e+06</td>\n",
              "      <td>1.844097e+06</td>\n",
              "    </tr>\n",
              "    <tr>\n",
              "      <th>192</th>\n",
              "      <td>2013-10-06</td>\n",
              "      <td>1.648588e+06</td>\n",
              "      <td>1.452778e+06</td>\n",
              "      <td>1.850049e+06</td>\n",
              "    </tr>\n",
              "    <tr>\n",
              "      <th>193</th>\n",
              "      <td>2013-10-13</td>\n",
              "      <td>1.649356e+06</td>\n",
              "      <td>1.451814e+06</td>\n",
              "      <td>1.847915e+06</td>\n",
              "    </tr>\n",
              "    <tr>\n",
              "      <th>194</th>\n",
              "      <td>2013-10-20</td>\n",
              "      <td>1.650124e+06</td>\n",
              "      <td>1.460812e+06</td>\n",
              "      <td>1.833021e+06</td>\n",
              "    </tr>\n",
              "  </tbody>\n",
              "</table>\n",
              "<p>195 rows × 4 columns</p>\n",
              "</div>"
            ],
            "text/plain": [
              "            ds          yhat    yhat_lower    yhat_upper\n",
              "0   2010-02-05  1.499445e+06  1.300218e+06  1.689339e+06\n",
              "1   2010-02-12  1.500233e+06  1.305229e+06  1.690802e+06\n",
              "2   2010-02-19  1.501022e+06  1.312251e+06  1.691718e+06\n",
              "3   2010-02-26  1.501810e+06  1.313832e+06  1.701023e+06\n",
              "4   2010-03-05  1.502599e+06  1.318137e+06  1.712832e+06\n",
              "..         ...           ...           ...           ...\n",
              "190 2013-09-22  1.647051e+06  1.450447e+06  1.845320e+06\n",
              "191 2013-09-29  1.647820e+06  1.444664e+06  1.844097e+06\n",
              "192 2013-10-06  1.648588e+06  1.452778e+06  1.850049e+06\n",
              "193 2013-10-13  1.649356e+06  1.451814e+06  1.847915e+06\n",
              "194 2013-10-20  1.650124e+06  1.460812e+06  1.833021e+06\n",
              "\n",
              "[195 rows x 4 columns]"
            ]
          },
          "metadata": {
            "tags": []
          },
          "execution_count": 151
        }
      ]
    },
    {
      "cell_type": "code",
      "metadata": {
        "colab": {
          "base_uri": "https://localhost:8080/",
          "height": 865
        },
        "id": "BelYvck2DYFG",
        "outputId": "2e50a45e-f228-4ef6-b126-5db89719ff3d"
      },
      "source": [
        "m.plot(forecast)"
      ],
      "execution_count": null,
      "outputs": [
        {
          "output_type": "execute_result",
          "data": {
            "image/png": "[encoded data removed]",
            "text/plain": [
              "<Figure size 720x432 with 1 Axes>"
            ]
          },
          "metadata": {
            "tags": []
          },
          "execution_count": 156
        },
        {
          "output_type": "display_data",
          "data": {
            "image/png": "[encoded data removed]",
            "text/plain": [
              "<Figure size 720x432 with 1 Axes>"
            ]
          },
          "metadata": {
            "tags": []
          }
        }
      ]
    },
    {
      "cell_type": "code",
      "metadata": {
        "colab": {
          "base_uri": "https://localhost:8080/",
          "height": 865
        },
        "id": "TFBukbJL9juH",
        "outputId": "d3f1a5d5-a3d4-4bc5-935b-360d57a5b22b"
      },
      "source": [
        " m.plot_components(forecast)"
      ],
      "execution_count": null,
      "outputs": [
        {
          "output_type": "execute_result",
          "data": {
            "image/png": "[encoded data removed]",
            "text/plain": [
              "<Figure size 648x432 with 2 Axes>"
            ]
          },
          "metadata": {
            "tags": []
          },
          "execution_count": 157
        },
        {
          "output_type": "display_data",
          "data": {
            "image/png": "[encoded data removed]",
            "text/plain": [
              "<Figure size 648x432 with 2 Axes>"
            ]
          },
          "metadata": {
            "tags": []
          }
        }
      ]
    },
    {
      "cell_type": "code",
      "metadata": {
        "colab": {
          "base_uri": "https://localhost:8080/"
        },
        "id": "bHWXMy3S971C",
        "outputId": "33bba425-e750-4f3f-df9f-c15d171bab81"
      },
      "source": [
        "!pip install prophet"
      ],
      "execution_count": null,
      "outputs": [
        {
          "output_type": "stream",
          "text": [
            "Collecting prophet\n",
            "\u001b[?25l  Downloading https://files.pythonhosted.org/packages/f0/fa/c382f0ac5abe9f0a4df9d874a5e8843db035fe2f071b5c00a545b1e3c10b/prophet-1.0.1.tar.gz (65kB)\n",
            "\u001b[K     |████████████████████████████████| 71kB 4.8MB/s \n",
            "\u001b[?25hRequirement already satisfied: Cython>=0.22 in /usr/local/lib/python3.7/dist-packages (from prophet) (0.29.23)\n",
            "Collecting cmdstanpy==0.9.68\n",
            "\u001b[?25l  Downloading https://files.pythonhosted.org/packages/08/b9/b4f0938b38dbe775c4def707f525ab816b9d0215ecd8ab2d76780f4514f8/cmdstanpy-0.9.68-py3-none-any.whl (49kB)\n",
            "\u001b[K     |████████████████████████████████| 51kB 4.9MB/s \n",
            "\u001b[?25hRequirement already satisfied: pystan~=2.19.1.1 in /usr/local/lib/python3.7/dist-packages (from prophet) (2.19.1.1)\n",
            "Requirement already satisfied: numpy>=1.15.4 in /usr/local/lib/python3.7/dist-packages (from prophet) (1.19.5)\n",
            "Requirement already satisfied: pandas>=1.0.4 in /usr/local/lib/python3.7/dist-packages (from prophet) (1.1.5)\n",
            "Requirement already satisfied: matplotlib>=2.0.0 in /usr/local/lib/python3.7/dist-packages (from prophet) (3.2.2)\n",
            "Requirement already satisfied: LunarCalendar>=0.0.9 in /usr/local/lib/python3.7/dist-packages (from prophet) (0.0.9)\n",
            "Requirement already satisfied: convertdate>=2.1.2 in /usr/local/lib/python3.7/dist-packages (from prophet) (2.3.2)\n",
            "Requirement already satisfied: holidays>=0.10.2 in /usr/local/lib/python3.7/dist-packages (from prophet) (0.10.5.2)\n",
            "Requirement already satisfied: setuptools-git>=1.2 in /usr/local/lib/python3.7/dist-packages (from prophet) (1.2)\n",
            "Requirement already satisfied: python-dateutil>=2.8.0 in /usr/local/lib/python3.7/dist-packages (from prophet) (2.8.1)\n",
            "Requirement already satisfied: tqdm>=4.36.1 in /usr/local/lib/python3.7/dist-packages (from prophet) (4.41.1)\n",
            "Collecting ujson\n",
            "\u001b[?25l  Downloading https://files.pythonhosted.org/packages/17/4e/50e8e4cf5f00b537095711c2c86ac4d7191aed2b4fffd5a19f06898f6929/ujson-4.0.2-cp37-cp37m-manylinux1_x86_64.whl (179kB)\n",
            "\u001b[K     |████████████████████████████████| 184kB 19.1MB/s \n",
            "\u001b[?25hRequirement already satisfied: pytz>=2017.2 in /usr/local/lib/python3.7/dist-packages (from pandas>=1.0.4->prophet) (2018.9)\n",
            "Requirement already satisfied: pyparsing!=2.0.4,!=2.1.2,!=2.1.6,>=2.0.1 in /usr/local/lib/python3.7/dist-packages (from matplotlib>=2.0.0->prophet) (2.4.7)\n",
            "Requirement already satisfied: cycler>=0.10 in /usr/local/lib/python3.7/dist-packages (from matplotlib>=2.0.0->prophet) (0.10.0)\n",
            "Requirement already satisfied: kiwisolver>=1.0.1 in /usr/local/lib/python3.7/dist-packages (from matplotlib>=2.0.0->prophet) (1.3.1)\n",
            "Requirement already satisfied: ephem>=3.7.5.3 in /usr/local/lib/python3.7/dist-packages (from LunarCalendar>=0.0.9->prophet) (3.7.7.1)\n",
            "Requirement already satisfied: pymeeus<=1,>=0.3.13 in /usr/local/lib/python3.7/dist-packages (from convertdate>=2.1.2->prophet) (0.5.11)\n",
            "Requirement already satisfied: six in /usr/local/lib/python3.7/dist-packages (from holidays>=0.10.2->prophet) (1.15.0)\n",
            "Requirement already satisfied: hijri-converter in /usr/local/lib/python3.7/dist-packages (from holidays>=0.10.2->prophet) (2.1.2)\n",
            "Requirement already satisfied: korean-lunar-calendar in /usr/local/lib/python3.7/dist-packages (from holidays>=0.10.2->prophet) (0.2.1)\n",
            "Building wheels for collected packages: prophet\n",
            "  Building wheel for prophet (setup.py) ... \u001b[?25l\u001b[?25hdone\n",
            "  Created wheel for prophet: filename=prophet-1.0.1-cp37-none-any.whl size=6639040 sha256=33df4ab385ad1d04c81479b18d5670f5e9559c121e355f90f33d64e8b41230c4\n",
            "  Stored in directory: /root/.cache/pip/wheels/92/1d/02/bc0a91bd3a84e060722075d2b0b68e875e37ec7dc49451d513\n",
            "Successfully built prophet\n",
            "\u001b[31mERROR: fbprophet 0.7.1 has requirement cmdstanpy==0.9.5, but you'll have cmdstanpy 0.9.68 which is incompatible.\u001b[0m\n",
            "Installing collected packages: ujson, cmdstanpy, prophet\n",
            "  Found existing installation: cmdstanpy 0.9.5\n",
            "    Uninstalling cmdstanpy-0.9.5:\n",
            "      Successfully uninstalled cmdstanpy-0.9.5\n",
            "Successfully installed cmdstanpy-0.9.68 prophet-1.0.1 ujson-4.0.2\n"
          ],
          "name": "stdout"
        }
      ]
    },
    {
      "cell_type": "code",
      "metadata": {
        "id": "ZRY46ro893wx"
      },
      "source": [
        "from prophet.plot import plot_plotly, plot_components_plotly\n"
      ],
      "execution_count": null,
      "outputs": []
    },
    {
      "cell_type": "code",
      "metadata": {
        "colab": {
          "base_uri": "https://localhost:8080/",
          "height": 617
        },
        "id": "HFwwN2Ai9ybQ",
        "outputId": "a41fe7ae-ecb9-46b2-f797-4e0ec00de85c"
      },
      "source": [
        "plot_plotly(m, forecast)"
      ],
      "execution_count": null,
      "outputs": [
        {
          "output_type": "display_data",
          "data": {
            "text/html": [
              "<html>\n",
              "<head><meta charset=\"utf-8\" /></head>\n",
              "<body>\n",
              "    <div>\n",
              "            <script src=\"https://cdnjs.cloudflare.com/ajax/libs/mathjax/2.7.5/MathJax.js?config=TeX-AMS-MML_SVG\"></script><script type=\"text/javascript\">if (window.MathJax) {MathJax.Hub.Config({SVG: {font: \"STIX-Web\"}});}</script>\n",
              "                <script type=\"text/javascript\">window.PlotlyConfig = {MathJaxConfig: 'local'};</script>\n",
              "        <script src=\"https://cdn.plot.ly/plotly-latest.min.js\"></script>    \n",
              "            <div id=\"7f384ff5-189b-4b0c-a121-ec47c222d1ab\" class=\"plotly-graph-div\" style=\"height:600px; width:900px;\"></div>\n",
              "            <script type=\"text/javascript\">\n",
              "                \n",
              "                    window.PLOTLYENV=window.PLOTLYENV || {};\n",
              "                    \n",
              "                if (document.getElementById(\"7f384ff5-189b-4b0c-a121-ec47c222d1ab\")) {\n",
              "                    Plotly.newPlot(\n",
              "                        '7f384ff5-189b-4b0c-a121-ec47c222d1ab',\n",
              "                        [{\"marker\": {\"color\": \"black\", \"size\": 4}, \"mode\": \"markers\", \"name\": \"Actual\", \"type\": \"scatter\", \"x\": [\"2010-02-05T00:00:00\", \"2010-02-12T00:00:00\", \"2010-02-19T00:00:00\", \"2010-02-26T00:00:00\", \"2010-03-05T00:00:00\", \"2010-03-12T00:00:00\", \"2010-03-19T00:00:00\", \"2010-03-26T00:00:00\", \"2010-04-02T00:00:00\", \"2010-04-09T00:00:00\", \"2010-04-16T00:00:00\", \"2010-04-23T00:00:00\", \"2010-04-30T00:00:00\", \"2010-05-07T00:00:00\", \"2010-05-14T00:00:00\", \"2010-05-21T00:00:00\", \"2010-05-28T00:00:00\", \"2010-06-04T00:00:00\", \"2010-06-11T00:00:00\", \"2010-06-18T00:00:00\", \"2010-06-25T00:00:00\", \"2010-07-02T00:00:00\", \"2010-07-09T00:00:00\", \"2010-07-16T00:00:00\", \"2010-07-23T00:00:00\", \"2010-07-30T00:00:00\", \"2010-08-06T00:00:00\", \"2010-08-13T00:00:00\", \"2010-08-20T00:00:00\", \"2010-08-27T00:00:00\", \"2010-09-03T00:00:00\", \"2010-09-10T00:00:00\", \"2010-09-17T00:00:00\", \"2010-09-24T00:00:00\", \"2010-10-01T00:00:00\", \"2010-10-08T00:00:00\", \"2010-10-15T00:00:00\", \"2010-10-22T00:00:00\", \"2010-10-29T00:00:00\", \"2010-11-05T00:00:00\", \"2010-11-12T00:00:00\", \"2010-11-19T00:00:00\", \"2010-11-26T00:00:00\", \"2010-12-03T00:00:00\", \"2010-12-10T00:00:00\", \"2010-12-17T00:00:00\", \"2010-12-24T00:00:00\", \"2010-12-31T00:00:00\", \"2011-01-07T00:00:00\", \"2011-01-14T00:00:00\", \"2011-01-21T00:00:00\", \"2011-01-28T00:00:00\", \"2011-02-04T00:00:00\", \"2011-02-11T00:00:00\", \"2011-02-18T00:00:00\", \"2011-02-25T00:00:00\", \"2011-03-04T00:00:00\", \"2011-03-11T00:00:00\", \"2011-03-18T00:00:00\", \"2011-03-25T00:00:00\", \"2011-04-01T00:00:00\", \"2011-04-08T00:00:00\", \"2011-04-15T00:00:00\", \"2011-04-22T00:00:00\", \"2011-04-29T00:00:00\", \"2011-05-06T00:00:00\", \"2011-05-13T00:00:00\", \"2011-05-20T00:00:00\", \"2011-05-27T00:00:00\", \"2011-06-03T00:00:00\", \"2011-06-10T00:00:00\", \"2011-06-17T00:00:00\", \"2011-06-24T00:00:00\", \"2011-07-01T00:00:00\", \"2011-07-08T00:00:00\", \"2011-07-15T00:00:00\", \"2011-07-22T00:00:00\", \"2011-07-29T00:00:00\", \"2011-08-05T00:00:00\", \"2011-08-12T00:00:00\", \"2011-08-19T00:00:00\", \"2011-08-26T00:00:00\", \"2011-09-02T00:00:00\", \"2011-09-09T00:00:00\", \"2011-09-16T00:00:00\", \"2011-09-23T00:00:00\", \"2011-09-30T00:00:00\", \"2011-10-07T00:00:00\", \"2011-10-14T00:00:00\", \"2011-10-21T00:00:00\", \"2011-10-28T00:00:00\", \"2011-11-04T00:00:00\", \"2011-11-11T00:00:00\", \"2011-11-18T00:00:00\", \"2011-11-25T00:00:00\", \"2011-12-02T00:00:00\", \"2011-12-09T00:00:00\", \"2011-12-16T00:00:00\", \"2011-12-23T00:00:00\", \"2011-12-30T00:00:00\", \"2012-01-06T00:00:00\", \"2012-01-13T00:00:00\", \"2012-01-20T00:00:00\", \"2012-01-27T00:00:00\", \"2012-02-03T00:00:00\", \"2012-02-10T00:00:00\", \"2012-02-17T00:00:00\", \"2012-02-24T00:00:00\", \"2012-03-02T00:00:00\", \"2012-03-09T00:00:00\", \"2012-03-16T00:00:00\", \"2012-03-23T00:00:00\", \"2012-03-30T00:00:00\", \"2012-04-06T00:00:00\", \"2012-04-13T00:00:00\", \"2012-04-20T00:00:00\", \"2012-04-27T00:00:00\", \"2012-05-04T00:00:00\", \"2012-05-11T00:00:00\", \"2012-05-18T00:00:00\", \"2012-05-25T00:00:00\", \"2012-06-01T00:00:00\", \"2012-06-08T00:00:00\", \"2012-06-15T00:00:00\", \"2012-06-22T00:00:00\", \"2012-06-29T00:00:00\", \"2012-07-06T00:00:00\", \"2012-07-13T00:00:00\", \"2012-07-20T00:00:00\", \"2012-07-27T00:00:00\", \"2012-08-03T00:00:00\", \"2012-08-10T00:00:00\", \"2012-08-17T00:00:00\", \"2012-08-24T00:00:00\", \"2012-08-31T00:00:00\", \"2012-09-07T00:00:00\", \"2012-09-14T00:00:00\", \"2012-09-21T00:00:00\", \"2012-09-28T00:00:00\", \"2012-10-05T00:00:00\", \"2012-10-12T00:00:00\", \"2012-10-19T00:00:00\", \"2012-10-26T00:00:00\"], \"y\": [1643690.9, 1641957.4399999997, 1611968.17, 1409727.5900000003, 1554806.68, 1439541.5900000005, 1472515.7899999998, 1404429.9200000004, 1594968.2799999998, 1545418.5300000005, 1466058.28, 1391256.12, 1425100.7100000002, 1603955.1200000003, 1494251.5000000002, 1399662.0700000003, 1432069.9500000002, 1615524.71, 1542561.09, 1503284.0599999998, 1422711.5999999996, 1492418.1399999997, 1546074.1799999997, 1448938.9200000002, 1385065.2000000004, 1371986.6, 1605491.7799999998, 1508237.7600000005, 1513080.49, 1449142.9200000004, 1540163.53, 1507460.6900000002, 1430378.67, 1351791.03, 1453329.4999999998, 1508239.93, 1459409.0999999996, 1345454.0, 1384209.2200000002, 1551659.2799999993, 1494479.4899999998, 1483784.1800000006, 1955624.1099999996, 1548033.7799999993, 1682614.26, 1891034.929999999, 2387950.1999999997, 1367320.0099999998, 1444732.2799999996, 1391013.9599999997, 1327405.4200000002, 1316899.31, 1606629.5799999998, 1649614.9300000002, 1686842.7799999996, 1456800.2799999998, 1636263.41, 1553191.6300000001, 1576818.0599999998, 1541102.38, 1495064.75, 1614259.3500000006, 1559888.9999999998, 1564819.81, 1455090.6899999997, 1629391.2800000003, 1604775.58, 1428218.2699999996, 1466046.6699999995, 1635078.4100000004, 1588948.3199999998, 1532114.8599999996, 1438830.1500000001, 1488538.09, 1534849.6400000004, 1455119.97, 1396926.8200000005, 1352219.7899999998, 1624383.75, 1525147.09, 1530761.43, 1464693.4599999997, 1550229.2200000002, 1540471.2400000002, 1514259.7799999996, 1380020.2699999998, 1394561.83, 1630989.9499999993, 1493525.9300000002, 1502562.7800000003, 1445249.0899999999, 1697229.5799999994, 1594938.8900000001, 1539483.7000000002, 2033320.6600000001, 1584083.95, 1799682.38, 1881176.67, 2270188.99, 1497462.7199999997, 1550369.9199999997, 1459601.1700000002, 1394393.84, 1319325.59, 1636339.6500000001, 1802477.4300000004, 1819869.9999999995, 1539387.8300000003, 1688420.7599999998, 1675431.1599999997, 1677472.78, 1511068.0699999998, 1649604.63, 1899676.8799999997, 1621031.7, 1521577.8699999999, 1468928.3699999994, 1684519.99, 1611096.05, 1595901.8699999996, 1555444.5500000003, 1624477.5800000003, 1697230.9600000002, 1630606.9999999998, 1527845.81, 1540421.4900000002, 1769854.16, 1527014.04, 1497954.7600000002, 1439123.7100000004, 1631135.7899999996, 1592409.97, 1597868.0500000003, 1494122.3800000004, 1582083.4000000001, 1661767.3299999998, 1517428.8699999999, 1506126.06, 1437059.2600000002, 1670785.9699999997, 1573072.8099999998, 1508068.7700000003, 1493659.7399999995]}, {\"hoverinfo\": \"skip\", \"line\": {\"width\": 0}, \"mode\": \"lines\", \"type\": \"scatter\", \"x\": [\"2010-02-05T00:00:00\", \"2010-02-12T00:00:00\", \"2010-02-19T00:00:00\", \"2010-02-26T00:00:00\", \"2010-03-05T00:00:00\", \"2010-03-12T00:00:00\", \"2010-03-19T00:00:00\", \"2010-03-26T00:00:00\", \"2010-04-02T00:00:00\", \"2010-04-09T00:00:00\", \"2010-04-16T00:00:00\", \"2010-04-23T00:00:00\", \"2010-04-30T00:00:00\", \"2010-05-07T00:00:00\", \"2010-05-14T00:00:00\", \"2010-05-21T00:00:00\", \"2010-05-28T00:00:00\", \"2010-06-04T00:00:00\", \"2010-06-11T00:00:00\", \"2010-06-18T00:00:00\", \"2010-06-25T00:00:00\", \"2010-07-02T00:00:00\", \"2010-07-09T00:00:00\", \"2010-07-16T00:00:00\", \"2010-07-23T00:00:00\", \"2010-07-30T00:00:00\", \"2010-08-06T00:00:00\", \"2010-08-13T00:00:00\", \"2010-08-20T00:00:00\", \"2010-08-27T00:00:00\", \"2010-09-03T00:00:00\", \"2010-09-10T00:00:00\", \"2010-09-17T00:00:00\", \"2010-09-24T00:00:00\", \"2010-10-01T00:00:00\", \"2010-10-08T00:00:00\", \"2010-10-15T00:00:00\", \"2010-10-22T00:00:00\", \"2010-10-29T00:00:00\", \"2010-11-05T00:00:00\", \"2010-11-12T00:00:00\", \"2010-11-19T00:00:00\", \"2010-11-26T00:00:00\", \"2010-12-03T00:00:00\", \"2010-12-10T00:00:00\", \"2010-12-17T00:00:00\", \"2010-12-24T00:00:00\", \"2010-12-31T00:00:00\", \"2011-01-07T00:00:00\", \"2011-01-14T00:00:00\", \"2011-01-21T00:00:00\", \"2011-01-28T00:00:00\", \"2011-02-04T00:00:00\", \"2011-02-11T00:00:00\", \"2011-02-18T00:00:00\", \"2011-02-25T00:00:00\", \"2011-03-04T00:00:00\", \"2011-03-11T00:00:00\", \"2011-03-18T00:00:00\", \"2011-03-25T00:00:00\", \"2011-04-01T00:00:00\", \"2011-04-08T00:00:00\", \"2011-04-15T00:00:00\", \"2011-04-22T00:00:00\", \"2011-04-29T00:00:00\", \"2011-05-06T00:00:00\", \"2011-05-13T00:00:00\", \"2011-05-20T00:00:00\", \"2011-05-27T00:00:00\", \"2011-06-03T00:00:00\", \"2011-06-10T00:00:00\", \"2011-06-17T00:00:00\", \"2011-06-24T00:00:00\", \"2011-07-01T00:00:00\", \"2011-07-08T00:00:00\", \"2011-07-15T00:00:00\", \"2011-07-22T00:00:00\", \"2011-07-29T00:00:00\", \"2011-08-05T00:00:00\", \"2011-08-12T00:00:00\", \"2011-08-19T00:00:00\", \"2011-08-26T00:00:00\", \"2011-09-02T00:00:00\", \"2011-09-09T00:00:00\", \"2011-09-16T00:00:00\", \"2011-09-23T00:00:00\", \"2011-09-30T00:00:00\", \"2011-10-07T00:00:00\", \"2011-10-14T00:00:00\", \"2011-10-21T00:00:00\", \"2011-10-28T00:00:00\", \"2011-11-04T00:00:00\", \"2011-11-11T00:00:00\", \"2011-11-18T00:00:00\", \"2011-11-25T00:00:00\", \"2011-12-02T00:00:00\", \"2011-12-09T00:00:00\", \"2011-12-16T00:00:00\", \"2011-12-23T00:00:00\", \"2011-12-30T00:00:00\", \"2012-01-06T00:00:00\", \"2012-01-13T00:00:00\", \"2012-01-20T00:00:00\", \"2012-01-27T00:00:00\", \"2012-02-03T00:00:00\", \"2012-02-10T00:00:00\", \"2012-02-17T00:00:00\", \"2012-02-24T00:00:00\", \"2012-03-02T00:00:00\", \"2012-03-09T00:00:00\", \"2012-03-16T00:00:00\", \"2012-03-23T00:00:00\", \"2012-03-30T00:00:00\", \"2012-04-06T00:00:00\", \"2012-04-13T00:00:00\", \"2012-04-20T00:00:00\", \"2012-04-27T00:00:00\", \"2012-05-04T00:00:00\", \"2012-05-11T00:00:00\", \"2012-05-18T00:00:00\", \"2012-05-25T00:00:00\", \"2012-06-01T00:00:00\", \"2012-06-08T00:00:00\", \"2012-06-15T00:00:00\", \"2012-06-22T00:00:00\", \"2012-06-29T00:00:00\", \"2012-07-06T00:00:00\", \"2012-07-13T00:00:00\", \"2012-07-20T00:00:00\", \"2012-07-27T00:00:00\", \"2012-08-03T00:00:00\", \"2012-08-10T00:00:00\", \"2012-08-17T00:00:00\", \"2012-08-24T00:00:00\", \"2012-08-31T00:00:00\", \"2012-09-07T00:00:00\", \"2012-09-14T00:00:00\", \"2012-09-21T00:00:00\", \"2012-09-28T00:00:00\", \"2012-10-05T00:00:00\", \"2012-10-12T00:00:00\", \"2012-10-19T00:00:00\", \"2012-10-26T00:00:00\", \"2012-10-28T00:00:00\", \"2012-11-04T00:00:00\", \"2012-11-11T00:00:00\", \"2012-11-18T00:00:00\", \"2012-11-25T00:00:00\", \"2012-12-02T00:00:00\", \"2012-12-09T00:00:00\", \"2012-12-16T00:00:00\", \"2012-12-23T00:00:00\", \"2012-12-30T00:00:00\", \"2013-01-06T00:00:00\", \"2013-01-13T00:00:00\", \"2013-01-20T00:00:00\", \"2013-01-27T00:00:00\", \"2013-02-03T00:00:00\", \"2013-02-10T00:00:00\", \"2013-02-17T00:00:00\", \"2013-02-24T00:00:00\", \"2013-03-03T00:00:00\", \"2013-03-10T00:00:00\", \"2013-03-17T00:00:00\", \"2013-03-24T00:00:00\", \"2013-03-31T00:00:00\", \"2013-04-07T00:00:00\", \"2013-04-14T00:00:00\", \"2013-04-21T00:00:00\", \"2013-04-28T00:00:00\", \"2013-05-05T00:00:00\", \"2013-05-12T00:00:00\", \"2013-05-19T00:00:00\", \"2013-05-26T00:00:00\", \"2013-06-02T00:00:00\", \"2013-06-09T00:00:00\", \"2013-06-16T00:00:00\", \"2013-06-23T00:00:00\", \"2013-06-30T00:00:00\", \"2013-07-07T00:00:00\", \"2013-07-14T00:00:00\", \"2013-07-21T00:00:00\", \"2013-07-28T00:00:00\", \"2013-08-04T00:00:00\", \"2013-08-11T00:00:00\", \"2013-08-18T00:00:00\", \"2013-08-25T00:00:00\", \"2013-09-01T00:00:00\", \"2013-09-08T00:00:00\", \"2013-09-15T00:00:00\", \"2013-09-22T00:00:00\", \"2013-09-29T00:00:00\", \"2013-10-06T00:00:00\", \"2013-10-13T00:00:00\", \"2013-10-20T00:00:00\"], \"y\": [1439780.3349670654, 1498926.1450870817, 1456843.5950765777, 1374520.3876020426, 1361242.1351448975, 1344712.328195822, 1365315.6976257598, 1376016.8662781692, 1385683.3279292788, 1393923.4382386592, 1372200.0730657123, 1343178.8279364025, 1331053.06816793, 1329808.7430749782, 1346161.9361662446, 1359969.9910606062, 1358774.7042515115, 1363988.602839371, 1356268.3966635503, 1368072.5571222384, 1354626.8360856408, 1333720.3101055026, 1297761.0633640732, 1271740.9459053907, 1276589.7852996786, 1300016.0069221973, 1313248.5927902425, 1329169.2323523788, 1355447.765752681, 1371910.8673311581, 1351271.9277662255, 1295450.3839319267, 1262498.154406154, 1265113.1991107618, 1307572.2433636005, 1322609.2279332986, 1314550.3948743152, 1275463.5715795613, 1281790.7561204897, 1359018.0603899413, 1440202.267916941, 1493977.1135456003, 1518471.791065372, 1567798.3317950147, 1669026.412932355, 1776742.0137267078, 1768206.0113775188, 1594939.6959489782, 1317108.8475860842, 1137161.95987548, 1141153.8173578812, 1297176.98102927, 1476156.6357510933, 1556997.4345870125, 1517914.8231947673, 1448853.4206836873, 1410771.3889964095, 1421182.8165620193, 1420936.1998441354, 1438515.5934594318, 1440195.6900408843, 1450461.6314460621, 1434964.6623041376, 1405533.8677996711, 1381315.4686132236, 1381192.5899307874, 1407157.7297787967, 1419883.0911791758, 1412092.1334094373, 1412606.058544942, 1417826.998629028, 1433423.1899434915, 1428270.2730445461, 1399324.1317947747, 1349940.4283822645, 1342994.622775123, 1333707.5195699048, 1364713.6644289554, 1371197.711470786, 1393055.8086805202, 1410503.6188641586, 1420696.8642667881, 1408212.9448951285, 1373583.4060485736, 1323480.6422751104, 1319441.0709438445, 1356627.8416778955, 1383145.8936704413, 1370162.1753570952, 1351424.83859497, 1329366.8458073637, 1389079.2788931103, 1489838.805975116, 1544224.6176607283, 1581240.9987931938, 1608448.785584238, 1703906.0037247704, 1822755.3476951867, 1834004.632582179, 1688438.0254277932, 1426086.3709085863, 1211673.3470641347, 1181216.7924673322, 1324637.114027887, 1507813.243838214, 1601790.1810011917, 1590849.011317608, 1520773.4202913346, 1469605.2458868297, 1466864.457120786, 1479714.8232839606, 1481560.6580304038, 1499782.3595807166, 1511769.1157073611, 1497733.8226647093, 1477360.703563676, 1443844.042717997, 1428519.9627684, 1465548.7563396445, 1476233.6725280327, 1476469.8799133652, 1473983.4502896694, 1482333.979647812, 1476558.6971143489, 1479808.0249534838, 1449719.418627601, 1416957.468827072, 1400256.3649157498, 1391018.665806082, 1410909.9851306896, 1429374.5374365952, 1428160.715819328, 1461549.5758088443, 1471121.5511582242, 1477861.9526395118, 1443934.028125796, 1388432.7817717383, 1373162.9540195726, 1412429.691267942, 1430802.0873517639, 1443684.8379636419, 1399714.4048677129, 1391973.2719712802, 1407469.7078403227, 1460719.20262857, 1557836.0481256607, 1605766.2268642501, 1633963.521998811, 1670752.246135298, 1776056.89127815, 1885694.0437752611, 1895898.1052626688, 1728003.053387268, 1448023.7269397967, 1256240.641596213, 1242039.0427431474, 1399266.6871778904, 1583493.8519528734, 1672856.1415557072, 1643317.501911182, 1573697.872157646, 1526698.003124019, 1526920.8324638263, 1537930.6771253974, 1542029.2317982197, 1555797.6426485144, 1562549.5788390972, 1551047.3230962784, 1519245.530697481, 1505262.398255778, 1492162.948988445, 1502149.3813783522, 1538154.8839234903, 1527442.6458274242, 1533372.0657565007, 1531402.71612572, 1539571.0306018787, 1534854.4474423877, 1504827.8157678044, 1476062.5359019414, 1450466.4188978418, 1448449.5978021189, 1470156.4934821906, 1487722.706862062, 1498951.3180412182, 1513842.9133476187, 1530487.9908088786, 1520552.8615769288, 1490497.4811858076, 1441955.1929968747, 1428308.7309004813, 1470195.212320103, 1495403.8439425784, 1496631.3996236126, 1447774.3306896898]}, {\"fill\": \"tonexty\", \"fillcolor\": \"rgba(0, 114, 178, 0.2)\", \"line\": {\"color\": \"#0072B2\", \"width\": 2}, \"mode\": \"lines\", \"name\": \"Predicted\", \"type\": \"scatter\", \"x\": [\"2010-02-05T00:00:00\", \"2010-02-12T00:00:00\", \"2010-02-19T00:00:00\", \"2010-02-26T00:00:00\", \"2010-03-05T00:00:00\", \"2010-03-12T00:00:00\", \"2010-03-19T00:00:00\", \"2010-03-26T00:00:00\", \"2010-04-02T00:00:00\", \"2010-04-09T00:00:00\", \"2010-04-16T00:00:00\", \"2010-04-23T00:00:00\", \"2010-04-30T00:00:00\", \"2010-05-07T00:00:00\", \"2010-05-14T00:00:00\", \"2010-05-21T00:00:00\", \"2010-05-28T00:00:00\", \"2010-06-04T00:00:00\", \"2010-06-11T00:00:00\", \"2010-06-18T00:00:00\", \"2010-06-25T00:00:00\", \"2010-07-02T00:00:00\", \"2010-07-09T00:00:00\", \"2010-07-16T00:00:00\", \"2010-07-23T00:00:00\", \"2010-07-30T00:00:00\", \"2010-08-06T00:00:00\", \"2010-08-13T00:00:00\", \"2010-08-20T00:00:00\", \"2010-08-27T00:00:00\", \"2010-09-03T00:00:00\", \"2010-09-10T00:00:00\", \"2010-09-17T00:00:00\", \"2010-09-24T00:00:00\", \"2010-10-01T00:00:00\", \"2010-10-08T00:00:00\", \"2010-10-15T00:00:00\", \"2010-10-22T00:00:00\", \"2010-10-29T00:00:00\", \"2010-11-05T00:00:00\", \"2010-11-12T00:00:00\", \"2010-11-19T00:00:00\", \"2010-11-26T00:00:00\", \"2010-12-03T00:00:00\", \"2010-12-10T00:00:00\", \"2010-12-17T00:00:00\", \"2010-12-24T00:00:00\", \"2010-12-31T00:00:00\", \"2011-01-07T00:00:00\", \"2011-01-14T00:00:00\", \"2011-01-21T00:00:00\", \"2011-01-28T00:00:00\", \"2011-02-04T00:00:00\", \"2011-02-11T00:00:00\", \"2011-02-18T00:00:00\", \"2011-02-25T00:00:00\", \"2011-03-04T00:00:00\", \"2011-03-11T00:00:00\", \"2011-03-18T00:00:00\", \"2011-03-25T00:00:00\", \"2011-04-01T00:00:00\", \"2011-04-08T00:00:00\", \"2011-04-15T00:00:00\", \"2011-04-22T00:00:00\", \"2011-04-29T00:00:00\", \"2011-05-06T00:00:00\", \"2011-05-13T00:00:00\", \"2011-05-20T00:00:00\", \"2011-05-27T00:00:00\", \"2011-06-03T00:00:00\", \"2011-06-10T00:00:00\", \"2011-06-17T00:00:00\", \"2011-06-24T00:00:00\", \"2011-07-01T00:00:00\", \"2011-07-08T00:00:00\", \"2011-07-15T00:00:00\", \"2011-07-22T00:00:00\", \"2011-07-29T00:00:00\", \"2011-08-05T00:00:00\", \"2011-08-12T00:00:00\", \"2011-08-19T00:00:00\", \"2011-08-26T00:00:00\", \"2011-09-02T00:00:00\", \"2011-09-09T00:00:00\", \"2011-09-16T00:00:00\", \"2011-09-23T00:00:00\", \"2011-09-30T00:00:00\", \"2011-10-07T00:00:00\", \"2011-10-14T00:00:00\", \"2011-10-21T00:00:00\", \"2011-10-28T00:00:00\", \"2011-11-04T00:00:00\", \"2011-11-11T00:00:00\", \"2011-11-18T00:00:00\", \"2011-11-25T00:00:00\", \"2011-12-02T00:00:00\", \"2011-12-09T00:00:00\", \"2011-12-16T00:00:00\", \"2011-12-23T00:00:00\", \"2011-12-30T00:00:00\", \"2012-01-06T00:00:00\", \"2012-01-13T00:00:00\", \"2012-01-20T00:00:00\", \"2012-01-27T00:00:00\", \"2012-02-03T00:00:00\", \"2012-02-10T00:00:00\", \"2012-02-17T00:00:00\", \"2012-02-24T00:00:00\", \"2012-03-02T00:00:00\", \"2012-03-09T00:00:00\", \"2012-03-16T00:00:00\", \"2012-03-23T00:00:00\", \"2012-03-30T00:00:00\", \"2012-04-06T00:00:00\", \"2012-04-13T00:00:00\", \"2012-04-20T00:00:00\", \"2012-04-27T00:00:00\", \"2012-05-04T00:00:00\", \"2012-05-11T00:00:00\", \"2012-05-18T00:00:00\", \"2012-05-25T00:00:00\", \"2012-06-01T00:00:00\", \"2012-06-08T00:00:00\", \"2012-06-15T00:00:00\", \"2012-06-22T00:00:00\", \"2012-06-29T00:00:00\", \"2012-07-06T00:00:00\", \"2012-07-13T00:00:00\", \"2012-07-20T00:00:00\", \"2012-07-27T00:00:00\", \"2012-08-03T00:00:00\", \"2012-08-10T00:00:00\", \"2012-08-17T00:00:00\", \"2012-08-24T00:00:00\", \"2012-08-31T00:00:00\", \"2012-09-07T00:00:00\", \"2012-09-14T00:00:00\", \"2012-09-21T00:00:00\", \"2012-09-28T00:00:00\", \"2012-10-05T00:00:00\", \"2012-10-12T00:00:00\", \"2012-10-19T00:00:00\", \"2012-10-26T00:00:00\", \"2012-10-28T00:00:00\", \"2012-11-04T00:00:00\", \"2012-11-11T00:00:00\", \"2012-11-18T00:00:00\", \"2012-11-25T00:00:00\", \"2012-12-02T00:00:00\", \"2012-12-09T00:00:00\", \"2012-12-16T00:00:00\", \"2012-12-23T00:00:00\", \"2012-12-30T00:00:00\", \"2013-01-06T00:00:00\", \"2013-01-13T00:00:00\", \"2013-01-20T00:00:00\", \"2013-01-27T00:00:00\", \"2013-02-03T00:00:00\", \"2013-02-10T00:00:00\", \"2013-02-17T00:00:00\", \"2013-02-24T00:00:00\", \"2013-03-03T00:00:00\", \"2013-03-10T00:00:00\", \"2013-03-17T00:00:00\", \"2013-03-24T00:00:00\", \"2013-03-31T00:00:00\", \"2013-04-07T00:00:00\", \"2013-04-14T00:00:00\", \"2013-04-21T00:00:00\", \"2013-04-28T00:00:00\", \"2013-05-05T00:00:00\", \"2013-05-12T00:00:00\", \"2013-05-19T00:00:00\", \"2013-05-26T00:00:00\", \"2013-06-02T00:00:00\", \"2013-06-09T00:00:00\", \"2013-06-16T00:00:00\", \"2013-06-23T00:00:00\", \"2013-06-30T00:00:00\", \"2013-07-07T00:00:00\", \"2013-07-14T00:00:00\", \"2013-07-21T00:00:00\", \"2013-07-28T00:00:00\", \"2013-08-04T00:00:00\", \"2013-08-11T00:00:00\", \"2013-08-18T00:00:00\", \"2013-08-25T00:00:00\", \"2013-09-01T00:00:00\", \"2013-09-08T00:00:00\", \"2013-09-15T00:00:00\", \"2013-09-22T00:00:00\", \"2013-09-29T00:00:00\", \"2013-10-06T00:00:00\", \"2013-10-13T00:00:00\", \"2013-10-20T00:00:00\"], \"y\": [1575634.0333267457, 1630318.8552449958, 1588226.1427293457, 1522581.51801418, 1488500.3463263775, 1489313.4621520569, 1502673.9846880639, 1514864.511973452, 1523896.1113813077, 1524505.4611682964, 1508115.8408388584, 1478947.6380383251, 1457901.8514521155, 1461897.125137308, 1483479.9754346535, 1499105.0413056235, 1497304.8398122182, 1490474.2962571576, 1494812.4841440872, 1505358.9246599476, 1500175.5606542346, 1469220.8676278242, 1430233.1754133792, 1410453.8681779983, 1417550.3457495323, 1436332.7654294963, 1452400.6441003403, 1468056.4588389946, 1488759.815916982, 1502440.6631020922, 1487088.0195463237, 1442573.6444732856, 1402915.8278437296, 1403721.4066827476, 1438947.1298820162, 1463543.5530298315, 1446683.9600275247, 1413779.2333756872, 1421699.9224138106, 1491588.6217650755, 1581012.894821261, 1634683.7958147493, 1655062.7138494682, 1701497.9323678047, 1808084.996967911, 1914804.628291606, 1904799.204681696, 1723898.1845369646, 1457181.094977486, 1272336.6127567962, 1278202.1698621085, 1436816.4553117487, 1610358.1438280458, 1686464.4092435697, 1657003.7484644088, 1590177.8628037532, 1548860.2915569702, 1544950.7692478888, 1557576.9842976374, 1570263.3242227894, 1580004.7659259818, 1582833.6748563997, 1569740.4303710414, 1541642.6799998137, 1517417.8915229228, 1516696.9259964302, 1536747.4986324813, 1554969.4416679821, 1555950.4884165155, 1548523.3897291028, 1550458.982539378, 1561339.1163713038, 1560435.4645675693, 1533526.3261173184, 1493813.0527224008, 1469221.201871288, 1472201.3333026818, 1490336.431415297, 1507184.7665476853, 1522259.2070211447, 1542320.2430538456, 1558956.0142736107, 1549832.4059753546, 1508825.4479911872, 1465057.7204258642, 1457541.1476232407, 1489318.9709560408, 1519316.1446988771, 1509724.8355836705, 1475581.6147122874, 1472822.070248857, 1533185.1143334615, 1623896.5323926304, 1686012.4619693486, 1708848.1328509073, 1746083.1191493438, 1843385.5219742008, 1958387.1292677277, 1976633.5037300554, 1824097.1854597868, 1561073.7430292035, 1350096.451702319, 1320290.695406538, 1460389.5760296495, 1641847.3640768968, 1739174.184796147, 1724730.936536806, 1658819.2054308439, 1610540.6574020025, 1601090.8055671703, 1612437.390666555, 1625576.338814323, 1635915.140797028, 1640625.7979816205, 1630829.1109623318, 1604456.484065447, 1577752.1430632088, 1572221.1229527474, 1589934.0911831283, 1610207.7303088838, 1614299.9539246021, 1606928.8259512354, 1606455.7162926826, 1616924.426846075, 1619781.1067196075, 1597378.1875056429, 1557924.2192948007, 1528945.0634419392, 1527345.5309996863, 1544245.2644030666, 1561887.4490752125, 1576670.44922044, 1595820.5157211137, 1614604.2305337237, 1611450.37524597, 1574954.3461899108, 1528463.7844363726, 1512751.446327286, 1539627.340276112, 1573664.5715813006, 1571854.6340474542, 1538457.0689629081, 1526156.6020674533, 1533672.370004418, 1599913.606516646, 1690100.0380790061, 1747166.5493732837, 1768280.6595220016, 1810854.6166146325, 1913935.57495172, 2024455.9645188935, 2026027.483813416, 1856174.1368664892, 1590248.7020123852, 1394461.4245370643, 1386170.487907218, 1537936.93985283, 1715130.6554948085, 1799781.9874039206, 1776049.7723499115, 1709319.2936245494, 1665162.2144454997, 1659126.5945695739, 1671312.3183040314, 1684187.5075819886, 1694178.4439915598, 1697800.4043613835, 1686032.0492816148, 1658550.8229703777, 1633245.9621742791, 1630602.607639234, 1649811.687607782, 1668927.0265942782, 1671120.899321954, 1663635.8734655408, 1664599.508409907, 1675400.7550696484, 1676071.0600865716, 1650918.8452587132, 1611190.9847515163, 1584783.861779273, 1585981.294354132, 1603696.356554097, 1620866.966482062, 1635788.451049107, 1655509.5784839166, 1673100.2440275443, 1666406.7071611513, 1627094.8652374516, 1582067.0314202693, 1571239.1662152852, 1601220.4669448503, 1633008.6246044, 1626489.6862626122, 1592411.5221796357]}, {\"fill\": \"tonexty\", \"fillcolor\": \"rgba(0, 114, 178, 0.2)\", \"hoverinfo\": \"skip\", \"line\": {\"width\": 0}, \"mode\": \"lines\", \"type\": \"scatter\", \"x\": [\"2010-02-05T00:00:00\", \"2010-02-12T00:00:00\", \"2010-02-19T00:00:00\", \"2010-02-26T00:00:00\", \"2010-03-05T00:00:00\", \"2010-03-12T00:00:00\", \"2010-03-19T00:00:00\", \"2010-03-26T00:00:00\", \"2010-04-02T00:00:00\", \"2010-04-09T00:00:00\", \"2010-04-16T00:00:00\", \"2010-04-23T00:00:00\", \"2010-04-30T00:00:00\", \"2010-05-07T00:00:00\", \"2010-05-14T00:00:00\", \"2010-05-21T00:00:00\", \"2010-05-28T00:00:00\", \"2010-06-04T00:00:00\", \"2010-06-11T00:00:00\", \"2010-06-18T00:00:00\", \"2010-06-25T00:00:00\", \"2010-07-02T00:00:00\", \"2010-07-09T00:00:00\", \"2010-07-16T00:00:00\", \"2010-07-23T00:00:00\", \"2010-07-30T00:00:00\", \"2010-08-06T00:00:00\", \"2010-08-13T00:00:00\", \"2010-08-20T00:00:00\", \"2010-08-27T00:00:00\", \"2010-09-03T00:00:00\", \"2010-09-10T00:00:00\", \"2010-09-17T00:00:00\", \"2010-09-24T00:00:00\", \"2010-10-01T00:00:00\", \"2010-10-08T00:00:00\", \"2010-10-15T00:00:00\", \"2010-10-22T00:00:00\", \"2010-10-29T00:00:00\", \"2010-11-05T00:00:00\", \"2010-11-12T00:00:00\", \"2010-11-19T00:00:00\", \"2010-11-26T00:00:00\", \"2010-12-03T00:00:00\", \"2010-12-10T00:00:00\", \"2010-12-17T00:00:00\", \"2010-12-24T00:00:00\", \"2010-12-31T00:00:00\", \"2011-01-07T00:00:00\", \"2011-01-14T00:00:00\", \"2011-01-21T00:00:00\", \"2011-01-28T00:00:00\", \"2011-02-04T00:00:00\", \"2011-02-11T00:00:00\", \"2011-02-18T00:00:00\", \"2011-02-25T00:00:00\", \"2011-03-04T00:00:00\", \"2011-03-11T00:00:00\", \"2011-03-18T00:00:00\", \"2011-03-25T00:00:00\", \"2011-04-01T00:00:00\", \"2011-04-08T00:00:00\", \"2011-04-15T00:00:00\", \"2011-04-22T00:00:00\", \"2011-04-29T00:00:00\", \"2011-05-06T00:00:00\", \"2011-05-13T00:00:00\", \"2011-05-20T00:00:00\", \"2011-05-27T00:00:00\", \"2011-06-03T00:00:00\", \"2011-06-10T00:00:00\", \"2011-06-17T00:00:00\", \"2011-06-24T00:00:00\", \"2011-07-01T00:00:00\", \"2011-07-08T00:00:00\", \"2011-07-15T00:00:00\", \"2011-07-22T00:00:00\", \"2011-07-29T00:00:00\", \"2011-08-05T00:00:00\", \"2011-08-12T00:00:00\", \"2011-08-19T00:00:00\", \"2011-08-26T00:00:00\", \"2011-09-02T00:00:00\", \"2011-09-09T00:00:00\", \"2011-09-16T00:00:00\", \"2011-09-23T00:00:00\", \"2011-09-30T00:00:00\", \"2011-10-07T00:00:00\", \"2011-10-14T00:00:00\", \"2011-10-21T00:00:00\", \"2011-10-28T00:00:00\", \"2011-11-04T00:00:00\", \"2011-11-11T00:00:00\", \"2011-11-18T00:00:00\", \"2011-11-25T00:00:00\", \"2011-12-02T00:00:00\", \"2011-12-09T00:00:00\", \"2011-12-16T00:00:00\", \"2011-12-23T00:00:00\", \"2011-12-30T00:00:00\", \"2012-01-06T00:00:00\", \"2012-01-13T00:00:00\", \"2012-01-20T00:00:00\", \"2012-01-27T00:00:00\", \"2012-02-03T00:00:00\", \"2012-02-10T00:00:00\", \"2012-02-17T00:00:00\", \"2012-02-24T00:00:00\", \"2012-03-02T00:00:00\", \"2012-03-09T00:00:00\", \"2012-03-16T00:00:00\", \"2012-03-23T00:00:00\", \"2012-03-30T00:00:00\", \"2012-04-06T00:00:00\", \"2012-04-13T00:00:00\", \"2012-04-20T00:00:00\", \"2012-04-27T00:00:00\", \"2012-05-04T00:00:00\", \"2012-05-11T00:00:00\", \"2012-05-18T00:00:00\", \"2012-05-25T00:00:00\", \"2012-06-01T00:00:00\", \"2012-06-08T00:00:00\", \"2012-06-15T00:00:00\", \"2012-06-22T00:00:00\", \"2012-06-29T00:00:00\", \"2012-07-06T00:00:00\", \"2012-07-13T00:00:00\", \"2012-07-20T00:00:00\", \"2012-07-27T00:00:00\", \"2012-08-03T00:00:00\", \"2012-08-10T00:00:00\", \"2012-08-17T00:00:00\", \"2012-08-24T00:00:00\", \"2012-08-31T00:00:00\", \"2012-09-07T00:00:00\", \"2012-09-14T00:00:00\", \"2012-09-21T00:00:00\", \"2012-09-28T00:00:00\", \"2012-10-05T00:00:00\", \"2012-10-12T00:00:00\", \"2012-10-19T00:00:00\", \"2012-10-26T00:00:00\", \"2012-10-28T00:00:00\", \"2012-11-04T00:00:00\", \"2012-11-11T00:00:00\", \"2012-11-18T00:00:00\", \"2012-11-25T00:00:00\", \"2012-12-02T00:00:00\", \"2012-12-09T00:00:00\", \"2012-12-16T00:00:00\", \"2012-12-23T00:00:00\", \"2012-12-30T00:00:00\", \"2013-01-06T00:00:00\", \"2013-01-13T00:00:00\", \"2013-01-20T00:00:00\", \"2013-01-27T00:00:00\", \"2013-02-03T00:00:00\", \"2013-02-10T00:00:00\", \"2013-02-17T00:00:00\", \"2013-02-24T00:00:00\", \"2013-03-03T00:00:00\", \"2013-03-10T00:00:00\", \"2013-03-17T00:00:00\", \"2013-03-24T00:00:00\", \"2013-03-31T00:00:00\", \"2013-04-07T00:00:00\", \"2013-04-14T00:00:00\", \"2013-04-21T00:00:00\", \"2013-04-28T00:00:00\", \"2013-05-05T00:00:00\", \"2013-05-12T00:00:00\", \"2013-05-19T00:00:00\", \"2013-05-26T00:00:00\", \"2013-06-02T00:00:00\", \"2013-06-09T00:00:00\", \"2013-06-16T00:00:00\", \"2013-06-23T00:00:00\", \"2013-06-30T00:00:00\", \"2013-07-07T00:00:00\", \"2013-07-14T00:00:00\", \"2013-07-21T00:00:00\", \"2013-07-28T00:00:00\", \"2013-08-04T00:00:00\", \"2013-08-11T00:00:00\", \"2013-08-18T00:00:00\", \"2013-08-25T00:00:00\", \"2013-09-01T00:00:00\", \"2013-09-08T00:00:00\", \"2013-09-15T00:00:00\", \"2013-09-22T00:00:00\", \"2013-09-29T00:00:00\", \"2013-10-06T00:00:00\", \"2013-10-13T00:00:00\", \"2013-10-20T00:00:00\"], \"y\": [1703616.2185852379, 1770748.8896746607, 1729488.013301255, 1656369.303222867, 1631246.3175782394, 1620520.0920964803, 1642107.524362042, 1654353.679466456, 1669526.5411215117, 1670973.098073108, 1651058.4094491429, 1635957.6339866288, 1594104.7167694068, 1597097.1216118266, 1622297.9743276439, 1642868.1893914193, 1630017.24555788, 1627151.7538496773, 1626487.5443205247, 1646727.6149889324, 1635168.787684342, 1602826.0908838543, 1563816.406804835, 1543339.9737500586, 1553804.585674881, 1566705.7501338387, 1578539.6490456779, 1607750.4013727047, 1629794.1870743898, 1636946.7642050341, 1622970.65507002, 1584986.124122935, 1541776.5918193096, 1543103.0259378373, 1575874.756727924, 1613599.6454137512, 1583860.2005258875, 1550367.1226074793, 1565587.1734269727, 1629062.276423078, 1717656.7372736712, 1767282.840569113, 1787164.425579116, 1826606.4099494927, 1940228.5900204072, 2052768.2474273457, 2039049.3586229407, 1859951.3981165425, 1587889.8668465992, 1417950.5248994327, 1415991.5021533514, 1576502.715190883, 1739079.5021528862, 1819177.8325582368, 1790391.55271236, 1728276.6729012183, 1676811.3508674828, 1678409.1572535834, 1683557.1619966174, 1713433.8526973962, 1721258.6477387385, 1725322.5036442103, 1707092.182640586, 1678557.4362044425, 1662189.3167867297, 1656545.1273873537, 1678257.8973729583, 1686121.7184311934, 1693750.7994269326, 1685249.7838171138, 1680839.0910478048, 1694527.3518252047, 1699044.268405253, 1665957.590683721, 1629740.1720425787, 1612380.9048976903, 1613761.2493368909, 1626333.7901856876, 1651495.0953294071, 1662012.928913136, 1675711.0293628795, 1701171.4811866074, 1688118.6096477308, 1639679.7298147895, 1607214.618632776, 1585293.6839114365, 1620006.866765174, 1657436.1931235178, 1655994.6354317733, 1615274.9378193538, 1604777.201583013, 1673217.1561103098, 1756419.1641251321, 1812057.0537889013, 1850806.7451799775, 1878385.746558263, 1969896.3753048163, 2098420.972302344, 2109884.2192298737, 1953184.2866904063, 1695258.7848354364, 1484003.6031821002, 1449960.1668021416, 1601100.9474074142, 1774937.6387015823, 1868905.675769809, 1858606.9881741502, 1793837.965949803, 1746420.2756809792, 1728650.6509327765, 1741760.3819785372, 1764171.5035716544, 1769865.2832969048, 1776213.8486068223, 1782509.6764966107, 1745086.6130671226, 1713734.4050870328, 1709159.4289608719, 1734810.1492823977, 1748335.3410387074, 1747998.385504773, 1741654.7992502686, 1737979.9891478221, 1757275.0025259568, 1757911.0350612402, 1728404.7059440312, 1694003.2644572146, 1666438.8299771466, 1666422.7686308625, 1684989.920437675, 1695853.3601448648, 1710470.852183386, 1736564.1735791292, 1749931.792056648, 1747185.572351642, 1714990.2956352269, 1661272.0600609323, 1640221.156764389, 1679140.862423962, 1719523.551475153, 1709389.182062427, 1669702.783645803, 1668524.2160107675, 1672349.4559761556, 1741880.894577888, 1829697.504375663, 1878054.5875656926, 1900431.0665480809, 1945939.2380964085, 2055460.9455627548, 2170345.2431742153, 2169289.1279549487, 1995657.833882198, 1724316.6141112193, 1527571.4689716792, 1513841.6786249636, 1673115.049971448, 1856248.652096522, 1934150.1475373493, 1914083.2475448442, 1846986.8919268418, 1807504.1365653507, 1798810.2535100665, 1798194.9647585026, 1818868.3718657875, 1830902.9596507389, 1832852.8592798417, 1821336.6581866895, 1797138.7145074678, 1777830.2888743659, 1770000.5136112245, 1783414.4876589803, 1810082.2644244775, 1809732.2244951935, 1797903.2471305758, 1798476.6812228654, 1817991.343639549, 1810589.5380002658, 1783047.3173549264, 1742774.943288594, 1726675.8729936113, 1721377.906124033, 1748060.9912591802, 1763679.3320553305, 1762280.828296537, 1792007.949440847, 1818354.3470630795, 1806095.8935405782, 1775533.5365679683, 1725804.9199344085, 1695050.6072042023, 1746450.6073408443, 1778535.49675556, 1768756.7128415713, 1726873.7417051059]}],\n",
              "                        {\"height\": 600, \"showlegend\": false, \"template\": {\"data\": {\"bar\": [{\"error_x\": {\"color\": \"#2a3f5f\"}, \"error_y\": {\"color\": \"#2a3f5f\"}, \"marker\": {\"line\": {\"color\": \"#E5ECF6\", \"width\": 0.5}}, \"type\": \"bar\"}], \"barpolar\": [{\"marker\": {\"line\": {\"color\": \"#E5ECF6\", \"width\": 0.5}}, \"type\": \"barpolar\"}], \"carpet\": [{\"aaxis\": {\"endlinecolor\": \"#2a3f5f\", \"gridcolor\": \"white\", \"linecolor\": \"white\", \"minorgridcolor\": \"white\", \"startlinecolor\": \"#2a3f5f\"}, \"baxis\": {\"endlinecolor\": \"#2a3f5f\", \"gridcolor\": \"white\", \"linecolor\": \"white\", \"minorgridcolor\": \"white\", \"startlinecolor\": \"#2a3f5f\"}, \"type\": \"carpet\"}], \"choropleth\": [{\"colorbar\": {\"outlinewidth\": 0, \"ticks\": \"\"}, \"type\": \"choropleth\"}], \"contour\": [{\"colorbar\": {\"outlinewidth\": 0, \"ticks\": \"\"}, \"colorscale\": [[0.0, \"#0d0887\"], [0.1111111111111111, \"#46039f\"], [0.2222222222222222, \"#7201a8\"], [0.3333333333333333, \"#9c179e\"], [0.4444444444444444, \"#bd3786\"], [0.5555555555555556, \"#d8576b\"], [0.6666666666666666, \"#ed7953\"], [0.7777777777777778, \"#fb9f3a\"], [0.8888888888888888, \"#fdca26\"], [1.0, \"#f0f921\"]], \"type\": \"contour\"}], \"contourcarpet\": [{\"colorbar\": {\"outlinewidth\": 0, \"ticks\": \"\"}, \"type\": \"contourcarpet\"}], \"heatmap\": [{\"colorbar\": {\"outlinewidth\": 0, \"ticks\": \"\"}, \"colorscale\": [[0.0, \"#0d0887\"], [0.1111111111111111, \"#46039f\"], [0.2222222222222222, \"#7201a8\"], [0.3333333333333333, \"#9c179e\"], [0.4444444444444444, \"#bd3786\"], [0.5555555555555556, \"#d8576b\"], [0.6666666666666666, \"#ed7953\"], [0.7777777777777778, \"#fb9f3a\"], [0.8888888888888888, \"#fdca26\"], [1.0, \"#f0f921\"]], \"type\": \"heatmap\"}], \"heatmapgl\": [{\"colorbar\": {\"outlinewidth\": 0, \"ticks\": \"\"}, \"colorscale\": [[0.0, \"#0d0887\"], [0.1111111111111111, \"#46039f\"], [0.2222222222222222, \"#7201a8\"], [0.3333333333333333, \"#9c179e\"], [0.4444444444444444, \"#bd3786\"], [0.5555555555555556, \"#d8576b\"], [0.6666666666666666, \"#ed7953\"], [0.7777777777777778, \"#fb9f3a\"], [0.8888888888888888, \"#fdca26\"], [1.0, \"#f0f921\"]], \"type\": \"heatmapgl\"}], \"histogram\": [{\"marker\": {\"colorbar\": {\"outlinewidth\": 0, \"ticks\": \"\"}}, \"type\": \"histogram\"}], \"histogram2d\": [{\"colorbar\": {\"outlinewidth\": 0, \"ticks\": \"\"}, \"colorscale\": [[0.0, \"#0d0887\"], [0.1111111111111111, \"#46039f\"], [0.2222222222222222, \"#7201a8\"], [0.3333333333333333, \"#9c179e\"], [0.4444444444444444, \"#bd3786\"], [0.5555555555555556, \"#d8576b\"], [0.6666666666666666, \"#ed7953\"], [0.7777777777777778, \"#fb9f3a\"], [0.8888888888888888, \"#fdca26\"], [1.0, \"#f0f921\"]], \"type\": \"histogram2d\"}], \"histogram2dcontour\": [{\"colorbar\": {\"outlinewidth\": 0, \"ticks\": \"\"}, \"colorscale\": [[0.0, \"#0d0887\"], [0.1111111111111111, \"#46039f\"], [0.2222222222222222, \"#7201a8\"], [0.3333333333333333, \"#9c179e\"], [0.4444444444444444, \"#bd3786\"], [0.5555555555555556, \"#d8576b\"], [0.6666666666666666, \"#ed7953\"], [0.7777777777777778, \"#fb9f3a\"], [0.8888888888888888, \"#fdca26\"], [1.0, \"#f0f921\"]], \"type\": \"histogram2dcontour\"}], \"mesh3d\": [{\"colorbar\": {\"outlinewidth\": 0, \"ticks\": \"\"}, \"type\": \"mesh3d\"}], \"parcoords\": [{\"line\": {\"colorbar\": {\"outlinewidth\": 0, \"ticks\": \"\"}}, \"type\": \"parcoords\"}], \"pie\": [{\"automargin\": true, \"type\": \"pie\"}], \"scatter\": [{\"marker\": {\"colorbar\": {\"outlinewidth\": 0, \"ticks\": \"\"}}, \"type\": \"scatter\"}], \"scatter3d\": [{\"line\": {\"colorbar\": {\"outlinewidth\": 0, \"ticks\": \"\"}}, \"marker\": {\"colorbar\": {\"outlinewidth\": 0, \"ticks\": \"\"}}, \"type\": \"scatter3d\"}], \"scattercarpet\": [{\"marker\": {\"colorbar\": {\"outlinewidth\": 0, \"ticks\": \"\"}}, \"type\": \"scattercarpet\"}], \"scattergeo\": [{\"marker\": {\"colorbar\": {\"outlinewidth\": 0, \"ticks\": \"\"}}, \"type\": \"scattergeo\"}], \"scattergl\": [{\"marker\": {\"colorbar\": {\"outlinewidth\": 0, \"ticks\": \"\"}}, \"type\": \"scattergl\"}], \"scattermapbox\": [{\"marker\": {\"colorbar\": {\"outlinewidth\": 0, \"ticks\": \"\"}}, \"type\": \"scattermapbox\"}], \"scatterpolar\": [{\"marker\": {\"colorbar\": {\"outlinewidth\": 0, \"ticks\": \"\"}}, \"type\": \"scatterpolar\"}], \"scatterpolargl\": [{\"marker\": {\"colorbar\": {\"outlinewidth\": 0, \"ticks\": \"\"}}, \"type\": \"scatterpolargl\"}], \"scatterternary\": [{\"marker\": {\"colorbar\": {\"outlinewidth\": 0, \"ticks\": \"\"}}, \"type\": \"scatterternary\"}], \"surface\": [{\"colorbar\": {\"outlinewidth\": 0, \"ticks\": \"\"}, \"colorscale\": [[0.0, \"#0d0887\"], [0.1111111111111111, \"#46039f\"], [0.2222222222222222, \"#7201a8\"], [0.3333333333333333, \"#9c179e\"], [0.4444444444444444, \"#bd3786\"], [0.5555555555555556, \"#d8576b\"], [0.6666666666666666, \"#ed7953\"], [0.7777777777777778, \"#fb9f3a\"], [0.8888888888888888, \"#fdca26\"], [1.0, \"#f0f921\"]], \"type\": \"surface\"}], \"table\": [{\"cells\": {\"fill\": {\"color\": \"#EBF0F8\"}, \"line\": {\"color\": \"white\"}}, \"header\": {\"fill\": {\"color\": \"#C8D4E3\"}, \"line\": {\"color\": \"white\"}}, \"type\": \"table\"}]}, \"layout\": {\"annotationdefaults\": {\"arrowcolor\": \"#2a3f5f\", \"arrowhead\": 0, \"arrowwidth\": 1}, \"coloraxis\": {\"colorbar\": {\"outlinewidth\": 0, \"ticks\": \"\"}}, \"colorscale\": {\"diverging\": [[0, \"#8e0152\"], [0.1, \"#c51b7d\"], [0.2, \"#de77ae\"], [0.3, \"#f1b6da\"], [0.4, \"#fde0ef\"], [0.5, \"#f7f7f7\"], [0.6, \"#e6f5d0\"], [0.7, \"#b8e186\"], [0.8, \"#7fbc41\"], [0.9, \"#4d9221\"], [1, \"#276419\"]], \"sequential\": [[0.0, \"#0d0887\"], [0.1111111111111111, \"#46039f\"], [0.2222222222222222, \"#7201a8\"], [0.3333333333333333, \"#9c179e\"], [0.4444444444444444, \"#bd3786\"], [0.5555555555555556, \"#d8576b\"], [0.6666666666666666, \"#ed7953\"], [0.7777777777777778, \"#fb9f3a\"], [0.8888888888888888, \"#fdca26\"], [1.0, \"#f0f921\"]], \"sequentialminus\": [[0.0, \"#0d0887\"], [0.1111111111111111, \"#46039f\"], [0.2222222222222222, \"#7201a8\"], [0.3333333333333333, \"#9c179e\"], [0.4444444444444444, \"#bd3786\"], [0.5555555555555556, \"#d8576b\"], [0.6666666666666666, \"#ed7953\"], [0.7777777777777778, \"#fb9f3a\"], [0.8888888888888888, \"#fdca26\"], [1.0, \"#f0f921\"]]}, \"colorway\": [\"#636efa\", \"#EF553B\", \"#00cc96\", \"#ab63fa\", \"#FFA15A\", \"#19d3f3\", \"#FF6692\", \"#B6E880\", \"#FF97FF\", \"#FECB52\"], \"font\": {\"color\": \"#2a3f5f\"}, \"geo\": {\"bgcolor\": \"white\", \"lakecolor\": \"white\", \"landcolor\": \"#E5ECF6\", \"showlakes\": true, \"showland\": true, \"subunitcolor\": \"white\"}, \"hoverlabel\": {\"align\": \"left\"}, \"hovermode\": \"closest\", \"mapbox\": {\"style\": \"light\"}, \"paper_bgcolor\": \"white\", \"plot_bgcolor\": \"#E5ECF6\", \"polar\": {\"angularaxis\": {\"gridcolor\": \"white\", \"linecolor\": \"white\", \"ticks\": \"\"}, \"bgcolor\": \"#E5ECF6\", \"radialaxis\": {\"gridcolor\": \"white\", \"linecolor\": \"white\", \"ticks\": \"\"}}, \"scene\": {\"xaxis\": {\"backgroundcolor\": \"#E5ECF6\", \"gridcolor\": \"white\", \"gridwidth\": 2, \"linecolor\": \"white\", \"showbackground\": true, \"ticks\": \"\", \"zerolinecolor\": \"white\"}, \"yaxis\": {\"backgroundcolor\": \"#E5ECF6\", \"gridcolor\": \"white\", \"gridwidth\": 2, \"linecolor\": \"white\", \"showbackground\": true, \"ticks\": \"\", \"zerolinecolor\": \"white\"}, \"zaxis\": {\"backgroundcolor\": \"#E5ECF6\", \"gridcolor\": \"white\", \"gridwidth\": 2, \"linecolor\": \"white\", \"showbackground\": true, \"ticks\": \"\", \"zerolinecolor\": \"white\"}}, \"shapedefaults\": {\"line\": {\"color\": \"#2a3f5f\"}}, \"ternary\": {\"aaxis\": {\"gridcolor\": \"white\", \"linecolor\": \"white\", \"ticks\": \"\"}, \"baxis\": {\"gridcolor\": \"white\", \"linecolor\": \"white\", \"ticks\": \"\"}, \"bgcolor\": \"#E5ECF6\", \"caxis\": {\"gridcolor\": \"white\", \"linecolor\": \"white\", \"ticks\": \"\"}}, \"title\": {\"x\": 0.05}, \"xaxis\": {\"automargin\": true, \"gridcolor\": \"white\", \"linecolor\": \"white\", \"ticks\": \"\", \"title\": {\"standoff\": 15}, \"zerolinecolor\": \"white\", \"zerolinewidth\": 2}, \"yaxis\": {\"automargin\": true, \"gridcolor\": \"white\", \"linecolor\": \"white\", \"ticks\": \"\", \"title\": {\"standoff\": 15}, \"zerolinecolor\": \"white\", \"zerolinewidth\": 2}}}, \"width\": 900, \"xaxis\": {\"rangeselector\": {\"buttons\": [{\"count\": 7, \"label\": \"1w\", \"step\": \"day\", \"stepmode\": \"backward\"}, {\"count\": 1, \"label\": \"1m\", \"step\": \"month\", \"stepmode\": \"backward\"}, {\"count\": 6, \"label\": \"6m\", \"step\": \"month\", \"stepmode\": \"backward\"}, {\"count\": 1, \"label\": \"1y\", \"step\": \"year\", \"stepmode\": \"backward\"}, {\"step\": \"all\"}]}, \"rangeslider\": {\"visible\": true}, \"title\": {\"text\": \"ds\"}, \"type\": \"date\"}, \"yaxis\": {\"title\": {\"text\": \"y\"}}},\n",
              "                        {\"responsive\": true}\n",
              "                    ).then(function(){\n",
              "                            \n",
              "var gd = document.getElementById('7f384ff5-189b-4b0c-a121-ec47c222d1ab');\n",
              "var x = new MutationObserver(function (mutations, observer) {{\n",
              "        var display = window.getComputedStyle(gd).display;\n",
              "        if (!display || display === 'none') {{\n",
              "            console.log([gd, 'removed!']);\n",
              "            Plotly.purge(gd);\n",
              "            observer.disconnect();\n",
              "        }}\n",
              "}});\n",
              "\n",
              "// Listen for the removal of the full notebook cells\n",
              "var notebookContainer = gd.closest('#notebook-container');\n",
              "if (notebookContainer) {{\n",
              "    x.observe(notebookContainer, {childList: true});\n",
              "}}\n",
              "\n",
              "// Listen for the clearing of the current output cell\n",
              "var outputEl = gd.closest('.output');\n",
              "if (outputEl) {{\n",
              "    x.observe(outputEl, {childList: true});\n",
              "}}\n",
              "\n",
              "                        })\n",
              "                };\n",
              "                \n",
              "            </script>\n",
              "        </div>\n",
              "</body>\n",
              "</html>"
            ]
          },
          "metadata": {
            "tags": []
          }
        }
      ]
    },
    {
      "cell_type": "code",
      "metadata": {
        "colab": {
          "base_uri": "https://localhost:8080/",
          "height": 417
        },
        "id": "p1S2TPouAFmR",
        "outputId": "42e0c406-5bf7-4897-85ed-5ac49187addf"
      },
      "source": [
        "plot_components_plotly(m, forecast)\n"
      ],
      "execution_count": null,
      "outputs": [
        {
          "output_type": "display_data",
          "data": {
            "text/html": [
              "<html>\n",
              "<head><meta charset=\"utf-8\" /></head>\n",
              "<body>\n",
              "    <div>\n",
              "            <script src=\"https://cdnjs.cloudflare.com/ajax/libs/mathjax/2.7.5/MathJax.js?config=TeX-AMS-MML_SVG\"></script><script type=\"text/javascript\">if (window.MathJax) {MathJax.Hub.Config({SVG: {font: \"STIX-Web\"}});}</script>\n",
              "                <script type=\"text/javascript\">window.PlotlyConfig = {MathJaxConfig: 'local'};</script>\n",
              "        <script src=\"https://cdn.plot.ly/plotly-latest.min.js\"></script>    \n",
              "            <div id=\"26294276-e854-47be-a781-2bbdcfa81df7\" class=\"plotly-graph-div\" style=\"height:400px; width:900px;\"></div>\n",
              "            <script type=\"text/javascript\">\n",
              "                \n",
              "                    window.PLOTLYENV=window.PLOTLYENV || {};\n",
              "                    \n",
              "                if (document.getElementById(\"26294276-e854-47be-a781-2bbdcfa81df7\")) {\n",
              "                    Plotly.newPlot(\n",
              "                        '26294276-e854-47be-a781-2bbdcfa81df7',\n",
              "                        [{\"line\": {\"color\": \"#0072B2\", \"width\": 2}, \"mode\": \"lines\", \"name\": \"trend\", \"type\": \"scatter\", \"x\": [\"2010-02-05T00:00:00\", \"2010-02-12T00:00:00\", \"2010-02-19T00:00:00\", \"2010-02-26T00:00:00\", \"2010-03-05T00:00:00\", \"2010-03-12T00:00:00\", \"2010-03-19T00:00:00\", \"2010-03-26T00:00:00\", \"2010-04-02T00:00:00\", \"2010-04-09T00:00:00\", \"2010-04-16T00:00:00\", \"2010-04-23T00:00:00\", \"2010-04-30T00:00:00\", \"2010-05-07T00:00:00\", \"2010-05-14T00:00:00\", \"2010-05-21T00:00:00\", \"2010-05-28T00:00:00\", \"2010-06-04T00:00:00\", \"2010-06-11T00:00:00\", \"2010-06-18T00:00:00\", \"2010-06-25T00:00:00\", \"2010-07-02T00:00:00\", \"2010-07-09T00:00:00\", \"2010-07-16T00:00:00\", \"2010-07-23T00:00:00\", \"2010-07-30T00:00:00\", \"2010-08-06T00:00:00\", \"2010-08-13T00:00:00\", \"2010-08-20T00:00:00\", \"2010-08-27T00:00:00\", \"2010-09-03T00:00:00\", \"2010-09-10T00:00:00\", \"2010-09-17T00:00:00\", \"2010-09-24T00:00:00\", \"2010-10-01T00:00:00\", \"2010-10-08T00:00:00\", \"2010-10-15T00:00:00\", \"2010-10-22T00:00:00\", \"2010-10-29T00:00:00\", \"2010-11-05T00:00:00\", \"2010-11-12T00:00:00\", \"2010-11-19T00:00:00\", \"2010-11-26T00:00:00\", \"2010-12-03T00:00:00\", \"2010-12-10T00:00:00\", \"2010-12-17T00:00:00\", \"2010-12-24T00:00:00\", \"2010-12-31T00:00:00\", \"2011-01-07T00:00:00\", \"2011-01-14T00:00:00\", \"2011-01-21T00:00:00\", \"2011-01-28T00:00:00\", \"2011-02-04T00:00:00\", \"2011-02-11T00:00:00\", \"2011-02-18T00:00:00\", \"2011-02-25T00:00:00\", \"2011-03-04T00:00:00\", \"2011-03-11T00:00:00\", \"2011-03-18T00:00:00\", \"2011-03-25T00:00:00\", \"2011-04-01T00:00:00\", \"2011-04-08T00:00:00\", \"2011-04-15T00:00:00\", \"2011-04-22T00:00:00\", \"2011-04-29T00:00:00\", \"2011-05-06T00:00:00\", \"2011-05-13T00:00:00\", \"2011-05-20T00:00:00\", \"2011-05-27T00:00:00\", \"2011-06-03T00:00:00\", \"2011-06-10T00:00:00\", \"2011-06-17T00:00:00\", \"2011-06-24T00:00:00\", \"2011-07-01T00:00:00\", \"2011-07-08T00:00:00\", \"2011-07-15T00:00:00\", \"2011-07-22T00:00:00\", \"2011-07-29T00:00:00\", \"2011-08-05T00:00:00\", \"2011-08-12T00:00:00\", \"2011-08-19T00:00:00\", \"2011-08-26T00:00:00\", \"2011-09-02T00:00:00\", \"2011-09-09T00:00:00\", \"2011-09-16T00:00:00\", \"2011-09-23T00:00:00\", \"2011-09-30T00:00:00\", \"2011-10-07T00:00:00\", \"2011-10-14T00:00:00\", \"2011-10-21T00:00:00\", \"2011-10-28T00:00:00\", \"2011-11-04T00:00:00\", \"2011-11-11T00:00:00\", \"2011-11-18T00:00:00\", \"2011-11-25T00:00:00\", \"2011-12-02T00:00:00\", \"2011-12-09T00:00:00\", \"2011-12-16T00:00:00\", \"2011-12-23T00:00:00\", \"2011-12-30T00:00:00\", \"2012-01-06T00:00:00\", \"2012-01-13T00:00:00\", \"2012-01-20T00:00:00\", \"2012-01-27T00:00:00\", \"2012-02-03T00:00:00\", \"2012-02-10T00:00:00\", \"2012-02-17T00:00:00\", \"2012-02-24T00:00:00\", \"2012-03-02T00:00:00\", \"2012-03-09T00:00:00\", \"2012-03-16T00:00:00\", \"2012-03-23T00:00:00\", \"2012-03-30T00:00:00\", \"2012-04-06T00:00:00\", \"2012-04-13T00:00:00\", \"2012-04-20T00:00:00\", \"2012-04-27T00:00:00\", \"2012-05-04T00:00:00\", \"2012-05-11T00:00:00\", \"2012-05-18T00:00:00\", \"2012-05-25T00:00:00\", \"2012-06-01T00:00:00\", \"2012-06-08T00:00:00\", \"2012-06-15T00:00:00\", \"2012-06-22T00:00:00\", \"2012-06-29T00:00:00\", \"2012-07-06T00:00:00\", \"2012-07-13T00:00:00\", \"2012-07-20T00:00:00\", \"2012-07-27T00:00:00\", \"2012-08-03T00:00:00\", \"2012-08-10T00:00:00\", \"2012-08-17T00:00:00\", \"2012-08-24T00:00:00\", \"2012-08-31T00:00:00\", \"2012-09-07T00:00:00\", \"2012-09-14T00:00:00\", \"2012-09-21T00:00:00\", \"2012-09-28T00:00:00\", \"2012-10-05T00:00:00\", \"2012-10-12T00:00:00\", \"2012-10-19T00:00:00\", \"2012-10-26T00:00:00\", \"2012-10-28T00:00:00\", \"2012-11-04T00:00:00\", \"2012-11-11T00:00:00\", \"2012-11-18T00:00:00\", \"2012-11-25T00:00:00\", \"2012-12-02T00:00:00\", \"2012-12-09T00:00:00\", \"2012-12-16T00:00:00\", \"2012-12-23T00:00:00\", \"2012-12-30T00:00:00\", \"2013-01-06T00:00:00\", \"2013-01-13T00:00:00\", \"2013-01-20T00:00:00\", \"2013-01-27T00:00:00\", \"2013-02-03T00:00:00\", \"2013-02-10T00:00:00\", \"2013-02-17T00:00:00\", \"2013-02-24T00:00:00\", \"2013-03-03T00:00:00\", \"2013-03-10T00:00:00\", \"2013-03-17T00:00:00\", \"2013-03-24T00:00:00\", \"2013-03-31T00:00:00\", \"2013-04-07T00:00:00\", \"2013-04-14T00:00:00\", \"2013-04-21T00:00:00\", \"2013-04-28T00:00:00\", \"2013-05-05T00:00:00\", \"2013-05-12T00:00:00\", \"2013-05-19T00:00:00\", \"2013-05-26T00:00:00\", \"2013-06-02T00:00:00\", \"2013-06-09T00:00:00\", \"2013-06-16T00:00:00\", \"2013-06-23T00:00:00\", \"2013-06-30T00:00:00\", \"2013-07-07T00:00:00\", \"2013-07-14T00:00:00\", \"2013-07-21T00:00:00\", \"2013-07-28T00:00:00\", \"2013-08-04T00:00:00\", \"2013-08-11T00:00:00\", \"2013-08-18T00:00:00\", \"2013-08-25T00:00:00\", \"2013-09-01T00:00:00\", \"2013-09-08T00:00:00\", \"2013-09-15T00:00:00\", \"2013-09-22T00:00:00\", \"2013-09-29T00:00:00\", \"2013-10-06T00:00:00\", \"2013-10-13T00:00:00\", \"2013-10-20T00:00:00\"], \"xaxis\": \"x\", \"y\": [1483601.3579210194, 1484663.9784114556, 1485726.5989018918, 1486789.219392328, 1487851.8398827643, 1488914.4603732005, 1490013.9080518177, 1491113.3557304346, 1492212.8034090514, 1493312.2510876684, 1494411.6991397773, 1495511.1471918863, 1496610.595243995, 1497710.043296104, 1498809.491348213, 1499908.9394228535, 1501008.3874974942, 1502107.8355721347, 1503207.2836467752, 1504306.731670286, 1505406.1796937974, 1506505.6277173082, 1507605.075740819, 1508704.5237643302, 1509803.971773208, 1510903.4197820858, 1512002.8677909637, 1513102.3157998417, 1514201.7638731871, 1515301.2119465324, 1516400.6600198778, 1517500.1080932233, 1518599.5561665685, 1519699.0043277405, 1520798.4524889123, 1521897.900650084, 1522997.3488112558, 1524096.796977995, 1525196.2451447342, 1526295.6933114736, 1527395.1414782128, 1528494.589644952, 1529594.037791664, 1530693.4859383765, 1531792.9340850885, 1532892.3822318008, 1533991.8304469811, 1535091.2786621617, 1536190.7268773422, 1537290.1750925228, 1538389.623307703, 1539489.0715906294, 1540588.519873556, 1541687.9681564823, 1542787.4164394087, 1543886.8648898646, 1544986.3133403207, 1546085.7617907764, 1547185.2102412323, 1548284.6586916882, 1549384.1074237619, 1550483.5561558357, 1551583.0048879092, 1552682.4536199828, 1553781.9027991132, 1554881.3519782438, 1555980.8011573744, 1557080.2503365048, 1558179.6995156356, 1559279.1496199858, 1560378.5997243363, 1561478.0498286868, 1562577.4999330377, 1563676.95045097, 1564776.400968903, 1565875.8514868356, 1566975.3020047683, 1568074.752522701, 1569174.2032045277, 1570273.6538863545, 1571373.104568181, 1572472.5552500077, 1573572.005944886, 1574671.4566397641, 1575770.9073346425, 1576870.358029521, 1577969.808724399, 1579069.2597435825, 1580168.710762766, 1581268.1617819492, 1582367.6128011327, 1583467.0638764338, 1584566.5149517348, 1585665.9660270356, 1586765.4171023367, 1587864.8681776377, 1588964.3192586098, 1590063.7703395819, 1591163.221420554, 1592262.6725015263, 1593362.1235935993, 1594461.574685672, 1595561.0257777448, 1596660.476869818, 1597759.9279618908, 1598859.3790947015, 1599958.8302275122, 1601058.281360323, 1602157.7324931337, 1603257.1834904505, 1604356.6344877675, 1605456.0854850844, 1606555.5364824014, 1607654.9874797184, 1608754.43849747, 1609853.8895152216, 1610953.3405329732, 1612052.7915507248, 1613152.2425684764, 1614251.693586228, 1615351.1446039795, 1616450.5956217311, 1617550.0466394827, 1618649.4976572343, 1619748.948674986, 1620848.3996927375, 1621947.850710489, 1623047.3017282407, 1624146.7527459923, 1625246.2037637439, 1626345.6547814955, 1627445.105799247, 1628544.5568169986, 1629644.0078347502, 1630743.4588525018, 1631842.9098702534, 1632942.360888005, 1634041.8119057566, 1635141.2629235082, 1636240.7139412598, 1637340.1649590114, 1638439.615976763, 1639539.0669945143, 1639853.195856729, 1640952.6468744806, 1642052.0978922322, 1643151.5489099838, 1644250.9999277354, 1645350.450945487, 1646449.9019632386, 1647549.3529809902, 1648648.8039987418, 1649748.2550164934, 1650847.706034245, 1651947.1570519966, 1653046.6080697482, 1654146.0590874997, 1655245.5101052513, 1656344.961123003, 1657444.4121407545, 1658543.863158506, 1659643.3141762577, 1660742.7651940093, 1661842.2162117609, 1662941.6672295125, 1664041.118247264, 1665140.5692650157, 1666240.0202827672, 1667339.4713005188, 1668438.9223182704, 1669538.373336022, 1670637.8243537736, 1671737.275371525, 1672836.7263892766, 1673936.1774070282, 1675035.6284247797, 1676135.0794425313, 1677234.530460283, 1678333.9814780345, 1679433.432495786, 1680532.8835135377, 1681632.3345312893, 1682731.785549041, 1683831.2365667925, 1684930.687584544, 1686030.1386022957, 1687129.5896200472, 1688229.0406377988, 1689328.4916555504, 1690427.942673302, 1691527.3936910536, 1692626.8447088052, 1693726.2957265568, 1694825.7467443084, 1695925.19776206], \"yaxis\": \"y\"}, {\"line\": {\"color\": \"rgba(0, 114, 178, 0.2)\", \"width\": 0}, \"mode\": \"lines\", \"name\": \"trend_upper\", \"type\": \"scatter\", \"x\": [\"2010-02-05T00:00:00\", \"2010-02-12T00:00:00\", \"2010-02-19T00:00:00\", \"2010-02-26T00:00:00\", \"2010-03-05T00:00:00\", \"2010-03-12T00:00:00\", \"2010-03-19T00:00:00\", \"2010-03-26T00:00:00\", \"2010-04-02T00:00:00\", \"2010-04-09T00:00:00\", \"2010-04-16T00:00:00\", \"2010-04-23T00:00:00\", \"2010-04-30T00:00:00\", \"2010-05-07T00:00:00\", \"2010-05-14T00:00:00\", \"2010-05-21T00:00:00\", \"2010-05-28T00:00:00\", \"2010-06-04T00:00:00\", \"2010-06-11T00:00:00\", \"2010-06-18T00:00:00\", \"2010-06-25T00:00:00\", \"2010-07-02T00:00:00\", \"2010-07-09T00:00:00\", \"2010-07-16T00:00:00\", \"2010-07-23T00:00:00\", \"2010-07-30T00:00:00\", \"2010-08-06T00:00:00\", \"2010-08-13T00:00:00\", \"2010-08-20T00:00:00\", \"2010-08-27T00:00:00\", \"2010-09-03T00:00:00\", \"2010-09-10T00:00:00\", \"2010-09-17T00:00:00\", \"2010-09-24T00:00:00\", \"2010-10-01T00:00:00\", \"2010-10-08T00:00:00\", \"2010-10-15T00:00:00\", \"2010-10-22T00:00:00\", \"2010-10-29T00:00:00\", \"2010-11-05T00:00:00\", \"2010-11-12T00:00:00\", \"2010-11-19T00:00:00\", \"2010-11-26T00:00:00\", \"2010-12-03T00:00:00\", \"2010-12-10T00:00:00\", \"2010-12-17T00:00:00\", \"2010-12-24T00:00:00\", \"2010-12-31T00:00:00\", \"2011-01-07T00:00:00\", \"2011-01-14T00:00:00\", \"2011-01-21T00:00:00\", \"2011-01-28T00:00:00\", \"2011-02-04T00:00:00\", \"2011-02-11T00:00:00\", \"2011-02-18T00:00:00\", \"2011-02-25T00:00:00\", \"2011-03-04T00:00:00\", \"2011-03-11T00:00:00\", \"2011-03-18T00:00:00\", \"2011-03-25T00:00:00\", \"2011-04-01T00:00:00\", \"2011-04-08T00:00:00\", \"2011-04-15T00:00:00\", \"2011-04-22T00:00:00\", \"2011-04-29T00:00:00\", \"2011-05-06T00:00:00\", \"2011-05-13T00:00:00\", \"2011-05-20T00:00:00\", \"2011-05-27T00:00:00\", \"2011-06-03T00:00:00\", \"2011-06-10T00:00:00\", \"2011-06-17T00:00:00\", \"2011-06-24T00:00:00\", \"2011-07-01T00:00:00\", \"2011-07-08T00:00:00\", \"2011-07-15T00:00:00\", \"2011-07-22T00:00:00\", \"2011-07-29T00:00:00\", \"2011-08-05T00:00:00\", \"2011-08-12T00:00:00\", \"2011-08-19T00:00:00\", \"2011-08-26T00:00:00\", \"2011-09-02T00:00:00\", \"2011-09-09T00:00:00\", \"2011-09-16T00:00:00\", \"2011-09-23T00:00:00\", \"2011-09-30T00:00:00\", \"2011-10-07T00:00:00\", \"2011-10-14T00:00:00\", \"2011-10-21T00:00:00\", \"2011-10-28T00:00:00\", \"2011-11-04T00:00:00\", \"2011-11-11T00:00:00\", \"2011-11-18T00:00:00\", \"2011-11-25T00:00:00\", \"2011-12-02T00:00:00\", \"2011-12-09T00:00:00\", \"2011-12-16T00:00:00\", \"2011-12-23T00:00:00\", \"2011-12-30T00:00:00\", \"2012-01-06T00:00:00\", \"2012-01-13T00:00:00\", \"2012-01-20T00:00:00\", \"2012-01-27T00:00:00\", \"2012-02-03T00:00:00\", \"2012-02-10T00:00:00\", \"2012-02-17T00:00:00\", \"2012-02-24T00:00:00\", \"2012-03-02T00:00:00\", \"2012-03-09T00:00:00\", \"2012-03-16T00:00:00\", \"2012-03-23T00:00:00\", \"2012-03-30T00:00:00\", \"2012-04-06T00:00:00\", \"2012-04-13T00:00:00\", \"2012-04-20T00:00:00\", \"2012-04-27T00:00:00\", \"2012-05-04T00:00:00\", \"2012-05-11T00:00:00\", \"2012-05-18T00:00:00\", \"2012-05-25T00:00:00\", \"2012-06-01T00:00:00\", \"2012-06-08T00:00:00\", \"2012-06-15T00:00:00\", \"2012-06-22T00:00:00\", \"2012-06-29T00:00:00\", \"2012-07-06T00:00:00\", \"2012-07-13T00:00:00\", \"2012-07-20T00:00:00\", \"2012-07-27T00:00:00\", \"2012-08-03T00:00:00\", \"2012-08-10T00:00:00\", \"2012-08-17T00:00:00\", \"2012-08-24T00:00:00\", \"2012-08-31T00:00:00\", \"2012-09-07T00:00:00\", \"2012-09-14T00:00:00\", \"2012-09-21T00:00:00\", \"2012-09-28T00:00:00\", \"2012-10-05T00:00:00\", \"2012-10-12T00:00:00\", \"2012-10-19T00:00:00\", \"2012-10-26T00:00:00\", \"2012-10-28T00:00:00\", \"2012-11-04T00:00:00\", \"2012-11-11T00:00:00\", \"2012-11-18T00:00:00\", \"2012-11-25T00:00:00\", \"2012-12-02T00:00:00\", \"2012-12-09T00:00:00\", \"2012-12-16T00:00:00\", \"2012-12-23T00:00:00\", \"2012-12-30T00:00:00\", \"2013-01-06T00:00:00\", \"2013-01-13T00:00:00\", \"2013-01-20T00:00:00\", \"2013-01-27T00:00:00\", \"2013-02-03T00:00:00\", \"2013-02-10T00:00:00\", \"2013-02-17T00:00:00\", \"2013-02-24T00:00:00\", \"2013-03-03T00:00:00\", \"2013-03-10T00:00:00\", \"2013-03-17T00:00:00\", \"2013-03-24T00:00:00\", \"2013-03-31T00:00:00\", \"2013-04-07T00:00:00\", \"2013-04-14T00:00:00\", \"2013-04-21T00:00:00\", \"2013-04-28T00:00:00\", \"2013-05-05T00:00:00\", \"2013-05-12T00:00:00\", \"2013-05-19T00:00:00\", \"2013-05-26T00:00:00\", \"2013-06-02T00:00:00\", \"2013-06-09T00:00:00\", \"2013-06-16T00:00:00\", \"2013-06-23T00:00:00\", \"2013-06-30T00:00:00\", \"2013-07-07T00:00:00\", \"2013-07-14T00:00:00\", \"2013-07-21T00:00:00\", \"2013-07-28T00:00:00\", \"2013-08-04T00:00:00\", \"2013-08-11T00:00:00\", \"2013-08-18T00:00:00\", \"2013-08-25T00:00:00\", \"2013-09-01T00:00:00\", \"2013-09-08T00:00:00\", \"2013-09-15T00:00:00\", \"2013-09-22T00:00:00\", \"2013-09-29T00:00:00\", \"2013-10-06T00:00:00\", \"2013-10-13T00:00:00\", \"2013-10-20T00:00:00\"], \"xaxis\": \"x\", \"y\": [1483601.3579210194, 1484663.9784114556, 1485726.5989018918, 1486789.219392328, 1487851.8398827643, 1488914.4603732005, 1490013.9080518177, 1491113.3557304346, 1492212.8034090514, 1493312.2510876684, 1494411.6991397776, 1495511.1471918863, 1496610.595243995, 1497710.043296104, 1498809.491348213, 1499908.9394228535, 1501008.3874974942, 1502107.8355721347, 1503207.2836467752, 1504306.731670286, 1505406.1796937974, 1506505.6277173082, 1507605.075740819, 1508704.5237643302, 1509803.971773208, 1510903.4197820858, 1512002.8677909637, 1513102.3157998417, 1514201.7638731871, 1515301.2119465324, 1516400.6600198778, 1517500.1080932233, 1518599.5561665685, 1519699.0043277405, 1520798.4524889123, 1521897.900650084, 1522997.3488112558, 1524096.796977995, 1525196.2451447342, 1526295.6933114734, 1527395.1414782128, 1528494.589644952, 1529594.037791664, 1530693.4859383765, 1531792.9340850888, 1532892.3822318008, 1533991.8304469811, 1535091.2786621617, 1536190.7268773422, 1537290.1750925228, 1538389.623307703, 1539489.0715906294, 1540588.519873556, 1541687.9681564823, 1542787.4164394087, 1543886.8648898646, 1544986.3133403207, 1546085.7617907764, 1547185.2102412323, 1548284.6586916884, 1549384.1074237619, 1550483.5561558357, 1551583.0048879092, 1552682.4536199828, 1553781.9027991132, 1554881.3519782438, 1555980.8011573744, 1557080.2503365048, 1558179.6995156356, 1559279.1496199858, 1560378.5997243363, 1561478.0498286868, 1562577.499933038, 1563676.95045097, 1564776.400968903, 1565875.8514868356, 1566975.3020047683, 1568074.752522701, 1569174.2032045277, 1570273.6538863545, 1571373.104568181, 1572472.5552500077, 1573572.005944886, 1574671.4566397641, 1575770.9073346425, 1576870.358029521, 1577969.808724399, 1579069.2597435825, 1580168.710762766, 1581268.1617819492, 1582367.6128011327, 1583467.0638764338, 1584566.5149517348, 1585665.9660270356, 1586765.4171023369, 1587864.8681776377, 1588964.3192586098, 1590063.7703395819, 1591163.221420554, 1592262.6725015263, 1593362.123593599, 1594461.574685672, 1595561.0257777446, 1596660.476869818, 1597759.9279618908, 1598859.3790947015, 1599958.8302275122, 1601058.281360323, 1602157.7324931337, 1603257.1834904505, 1604356.6344877675, 1605456.0854850844, 1606555.5364824014, 1607654.9874797184, 1608754.43849747, 1609853.8895152216, 1610953.3405329732, 1612052.7915507248, 1613152.2425684764, 1614251.693586228, 1615351.1446039795, 1616450.5956217311, 1617550.0466394827, 1618649.4976572343, 1619748.948674986, 1620848.3996927375, 1621947.8507104893, 1623047.3017282407, 1624146.7527459923, 1625246.2037637439, 1626345.6547814955, 1627445.105799247, 1628544.5568169986, 1629644.0078347502, 1630743.4588525018, 1631842.9098702534, 1632942.360888005, 1634041.8119057566, 1635141.2629235082, 1636240.7139412598, 1637340.1649590114, 1638439.615976763, 1639539.0669945143, 1639853.195856729, 1640952.6468744806, 1642052.6944034675, 1643153.4022498578, 1644254.555396017, 1645355.8104590003, 1646457.5710808847, 1647559.6363060046, 1648661.4946200966, 1649763.5150077993, 1650865.98366182, 1651969.3863341704, 1653071.9461912534, 1654174.5802708927, 1655277.6380273774, 1656380.6238194345, 1657482.9528851565, 1658585.0945130335, 1659688.9195597474, 1660792.4951955287, 1661895.78308013, 1662998.871621603, 1664104.58714533, 1665208.4342523278, 1666313.6880531365, 1667418.6795844822, 1668521.9525881663, 1669624.5858238405, 1670728.9031599448, 1671832.7588314496, 1672939.015407666, 1674042.7836750373, 1675147.181393479, 1676251.9900893886, 1677356.0490131336, 1678462.8795972092, 1679569.5677272107, 1680674.9387251856, 1681780.7947210355, 1682887.9719770881, 1683996.596852184, 1685102.1664120879, 1686208.5430339838, 1687315.1062870612, 1688420.9107582092, 1689526.415893627, 1690631.4591935459, 1691736.1254649004, 1692840.688447712, 1693951.0201205118, 1695059.163558283, 1696164.243250376], \"yaxis\": \"y\"}, {\"fill\": \"tonexty\", \"fillcolor\": \"rgba(0, 114, 178, 0.2)\", \"line\": {\"color\": \"rgba(0, 114, 178, 0.2)\", \"width\": 0}, \"mode\": \"lines\", \"name\": \"trend_lower\", \"type\": \"scatter\", \"x\": [\"2010-02-05T00:00:00\", \"2010-02-12T00:00:00\", \"2010-02-19T00:00:00\", \"2010-02-26T00:00:00\", \"2010-03-05T00:00:00\", \"2010-03-12T00:00:00\", \"2010-03-19T00:00:00\", \"2010-03-26T00:00:00\", \"2010-04-02T00:00:00\", \"2010-04-09T00:00:00\", \"2010-04-16T00:00:00\", \"2010-04-23T00:00:00\", \"2010-04-30T00:00:00\", \"2010-05-07T00:00:00\", \"2010-05-14T00:00:00\", \"2010-05-21T00:00:00\", \"2010-05-28T00:00:00\", \"2010-06-04T00:00:00\", \"2010-06-11T00:00:00\", \"2010-06-18T00:00:00\", \"2010-06-25T00:00:00\", \"2010-07-02T00:00:00\", \"2010-07-09T00:00:00\", \"2010-07-16T00:00:00\", \"2010-07-23T00:00:00\", \"2010-07-30T00:00:00\", \"2010-08-06T00:00:00\", \"2010-08-13T00:00:00\", \"2010-08-20T00:00:00\", \"2010-08-27T00:00:00\", \"2010-09-03T00:00:00\", \"2010-09-10T00:00:00\", \"2010-09-17T00:00:00\", \"2010-09-24T00:00:00\", \"2010-10-01T00:00:00\", \"2010-10-08T00:00:00\", \"2010-10-15T00:00:00\", \"2010-10-22T00:00:00\", \"2010-10-29T00:00:00\", \"2010-11-05T00:00:00\", \"2010-11-12T00:00:00\", \"2010-11-19T00:00:00\", \"2010-11-26T00:00:00\", \"2010-12-03T00:00:00\", \"2010-12-10T00:00:00\", \"2010-12-17T00:00:00\", \"2010-12-24T00:00:00\", \"2010-12-31T00:00:00\", \"2011-01-07T00:00:00\", \"2011-01-14T00:00:00\", \"2011-01-21T00:00:00\", \"2011-01-28T00:00:00\", \"2011-02-04T00:00:00\", \"2011-02-11T00:00:00\", \"2011-02-18T00:00:00\", \"2011-02-25T00:00:00\", \"2011-03-04T00:00:00\", \"2011-03-11T00:00:00\", \"2011-03-18T00:00:00\", \"2011-03-25T00:00:00\", \"2011-04-01T00:00:00\", \"2011-04-08T00:00:00\", \"2011-04-15T00:00:00\", \"2011-04-22T00:00:00\", \"2011-04-29T00:00:00\", \"2011-05-06T00:00:00\", \"2011-05-13T00:00:00\", \"2011-05-20T00:00:00\", \"2011-05-27T00:00:00\", \"2011-06-03T00:00:00\", \"2011-06-10T00:00:00\", \"2011-06-17T00:00:00\", \"2011-06-24T00:00:00\", \"2011-07-01T00:00:00\", \"2011-07-08T00:00:00\", \"2011-07-15T00:00:00\", \"2011-07-22T00:00:00\", \"2011-07-29T00:00:00\", \"2011-08-05T00:00:00\", \"2011-08-12T00:00:00\", \"2011-08-19T00:00:00\", \"2011-08-26T00:00:00\", \"2011-09-02T00:00:00\", \"2011-09-09T00:00:00\", \"2011-09-16T00:00:00\", \"2011-09-23T00:00:00\", \"2011-09-30T00:00:00\", \"2011-10-07T00:00:00\", \"2011-10-14T00:00:00\", \"2011-10-21T00:00:00\", \"2011-10-28T00:00:00\", \"2011-11-04T00:00:00\", \"2011-11-11T00:00:00\", \"2011-11-18T00:00:00\", \"2011-11-25T00:00:00\", \"2011-12-02T00:00:00\", \"2011-12-09T00:00:00\", \"2011-12-16T00:00:00\", \"2011-12-23T00:00:00\", \"2011-12-30T00:00:00\", \"2012-01-06T00:00:00\", \"2012-01-13T00:00:00\", \"2012-01-20T00:00:00\", \"2012-01-27T00:00:00\", \"2012-02-03T00:00:00\", \"2012-02-10T00:00:00\", \"2012-02-17T00:00:00\", \"2012-02-24T00:00:00\", \"2012-03-02T00:00:00\", \"2012-03-09T00:00:00\", \"2012-03-16T00:00:00\", \"2012-03-23T00:00:00\", \"2012-03-30T00:00:00\", \"2012-04-06T00:00:00\", \"2012-04-13T00:00:00\", \"2012-04-20T00:00:00\", \"2012-04-27T00:00:00\", \"2012-05-04T00:00:00\", \"2012-05-11T00:00:00\", \"2012-05-18T00:00:00\", \"2012-05-25T00:00:00\", \"2012-06-01T00:00:00\", \"2012-06-08T00:00:00\", \"2012-06-15T00:00:00\", \"2012-06-22T00:00:00\", \"2012-06-29T00:00:00\", \"2012-07-06T00:00:00\", \"2012-07-13T00:00:00\", \"2012-07-20T00:00:00\", \"2012-07-27T00:00:00\", \"2012-08-03T00:00:00\", \"2012-08-10T00:00:00\", \"2012-08-17T00:00:00\", \"2012-08-24T00:00:00\", \"2012-08-31T00:00:00\", \"2012-09-07T00:00:00\", \"2012-09-14T00:00:00\", \"2012-09-21T00:00:00\", \"2012-09-28T00:00:00\", \"2012-10-05T00:00:00\", \"2012-10-12T00:00:00\", \"2012-10-19T00:00:00\", \"2012-10-26T00:00:00\", \"2012-10-28T00:00:00\", \"2012-11-04T00:00:00\", \"2012-11-11T00:00:00\", \"2012-11-18T00:00:00\", \"2012-11-25T00:00:00\", \"2012-12-02T00:00:00\", \"2012-12-09T00:00:00\", \"2012-12-16T00:00:00\", \"2012-12-23T00:00:00\", \"2012-12-30T00:00:00\", \"2013-01-06T00:00:00\", \"2013-01-13T00:00:00\", \"2013-01-20T00:00:00\", \"2013-01-27T00:00:00\", \"2013-02-03T00:00:00\", \"2013-02-10T00:00:00\", \"2013-02-17T00:00:00\", \"2013-02-24T00:00:00\", \"2013-03-03T00:00:00\", \"2013-03-10T00:00:00\", \"2013-03-17T00:00:00\", \"2013-03-24T00:00:00\", \"2013-03-31T00:00:00\", \"2013-04-07T00:00:00\", \"2013-04-14T00:00:00\", \"2013-04-21T00:00:00\", \"2013-04-28T00:00:00\", \"2013-05-05T00:00:00\", \"2013-05-12T00:00:00\", \"2013-05-19T00:00:00\", \"2013-05-26T00:00:00\", \"2013-06-02T00:00:00\", \"2013-06-09T00:00:00\", \"2013-06-16T00:00:00\", \"2013-06-23T00:00:00\", \"2013-06-30T00:00:00\", \"2013-07-07T00:00:00\", \"2013-07-14T00:00:00\", \"2013-07-21T00:00:00\", \"2013-07-28T00:00:00\", \"2013-08-04T00:00:00\", \"2013-08-11T00:00:00\", \"2013-08-18T00:00:00\", \"2013-08-25T00:00:00\", \"2013-09-01T00:00:00\", \"2013-09-08T00:00:00\", \"2013-09-15T00:00:00\", \"2013-09-22T00:00:00\", \"2013-09-29T00:00:00\", \"2013-10-06T00:00:00\", \"2013-10-13T00:00:00\", \"2013-10-20T00:00:00\"], \"xaxis\": \"x\", \"y\": [1483601.3579210194, 1484663.9784114556, 1485726.5989018918, 1486789.219392328, 1487851.8398827643, 1488914.4603732005, 1490013.9080518177, 1491113.3557304346, 1492212.8034090514, 1493312.2510876684, 1494411.6991397776, 1495511.1471918863, 1496610.595243995, 1497710.043296104, 1498809.491348213, 1499908.9394228535, 1501008.3874974942, 1502107.8355721347, 1503207.2836467752, 1504306.731670286, 1505406.1796937974, 1506505.6277173082, 1507605.075740819, 1508704.5237643302, 1509803.971773208, 1510903.4197820858, 1512002.8677909637, 1513102.3157998417, 1514201.7638731871, 1515301.2119465324, 1516400.6600198778, 1517500.1080932233, 1518599.5561665685, 1519699.0043277405, 1520798.4524889123, 1521897.900650084, 1522997.3488112558, 1524096.796977995, 1525196.2451447342, 1526295.6933114734, 1527395.1414782128, 1528494.589644952, 1529594.037791664, 1530693.4859383765, 1531792.9340850888, 1532892.3822318008, 1533991.8304469811, 1535091.2786621617, 1536190.7268773422, 1537290.1750925228, 1538389.623307703, 1539489.0715906294, 1540588.519873556, 1541687.9681564823, 1542787.4164394087, 1543886.8648898646, 1544986.3133403207, 1546085.7617907764, 1547185.2102412323, 1548284.6586916884, 1549384.1074237619, 1550483.5561558357, 1551583.0048879092, 1552682.4536199828, 1553781.9027991132, 1554881.3519782438, 1555980.8011573744, 1557080.2503365048, 1558179.6995156356, 1559279.1496199858, 1560378.5997243363, 1561478.0498286868, 1562577.499933038, 1563676.95045097, 1564776.400968903, 1565875.8514868356, 1566975.3020047683, 1568074.752522701, 1569174.2032045277, 1570273.6538863545, 1571373.104568181, 1572472.5552500077, 1573572.005944886, 1574671.4566397641, 1575770.9073346425, 1576870.358029521, 1577969.808724399, 1579069.2597435825, 1580168.710762766, 1581268.1617819492, 1582367.6128011327, 1583467.0638764338, 1584566.5149517348, 1585665.9660270356, 1586765.4171023369, 1587864.8681776377, 1588964.3192586098, 1590063.7703395819, 1591163.221420554, 1592262.6725015263, 1593362.123593599, 1594461.574685672, 1595561.0257777446, 1596660.476869818, 1597759.9279618908, 1598859.3790947015, 1599958.8302275122, 1601058.281360323, 1602157.7324931337, 1603257.1834904505, 1604356.6344877675, 1605456.0854850844, 1606555.5364824014, 1607654.9874797184, 1608754.43849747, 1609853.8895152216, 1610953.3405329732, 1612052.7915507248, 1613152.2425684764, 1614251.693586228, 1615351.1446039795, 1616450.5956217311, 1617550.0466394827, 1618649.4976572343, 1619748.948674986, 1620848.3996927375, 1621947.8507104893, 1623047.3017282407, 1624146.7527459923, 1625246.2037637439, 1626345.6547814955, 1627445.105799247, 1628544.5568169986, 1629644.0078347502, 1630743.4588525018, 1631842.9098702534, 1632942.360888005, 1634041.8119057566, 1635141.2629235082, 1636240.7139412598, 1637340.1649590114, 1638439.615976763, 1639539.0669945143, 1639853.195856729, 1640952.6189636448, 1642051.3366092106, 1643149.3156831001, 1644247.3930065592, 1645344.52268397, 1646441.9630495042, 1647539.1645428184, 1648636.5341623025, 1649733.0262555347, 1650829.6592124354, 1651926.191873578, 1653023.1707424675, 1654120.3735737414, 1655216.759612487, 1656312.8735831317, 1657408.167822836, 1658503.940514278, 1659599.4138192364, 1660694.7340256516, 1661790.9412651826, 1662885.7894599498, 1663980.7486625782, 1665075.269484915, 1666170.956898316, 1667266.4203719373, 1668360.8829698423, 1669453.8474608613, 1670550.4195325708, 1671644.8699626657, 1672739.4972098782, 1673835.446095861, 1674931.6909259646, 1676026.8298425023, 1677121.1854862345, 1678216.2752015206, 1679310.6228500705, 1680405.6890295364, 1681501.288883261, 1682596.2724996547, 1683692.9056149996, 1684786.7511126492, 1685881.218077716, 1686975.224132693, 1688069.5291518967, 1689163.027569282, 1690257.9903973418, 1691353.3536441403, 1692445.700590971, 1693539.3504318597, 1694631.2462741244, 1695724.5306150028], \"yaxis\": \"y\"}, {\"line\": {\"color\": \"#0072B2\", \"width\": 2}, \"mode\": \"lines\", \"name\": \"yearly\", \"type\": \"scatter\", \"x\": [\"2017-01-01T00:00:00\", \"2017-01-02T00:00:59.178082\", \"2017-01-03T00:01:58.356164\", \"2017-01-04T00:02:57.534246\", \"2017-01-05T00:03:56.712328\", \"2017-01-06T00:04:55.890411\", \"2017-01-07T00:05:55.068493\", \"2017-01-08T00:06:54.246575\", \"2017-01-09T00:07:53.424657\", \"2017-01-10T00:08:52.602739\", \"2017-01-11T00:09:51.780822\", \"2017-01-12T00:10:50.958904\", \"2017-01-13T00:11:50.136986\", \"2017-01-14T00:12:49.315068\", \"2017-01-15T00:13:48.493150\", \"2017-01-16T00:14:47.671232\", \"2017-01-17T00:15:46.849315\", \"2017-01-18T00:16:46.027397\", \"2017-01-19T00:17:45.205479\", \"2017-01-20T00:18:44.383561\", \"2017-01-21T00:19:43.561643\", \"2017-01-22T00:20:42.739726\", \"2017-01-23T00:21:41.917808\", \"2017-01-24T00:22:41.095890\", \"2017-01-25T00:23:40.273972\", \"2017-01-26T00:24:39.452054\", \"2017-01-27T00:25:38.630137\", \"2017-01-28T00:26:37.808219\", \"2017-01-29T00:27:36.986301\", \"2017-01-30T00:28:36.164383\", \"2017-01-31T00:29:35.342465\", \"2017-02-01T00:30:34.520547\", \"2017-02-02T00:31:33.698630\", \"2017-02-03T00:32:32.876712\", \"2017-02-04T00:33:32.054794\", \"2017-02-05T00:34:31.232876\", \"2017-02-06T00:35:30.410958\", \"2017-02-07T00:36:29.589041\", \"2017-02-08T00:37:28.767123\", \"2017-02-09T00:38:27.945205\", \"2017-02-10T00:39:27.123287\", \"2017-02-11T00:40:26.301369\", \"2017-02-12T00:41:25.479452\", \"2017-02-13T00:42:24.657534\", \"2017-02-14T00:43:23.835616\", \"2017-02-15T00:44:23.013698\", \"2017-02-16T00:45:22.191780\", \"2017-02-17T00:46:21.369862\", \"2017-02-18T00:47:20.547945\", \"2017-02-19T00:48:19.726027\", \"2017-02-20T00:49:18.904109\", \"2017-02-21T00:50:18.082191\", \"2017-02-22T00:51:17.260273\", \"2017-02-23T00:52:16.438356\", \"2017-02-24T00:53:15.616438\", \"2017-02-25T00:54:14.794520\", \"2017-02-26T00:55:13.972602\", \"2017-02-27T00:56:13.150684\", \"2017-02-28T00:57:12.328767\", \"2017-03-01T00:58:11.506849\", \"2017-03-02T00:59:10.684931\", \"2017-03-03T01:00:09.863013\", \"2017-03-04T01:01:09.041095\", \"2017-03-05T01:02:08.219177\", \"2017-03-06T01:03:07.397260\", \"2017-03-07T01:04:06.575342\", \"2017-03-08T01:05:05.753424\", \"2017-03-09T01:06:04.931506\", \"2017-03-10T01:07:04.109588\", \"2017-03-11T01:08:03.287671\", \"2017-03-12T01:09:02.465753\", \"2017-03-13T01:10:01.643835\", \"2017-03-14T01:11:00.821917\", \"2017-03-15T01:12:00\", \"2017-03-16T01:12:59.178082\", \"2017-03-17T01:13:58.356164\", \"2017-03-18T01:14:57.534246\", \"2017-03-19T01:15:56.712328\", \"2017-03-20T01:16:55.890411\", \"2017-03-21T01:17:55.068493\", \"2017-03-22T01:18:54.246575\", \"2017-03-23T01:19:53.424657\", \"2017-03-24T01:20:52.602739\", \"2017-03-25T01:21:51.780822\", \"2017-03-26T01:22:50.958904\", \"2017-03-27T01:23:50.136986\", \"2017-03-28T01:24:49.315068\", \"2017-03-29T01:25:48.493150\", \"2017-03-30T01:26:47.671232\", \"2017-03-31T01:27:46.849315\", \"2017-04-01T01:28:46.027397\", \"2017-04-02T01:29:45.205479\", \"2017-04-03T01:30:44.383561\", \"2017-04-04T01:31:43.561643\", \"2017-04-05T01:32:42.739726\", \"2017-04-06T01:33:41.917808\", \"2017-04-07T01:34:41.095890\", \"2017-04-08T01:35:40.273972\", \"2017-04-09T01:36:39.452054\", \"2017-04-10T01:37:38.630137\", \"2017-04-11T01:38:37.808219\", \"2017-04-12T01:39:36.986301\", \"2017-04-13T01:40:36.164383\", \"2017-04-14T01:41:35.342465\", \"2017-04-15T01:42:34.520547\", \"2017-04-16T01:43:33.698630\", \"2017-04-17T01:44:32.876712\", \"2017-04-18T01:45:32.054794\", \"2017-04-19T01:46:31.232876\", \"2017-04-20T01:47:30.410958\", \"2017-04-21T01:48:29.589041\", \"2017-04-22T01:49:28.767123\", \"2017-04-23T01:50:27.945205\", \"2017-04-24T01:51:27.123287\", \"2017-04-25T01:52:26.301369\", \"2017-04-26T01:53:25.479452\", \"2017-04-27T01:54:24.657534\", \"2017-04-28T01:55:23.835616\", \"2017-04-29T01:56:23.013698\", \"2017-04-30T01:57:22.191780\", \"2017-05-01T01:58:21.369862\", \"2017-05-02T01:59:20.547945\", \"2017-05-03T02:00:19.726027\", \"2017-05-04T02:01:18.904109\", \"2017-05-05T02:02:18.082191\", \"2017-05-06T02:03:17.260273\", \"2017-05-07T02:04:16.438356\", \"2017-05-08T02:05:15.616438\", \"2017-05-09T02:06:14.794520\", \"2017-05-10T02:07:13.972602\", \"2017-05-11T02:08:13.150684\", \"2017-05-12T02:09:12.328767\", \"2017-05-13T02:10:11.506849\", \"2017-05-14T02:11:10.684931\", \"2017-05-15T02:12:09.863013\", \"2017-05-16T02:13:09.041095\", \"2017-05-17T02:14:08.219177\", \"2017-05-18T02:15:07.397260\", \"2017-05-19T02:16:06.575342\", \"2017-05-20T02:17:05.753424\", \"2017-05-21T02:18:04.931506\", \"2017-05-22T02:19:04.109588\", \"2017-05-23T02:20:03.287671\", \"2017-05-24T02:21:02.465753\", \"2017-05-25T02:22:01.643835\", \"2017-05-26T02:23:00.821917\", \"2017-05-27T02:24:00\", \"2017-05-28T02:24:59.178082\", \"2017-05-29T02:25:58.356164\", \"2017-05-30T02:26:57.534246\", \"2017-05-31T02:27:56.712328\", \"2017-06-01T02:28:55.890411\", \"2017-06-02T02:29:55.068493\", \"2017-06-03T02:30:54.246575\", \"2017-06-04T02:31:53.424657\", \"2017-06-05T02:32:52.602739\", \"2017-06-06T02:33:51.780822\", \"2017-06-07T02:34:50.958904\", \"2017-06-08T02:35:50.136986\", \"2017-06-09T02:36:49.315068\", \"2017-06-10T02:37:48.493150\", \"2017-06-11T02:38:47.671232\", \"2017-06-12T02:39:46.849315\", \"2017-06-13T02:40:46.027397\", \"2017-06-14T02:41:45.205479\", \"2017-06-15T02:42:44.383561\", \"2017-06-16T02:43:43.561643\", \"2017-06-17T02:44:42.739726\", \"2017-06-18T02:45:41.917808\", \"2017-06-19T02:46:41.095890\", \"2017-06-20T02:47:40.273972\", \"2017-06-21T02:48:39.452054\", \"2017-06-22T02:49:38.630137\", \"2017-06-23T02:50:37.808219\", \"2017-06-24T02:51:36.986301\", \"2017-06-25T02:52:36.164383\", \"2017-06-26T02:53:35.342465\", \"2017-06-27T02:54:34.520547\", \"2017-06-28T02:55:33.698630\", \"2017-06-29T02:56:32.876712\", \"2017-06-30T02:57:32.054794\", \"2017-07-01T02:58:31.232876\", \"2017-07-02T02:59:30.410958\", \"2017-07-03T03:00:29.589041\", \"2017-07-04T03:01:28.767123\", \"2017-07-05T03:02:27.945205\", \"2017-07-06T03:03:27.123287\", \"2017-07-07T03:04:26.301369\", \"2017-07-08T03:05:25.479452\", \"2017-07-09T03:06:24.657534\", \"2017-07-10T03:07:23.835616\", \"2017-07-11T03:08:23.013698\", \"2017-07-12T03:09:22.191780\", \"2017-07-13T03:10:21.369862\", \"2017-07-14T03:11:20.547945\", \"2017-07-15T03:12:19.726027\", \"2017-07-16T03:13:18.904109\", \"2017-07-17T03:14:18.082191\", \"2017-07-18T03:15:17.260273\", \"2017-07-19T03:16:16.438356\", \"2017-07-20T03:17:15.616438\", \"2017-07-21T03:18:14.794520\", \"2017-07-22T03:19:13.972602\", \"2017-07-23T03:20:13.150684\", \"2017-07-24T03:21:12.328767\", \"2017-07-25T03:22:11.506849\", \"2017-07-26T03:23:10.684931\", \"2017-07-27T03:24:09.863013\", \"2017-07-28T03:25:09.041095\", \"2017-07-29T03:26:08.219177\", \"2017-07-30T03:27:07.397260\", \"2017-07-31T03:28:06.575342\", \"2017-08-01T03:29:05.753424\", \"2017-08-02T03:30:04.931506\", \"2017-08-03T03:31:04.109588\", \"2017-08-04T03:32:03.287671\", \"2017-08-05T03:33:02.465753\", \"2017-08-06T03:34:01.643835\", \"2017-08-07T03:35:00.821917\", \"2017-08-08T03:36:00\", \"2017-08-09T03:36:59.178082\", \"2017-08-10T03:37:58.356164\", \"2017-08-11T03:38:57.534246\", \"2017-08-12T03:39:56.712328\", \"2017-08-13T03:40:55.890411\", \"2017-08-14T03:41:55.068493\", \"2017-08-15T03:42:54.246575\", \"2017-08-16T03:43:53.424657\", \"2017-08-17T03:44:52.602739\", \"2017-08-18T03:45:51.780822\", \"2017-08-19T03:46:50.958904\", \"2017-08-20T03:47:50.136986\", \"2017-08-21T03:48:49.315068\", \"2017-08-22T03:49:48.493150\", \"2017-08-23T03:50:47.671232\", \"2017-08-24T03:51:46.849315\", \"2017-08-25T03:52:46.027397\", \"2017-08-26T03:53:45.205479\", \"2017-08-27T03:54:44.383561\", \"2017-08-28T03:55:43.561643\", \"2017-08-29T03:56:42.739726\", \"2017-08-30T03:57:41.917808\", \"2017-08-31T03:58:41.095890\", \"2017-09-01T03:59:40.273972\", \"2017-09-02T04:00:39.452054\", \"2017-09-03T04:01:38.630137\", \"2017-09-04T04:02:37.808219\", \"2017-09-05T04:03:36.986301\", \"2017-09-06T04:04:36.164383\", \"2017-09-07T04:05:35.342465\", \"2017-09-08T04:06:34.520547\", \"2017-09-09T04:07:33.698630\", \"2017-09-10T04:08:32.876712\", \"2017-09-11T04:09:32.054794\", \"2017-09-12T04:10:31.232876\", \"2017-09-13T04:11:30.410958\", \"2017-09-14T04:12:29.589041\", \"2017-09-15T04:13:28.767123\", \"2017-09-16T04:14:27.945205\", \"2017-09-17T04:15:27.123287\", \"2017-09-18T04:16:26.301369\", \"2017-09-19T04:17:25.479452\", \"2017-09-20T04:18:24.657534\", \"2017-09-21T04:19:23.835616\", \"2017-09-22T04:20:23.013698\", \"2017-09-23T04:21:22.191780\", \"2017-09-24T04:22:21.369862\", \"2017-09-25T04:23:20.547945\", \"2017-09-26T04:24:19.726027\", \"2017-09-27T04:25:18.904109\", \"2017-09-28T04:26:18.082191\", \"2017-09-29T04:27:17.260273\", \"2017-09-30T04:28:16.438356\", \"2017-10-01T04:29:15.616438\", \"2017-10-02T04:30:14.794520\", \"2017-10-03T04:31:13.972602\", \"2017-10-04T04:32:13.150684\", \"2017-10-05T04:33:12.328767\", \"2017-10-06T04:34:11.506849\", \"2017-10-07T04:35:10.684931\", \"2017-10-08T04:36:09.863013\", \"2017-10-09T04:37:09.041095\", \"2017-10-10T04:38:08.219177\", \"2017-10-11T04:39:07.397260\", \"2017-10-12T04:40:06.575342\", \"2017-10-13T04:41:05.753424\", \"2017-10-14T04:42:04.931506\", \"2017-10-15T04:43:04.109588\", \"2017-10-16T04:44:03.287671\", \"2017-10-17T04:45:02.465753\", \"2017-10-18T04:46:01.643835\", \"2017-10-19T04:47:00.821917\", \"2017-10-20T04:48:00\", \"2017-10-21T04:48:59.178082\", \"2017-10-22T04:49:58.356164\", \"2017-10-23T04:50:57.534246\", \"2017-10-24T04:51:56.712328\", \"2017-10-25T04:52:55.890411\", \"2017-10-26T04:53:55.068493\", \"2017-10-27T04:54:54.246575\", \"2017-10-28T04:55:53.424657\", \"2017-10-29T04:56:52.602739\", \"2017-10-30T04:57:51.780822\", \"2017-10-31T04:58:50.958904\", \"2017-11-01T04:59:50.136986\", \"2017-11-02T05:00:49.315068\", \"2017-11-03T05:01:48.493150\", \"2017-11-04T05:02:47.671232\", \"2017-11-05T05:03:46.849315\", \"2017-11-06T05:04:46.027397\", \"2017-11-07T05:05:45.205479\", \"2017-11-08T05:06:44.383561\", \"2017-11-09T05:07:43.561643\", \"2017-11-10T05:08:42.739726\", \"2017-11-11T05:09:41.917808\", \"2017-11-12T05:10:41.095890\", \"2017-11-13T05:11:40.273972\", \"2017-11-14T05:12:39.452054\", \"2017-11-15T05:13:38.630137\", \"2017-11-16T05:14:37.808219\", \"2017-11-17T05:15:36.986301\", \"2017-11-18T05:16:36.164383\", \"2017-11-19T05:17:35.342465\", \"2017-11-20T05:18:34.520547\", \"2017-11-21T05:19:33.698630\", \"2017-11-22T05:20:32.876712\", \"2017-11-23T05:21:32.054794\", \"2017-11-24T05:22:31.232876\", \"2017-11-25T05:23:30.410958\", \"2017-11-26T05:24:29.589041\", \"2017-11-27T05:25:28.767123\", \"2017-11-28T05:26:27.945205\", \"2017-11-29T05:27:27.123287\", \"2017-11-30T05:28:26.301369\", \"2017-12-01T05:29:25.479452\", \"2017-12-02T05:30:24.657534\", \"2017-12-03T05:31:23.835616\", \"2017-12-04T05:32:23.013698\", \"2017-12-05T05:33:22.191780\", \"2017-12-06T05:34:21.369862\", \"2017-12-07T05:35:20.547945\", \"2017-12-08T05:36:19.726027\", \"2017-12-09T05:37:18.904109\", \"2017-12-10T05:38:18.082191\", \"2017-12-11T05:39:17.260273\", \"2017-12-12T05:40:16.438356\", \"2017-12-13T05:41:15.616438\", \"2017-12-14T05:42:14.794520\", \"2017-12-15T05:43:13.972602\", \"2017-12-16T05:44:13.150684\", \"2017-12-17T05:45:12.328767\", \"2017-12-18T05:46:11.506849\", \"2017-12-19T05:47:10.684931\", \"2017-12-20T05:48:09.863013\", \"2017-12-21T05:49:09.041095\", \"2017-12-22T05:50:08.219177\", \"2017-12-23T05:51:07.397260\", \"2017-12-24T05:52:06.575342\", \"2017-12-25T05:53:05.753424\", \"2017-12-26T05:54:04.931506\", \"2017-12-27T05:55:04.109588\", \"2017-12-28T05:56:03.287671\", \"2017-12-29T05:57:02.465753\", \"2017-12-30T05:58:01.643835\", \"2017-12-31T05:59:00.821917\"], \"xaxis\": \"x2\", \"y\": [133316.7021843318, 94719.12369855371, 55468.56385460008, 16109.800643228498, -22804.908177963593, -60726.476679961605, -97119.60733393388, -131473.13402836604, -163309.86003202124, -192195.67207220208, -217747.72962664234, -239641.55125926924, -257616.84675517082, -271481.9742221949, -281116.93443908164, -286474.84969168814, -287581.910252217, -284535.8076124973, -277502.70867994137, -266712.8585110211, -252454.9299704478, -235069.26622711032, -214940.18557458566, -192487.5371544811, -168157.7103520628, -142414.30963390876, -115728.71026146265, -88570.7086376377, -61399.47415513372, -34654.99758252544, -8750.214633431347, 15936.037074437745, 39065.09335892816, 60343.463464814464, 79526.67576190668, 96421.92015074728, 110889.46858390167, 122842.88517457014, 132248.0663130036, 139121.17833190438, 143525.58487868577, 145567.8777017577, 145393.142538714, 143179.60584368714, 139132.81793302728, 133479.53362752736, 126461.45259658269, 118328.97846762874, 109335.1485542885, 99729.87510797092, 89754.62470674037, 79637.64526611532, 69589.83074305455, 59801.292508487124, 50438.68423383387, 41643.304606731646, 33529.97991961827, 26186.70716080516, 19675.018272373134, 14031.008227315773, 9266.95397534775, 5373.438469248264, 2321.884191097159, 67.39402455847905, -1448.205959240274, -2293.2272347133708, -2542.9853514833144, -2276.768431951615, -1574.9950447605854, -516.6377979310078, 823.0239430463184, 2374.2731607759815, 4074.412333677032, 5868.790522879638, 7711.39787734393, 9565.040028068004, 11401.118788693611, 13199.058067013379, 14945.42456406324, 16632.801402826706, 18258.479077291806, 19823.031901429324, 21328.849420126146, 22778.691042320224, 24174.328580653255, 25515.33561517789, 26798.074886614664, 28014.92557762004, 29153.781713090782, 30197.841391539016, 31125.69456110676, 31911.704998286357, 32526.670448076893, 32938.733939584505, 33114.50946642971, 33020.376842329475, 32623.89387653036, 31895.2692767952, 30808.83702136406, 29344.472420521484, 27488.891714931666, 25236.780761726088, 22591.70400393742, 19566.752300982633, 16184.897058804534, 12479.028136846908, 8491.663876237197, 4274.332924814954, -113.36105289527929, -4604.969585631012, -9128.691898709225, -13609.08767833475, -17968.960002089592, -22131.351888041027, -26021.595295913045, -29569.348779051546, -32710.55943542557, -35389.286361587154, -37559.326430975045, -39185.588792681054, -40245.171838948125, -40728.10529398289, -40637.730250150606, -39990.701095623226, -38816.604992549925, -37157.20649833486, -35065.33669824311, -32603.45745559693, -29841.941730776427, -26857.120034858737, -23729.1506777566, -20539.77729613742, -17370.041011108788, -14298.016344462016, -11396.639643541284, -8731.69624027792, -6360.027966710562, -4328.016103826716, -2670.386553519781, -1409.3742468020678, -554.272835886382, -101.38390129430611, -34.367605722512444, -324.98432382372505, -934.2046576376241, -1813.6537916528544, -2907.345702698394, -4153.653651348428, -5487.455924102269, -6842.390207930024, -8153.146438125168, -9357.726582548921, -10399.60065599393, -11229.69128037461, -11808.124227892211, -12105.689453983634, -12104.96592830108, -11801.073837492837, -11202.029148234336, -10328.687733278675, -9214.278898308794, -7903.540817417242, -6451.482695036721, -4921.810043685033, -3385.059939522941, -1916.5021685374431, -593.8695193089953, 505.0141087156459, 1304.6358071363102, 1734.1528990849838, 1729.637392202603, 1236.137080589157, 209.4902032987551, -1382.1620168619486, -3557.2114951132357, -6319.8040385837485, -9659.46902026191, -13551.169828416147, -17955.774146891697, -22820.930350056966, -28082.323949422374, -33665.2764881608, -39486.63890498377, -45456.92249995192, -51482.60350866996, -57468.53215222409, -63320.37403373687, -68947.01099551433, -74262.83005708634, -79189.83277468076, -83659.50318389454, -87614.38022587606, -91009.28997164317, -93812.20375416747, -96004.70015508245, -97582.02130105963, -98552.72670805323, -98937.96056908587, -98770.36051240777, -98092.64707554382, -96955.94309233029, -95417.88055690711, -93540.5590402423, -91388.42418332993, -89026.13702827902, -86516.5048997649, -83918.54220789751, -81285.72498072204, -78664.49628692858, -76093.07118501715, -73600.57969944515, -71206.5748980637, -68920.92078950354, -66744.06186869586, -64667.66312797314, -62675.59663904727, -60745.238811199815, -58849.03153855365, -56956.251026243124, -55034.920445296884, -53053.7969805924, -50984.3604959396, -48802.730086503, -46491.43626810227, -44040.980450080824, -41451.11955575174, -38731.82201361539, -35903.851607713164, -32998.94753665114, -30059.582126491678, -27138.291574620922, -24296.589426790528, -21603.48676331708, -19133.656826259303, -16965.294618274078, -15177.733416242174, -13848.889785534811, -13052.616219253265, -12856.045682689492, -13317.014916779917, -14481.653214845148, -16382.220492825385, -19035.27286454764, -22440.22573556027, -26578.37384993343, -31412.41504935179, -36886.51008622184, -42926.895084206146, -49443.046624961564, -56329.38244883358, -63467.46390835772, -70728.6501222311, -77977.13875101722, -85073.31493700265, -91877.31864989348, -98252.73184815628, -104070.28080808508, -109211.4459285433, -113571.8714355763, -117064.47074231949, -119622.12972595406, -121199.91972973819, -121776.74445394473, -121356.35974891543, -119967.72227153952, -117664.64154529158, -114524.72965797326, -110647.66307362972, -106152.79124194384, -101176.14626467298, -95866.92623526015, -90383.54145207442, -84889.32699437758, -79548.03669403757, -74519.24195023625, -69953.76381986694, -65989.26817839769, -62746.15138122202, -60323.83777531306, -58797.60073616908, -58216.00585354674, -58599.05879326915, -59937.12163677702, -62190.64064424804, -65290.70597674255, -69140.44056307965, -73617.19167264971, -78575.47552776874, -83850.60313454537, -89262.89507876453, -94622.37493683163, -99733.81574143324, -104402.00209341857, -108437.06241575767, -111659.72178060832, -113906.32588391441, -115033.49114401606, -114922.24449813669, -113481.5290712537, -110650.9681953215, -106402.79984755412, -100742.91594150857, -93710.96544738606, -85379.5063675704, -75852.2184355246, -65261.21528668026, -53763.521008116186, -41536.80066348346, -28774.45688884169, -15680.224300299134, -2462.409656027392, 10672.06203282119, 23523.627340634706, 35905.918833499396, 47651.28415621954, 58615.826214993176, 68683.81185402542, 77771.31185408926, 85828.95457902484, 92843.6986753351, 98839.5562935054, 103877.22666178911, 108052.629748461, 111494.36038728108, 114360.11377467719, 116832.16283357376, 119111.9957493479, 121414.24722917657, 123960.07899493934, 126970.18304549603, 130657.59477627264, 135220.51169850884, 140835.31695891693, 147650.00497017373, 155778.1992054439, 165293.9397258553, 176227.4005679443, 188561.67513555163, 202230.74175713773, 217118.69223357557, 233060.27426690972, 249842.76494469715, 267209.15784358216, 284862.61171577265, 302472.0750445848, 319678.9689127771, 336104.7814585868, 351359.4015047923, 365049.9974273877, 376790.23059091234, 386209.58118085767, 392962.55835430505, 396737.56650082424, 397265.2050925755, 394325.79100162507, 387755.90900482784, 377453.8180809556, 363383.5674911427, 345577.706863501, 324138.50781423476, 299237.6501973752, 271114.3629622829, 240072.04690343406, 206473.44332964363, 170734.44795322474], \"yaxis\": \"y2\"}],\n",
              "                        {\"height\": 400, \"showlegend\": false, \"template\": {\"data\": {\"bar\": [{\"error_x\": {\"color\": \"#2a3f5f\"}, \"error_y\": {\"color\": \"#2a3f5f\"}, \"marker\": {\"line\": {\"color\": \"#E5ECF6\", \"width\": 0.5}}, \"type\": \"bar\"}], \"barpolar\": [{\"marker\": {\"line\": {\"color\": \"#E5ECF6\", \"width\": 0.5}}, \"type\": \"barpolar\"}], \"carpet\": [{\"aaxis\": {\"endlinecolor\": \"#2a3f5f\", \"gridcolor\": \"white\", \"linecolor\": \"white\", \"minorgridcolor\": \"white\", \"startlinecolor\": \"#2a3f5f\"}, \"baxis\": {\"endlinecolor\": \"#2a3f5f\", \"gridcolor\": \"white\", \"linecolor\": \"white\", \"minorgridcolor\": \"white\", \"startlinecolor\": \"#2a3f5f\"}, \"type\": \"carpet\"}], \"choropleth\": [{\"colorbar\": {\"outlinewidth\": 0, \"ticks\": \"\"}, \"type\": \"choropleth\"}], \"contour\": [{\"colorbar\": {\"outlinewidth\": 0, \"ticks\": \"\"}, \"colorscale\": [[0.0, \"#0d0887\"], [0.1111111111111111, \"#46039f\"], [0.2222222222222222, \"#7201a8\"], [0.3333333333333333, \"#9c179e\"], [0.4444444444444444, \"#bd3786\"], [0.5555555555555556, \"#d8576b\"], [0.6666666666666666, \"#ed7953\"], [0.7777777777777778, \"#fb9f3a\"], [0.8888888888888888, \"#fdca26\"], [1.0, \"#f0f921\"]], \"type\": \"contour\"}], \"contourcarpet\": [{\"colorbar\": {\"outlinewidth\": 0, \"ticks\": \"\"}, \"type\": \"contourcarpet\"}], \"heatmap\": [{\"colorbar\": {\"outlinewidth\": 0, \"ticks\": \"\"}, \"colorscale\": [[0.0, \"#0d0887\"], [0.1111111111111111, \"#46039f\"], [0.2222222222222222, \"#7201a8\"], [0.3333333333333333, \"#9c179e\"], [0.4444444444444444, \"#bd3786\"], [0.5555555555555556, \"#d8576b\"], [0.6666666666666666, \"#ed7953\"], [0.7777777777777778, \"#fb9f3a\"], [0.8888888888888888, \"#fdca26\"], [1.0, \"#f0f921\"]], \"type\": \"heatmap\"}], \"heatmapgl\": [{\"colorbar\": {\"outlinewidth\": 0, \"ticks\": \"\"}, \"colorscale\": [[0.0, \"#0d0887\"], [0.1111111111111111, \"#46039f\"], [0.2222222222222222, \"#7201a8\"], [0.3333333333333333, \"#9c179e\"], [0.4444444444444444, \"#bd3786\"], [0.5555555555555556, \"#d8576b\"], [0.6666666666666666, \"#ed7953\"], [0.7777777777777778, \"#fb9f3a\"], [0.8888888888888888, \"#fdca26\"], [1.0, \"#f0f921\"]], \"type\": \"heatmapgl\"}], \"histogram\": [{\"marker\": {\"colorbar\": {\"outlinewidth\": 0, \"ticks\": \"\"}}, \"type\": \"histogram\"}], \"histogram2d\": [{\"colorbar\": {\"outlinewidth\": 0, \"ticks\": \"\"}, \"colorscale\": [[0.0, \"#0d0887\"], [0.1111111111111111, \"#46039f\"], [0.2222222222222222, \"#7201a8\"], [0.3333333333333333, \"#9c179e\"], [0.4444444444444444, \"#bd3786\"], [0.5555555555555556, \"#d8576b\"], [0.6666666666666666, \"#ed7953\"], [0.7777777777777778, \"#fb9f3a\"], [0.8888888888888888, \"#fdca26\"], [1.0, \"#f0f921\"]], \"type\": \"histogram2d\"}], \"histogram2dcontour\": [{\"colorbar\": {\"outlinewidth\": 0, \"ticks\": \"\"}, \"colorscale\": [[0.0, \"#0d0887\"], [0.1111111111111111, \"#46039f\"], [0.2222222222222222, \"#7201a8\"], [0.3333333333333333, \"#9c179e\"], [0.4444444444444444, \"#bd3786\"], [0.5555555555555556, \"#d8576b\"], [0.6666666666666666, \"#ed7953\"], [0.7777777777777778, \"#fb9f3a\"], [0.8888888888888888, \"#fdca26\"], [1.0, \"#f0f921\"]], \"type\": \"histogram2dcontour\"}], \"mesh3d\": [{\"colorbar\": {\"outlinewidth\": 0, \"ticks\": \"\"}, \"type\": \"mesh3d\"}], \"parcoords\": [{\"line\": {\"colorbar\": {\"outlinewidth\": 0, \"ticks\": \"\"}}, \"type\": \"parcoords\"}], \"pie\": [{\"automargin\": true, \"type\": \"pie\"}], \"scatter\": [{\"marker\": {\"colorbar\": {\"outlinewidth\": 0, \"ticks\": \"\"}}, \"type\": \"scatter\"}], \"scatter3d\": [{\"line\": {\"colorbar\": {\"outlinewidth\": 0, \"ticks\": \"\"}}, \"marker\": {\"colorbar\": {\"outlinewidth\": 0, \"ticks\": \"\"}}, \"type\": \"scatter3d\"}], \"scattercarpet\": [{\"marker\": {\"colorbar\": {\"outlinewidth\": 0, \"ticks\": \"\"}}, \"type\": \"scattercarpet\"}], \"scattergeo\": [{\"marker\": {\"colorbar\": {\"outlinewidth\": 0, \"ticks\": \"\"}}, \"type\": \"scattergeo\"}], \"scattergl\": [{\"marker\": {\"colorbar\": {\"outlinewidth\": 0, \"ticks\": \"\"}}, \"type\": \"scattergl\"}], \"scattermapbox\": [{\"marker\": {\"colorbar\": {\"outlinewidth\": 0, \"ticks\": \"\"}}, \"type\": \"scattermapbox\"}], \"scatterpolar\": [{\"marker\": {\"colorbar\": {\"outlinewidth\": 0, \"ticks\": \"\"}}, \"type\": \"scatterpolar\"}], \"scatterpolargl\": [{\"marker\": {\"colorbar\": {\"outlinewidth\": 0, \"ticks\": \"\"}}, \"type\": \"scatterpolargl\"}], \"scatterternary\": [{\"marker\": {\"colorbar\": {\"outlinewidth\": 0, \"ticks\": \"\"}}, \"type\": \"scatterternary\"}], \"surface\": [{\"colorbar\": {\"outlinewidth\": 0, \"ticks\": \"\"}, \"colorscale\": [[0.0, \"#0d0887\"], [0.1111111111111111, \"#46039f\"], [0.2222222222222222, \"#7201a8\"], [0.3333333333333333, \"#9c179e\"], [0.4444444444444444, \"#bd3786\"], [0.5555555555555556, \"#d8576b\"], [0.6666666666666666, \"#ed7953\"], [0.7777777777777778, \"#fb9f3a\"], [0.8888888888888888, \"#fdca26\"], [1.0, \"#f0f921\"]], \"type\": \"surface\"}], \"table\": [{\"cells\": {\"fill\": {\"color\": \"#EBF0F8\"}, \"line\": {\"color\": \"white\"}}, \"header\": {\"fill\": {\"color\": \"#C8D4E3\"}, \"line\": {\"color\": \"white\"}}, \"type\": \"table\"}]}, \"layout\": {\"annotationdefaults\": {\"arrowcolor\": \"#2a3f5f\", \"arrowhead\": 0, \"arrowwidth\": 1}, \"coloraxis\": {\"colorbar\": {\"outlinewidth\": 0, \"ticks\": \"\"}}, \"colorscale\": {\"diverging\": [[0, \"#8e0152\"], [0.1, \"#c51b7d\"], [0.2, \"#de77ae\"], [0.3, \"#f1b6da\"], [0.4, \"#fde0ef\"], [0.5, \"#f7f7f7\"], [0.6, \"#e6f5d0\"], [0.7, \"#b8e186\"], [0.8, \"#7fbc41\"], [0.9, \"#4d9221\"], [1, \"#276419\"]], \"sequential\": [[0.0, \"#0d0887\"], [0.1111111111111111, \"#46039f\"], [0.2222222222222222, \"#7201a8\"], [0.3333333333333333, \"#9c179e\"], [0.4444444444444444, \"#bd3786\"], [0.5555555555555556, \"#d8576b\"], [0.6666666666666666, \"#ed7953\"], [0.7777777777777778, \"#fb9f3a\"], [0.8888888888888888, \"#fdca26\"], [1.0, \"#f0f921\"]], \"sequentialminus\": [[0.0, \"#0d0887\"], [0.1111111111111111, \"#46039f\"], [0.2222222222222222, \"#7201a8\"], [0.3333333333333333, \"#9c179e\"], [0.4444444444444444, \"#bd3786\"], [0.5555555555555556, \"#d8576b\"], [0.6666666666666666, \"#ed7953\"], [0.7777777777777778, \"#fb9f3a\"], [0.8888888888888888, \"#fdca26\"], [1.0, \"#f0f921\"]]}, \"colorway\": [\"#636efa\", \"#EF553B\", \"#00cc96\", \"#ab63fa\", \"#FFA15A\", \"#19d3f3\", \"#FF6692\", \"#B6E880\", \"#FF97FF\", \"#FECB52\"], \"font\": {\"color\": \"#2a3f5f\"}, \"geo\": {\"bgcolor\": \"white\", \"lakecolor\": \"white\", \"landcolor\": \"#E5ECF6\", \"showlakes\": true, \"showland\": true, \"subunitcolor\": \"white\"}, \"hoverlabel\": {\"align\": \"left\"}, \"hovermode\": \"closest\", \"mapbox\": {\"style\": \"light\"}, \"paper_bgcolor\": \"white\", \"plot_bgcolor\": \"#E5ECF6\", \"polar\": {\"angularaxis\": {\"gridcolor\": \"white\", \"linecolor\": \"white\", \"ticks\": \"\"}, \"bgcolor\": \"#E5ECF6\", \"radialaxis\": {\"gridcolor\": \"white\", \"linecolor\": \"white\", \"ticks\": \"\"}}, \"scene\": {\"xaxis\": {\"backgroundcolor\": \"#E5ECF6\", \"gridcolor\": \"white\", \"gridwidth\": 2, \"linecolor\": \"white\", \"showbackground\": true, \"ticks\": \"\", \"zerolinecolor\": \"white\"}, \"yaxis\": {\"backgroundcolor\": \"#E5ECF6\", \"gridcolor\": \"white\", \"gridwidth\": 2, \"linecolor\": \"white\", \"showbackground\": true, \"ticks\": \"\", \"zerolinecolor\": \"white\"}, \"zaxis\": {\"backgroundcolor\": \"#E5ECF6\", \"gridcolor\": \"white\", \"gridwidth\": 2, \"linecolor\": \"white\", \"showbackground\": true, \"ticks\": \"\", \"zerolinecolor\": \"white\"}}, \"shapedefaults\": {\"line\": {\"color\": \"#2a3f5f\"}}, \"ternary\": {\"aaxis\": {\"gridcolor\": \"white\", \"linecolor\": \"white\", \"ticks\": \"\"}, \"baxis\": {\"gridcolor\": \"white\", \"linecolor\": \"white\", \"ticks\": \"\"}, \"bgcolor\": \"#E5ECF6\", \"caxis\": {\"gridcolor\": \"white\", \"linecolor\": \"white\", \"ticks\": \"\"}}, \"title\": {\"x\": 0.05}, \"xaxis\": {\"automargin\": true, \"gridcolor\": \"white\", \"linecolor\": \"white\", \"ticks\": \"\", \"title\": {\"standoff\": 15}, \"zerolinecolor\": \"white\", \"zerolinewidth\": 2}, \"yaxis\": {\"automargin\": true, \"gridcolor\": \"white\", \"linecolor\": \"white\", \"ticks\": \"\", \"title\": {\"standoff\": 15}, \"zerolinecolor\": \"white\", \"zerolinewidth\": 2}}}, \"width\": 900, \"xaxis\": {\"anchor\": \"y\", \"domain\": [0.0, 1.0], \"range\": [\"2009-11-29T08:24:00\", \"2013-12-26T15:36:00\"], \"type\": \"date\"}, \"xaxis2\": {\"anchor\": \"y2\", \"domain\": [0.0, 1.0], \"range\": [\"2016-12-13T18:54:02.958904115\", \"2018-01-18T11:04:57.863013581\"], \"tickformat\": \"%B %e\", \"type\": \"date\"}, \"yaxis\": {\"anchor\": \"x\", \"domain\": [0.575, 1.0], \"rangemode\": \"normal\", \"title\": {\"text\": \"trend\"}, \"zerolinecolor\": \"#AAA\"}, \"yaxis2\": {\"anchor\": \"x2\", \"domain\": [0.0, 0.425], \"title\": {\"text\": \"yearly\"}, \"zerolinecolor\": \"#AAA\"}},\n",
              "                        {\"responsive\": true}\n",
              "                    ).then(function(){\n",
              "                            \n",
              "var gd = document.getElementById('26294276-e854-47be-a781-2bbdcfa81df7');\n",
              "var x = new MutationObserver(function (mutations, observer) {{\n",
              "        var display = window.getComputedStyle(gd).display;\n",
              "        if (!display || display === 'none') {{\n",
              "            console.log([gd, 'removed!']);\n",
              "            Plotly.purge(gd);\n",
              "            observer.disconnect();\n",
              "        }}\n",
              "}});\n",
              "\n",
              "// Listen for the removal of the full notebook cells\n",
              "var notebookContainer = gd.closest('#notebook-container');\n",
              "if (notebookContainer) {{\n",
              "    x.observe(notebookContainer, {childList: true});\n",
              "}}\n",
              "\n",
              "// Listen for the clearing of the current output cell\n",
              "var outputEl = gd.closest('.output');\n",
              "if (outputEl) {{\n",
              "    x.observe(outputEl, {childList: true});\n",
              "}}\n",
              "\n",
              "                        })\n",
              "                };\n",
              "                \n",
              "            </script>\n",
              "        </div>\n",
              "</body>\n",
              "</html>"
            ]
          },
          "metadata": {
            "tags": []
          }
        }
      ]
    },
    {
      "cell_type": "code",
      "metadata": {
        "id": "9Fiy2v15DmW5"
      },
      "source": [
        "prophet = pd.read_csv('https://raw.githubusercontent.com/facebook/prophet/master/examples/example_wp_log_peyton_manning.csv')"
      ],
      "execution_count": null,
      "outputs": []
    },
    {
      "cell_type": "code",
      "metadata": {
        "colab": {
          "base_uri": "https://localhost:8080/",
          "height": 204
        },
        "id": "YmLMmB53vyrc",
        "outputId": "7942afd4-2414-4cff-db20-46893b88509d"
      },
      "source": [
        "prophet.head()"
      ],
      "execution_count": null,
      "outputs": [
        {
          "output_type": "execute_result",
          "data": {
            "text/html": [
              "<div>\n",
              "<style scoped>\n",
              "    .dataframe tbody tr th:only-of-type {\n",
              "        vertical-align: middle;\n",
              "    }\n",
              "\n",
              "    .dataframe tbody tr th {\n",
              "        vertical-align: top;\n",
              "    }\n",
              "\n",
              "    .dataframe thead th {\n",
              "        text-align: right;\n",
              "    }\n",
              "</style>\n",
              "<table border=\"1\" class=\"dataframe\">\n",
              "  <thead>\n",
              "    <tr style=\"text-align: right;\">\n",
              "      <th></th>\n",
              "      <th>ds</th>\n",
              "      <th>y</th>\n",
              "    </tr>\n",
              "  </thead>\n",
              "  <tbody>\n",
              "    <tr>\n",
              "      <th>0</th>\n",
              "      <td>2007-12-10</td>\n",
              "      <td>9.590761</td>\n",
              "    </tr>\n",
              "    <tr>\n",
              "      <th>1</th>\n",
              "      <td>2007-12-11</td>\n",
              "      <td>8.519590</td>\n",
              "    </tr>\n",
              "    <tr>\n",
              "      <th>2</th>\n",
              "      <td>2007-12-12</td>\n",
              "      <td>8.183677</td>\n",
              "    </tr>\n",
              "    <tr>\n",
              "      <th>3</th>\n",
              "      <td>2007-12-13</td>\n",
              "      <td>8.072467</td>\n",
              "    </tr>\n",
              "    <tr>\n",
              "      <th>4</th>\n",
              "      <td>2007-12-14</td>\n",
              "      <td>7.893572</td>\n",
              "    </tr>\n",
              "  </tbody>\n",
              "</table>\n",
              "</div>"
            ],
            "text/plain": [
              "           ds         y\n",
              "0  2007-12-10  9.590761\n",
              "1  2007-12-11  8.519590\n",
              "2  2007-12-12  8.183677\n",
              "3  2007-12-13  8.072467\n",
              "4  2007-12-14  7.893572"
            ]
          },
          "metadata": {
            "tags": []
          },
          "execution_count": 20
        }
      ]
    },
    {
      "cell_type": "code",
      "metadata": {
        "id": "-X6NOMFmv5D6"
      },
      "source": [
        "m = Prophet()"
      ],
      "execution_count": null,
      "outputs": []
    },
    {
      "cell_type": "code",
      "metadata": {
        "colab": {
          "base_uri": "https://localhost:8080/"
        },
        "id": "Yns-O79kwDsz",
        "outputId": "1be653b2-a61f-478c-92af-ef3431e3ee96"
      },
      "source": [
        "m.fit(prophet)"
      ],
      "execution_count": null,
      "outputs": [
        {
          "output_type": "stream",
          "text": [
            "INFO:fbprophet:Disabling daily seasonality. Run prophet with daily_seasonality=True to override this.\n"
          ],
          "name": "stderr"
        },
        {
          "output_type": "execute_result",
          "data": {
            "text/plain": [
              "<fbprophet.forecaster.Prophet at 0x7fea7929a210>"
            ]
          },
          "metadata": {
            "tags": []
          },
          "execution_count": 24
        }
      ]
    },
    {
      "cell_type": "code",
      "metadata": {
        "colab": {
          "base_uri": "https://localhost:8080/",
          "height": 204
        },
        "id": "jLl8TLWowNdQ",
        "outputId": "6d645e82-80ef-432e-f812-e5c9de377c80"
      },
      "source": [
        "future = m.make_future_dataframe(periods=90)\n",
        "future.tail()"
      ],
      "execution_count": null,
      "outputs": [
        {
          "output_type": "execute_result",
          "data": {
            "text/html": [
              "<div>\n",
              "<style scoped>\n",
              "    .dataframe tbody tr th:only-of-type {\n",
              "        vertical-align: middle;\n",
              "    }\n",
              "\n",
              "    .dataframe tbody tr th {\n",
              "        vertical-align: top;\n",
              "    }\n",
              "\n",
              "    .dataframe thead th {\n",
              "        text-align: right;\n",
              "    }\n",
              "</style>\n",
              "<table border=\"1\" class=\"dataframe\">\n",
              "  <thead>\n",
              "    <tr style=\"text-align: right;\">\n",
              "      <th></th>\n",
              "      <th>ds</th>\n",
              "    </tr>\n",
              "  </thead>\n",
              "  <tbody>\n",
              "    <tr>\n",
              "      <th>2990</th>\n",
              "      <td>2016-04-15</td>\n",
              "    </tr>\n",
              "    <tr>\n",
              "      <th>2991</th>\n",
              "      <td>2016-04-16</td>\n",
              "    </tr>\n",
              "    <tr>\n",
              "      <th>2992</th>\n",
              "      <td>2016-04-17</td>\n",
              "    </tr>\n",
              "    <tr>\n",
              "      <th>2993</th>\n",
              "      <td>2016-04-18</td>\n",
              "    </tr>\n",
              "    <tr>\n",
              "      <th>2994</th>\n",
              "      <td>2016-04-19</td>\n",
              "    </tr>\n",
              "  </tbody>\n",
              "</table>\n",
              "</div>"
            ],
            "text/plain": [
              "             ds\n",
              "2990 2016-04-15\n",
              "2991 2016-04-16\n",
              "2992 2016-04-17\n",
              "2993 2016-04-18\n",
              "2994 2016-04-19"
            ]
          },
          "metadata": {
            "tags": []
          },
          "execution_count": 40
        }
      ]
    },
    {
      "cell_type": "code",
      "metadata": {
        "colab": {
          "base_uri": "https://localhost:8080/"
        },
        "id": "qjBYk3igwYup",
        "outputId": "f48de0b2-856c-45a9-ab65-1f2a71ac2ff1"
      },
      "source": [
        "forecast = m.predict(future)\n",
        "forecast[['ds', 'yhat', 'yhat_lower', 'yhat_upper']].shape\n"
      ],
      "execution_count": null,
      "outputs": [
        {
          "output_type": "execute_result",
          "data": {
            "text/plain": [
              "(2995, 4)"
            ]
          },
          "metadata": {
            "tags": []
          },
          "execution_count": 41
        }
      ]
    },
    {
      "cell_type": "code",
      "metadata": {
        "colab": {
          "base_uri": "https://localhost:8080/",
          "height": 204
        },
        "id": "1458tSw2wc7f",
        "outputId": "9d80d29a-76f4-4747-c9e6-00c68b1c172d"
      },
      "source": [
        "prophet.tail()"
      ],
      "execution_count": null,
      "outputs": [
        {
          "output_type": "execute_result",
          "data": {
            "text/html": [
              "<div>\n",
              "<style scoped>\n",
              "    .dataframe tbody tr th:only-of-type {\n",
              "        vertical-align: middle;\n",
              "    }\n",
              "\n",
              "    .dataframe tbody tr th {\n",
              "        vertical-align: top;\n",
              "    }\n",
              "\n",
              "    .dataframe thead th {\n",
              "        text-align: right;\n",
              "    }\n",
              "</style>\n",
              "<table border=\"1\" class=\"dataframe\">\n",
              "  <thead>\n",
              "    <tr style=\"text-align: right;\">\n",
              "      <th></th>\n",
              "      <th>ds</th>\n",
              "      <th>y</th>\n",
              "    </tr>\n",
              "  </thead>\n",
              "  <tbody>\n",
              "    <tr>\n",
              "      <th>2900</th>\n",
              "      <td>2016-01-16</td>\n",
              "      <td>7.817223</td>\n",
              "    </tr>\n",
              "    <tr>\n",
              "      <th>2901</th>\n",
              "      <td>2016-01-17</td>\n",
              "      <td>9.273878</td>\n",
              "    </tr>\n",
              "    <tr>\n",
              "      <th>2902</th>\n",
              "      <td>2016-01-18</td>\n",
              "      <td>10.333775</td>\n",
              "    </tr>\n",
              "    <tr>\n",
              "      <th>2903</th>\n",
              "      <td>2016-01-19</td>\n",
              "      <td>9.125871</td>\n",
              "    </tr>\n",
              "    <tr>\n",
              "      <th>2904</th>\n",
              "      <td>2016-01-20</td>\n",
              "      <td>8.891374</td>\n",
              "    </tr>\n",
              "  </tbody>\n",
              "</table>\n",
              "</div>"
            ],
            "text/plain": [
              "              ds          y\n",
              "2900  2016-01-16   7.817223\n",
              "2901  2016-01-17   9.273878\n",
              "2902  2016-01-18  10.333775\n",
              "2903  2016-01-19   9.125871\n",
              "2904  2016-01-20   8.891374"
            ]
          },
          "metadata": {
            "tags": []
          },
          "execution_count": 27
        }
      ]
    },
    {
      "cell_type": "code",
      "metadata": {
        "colab": {
          "base_uri": "https://localhost:8080/",
          "height": 204
        },
        "id": "-CGrpWxZwfjT",
        "outputId": "98d8e4a4-b787-4f52-eed2-fea0e4034149"
      },
      "source": [
        "prophet.head()"
      ],
      "execution_count": null,
      "outputs": [
        {
          "output_type": "execute_result",
          "data": {
            "text/html": [
              "<div>\n",
              "<style scoped>\n",
              "    .dataframe tbody tr th:only-of-type {\n",
              "        vertical-align: middle;\n",
              "    }\n",
              "\n",
              "    .dataframe tbody tr th {\n",
              "        vertical-align: top;\n",
              "    }\n",
              "\n",
              "    .dataframe thead th {\n",
              "        text-align: right;\n",
              "    }\n",
              "</style>\n",
              "<table border=\"1\" class=\"dataframe\">\n",
              "  <thead>\n",
              "    <tr style=\"text-align: right;\">\n",
              "      <th></th>\n",
              "      <th>ds</th>\n",
              "      <th>y</th>\n",
              "    </tr>\n",
              "  </thead>\n",
              "  <tbody>\n",
              "    <tr>\n",
              "      <th>0</th>\n",
              "      <td>2007-12-10</td>\n",
              "      <td>9.590761</td>\n",
              "    </tr>\n",
              "    <tr>\n",
              "      <th>1</th>\n",
              "      <td>2007-12-11</td>\n",
              "      <td>8.519590</td>\n",
              "    </tr>\n",
              "    <tr>\n",
              "      <th>2</th>\n",
              "      <td>2007-12-12</td>\n",
              "      <td>8.183677</td>\n",
              "    </tr>\n",
              "    <tr>\n",
              "      <th>3</th>\n",
              "      <td>2007-12-13</td>\n",
              "      <td>8.072467</td>\n",
              "    </tr>\n",
              "    <tr>\n",
              "      <th>4</th>\n",
              "      <td>2007-12-14</td>\n",
              "      <td>7.893572</td>\n",
              "    </tr>\n",
              "  </tbody>\n",
              "</table>\n",
              "</div>"
            ],
            "text/plain": [
              "           ds         y\n",
              "0  2007-12-10  9.590761\n",
              "1  2007-12-11  8.519590\n",
              "2  2007-12-12  8.183677\n",
              "3  2007-12-13  8.072467\n",
              "4  2007-12-14  7.893572"
            ]
          },
          "metadata": {
            "tags": []
          },
          "execution_count": 31
        }
      ]
    },
    {
      "cell_type": "code",
      "metadata": {
        "colab": {
          "base_uri": "https://localhost:8080/"
        },
        "id": "IDp67C60ws2k",
        "outputId": "61d5924d-a86e-4501-d628-35c929344ba7"
      },
      "source": [
        "prophet.shape[0]- future.shape[0]"
      ],
      "execution_count": null,
      "outputs": [
        {
          "output_type": "execute_result",
          "data": {
            "text/plain": [
              "-100"
            ]
          },
          "metadata": {
            "tags": []
          },
          "execution_count": 38
        }
      ]
    },
    {
      "cell_type": "code",
      "metadata": {
        "id": "zEqkXn8Kw88P"
      },
      "source": [
        "test = pd.read_csv('https://raw.githubusercontent.com/naokityokoyama/infnet/main/test.csv')"
      ],
      "execution_count": null,
      "outputs": []
    },
    {
      "cell_type": "code",
      "metadata": {
        "colab": {
          "base_uri": "https://localhost:8080/",
          "height": 419
        },
        "id": "Nu78SXBvGNVJ",
        "outputId": "65b4c260-98fd-4414-88df-b6aac5a60aea"
      },
      "source": [
        "test"
      ],
      "execution_count": null,
      "outputs": [
        {
          "output_type": "execute_result",
          "data": {
            "text/html": [
              "<div>\n",
              "<style scoped>\n",
              "    .dataframe tbody tr th:only-of-type {\n",
              "        vertical-align: middle;\n",
              "    }\n",
              "\n",
              "    .dataframe tbody tr th {\n",
              "        vertical-align: top;\n",
              "    }\n",
              "\n",
              "    .dataframe thead th {\n",
              "        text-align: right;\n",
              "    }\n",
              "</style>\n",
              "<table border=\"1\" class=\"dataframe\">\n",
              "  <thead>\n",
              "    <tr style=\"text-align: right;\">\n",
              "      <th></th>\n",
              "      <th>Store</th>\n",
              "      <th>Dept</th>\n",
              "      <th>Date</th>\n",
              "      <th>IsHoliday</th>\n",
              "    </tr>\n",
              "  </thead>\n",
              "  <tbody>\n",
              "    <tr>\n",
              "      <th>0</th>\n",
              "      <td>1</td>\n",
              "      <td>1</td>\n",
              "      <td>2012-11-02</td>\n",
              "      <td>False</td>\n",
              "    </tr>\n",
              "    <tr>\n",
              "      <th>1</th>\n",
              "      <td>1</td>\n",
              "      <td>1</td>\n",
              "      <td>2012-11-09</td>\n",
              "      <td>False</td>\n",
              "    </tr>\n",
              "    <tr>\n",
              "      <th>2</th>\n",
              "      <td>1</td>\n",
              "      <td>1</td>\n",
              "      <td>2012-11-16</td>\n",
              "      <td>False</td>\n",
              "    </tr>\n",
              "    <tr>\n",
              "      <th>3</th>\n",
              "      <td>1</td>\n",
              "      <td>1</td>\n",
              "      <td>2012-11-23</td>\n",
              "      <td>True</td>\n",
              "    </tr>\n",
              "    <tr>\n",
              "      <th>4</th>\n",
              "      <td>1</td>\n",
              "      <td>1</td>\n",
              "      <td>2012-11-30</td>\n",
              "      <td>False</td>\n",
              "    </tr>\n",
              "    <tr>\n",
              "      <th>...</th>\n",
              "      <td>...</td>\n",
              "      <td>...</td>\n",
              "      <td>...</td>\n",
              "      <td>...</td>\n",
              "    </tr>\n",
              "    <tr>\n",
              "      <th>115059</th>\n",
              "      <td>45</td>\n",
              "      <td>98</td>\n",
              "      <td>2013-06-28</td>\n",
              "      <td>False</td>\n",
              "    </tr>\n",
              "    <tr>\n",
              "      <th>115060</th>\n",
              "      <td>45</td>\n",
              "      <td>98</td>\n",
              "      <td>2013-07-05</td>\n",
              "      <td>False</td>\n",
              "    </tr>\n",
              "    <tr>\n",
              "      <th>115061</th>\n",
              "      <td>45</td>\n",
              "      <td>98</td>\n",
              "      <td>2013-07-12</td>\n",
              "      <td>False</td>\n",
              "    </tr>\n",
              "    <tr>\n",
              "      <th>115062</th>\n",
              "      <td>45</td>\n",
              "      <td>98</td>\n",
              "      <td>2013-07-19</td>\n",
              "      <td>False</td>\n",
              "    </tr>\n",
              "    <tr>\n",
              "      <th>115063</th>\n",
              "      <td>45</td>\n",
              "      <td>98</td>\n",
              "      <td>2013-07-26</td>\n",
              "      <td>False</td>\n",
              "    </tr>\n",
              "  </tbody>\n",
              "</table>\n",
              "<p>115064 rows × 4 columns</p>\n",
              "</div>"
            ],
            "text/plain": [
              "        Store  Dept        Date  IsHoliday\n",
              "0           1     1  2012-11-02      False\n",
              "1           1     1  2012-11-09      False\n",
              "2           1     1  2012-11-16      False\n",
              "3           1     1  2012-11-23       True\n",
              "4           1     1  2012-11-30      False\n",
              "...       ...   ...         ...        ...\n",
              "115059     45    98  2013-06-28      False\n",
              "115060     45    98  2013-07-05      False\n",
              "115061     45    98  2013-07-12      False\n",
              "115062     45    98  2013-07-19      False\n",
              "115063     45    98  2013-07-26      False\n",
              "\n",
              "[115064 rows x 4 columns]"
            ]
          },
          "metadata": {
            "tags": []
          },
          "execution_count": 160
        }
      ]
    },
    {
      "cell_type": "code",
      "metadata": {
        "colab": {
          "base_uri": "https://localhost:8080/",
          "height": 111
        },
        "id": "dhnNV87KGOfl",
        "outputId": "18a640ca-9130-4088-e9ff-73fc99ce6a0c"
      },
      "source": [
        "loja_1.tail(2)"
      ],
      "execution_count": null,
      "outputs": [
        {
          "output_type": "execute_result",
          "data": {
            "text/html": [
              "<div>\n",
              "<style scoped>\n",
              "    .dataframe tbody tr th:only-of-type {\n",
              "        vertical-align: middle;\n",
              "    }\n",
              "\n",
              "    .dataframe tbody tr th {\n",
              "        vertical-align: top;\n",
              "    }\n",
              "\n",
              "    .dataframe thead th {\n",
              "        text-align: right;\n",
              "    }\n",
              "</style>\n",
              "<table border=\"1\" class=\"dataframe\">\n",
              "  <thead>\n",
              "    <tr style=\"text-align: right;\">\n",
              "      <th></th>\n",
              "      <th>Store</th>\n",
              "      <th>Dept</th>\n",
              "      <th>Date</th>\n",
              "      <th>Weekly_Sales</th>\n",
              "      <th>IsHoliday</th>\n",
              "    </tr>\n",
              "  </thead>\n",
              "  <tbody>\n",
              "    <tr>\n",
              "      <th>10242</th>\n",
              "      <td>1</td>\n",
              "      <td>99</td>\n",
              "      <td>2012-10-05</td>\n",
              "      <td>635.0</td>\n",
              "      <td>False</td>\n",
              "    </tr>\n",
              "    <tr>\n",
              "      <th>10243</th>\n",
              "      <td>1</td>\n",
              "      <td>99</td>\n",
              "      <td>2012-10-12</td>\n",
              "      <td>80.0</td>\n",
              "      <td>False</td>\n",
              "    </tr>\n",
              "  </tbody>\n",
              "</table>\n",
              "</div>"
            ],
            "text/plain": [
              "       Store  Dept        Date  Weekly_Sales  IsHoliday\n",
              "10242      1    99  2012-10-05         635.0      False\n",
              "10243      1    99  2012-10-12          80.0      False"
            ]
          },
          "metadata": {
            "tags": []
          },
          "execution_count": 177
        }
      ]
    },
    {
      "cell_type": "code",
      "metadata": {
        "id": "dXQ0j61hHlvR"
      },
      "source": [
        ""
      ],
      "execution_count": null,
      "outputs": []
    }
  ]
}