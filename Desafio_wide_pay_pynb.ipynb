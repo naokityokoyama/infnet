{
  "nbformat": 4,
  "nbformat_minor": 0,
  "metadata": {
    "colab": {
      "name": "Desafio_wide_pay.pynb",
      "provenance": [],
      "collapsed_sections": [],
      "mount_file_id": "1Te9m-rTEmXZ_Sud1fIfhc-c43QXnFPdG",
      "authorship_tag": "ABX9TyPkQoydeMlTO1SGW60HtYEP",
      "include_colab_link": true
    },
    "kernelspec": {
      "name": "python3",
      "display_name": "Python 3"
    }
  },
  "cells": [
    {
      "cell_type": "markdown",
      "metadata": {
        "id": "view-in-github",
        "colab_type": "text"
      },
      "source": [
        "<a href=\"https://colab.research.google.com/github/naokityokoyama/infnet/blob/main/Desafio_wide_pay_pynb.ipynb\" target=\"_parent\"><img src=\"https://colab.research.google.com/assets/colab-badge.svg\" alt=\"Open In Colab\"/></a>"
      ]
    },
    {
      "cell_type": "code",
      "metadata": {
        "id": "kArZCKlC6nqo"
      },
      "source": [
        "import pandas as pd\n",
        "import matplotlib.pyplot as plt\n",
        "import seaborn as sns\n",
        "import numpy as np\n",
        "import string\n",
        "import plotly.offline as py\n",
        "import plotly.graph_objs as go\n",
        "from fbprophet import Prophet"
      ],
      "execution_count": null,
      "outputs": []
    },
    {
      "cell_type": "code",
      "metadata": {
        "colab": {
          "base_uri": "https://localhost:8080/"
        },
        "id": "JVnBsCefDAGm",
        "outputId": "b58019c7-de4b-4bde-c21f-7c86b66702d3"
      },
      "source": [
        "from google.colab import drive\n",
        "drive.mount('/content/drive')"
      ],
      "execution_count": null,
      "outputs": [
        {
          "output_type": "stream",
          "text": [
            "Drive already mounted at /content/drive; to attempt to forcibly remount, call drive.mount(\"/content/drive\", force_remount=True).\n"
          ],
          "name": "stdout"
        }
      ]
    },
    {
      "cell_type": "markdown",
      "metadata": {
        "id": "Wd2JcliKSu0m"
      },
      "source": [
        "Importando dados de 2017 a 2019 (pois devido a covid 19 e como os dados de 2020 não estão completos vamos descarta)"
      ]
    },
    {
      "cell_type": "code",
      "metadata": {
        "id": "IcOJAZkPDid_"
      },
      "source": [
        "dados = pd.read_csv('/content/drive/MyDrive/Data Science/cota-parlamentar.csv')"
      ],
      "execution_count": null,
      "outputs": []
    },
    {
      "cell_type": "code",
      "metadata": {
        "id": "Rw9eC9CV_yL-"
      },
      "source": [
        "dados = dados.dropna(subset=['datemissao'])"
      ],
      "execution_count": null,
      "outputs": []
    },
    {
      "cell_type": "code",
      "metadata": {
        "id": "Zk33k3XxAsY7"
      },
      "source": [
        "dados = dados[(dados['datemissao'] >= '2017-01-01') & (dados['datemissao'] <= '2019-12-31')]"
      ],
      "execution_count": null,
      "outputs": []
    },
    {
      "cell_type": "code",
      "metadata": {
        "id": "4NclS_tM_YRa"
      },
      "source": [
        "dados = dados.sort_values(by='datemissao', ascending=False)"
      ],
      "execution_count": null,
      "outputs": []
    },
    {
      "cell_type": "code",
      "metadata": {
        "colab": {
          "base_uri": "https://localhost:8080/"
        },
        "id": "pGRga47fD02l",
        "outputId": "16f03075-6d87-42af-96e8-f953deb7b841"
      },
      "source": [
        "dados.info()"
      ],
      "execution_count": null,
      "outputs": [
        {
          "output_type": "stream",
          "text": [
            "<class 'pandas.core.frame.DataFrame'>\n",
            "Int64Index: 889367 entries, 2329193 to 2974784\n",
            "Data columns (total 29 columns):\n",
            " #   Column                     Non-Null Count   Dtype  \n",
            "---  ------                     --------------   -----  \n",
            " 0   codlegislatura             889367 non-null  int64  \n",
            " 1   datemissao                 889367 non-null  object \n",
            " 2   idedocumento               889367 non-null  int64  \n",
            " 3   idecadastro                886795 non-null  float64\n",
            " 4   indtipodocumento           889367 non-null  int64  \n",
            " 5   nucarteiraparlamentar      886795 non-null  float64\n",
            " 6   nudeputadoid               889367 non-null  int64  \n",
            " 7   nulegislatura              889367 non-null  int64  \n",
            " 8   numano                     889367 non-null  int64  \n",
            " 9   numespecificacaosubcota    889367 non-null  int64  \n",
            " 10  numlote                    889367 non-null  int64  \n",
            " 11  nummes                     889367 non-null  int64  \n",
            " 12  numparcela                 889367 non-null  int64  \n",
            " 13  numressarcimento           350148 non-null  float64\n",
            " 14  numsubcota                 889367 non-null  int64  \n",
            " 15  sgpartido                  889367 non-null  object \n",
            " 16  sguf                       886795 non-null  object \n",
            " 17  txnomeparlamentar          889367 non-null  object \n",
            " 18  txtcnpjcpf                 889367 non-null  int64  \n",
            " 19  txtdescricao               889367 non-null  object \n",
            " 20  txtdescricaoespecificacao  196991 non-null  object \n",
            " 21  txtfornecedor              889359 non-null  object \n",
            " 22  txtnumero                  889367 non-null  object \n",
            " 23  txtpassageiro              280537 non-null  object \n",
            " 24  txttrecho                  281225 non-null  object \n",
            " 25  vlrdocumento               889367 non-null  float64\n",
            " 26  vlrglosa                   889367 non-null  float64\n",
            " 27  vlrliquido                 889367 non-null  float64\n",
            " 28  vlrrestituicao             328 non-null     float64\n",
            "dtypes: float64(7), int64(12), object(10)\n",
            "memory usage: 203.6+ MB\n"
          ],
          "name": "stdout"
        }
      ]
    },
    {
      "cell_type": "code",
      "metadata": {
        "colab": {
          "base_uri": "https://localhost:8080/"
        },
        "id": "kcdSUWGjE1UT",
        "outputId": "4d4ce3fd-c1dd-430a-ab49-7ed7fb748e42"
      },
      "source": [
        "dados.isnull().sum()"
      ],
      "execution_count": null,
      "outputs": [
        {
          "output_type": "execute_result",
          "data": {
            "text/plain": [
              "codlegislatura                    0\n",
              "datemissao                        0\n",
              "idedocumento                      0\n",
              "idecadastro                    2572\n",
              "indtipodocumento                  0\n",
              "nucarteiraparlamentar          2572\n",
              "nudeputadoid                      0\n",
              "nulegislatura                     0\n",
              "numano                            0\n",
              "numespecificacaosubcota           0\n",
              "numlote                           0\n",
              "nummes                            0\n",
              "numparcela                        0\n",
              "numressarcimento             539219\n",
              "numsubcota                        0\n",
              "sgpartido                         0\n",
              "sguf                           2572\n",
              "txnomeparlamentar                 0\n",
              "txtcnpjcpf                        0\n",
              "txtdescricao                      0\n",
              "txtdescricaoespecificacao    692376\n",
              "txtfornecedor                     8\n",
              "txtnumero                         0\n",
              "txtpassageiro                608830\n",
              "txttrecho                    608142\n",
              "vlrdocumento                      0\n",
              "vlrglosa                          0\n",
              "vlrliquido                        0\n",
              "vlrrestituicao               889039\n",
              "dtype: int64"
            ]
          },
          "metadata": {
            "tags": []
          },
          "execution_count": 7
        }
      ]
    },
    {
      "cell_type": "markdown",
      "metadata": {
        "id": "V1wkSOcOd81F"
      },
      "source": [
        "Apos analisar as Features cheguei a conclusão que apenas as features importantes sao \n",
        "Nome do Deputado, data, descricao e valor \n",
        "os restos das colunas nao tem relevancia para nosso modelo\n"
      ]
    },
    {
      "cell_type": "code",
      "metadata": {
        "id": "JM-NWj-e9v53"
      },
      "source": [
        "dados = dados[['datemissao', 'txnomeparlamentar', 'txtdescricao', 'vlrdocumento']].dropna()\n",
        "dados['datemissao'] = dados['datemissao'].apply(lambda x: x[0:10])"
      ],
      "execution_count": null,
      "outputs": []
    },
    {
      "cell_type": "code",
      "metadata": {
        "colab": {
          "base_uri": "https://localhost:8080/"
        },
        "id": "Ij0Igs_UdLAi",
        "outputId": "e52e9c70-dc64-43dd-c7ff-a5a97f7d18a4"
      },
      "source": [
        "dados.isnull().sum()"
      ],
      "execution_count": null,
      "outputs": [
        {
          "output_type": "execute_result",
          "data": {
            "text/plain": [
              "datemissao           0\n",
              "txnomeparlamentar    0\n",
              "txtdescricao         0\n",
              "vlrdocumento         0\n",
              "dtype: int64"
            ]
          },
          "metadata": {
            "tags": []
          },
          "execution_count": 15
        }
      ]
    },
    {
      "cell_type": "code",
      "metadata": {
        "id": "fbrPDjkw848U"
      },
      "source": [
        "dados['datemissao'] = pd.to_datetime(dados['datemissao'], format='%Y/%m/%d')"
      ],
      "execution_count": null,
      "outputs": []
    },
    {
      "cell_type": "code",
      "metadata": {
        "id": "S-CJcqY0iHs8"
      },
      "source": [
        "dados = dados.rename(columns={'datemissao': 'Data_Emissao', 'txnomeparlamentar': 'Nome','txtdescricao':'Despesa', 'vlrdocumento': 'Valor'})"
      ],
      "execution_count": null,
      "outputs": []
    },
    {
      "cell_type": "code",
      "metadata": {
        "colab": {
          "base_uri": "https://localhost:8080/"
        },
        "id": "Bv2YN8sK79Ln",
        "outputId": "67ec0ac0-c096-4d1b-fcbc-04edddecf045"
      },
      "source": [
        "dados.info()"
      ],
      "execution_count": null,
      "outputs": [
        {
          "output_type": "stream",
          "text": [
            "<class 'pandas.core.frame.DataFrame'>\n",
            "Int64Index: 889367 entries, 2329193 to 2974784\n",
            "Data columns (total 4 columns):\n",
            " #   Column        Non-Null Count   Dtype         \n",
            "---  ------        --------------   -----         \n",
            " 0   Data_Emissao  889367 non-null  datetime64[ns]\n",
            " 1   Nome          889367 non-null  object        \n",
            " 2   Despesa       889367 non-null  object        \n",
            " 3   Valor         889367 non-null  float64       \n",
            "dtypes: datetime64[ns](1), float64(1), object(2)\n",
            "memory usage: 33.9+ MB\n"
          ],
          "name": "stdout"
        }
      ]
    },
    {
      "cell_type": "code",
      "metadata": {
        "id": "TF2gk5KXTYLU"
      },
      "source": [
        "#Upper()\n",
        "nome = dados.Nome.str.upper()\n",
        "dados.Nome = nome"
      ],
      "execution_count": null,
      "outputs": []
    },
    {
      "cell_type": "markdown",
      "metadata": {
        "id": "sVTAoJMOS5j8"
      },
      "source": [
        "Custo de cada deputado"
      ]
    },
    {
      "cell_type": "code",
      "metadata": {
        "colab": {
          "base_uri": "https://localhost:8080/",
          "height": 197
        },
        "id": "NNR7Jd93S7yM",
        "outputId": "b23342cf-79fc-403d-c224-0df908ba1388"
      },
      "source": [
        "custo_deputado = dados.groupby('Nome')[['Valor']].sum().reset_index()\n",
        "custo_deputado = custo_deputado.sort_values(by='Valor', ascending=False)\n",
        "custo_deputado.head()"
      ],
      "execution_count": null,
      "outputs": [
        {
          "output_type": "execute_result",
          "data": {
            "text/html": [
              "<div>\n",
              "<style scoped>\n",
              "    .dataframe tbody tr th:only-of-type {\n",
              "        vertical-align: middle;\n",
              "    }\n",
              "\n",
              "    .dataframe tbody tr th {\n",
              "        vertical-align: top;\n",
              "    }\n",
              "\n",
              "    .dataframe thead th {\n",
              "        text-align: right;\n",
              "    }\n",
              "</style>\n",
              "<table border=\"1\" class=\"dataframe\">\n",
              "  <thead>\n",
              "    <tr style=\"text-align: right;\">\n",
              "      <th></th>\n",
              "      <th>Nome</th>\n",
              "      <th>Valor</th>\n",
              "    </tr>\n",
              "  </thead>\n",
              "  <tbody>\n",
              "    <tr>\n",
              "      <th>455</th>\n",
              "      <td>JÉSSICA SALES</td>\n",
              "      <td>1623878.86</td>\n",
              "    </tr>\n",
              "    <tr>\n",
              "      <th>392</th>\n",
              "      <td>JHONATAN DE JESUS</td>\n",
              "      <td>1604115.16</td>\n",
              "    </tr>\n",
              "    <tr>\n",
              "      <th>291</th>\n",
              "      <td>FLAVIANO MELO</td>\n",
              "      <td>1591057.88</td>\n",
              "    </tr>\n",
              "    <tr>\n",
              "      <th>364</th>\n",
              "      <td>HIRAN GONÇALVES</td>\n",
              "      <td>1582710.85</td>\n",
              "    </tr>\n",
              "    <tr>\n",
              "      <th>52</th>\n",
              "      <td>ANDRÉ ABDON</td>\n",
              "      <td>1575126.76</td>\n",
              "    </tr>\n",
              "  </tbody>\n",
              "</table>\n",
              "</div>"
            ],
            "text/plain": [
              "                  Nome       Valor\n",
              "455      JÉSSICA SALES  1623878.86\n",
              "392  JHONATAN DE JESUS  1604115.16\n",
              "291      FLAVIANO MELO  1591057.88\n",
              "364    HIRAN GONÇALVES  1582710.85\n",
              "52         ANDRÉ ABDON  1575126.76"
            ]
          },
          "metadata": {
            "tags": []
          },
          "execution_count": 20
        }
      ]
    },
    {
      "cell_type": "code",
      "metadata": {
        "colab": {
          "base_uri": "https://localhost:8080/",
          "height": 461
        },
        "id": "6tSPrqXOU13K",
        "outputId": "bbc45af5-45a8-40d6-8eee-3e47dc720c0e"
      },
      "source": [
        "#grafico com os 15 deputados com gastos \n",
        "plt.figure(figsize=(15,5))\n",
        "g = sns.barplot(data=custo_deputado.head(15), x=custo_deputado.head(15)['Nome'], \n",
        "            y=custo_deputado.head(15)['Valor'])\n",
        "g.set_xticklabels(g.get_xticklabels(), rotation=90);"
      ],
      "execution_count": null,
      "outputs": [
        {
          "output_type": "display_data",
          "data": {
            "image/png": "[encoded data removed]",
            "text/plain": [
              "<Figure size 1080x360 with 1 Axes>"
            ]
          },
          "metadata": {
            "tags": [],
            "needs_background": "light"
          }
        }
      ]
    },
    {
      "cell_type": "code",
      "metadata": {
        "id": "UoWK1fw-mkZl"
      },
      "source": [
        "dados_group = dados.groupby(['Despesa'])[['Valor']].sum()"
      ],
      "execution_count": null,
      "outputs": []
    },
    {
      "cell_type": "code",
      "metadata": {
        "colab": {
          "base_uri": "https://localhost:8080/",
          "height": 587
        },
        "id": "Wx0MFCs8o8l4",
        "outputId": "f0d4c6cb-f22b-4fbd-f305-f077e9b9a7e2"
      },
      "source": [
        "dados_group = dados_group.sort_values(by='Valor', ascending=False)\n",
        "dados_group = dados_group.reset_index(drop=False)\n",
        "#df_group.loc[22] = df_group.loc[21]\n",
        "dados_group"
      ],
      "execution_count": null,
      "outputs": [
        {
          "output_type": "execute_result",
          "data": {
            "text/html": [
              "<div>\n",
              "<style scoped>\n",
              "    .dataframe tbody tr th:only-of-type {\n",
              "        vertical-align: middle;\n",
              "    }\n",
              "\n",
              "    .dataframe tbody tr th {\n",
              "        vertical-align: top;\n",
              "    }\n",
              "\n",
              "    .dataframe thead th {\n",
              "        text-align: right;\n",
              "    }\n",
              "</style>\n",
              "<table border=\"1\" class=\"dataframe\">\n",
              "  <thead>\n",
              "    <tr style=\"text-align: right;\">\n",
              "      <th></th>\n",
              "      <th>Despesa</th>\n",
              "      <th>Valor</th>\n",
              "    </tr>\n",
              "  </thead>\n",
              "  <tbody>\n",
              "    <tr>\n",
              "      <th>0</th>\n",
              "      <td>Emissão Bilhete Aéreo</td>\n",
              "      <td>1.608588e+08</td>\n",
              "    </tr>\n",
              "    <tr>\n",
              "      <th>1</th>\n",
              "      <td>DIVULGAÇÃO DA ATIVIDADE PARLAMENTAR.</td>\n",
              "      <td>1.595726e+08</td>\n",
              "    </tr>\n",
              "    <tr>\n",
              "      <th>2</th>\n",
              "      <td>LOCAÇÃO OU FRETAMENTO DE VEÍCULOS AUTOMOTORES</td>\n",
              "      <td>8.145122e+07</td>\n",
              "    </tr>\n",
              "    <tr>\n",
              "      <th>3</th>\n",
              "      <td>MANUTENÇÃO DE ESCRITÓRIO DE APOIO À ATIVIDADE ...</td>\n",
              "      <td>7.044234e+07</td>\n",
              "    </tr>\n",
              "    <tr>\n",
              "      <th>4</th>\n",
              "      <td>CONSULTORIAS, PESQUISAS E TRABALHOS TÉCNICOS.</td>\n",
              "      <td>6.150988e+07</td>\n",
              "    </tr>\n",
              "    <tr>\n",
              "      <th>5</th>\n",
              "      <td>COMBUSTÍVEIS E LUBRIFICANTES.</td>\n",
              "      <td>5.359558e+07</td>\n",
              "    </tr>\n",
              "    <tr>\n",
              "      <th>6</th>\n",
              "      <td>TELEFONIA</td>\n",
              "      <td>2.018805e+07</td>\n",
              "    </tr>\n",
              "    <tr>\n",
              "      <th>7</th>\n",
              "      <td>PASSAGENS AÉREAS</td>\n",
              "      <td>8.453003e+06</td>\n",
              "    </tr>\n",
              "    <tr>\n",
              "      <th>8</th>\n",
              "      <td>SERVIÇOS POSTAIS</td>\n",
              "      <td>8.351200e+06</td>\n",
              "    </tr>\n",
              "    <tr>\n",
              "      <th>9</th>\n",
              "      <td>LOCAÇÃO OU FRETAMENTO DE AERONAVES</td>\n",
              "      <td>6.926327e+06</td>\n",
              "    </tr>\n",
              "    <tr>\n",
              "      <th>10</th>\n",
              "      <td>HOSPEDAGEM ,EXCETO DO PARLAMENTAR NO DISTRITO ...</td>\n",
              "      <td>5.914565e+06</td>\n",
              "    </tr>\n",
              "    <tr>\n",
              "      <th>11</th>\n",
              "      <td>SERVIÇO DE SEGURANÇA PRESTADO POR EMPRESA ESPE...</td>\n",
              "      <td>4.009401e+06</td>\n",
              "    </tr>\n",
              "    <tr>\n",
              "      <th>12</th>\n",
              "      <td>FORNECIMENTO DE ALIMENTAÇÃO DO PARLAMENTAR</td>\n",
              "      <td>3.574419e+06</td>\n",
              "    </tr>\n",
              "    <tr>\n",
              "      <th>13</th>\n",
              "      <td>SERVIÇO DE TÁXI, PEDÁGIO E ESTACIONAMENTO</td>\n",
              "      <td>2.855357e+06</td>\n",
              "    </tr>\n",
              "    <tr>\n",
              "      <th>14</th>\n",
              "      <td>ASSINATURA DE PUBLICAÇÕES</td>\n",
              "      <td>9.686748e+05</td>\n",
              "    </tr>\n",
              "    <tr>\n",
              "      <th>15</th>\n",
              "      <td>LOCAÇÃO OU FRETAMENTO DE EMBARCAÇÕES</td>\n",
              "      <td>4.012035e+05</td>\n",
              "    </tr>\n",
              "    <tr>\n",
              "      <th>16</th>\n",
              "      <td>PASSAGENS TERRESTRES, MARÍTIMAS OU FLUVIAIS</td>\n",
              "      <td>3.523670e+05</td>\n",
              "    </tr>\n",
              "    <tr>\n",
              "      <th>17</th>\n",
              "      <td>PARTICIPAÇÃO EM CURSO, PALESTRA OU EVENTO SIMILAR</td>\n",
              "      <td>3.193012e+05</td>\n",
              "    </tr>\n",
              "  </tbody>\n",
              "</table>\n",
              "</div>"
            ],
            "text/plain": [
              "                                              Despesa         Valor\n",
              "0                               Emissão Bilhete Aéreo  1.608588e+08\n",
              "1                DIVULGAÇÃO DA ATIVIDADE PARLAMENTAR.  1.595726e+08\n",
              "2       LOCAÇÃO OU FRETAMENTO DE VEÍCULOS AUTOMOTORES  8.145122e+07\n",
              "3   MANUTENÇÃO DE ESCRITÓRIO DE APOIO À ATIVIDADE ...  7.044234e+07\n",
              "4       CONSULTORIAS, PESQUISAS E TRABALHOS TÉCNICOS.  6.150988e+07\n",
              "5                       COMBUSTÍVEIS E LUBRIFICANTES.  5.359558e+07\n",
              "6                                           TELEFONIA  2.018805e+07\n",
              "7                                    PASSAGENS AÉREAS  8.453003e+06\n",
              "8                                    SERVIÇOS POSTAIS  8.351200e+06\n",
              "9                  LOCAÇÃO OU FRETAMENTO DE AERONAVES  6.926327e+06\n",
              "10  HOSPEDAGEM ,EXCETO DO PARLAMENTAR NO DISTRITO ...  5.914565e+06\n",
              "11  SERVIÇO DE SEGURANÇA PRESTADO POR EMPRESA ESPE...  4.009401e+06\n",
              "12         FORNECIMENTO DE ALIMENTAÇÃO DO PARLAMENTAR  3.574419e+06\n",
              "13          SERVIÇO DE TÁXI, PEDÁGIO E ESTACIONAMENTO  2.855357e+06\n",
              "14                          ASSINATURA DE PUBLICAÇÕES  9.686748e+05\n",
              "15               LOCAÇÃO OU FRETAMENTO DE EMBARCAÇÕES  4.012035e+05\n",
              "16        PASSAGENS TERRESTRES, MARÍTIMAS OU FLUVIAIS  3.523670e+05\n",
              "17  PARTICIPAÇÃO EM CURSO, PALESTRA OU EVENTO SIMILAR  3.193012e+05"
            ]
          },
          "metadata": {
            "tags": []
          },
          "execution_count": 23
        }
      ]
    },
    {
      "cell_type": "code",
      "metadata": {
        "colab": {
          "base_uri": "https://localhost:8080/",
          "height": 681
        },
        "id": "A8EdMTMVuhuU",
        "outputId": "76e5d1d3-1072-48d7-f1f4-841f0758b79c"
      },
      "source": [
        "#grafico com as maiores despesas\n",
        "plt.figure(figsize=(15,5))\n",
        "g = sns.barplot(data=dados_group, x=dados_group['Despesa'], \n",
        "            y=dados_group['Valor'])\n",
        "g.set_xticklabels(g.get_xticklabels(), rotation=90);"
      ],
      "execution_count": null,
      "outputs": [
        {
          "output_type": "display_data",
          "data": {
            "image/png": "[encoded data removed]",
            "text/plain": [
              "<Figure size 1080x360 with 1 Axes>"
            ]
          },
          "metadata": {
            "tags": [],
            "needs_background": "light"
          }
        }
      ]
    },
    {
      "cell_type": "code",
      "metadata": {
        "id": "hicbNUCG1513"
      },
      "source": [
        "#new_list = [ {'txtdescricao' :'BILHETE AEREO', 'vlrdocumento':passagem , 'numsubcota': 999.0}]\n",
        "#add = pd.DataFrame(new_list)\n",
        "#dados_group = dados_group.append(add,ignore_index=True)"
      ],
      "execution_count": null,
      "outputs": []
    },
    {
      "cell_type": "code",
      "metadata": {
        "colab": {
          "base_uri": "https://localhost:8080/",
          "height": 617
        },
        "id": "B85hUcFPih8f",
        "outputId": "f9afe554-95bd-466a-fce1-5fcf4321c189"
      },
      "source": [
        "dados.groupby('Despesa').sum()"
      ],
      "execution_count": null,
      "outputs": [
        {
          "output_type": "execute_result",
          "data": {
            "text/html": [
              "<div>\n",
              "<style scoped>\n",
              "    .dataframe tbody tr th:only-of-type {\n",
              "        vertical-align: middle;\n",
              "    }\n",
              "\n",
              "    .dataframe tbody tr th {\n",
              "        vertical-align: top;\n",
              "    }\n",
              "\n",
              "    .dataframe thead th {\n",
              "        text-align: right;\n",
              "    }\n",
              "</style>\n",
              "<table border=\"1\" class=\"dataframe\">\n",
              "  <thead>\n",
              "    <tr style=\"text-align: right;\">\n",
              "      <th></th>\n",
              "      <th>Valor</th>\n",
              "    </tr>\n",
              "    <tr>\n",
              "      <th>Despesa</th>\n",
              "      <th></th>\n",
              "    </tr>\n",
              "  </thead>\n",
              "  <tbody>\n",
              "    <tr>\n",
              "      <th>ASSINATURA DE PUBLICAÇÕES</th>\n",
              "      <td>9.686748e+05</td>\n",
              "    </tr>\n",
              "    <tr>\n",
              "      <th>COMBUSTÍVEIS E LUBRIFICANTES.</th>\n",
              "      <td>5.359558e+07</td>\n",
              "    </tr>\n",
              "    <tr>\n",
              "      <th>CONSULTORIAS, PESQUISAS E TRABALHOS TÉCNICOS.</th>\n",
              "      <td>6.150988e+07</td>\n",
              "    </tr>\n",
              "    <tr>\n",
              "      <th>DIVULGAÇÃO DA ATIVIDADE PARLAMENTAR.</th>\n",
              "      <td>1.595726e+08</td>\n",
              "    </tr>\n",
              "    <tr>\n",
              "      <th>Emissão Bilhete Aéreo</th>\n",
              "      <td>1.608588e+08</td>\n",
              "    </tr>\n",
              "    <tr>\n",
              "      <th>FORNECIMENTO DE ALIMENTAÇÃO DO PARLAMENTAR</th>\n",
              "      <td>3.574419e+06</td>\n",
              "    </tr>\n",
              "    <tr>\n",
              "      <th>HOSPEDAGEM ,EXCETO DO PARLAMENTAR NO DISTRITO FEDERAL.</th>\n",
              "      <td>5.914565e+06</td>\n",
              "    </tr>\n",
              "    <tr>\n",
              "      <th>LOCAÇÃO OU FRETAMENTO DE AERONAVES</th>\n",
              "      <td>6.926327e+06</td>\n",
              "    </tr>\n",
              "    <tr>\n",
              "      <th>LOCAÇÃO OU FRETAMENTO DE EMBARCAÇÕES</th>\n",
              "      <td>4.012035e+05</td>\n",
              "    </tr>\n",
              "    <tr>\n",
              "      <th>LOCAÇÃO OU FRETAMENTO DE VEÍCULOS AUTOMOTORES</th>\n",
              "      <td>8.145122e+07</td>\n",
              "    </tr>\n",
              "    <tr>\n",
              "      <th>MANUTENÇÃO DE ESCRITÓRIO DE APOIO À ATIVIDADE PARLAMENTAR</th>\n",
              "      <td>7.044234e+07</td>\n",
              "    </tr>\n",
              "    <tr>\n",
              "      <th>PARTICIPAÇÃO EM CURSO, PALESTRA OU EVENTO SIMILAR</th>\n",
              "      <td>3.193012e+05</td>\n",
              "    </tr>\n",
              "    <tr>\n",
              "      <th>PASSAGENS AÉREAS</th>\n",
              "      <td>8.453003e+06</td>\n",
              "    </tr>\n",
              "    <tr>\n",
              "      <th>PASSAGENS TERRESTRES, MARÍTIMAS OU FLUVIAIS</th>\n",
              "      <td>3.523670e+05</td>\n",
              "    </tr>\n",
              "    <tr>\n",
              "      <th>SERVIÇO DE SEGURANÇA PRESTADO POR EMPRESA ESPECIALIZADA.</th>\n",
              "      <td>4.009401e+06</td>\n",
              "    </tr>\n",
              "    <tr>\n",
              "      <th>SERVIÇO DE TÁXI, PEDÁGIO E ESTACIONAMENTO</th>\n",
              "      <td>2.855357e+06</td>\n",
              "    </tr>\n",
              "    <tr>\n",
              "      <th>SERVIÇOS POSTAIS</th>\n",
              "      <td>8.351200e+06</td>\n",
              "    </tr>\n",
              "    <tr>\n",
              "      <th>TELEFONIA</th>\n",
              "      <td>2.018805e+07</td>\n",
              "    </tr>\n",
              "  </tbody>\n",
              "</table>\n",
              "</div>"
            ],
            "text/plain": [
              "                                                           Valor\n",
              "Despesa                                                         \n",
              "ASSINATURA DE PUBLICAÇÕES                           9.686748e+05\n",
              "COMBUSTÍVEIS E LUBRIFICANTES.                       5.359558e+07\n",
              "CONSULTORIAS, PESQUISAS E TRABALHOS TÉCNICOS.       6.150988e+07\n",
              "DIVULGAÇÃO DA ATIVIDADE PARLAMENTAR.                1.595726e+08\n",
              "Emissão Bilhete Aéreo                               1.608588e+08\n",
              "FORNECIMENTO DE ALIMENTAÇÃO DO PARLAMENTAR          3.574419e+06\n",
              "HOSPEDAGEM ,EXCETO DO PARLAMENTAR NO DISTRITO F...  5.914565e+06\n",
              "LOCAÇÃO OU FRETAMENTO DE AERONAVES                  6.926327e+06\n",
              "LOCAÇÃO OU FRETAMENTO DE EMBARCAÇÕES                4.012035e+05\n",
              "LOCAÇÃO OU FRETAMENTO DE VEÍCULOS AUTOMOTORES       8.145122e+07\n",
              "MANUTENÇÃO DE ESCRITÓRIO DE APOIO À ATIVIDADE P...  7.044234e+07\n",
              "PARTICIPAÇÃO EM CURSO, PALESTRA OU EVENTO SIMILAR   3.193012e+05\n",
              "PASSAGENS AÉREAS                                    8.453003e+06\n",
              "PASSAGENS TERRESTRES, MARÍTIMAS OU FLUVIAIS         3.523670e+05\n",
              "SERVIÇO DE SEGURANÇA PRESTADO POR EMPRESA ESPEC...  4.009401e+06\n",
              "SERVIÇO DE TÁXI, PEDÁGIO E ESTACIONAMENTO           2.855357e+06\n",
              "SERVIÇOS POSTAIS                                    8.351200e+06\n",
              "TELEFONIA                                           2.018805e+07"
            ]
          },
          "metadata": {
            "tags": []
          },
          "execution_count": 25
        }
      ]
    },
    {
      "cell_type": "markdown",
      "metadata": {
        "id": "BJgdDqEucKjd"
      },
      "source": [
        "Os maiores custos foram os seguintes:\n",
        "- Divulgação de atividade parlamentar\n",
        "- Emissao de passagem aerea\n",
        "- Locação \n",
        "- Manutenção de escritorio\n",
        "- Consultoria\n",
        "- Combustivel "
      ]
    },
    {
      "cell_type": "code",
      "metadata": {
        "id": "_6EcZvTfUkbx"
      },
      "source": [
        "aereo = dados[dados['Despesa']=='Emissão Bilhete Aéreo']\n",
        "divulgacao = dados[dados['Despesa']=='DIVULGAÇÃO DA ATIVIDADE PARLAMENTAR.']\n",
        "locacao = dados[dados['Despesa']=='LOCAÇÃO OU FRETAMENTO DE VEÍCULOS AUTOMOTORES']\n",
        "manutencao = dados[dados['Despesa']=='MANUTENÇÃO DE ESCRITÓRIO DE APOIO À ATIVIDADE PARLAMENTAR']\n",
        "consultoria = dados[dados['Despesa']=='CONSULTORIAS, PESQUISAS E TRABALHOS TÉCNICOS.']"
      ],
      "execution_count": null,
      "outputs": []
    },
    {
      "cell_type": "code",
      "metadata": {
        "id": "i_32DBUbjkfJ"
      },
      "source": [
        "def previsao(df):\n",
        "  df = df[['Data_Emissao', 'Valor']].sort_values(by='Data_Emissao')\n",
        "  df.columns = ['ds', 'y']\n",
        "  df = df.groupby('ds', as_index=False).sum()\n",
        "  m = Prophet()\n",
        "  m.fit(df)\n",
        "  future = m.make_future_dataframe(periods=365)\n",
        "  forecast = m.predict(future)\n",
        "  return forecast  "
      ],
      "execution_count": null,
      "outputs": []
    },
    {
      "cell_type": "code",
      "metadata": {
        "id": "jN2ObqHPy6br"
      },
      "source": [
        "class Resultado:\n",
        "  def grafico (funcao_cast):\n",
        "    fig1 = m.plot(funcao_cast)\n",
        "    fig2 = m.plot_components(funcao_cast)\n",
        "    \n",
        "  def cast(funcao_cast):\n",
        "    return funcao_cast[['ds', 'yhat', 'yhat_lower', 'yhat_upper']]\n",
        "\n",
        "  def print_retuldado(funcao_cast):\n",
        "    return funcao_cast.yhat.sum()  \n"
      ],
      "execution_count": null,
      "outputs": []
    },
    {
      "cell_type": "code",
      "metadata": {
        "colab": {
          "base_uri": "https://localhost:8080/"
        },
        "id": "m4_xZcW61bP8",
        "outputId": "c9f2ac32-5c85-49a1-8fad-ccfea4c58ed6"
      },
      "source": [
        "loc = previsao(locacao)\n",
        "aer = previsao(aereo)\n",
        "divu = previsao(divulgacao)\n",
        "manu = previsao(manutencao)\n",
        "cons = previsao(consultoria)"
      ],
      "execution_count": null,
      "outputs": [
        {
          "output_type": "stream",
          "text": [
            "INFO:fbprophet:Disabling daily seasonality. Run prophet with daily_seasonality=True to override this.\n",
            "INFO:fbprophet:Disabling daily seasonality. Run prophet with daily_seasonality=True to override this.\n",
            "INFO:fbprophet:Disabling daily seasonality. Run prophet with daily_seasonality=True to override this.\n",
            "INFO:fbprophet:Disabling daily seasonality. Run prophet with daily_seasonality=True to override this.\n",
            "INFO:fbprophet:Disabling daily seasonality. Run prophet with daily_seasonality=True to override this.\n"
          ],
          "name": "stderr"
        }
      ]
    },
    {
      "cell_type": "code",
      "metadata": {
        "id": "4_lSj8UBQS8c"
      },
      "source": [
        "res_loc2018 = Resultado.cast(loc)[Resultado.cast(loc)['ds'].dt.year==2018]['yhat'].sum()\n",
        "res_aer2018 = Resultado.cast(aer)[Resultado.cast(aer)['ds'].dt.year==2018]['yhat'].sum()\n",
        "res_divu2018 = Resultado.cast(divu)[Resultado.cast(divu)['ds'].dt.year==2018]['yhat'].sum()\n",
        "res_manu2018 = Resultado.cast(manu)[Resultado.cast(manu)['ds'].dt.year==2018]['yhat'].sum()\n",
        "res_cons2018 = Resultado.cast(cons)[Resultado.cast(cons)['ds'].dt.year==2018]['yhat'].sum()"
      ],
      "execution_count": null,
      "outputs": []
    },
    {
      "cell_type": "code",
      "metadata": {
        "id": "QuNhxNNvIOAt"
      },
      "source": [
        "res_loc2019 = Resultado.cast(loc)[Resultado.cast(loc)['ds'].dt.year==2019]['yhat'].sum()\n",
        "res_aer2019 = Resultado.cast(aer)[Resultado.cast(aer)['ds'].dt.year==2019]['yhat'].sum()\n",
        "res_divu2019 = Resultado.cast(divu)[Resultado.cast(divu)['ds'].dt.year==2019]['yhat'].sum()\n",
        "res_manu2019 = Resultado.cast(manu)[Resultado.cast(manu)['ds'].dt.year==2019]['yhat'].sum()\n",
        "res_cons2019 = Resultado.cast(cons)[Resultado.cast(cons)['ds'].dt.year==2019]['yhat'].sum()"
      ],
      "execution_count": null,
      "outputs": []
    },
    {
      "cell_type": "code",
      "metadata": {
        "id": "9Y23gOhb1oWe"
      },
      "source": [
        "res_loc = Resultado.print_retuldado(loc)\n",
        "res_aer = Resultado.print_retuldado(aer)\n",
        "res_divu = Resultado.print_retuldado(divu)\n",
        "res_manu = Resultado.print_retuldado(manu)\n",
        "res_cons = Resultado.print_retuldado(cons)"
      ],
      "execution_count": null,
      "outputs": []
    },
    {
      "cell_type": "code",
      "metadata": {
        "colab": {
          "base_uri": "https://localhost:8080/",
          "height": 542
        },
        "id": "G3LHhkZjGoD-",
        "outputId": "b02d227e-c4f3-45dd-ab83-8d991ebcd6d4"
      },
      "source": [
        "#grafico Orçamento 2019 e 2020\n",
        "trace1 = go.Bar(x = ['Locação', 'Aereo', 'Divulgação', 'Manuntenção', 'Consultoria'],\n",
        "                y = [res_loc, res_aer, res_divu, res_manu, res_cons],\n",
        "                name = '2020')\n",
        "\n",
        "\n",
        "trace2 = go.Bar(x = ['Locação', 'Aereo', 'Divulgação', 'Manuntenção', 'Consultoria'],\n",
        "                y = [res_loc2019, res_aer2019, res_divu2019, res_manu2019, res_cons2019],\n",
        "                name='2019')\n",
        "data = [trace1, trace2]\n",
        "py.iplot(data)"
      ],
      "execution_count": null,
      "outputs": [
        {
          "output_type": "display_data",
          "data": {
            "text/html": [
              "<html>\n",
              "<head><meta charset=\"utf-8\" /></head>\n",
              "<body>\n",
              "    <div>\n",
              "            <script src=\"https://cdnjs.cloudflare.com/ajax/libs/mathjax/2.7.5/MathJax.js?config=TeX-AMS-MML_SVG\"></script><script type=\"text/javascript\">if (window.MathJax) {MathJax.Hub.Config({SVG: {font: \"STIX-Web\"}});}</script>\n",
              "                <script type=\"text/javascript\">window.PlotlyConfig = {MathJaxConfig: 'local'};</script>\n",
              "        <script src=\"https://cdn.plot.ly/plotly-latest.min.js\"></script>    \n",
              "            <div id=\"c558502a-b587-4aa0-b04c-03173ef5769f\" class=\"plotly-graph-div\" style=\"height:525px; width:100%;\"></div>\n",
              "            <script type=\"text/javascript\">\n",
              "                \n",
              "                    window.PLOTLYENV=window.PLOTLYENV || {};\n",
              "                    \n",
              "                if (document.getElementById(\"c558502a-b587-4aa0-b04c-03173ef5769f\")) {\n",
              "                    Plotly.newPlot(\n",
              "                        'c558502a-b587-4aa0-b04c-03173ef5769f',\n",
              "                        [{\"name\": \"2020\", \"type\": \"bar\", \"x\": [\"Loca\\u00e7\\u00e3o\", \"Aereo\", \"Divulga\\u00e7\\u00e3o\", \"Manunten\\u00e7\\u00e3o\", \"Consultoria\"], \"y\": [107551647.62447649, 209934258.07942766, 204694931.92307004, 94347455.69667006, 84811716.17588319]}, {\"name\": \"2019\", \"type\": \"bar\", \"x\": [\"Loca\\u00e7\\u00e3o\", \"Aereo\", \"Divulga\\u00e7\\u00e3o\", \"Manunten\\u00e7\\u00e3o\", \"Consultoria\"], \"y\": [26512119.148711707, 53980063.021343276, 50058429.85115619, 23122819.787711687, 21065265.640988026]}],\n",
              "                        {\"template\": {\"data\": {\"bar\": [{\"error_x\": {\"color\": \"#2a3f5f\"}, \"error_y\": {\"color\": \"#2a3f5f\"}, \"marker\": {\"line\": {\"color\": \"#E5ECF6\", \"width\": 0.5}}, \"type\": \"bar\"}], \"barpolar\": [{\"marker\": {\"line\": {\"color\": \"#E5ECF6\", \"width\": 0.5}}, \"type\": \"barpolar\"}], \"carpet\": [{\"aaxis\": {\"endlinecolor\": \"#2a3f5f\", \"gridcolor\": \"white\", \"linecolor\": \"white\", \"minorgridcolor\": \"white\", \"startlinecolor\": \"#2a3f5f\"}, \"baxis\": {\"endlinecolor\": \"#2a3f5f\", \"gridcolor\": \"white\", \"linecolor\": \"white\", \"minorgridcolor\": \"white\", \"startlinecolor\": \"#2a3f5f\"}, \"type\": \"carpet\"}], \"choropleth\": [{\"colorbar\": {\"outlinewidth\": 0, \"ticks\": \"\"}, \"type\": \"choropleth\"}], \"contour\": [{\"colorbar\": {\"outlinewidth\": 0, \"ticks\": \"\"}, \"colorscale\": [[0.0, \"#0d0887\"], [0.1111111111111111, \"#46039f\"], [0.2222222222222222, \"#7201a8\"], [0.3333333333333333, \"#9c179e\"], [0.4444444444444444, \"#bd3786\"], [0.5555555555555556, \"#d8576b\"], [0.6666666666666666, \"#ed7953\"], [0.7777777777777778, \"#fb9f3a\"], [0.8888888888888888, \"#fdca26\"], [1.0, \"#f0f921\"]], \"type\": \"contour\"}], \"contourcarpet\": [{\"colorbar\": {\"outlinewidth\": 0, \"ticks\": \"\"}, \"type\": \"contourcarpet\"}], \"heatmap\": [{\"colorbar\": {\"outlinewidth\": 0, \"ticks\": \"\"}, \"colorscale\": [[0.0, \"#0d0887\"], [0.1111111111111111, \"#46039f\"], [0.2222222222222222, \"#7201a8\"], [0.3333333333333333, \"#9c179e\"], [0.4444444444444444, \"#bd3786\"], [0.5555555555555556, \"#d8576b\"], [0.6666666666666666, \"#ed7953\"], [0.7777777777777778, \"#fb9f3a\"], [0.8888888888888888, \"#fdca26\"], [1.0, \"#f0f921\"]], \"type\": \"heatmap\"}], \"heatmapgl\": [{\"colorbar\": {\"outlinewidth\": 0, \"ticks\": \"\"}, \"colorscale\": [[0.0, \"#0d0887\"], [0.1111111111111111, \"#46039f\"], [0.2222222222222222, \"#7201a8\"], [0.3333333333333333, \"#9c179e\"], [0.4444444444444444, \"#bd3786\"], [0.5555555555555556, \"#d8576b\"], [0.6666666666666666, \"#ed7953\"], [0.7777777777777778, \"#fb9f3a\"], [0.8888888888888888, \"#fdca26\"], [1.0, \"#f0f921\"]], \"type\": \"heatmapgl\"}], \"histogram\": [{\"marker\": {\"colorbar\": {\"outlinewidth\": 0, \"ticks\": \"\"}}, \"type\": \"histogram\"}], \"histogram2d\": [{\"colorbar\": {\"outlinewidth\": 0, \"ticks\": \"\"}, \"colorscale\": [[0.0, \"#0d0887\"], [0.1111111111111111, \"#46039f\"], [0.2222222222222222, \"#7201a8\"], [0.3333333333333333, \"#9c179e\"], [0.4444444444444444, \"#bd3786\"], [0.5555555555555556, \"#d8576b\"], [0.6666666666666666, \"#ed7953\"], [0.7777777777777778, \"#fb9f3a\"], [0.8888888888888888, \"#fdca26\"], [1.0, \"#f0f921\"]], \"type\": \"histogram2d\"}], \"histogram2dcontour\": [{\"colorbar\": {\"outlinewidth\": 0, \"ticks\": \"\"}, \"colorscale\": [[0.0, \"#0d0887\"], [0.1111111111111111, \"#46039f\"], [0.2222222222222222, \"#7201a8\"], [0.3333333333333333, \"#9c179e\"], [0.4444444444444444, \"#bd3786\"], [0.5555555555555556, \"#d8576b\"], [0.6666666666666666, \"#ed7953\"], [0.7777777777777778, \"#fb9f3a\"], [0.8888888888888888, \"#fdca26\"], [1.0, \"#f0f921\"]], \"type\": \"histogram2dcontour\"}], \"mesh3d\": [{\"colorbar\": {\"outlinewidth\": 0, \"ticks\": \"\"}, \"type\": \"mesh3d\"}], \"parcoords\": [{\"line\": {\"colorbar\": {\"outlinewidth\": 0, \"ticks\": \"\"}}, \"type\": \"parcoords\"}], \"pie\": [{\"automargin\": true, \"type\": \"pie\"}], \"scatter\": [{\"marker\": {\"colorbar\": {\"outlinewidth\": 0, \"ticks\": \"\"}}, \"type\": \"scatter\"}], \"scatter3d\": [{\"line\": {\"colorbar\": {\"outlinewidth\": 0, \"ticks\": \"\"}}, \"marker\": {\"colorbar\": {\"outlinewidth\": 0, \"ticks\": \"\"}}, \"type\": \"scatter3d\"}], \"scattercarpet\": [{\"marker\": {\"colorbar\": {\"outlinewidth\": 0, \"ticks\": \"\"}}, \"type\": \"scattercarpet\"}], \"scattergeo\": [{\"marker\": {\"colorbar\": {\"outlinewidth\": 0, \"ticks\": \"\"}}, \"type\": \"scattergeo\"}], \"scattergl\": [{\"marker\": {\"colorbar\": {\"outlinewidth\": 0, \"ticks\": \"\"}}, \"type\": \"scattergl\"}], \"scattermapbox\": [{\"marker\": {\"colorbar\": {\"outlinewidth\": 0, \"ticks\": \"\"}}, \"type\": \"scattermapbox\"}], \"scatterpolar\": [{\"marker\": {\"colorbar\": {\"outlinewidth\": 0, \"ticks\": \"\"}}, \"type\": \"scatterpolar\"}], \"scatterpolargl\": [{\"marker\": {\"colorbar\": {\"outlinewidth\": 0, \"ticks\": \"\"}}, \"type\": \"scatterpolargl\"}], \"scatterternary\": [{\"marker\": {\"colorbar\": {\"outlinewidth\": 0, \"ticks\": \"\"}}, \"type\": \"scatterternary\"}], \"surface\": [{\"colorbar\": {\"outlinewidth\": 0, \"ticks\": \"\"}, \"colorscale\": [[0.0, \"#0d0887\"], [0.1111111111111111, \"#46039f\"], [0.2222222222222222, \"#7201a8\"], [0.3333333333333333, \"#9c179e\"], [0.4444444444444444, \"#bd3786\"], [0.5555555555555556, \"#d8576b\"], [0.6666666666666666, \"#ed7953\"], [0.7777777777777778, \"#fb9f3a\"], [0.8888888888888888, \"#fdca26\"], [1.0, \"#f0f921\"]], \"type\": \"surface\"}], \"table\": [{\"cells\": {\"fill\": {\"color\": \"#EBF0F8\"}, \"line\": {\"color\": \"white\"}}, \"header\": {\"fill\": {\"color\": \"#C8D4E3\"}, \"line\": {\"color\": \"white\"}}, \"type\": \"table\"}]}, \"layout\": {\"annotationdefaults\": {\"arrowcolor\": \"#2a3f5f\", \"arrowhead\": 0, \"arrowwidth\": 1}, \"coloraxis\": {\"colorbar\": {\"outlinewidth\": 0, \"ticks\": \"\"}}, \"colorscale\": {\"diverging\": [[0, \"#8e0152\"], [0.1, \"#c51b7d\"], [0.2, \"#de77ae\"], [0.3, \"#f1b6da\"], [0.4, \"#fde0ef\"], [0.5, \"#f7f7f7\"], [0.6, \"#e6f5d0\"], [0.7, \"#b8e186\"], [0.8, \"#7fbc41\"], [0.9, \"#4d9221\"], [1, \"#276419\"]], \"sequential\": [[0.0, \"#0d0887\"], [0.1111111111111111, \"#46039f\"], [0.2222222222222222, \"#7201a8\"], [0.3333333333333333, \"#9c179e\"], [0.4444444444444444, \"#bd3786\"], [0.5555555555555556, \"#d8576b\"], [0.6666666666666666, \"#ed7953\"], [0.7777777777777778, \"#fb9f3a\"], [0.8888888888888888, \"#fdca26\"], [1.0, \"#f0f921\"]], \"sequentialminus\": [[0.0, \"#0d0887\"], [0.1111111111111111, \"#46039f\"], [0.2222222222222222, \"#7201a8\"], [0.3333333333333333, \"#9c179e\"], [0.4444444444444444, \"#bd3786\"], [0.5555555555555556, \"#d8576b\"], [0.6666666666666666, \"#ed7953\"], [0.7777777777777778, \"#fb9f3a\"], [0.8888888888888888, \"#fdca26\"], [1.0, \"#f0f921\"]]}, \"colorway\": [\"#636efa\", \"#EF553B\", \"#00cc96\", \"#ab63fa\", \"#FFA15A\", \"#19d3f3\", \"#FF6692\", \"#B6E880\", \"#FF97FF\", \"#FECB52\"], \"font\": {\"color\": \"#2a3f5f\"}, \"geo\": {\"bgcolor\": \"white\", \"lakecolor\": \"white\", \"landcolor\": \"#E5ECF6\", \"showlakes\": true, \"showland\": true, \"subunitcolor\": \"white\"}, \"hoverlabel\": {\"align\": \"left\"}, \"hovermode\": \"closest\", \"mapbox\": {\"style\": \"light\"}, \"paper_bgcolor\": \"white\", \"plot_bgcolor\": \"#E5ECF6\", \"polar\": {\"angularaxis\": {\"gridcolor\": \"white\", \"linecolor\": \"white\", \"ticks\": \"\"}, \"bgcolor\": \"#E5ECF6\", \"radialaxis\": {\"gridcolor\": \"white\", \"linecolor\": \"white\", \"ticks\": \"\"}}, \"scene\": {\"xaxis\": {\"backgroundcolor\": \"#E5ECF6\", \"gridcolor\": \"white\", \"gridwidth\": 2, \"linecolor\": \"white\", \"showbackground\": true, \"ticks\": \"\", \"zerolinecolor\": \"white\"}, \"yaxis\": {\"backgroundcolor\": \"#E5ECF6\", \"gridcolor\": \"white\", \"gridwidth\": 2, \"linecolor\": \"white\", \"showbackground\": true, \"ticks\": \"\", \"zerolinecolor\": \"white\"}, \"zaxis\": {\"backgroundcolor\": \"#E5ECF6\", \"gridcolor\": \"white\", \"gridwidth\": 2, \"linecolor\": \"white\", \"showbackground\": true, \"ticks\": \"\", \"zerolinecolor\": \"white\"}}, \"shapedefaults\": {\"line\": {\"color\": \"#2a3f5f\"}}, \"ternary\": {\"aaxis\": {\"gridcolor\": \"white\", \"linecolor\": \"white\", \"ticks\": \"\"}, \"baxis\": {\"gridcolor\": \"white\", \"linecolor\": \"white\", \"ticks\": \"\"}, \"bgcolor\": \"#E5ECF6\", \"caxis\": {\"gridcolor\": \"white\", \"linecolor\": \"white\", \"ticks\": \"\"}}, \"title\": {\"x\": 0.05}, \"xaxis\": {\"automargin\": true, \"gridcolor\": \"white\", \"linecolor\": \"white\", \"ticks\": \"\", \"title\": {\"standoff\": 15}, \"zerolinecolor\": \"white\", \"zerolinewidth\": 2}, \"yaxis\": {\"automargin\": true, \"gridcolor\": \"white\", \"linecolor\": \"white\", \"ticks\": \"\", \"title\": {\"standoff\": 15}, \"zerolinecolor\": \"white\", \"zerolinewidth\": 2}}}},\n",
              "                        {\"responsive\": true}\n",
              "                    ).then(function(){\n",
              "                            \n",
              "var gd = document.getElementById('c558502a-b587-4aa0-b04c-03173ef5769f');\n",
              "var x = new MutationObserver(function (mutations, observer) {{\n",
              "        var display = window.getComputedStyle(gd).display;\n",
              "        if (!display || display === 'none') {{\n",
              "            console.log([gd, 'removed!']);\n",
              "            Plotly.purge(gd);\n",
              "            observer.disconnect();\n",
              "        }}\n",
              "}});\n",
              "\n",
              "// Listen for the removal of the full notebook cells\n",
              "var notebookContainer = gd.closest('#notebook-container');\n",
              "if (notebookContainer) {{\n",
              "    x.observe(notebookContainer, {childList: true});\n",
              "}}\n",
              "\n",
              "// Listen for the clearing of the current output cell\n",
              "var outputEl = gd.closest('.output');\n",
              "if (outputEl) {{\n",
              "    x.observe(outputEl, {childList: true});\n",
              "}}\n",
              "\n",
              "                        })\n",
              "                };\n",
              "                \n",
              "            </script>\n",
              "        </div>\n",
              "</body>\n",
              "</html>"
            ]
          },
          "metadata": {
            "tags": []
          }
        }
      ]
    },
    {
      "cell_type": "code",
      "metadata": {
        "id": "6KONe9bCrq2B"
      },
      "source": [
        "despesa_1 = dados[(dados['Despesa'] =='Emissão Bilhete Aéreo')]['Valor'].sum()\n",
        "despesa_2 = dados[(dados['Despesa'] =='DIVULGAÇÃO DA ATIVIDADE PARLAMENTAR.')]['Valor'].sum()\n",
        "outras_despesas = dados[(dados['Despesa'] !='Emissão Bilhete Aéreo') & (dados['Despesa'] !='DIVULGAÇÃO DA ATIVIDADE PARLAMENTAR.')]['Valor'].sum()"
      ],
      "execution_count": null,
      "outputs": []
    },
    {
      "cell_type": "code",
      "metadata": {
        "id": "zgPDVBDgt1M1"
      },
      "source": [
        "total1_2 = despesa_1 + despesa_2"
      ],
      "execution_count": null,
      "outputs": []
    },
    {
      "cell_type": "code",
      "metadata": {
        "colab": {
          "base_uri": "https://localhost:8080/",
          "height": 542
        },
        "id": "EWyeenImtidU",
        "outputId": "930eb48e-9a3a-4ad7-a5df-11c932aa5c7f"
      },
      "source": [
        "#grafico Despesa 1, 2 vx outras\n",
        "trace1 = go.Bar(x = ['Aereo+Divulgacao', 'Aereo', 'Divulgacao', 'Demais'],\n",
        "                y = [total1_2, despesa_1, despesa_2, outras_despesas],\n",
        "                name = 'Despesas')\n",
        "\n",
        "data = [trace1]\n",
        "py.iplot(data)"
      ],
      "execution_count": null,
      "outputs": [
        {
          "output_type": "display_data",
          "data": {
            "text/html": [
              "<html>\n",
              "<head><meta charset=\"utf-8\" /></head>\n",
              "<body>\n",
              "    <div>\n",
              "            <script src=\"https://cdnjs.cloudflare.com/ajax/libs/mathjax/2.7.5/MathJax.js?config=TeX-AMS-MML_SVG\"></script><script type=\"text/javascript\">if (window.MathJax) {MathJax.Hub.Config({SVG: {font: \"STIX-Web\"}});}</script>\n",
              "                <script type=\"text/javascript\">window.PlotlyConfig = {MathJaxConfig: 'local'};</script>\n",
              "        <script src=\"https://cdn.plot.ly/plotly-latest.min.js\"></script>    \n",
              "            <div id=\"5bce2880-b551-4f06-962a-8c0d5f0e9629\" class=\"plotly-graph-div\" style=\"height:525px; width:100%;\"></div>\n",
              "            <script type=\"text/javascript\">\n",
              "                \n",
              "                    window.PLOTLYENV=window.PLOTLYENV || {};\n",
              "                    \n",
              "                if (document.getElementById(\"5bce2880-b551-4f06-962a-8c0d5f0e9629\")) {\n",
              "                    Plotly.newPlot(\n",
              "                        '5bce2880-b551-4f06-962a-8c0d5f0e9629',\n",
              "                        [{\"name\": \"Despesas\", \"type\": \"bar\", \"x\": [\"Aereo+Divulgacao\", \"Aereo\", \"Divulgacao\", \"Demais\"], \"y\": [320431412.20000005, 160858834.25000003, 159572577.95, 329312887.59999996]}],\n",
              "                        {\"template\": {\"data\": {\"bar\": [{\"error_x\": {\"color\": \"#2a3f5f\"}, \"error_y\": {\"color\": \"#2a3f5f\"}, \"marker\": {\"line\": {\"color\": \"#E5ECF6\", \"width\": 0.5}}, \"type\": \"bar\"}], \"barpolar\": [{\"marker\": {\"line\": {\"color\": \"#E5ECF6\", \"width\": 0.5}}, \"type\": \"barpolar\"}], \"carpet\": [{\"aaxis\": {\"endlinecolor\": \"#2a3f5f\", \"gridcolor\": \"white\", \"linecolor\": \"white\", \"minorgridcolor\": \"white\", \"startlinecolor\": \"#2a3f5f\"}, \"baxis\": {\"endlinecolor\": \"#2a3f5f\", \"gridcolor\": \"white\", \"linecolor\": \"white\", \"minorgridcolor\": \"white\", \"startlinecolor\": \"#2a3f5f\"}, \"type\": \"carpet\"}], \"choropleth\": [{\"colorbar\": {\"outlinewidth\": 0, \"ticks\": \"\"}, \"type\": \"choropleth\"}], \"contour\": [{\"colorbar\": {\"outlinewidth\": 0, \"ticks\": \"\"}, \"colorscale\": [[0.0, \"#0d0887\"], [0.1111111111111111, \"#46039f\"], [0.2222222222222222, \"#7201a8\"], [0.3333333333333333, \"#9c179e\"], [0.4444444444444444, \"#bd3786\"], [0.5555555555555556, \"#d8576b\"], [0.6666666666666666, \"#ed7953\"], [0.7777777777777778, \"#fb9f3a\"], [0.8888888888888888, \"#fdca26\"], [1.0, \"#f0f921\"]], \"type\": \"contour\"}], \"contourcarpet\": [{\"colorbar\": {\"outlinewidth\": 0, \"ticks\": \"\"}, \"type\": \"contourcarpet\"}], \"heatmap\": [{\"colorbar\": {\"outlinewidth\": 0, \"ticks\": \"\"}, \"colorscale\": [[0.0, \"#0d0887\"], [0.1111111111111111, \"#46039f\"], [0.2222222222222222, \"#7201a8\"], [0.3333333333333333, \"#9c179e\"], [0.4444444444444444, \"#bd3786\"], [0.5555555555555556, \"#d8576b\"], [0.6666666666666666, \"#ed7953\"], [0.7777777777777778, \"#fb9f3a\"], [0.8888888888888888, \"#fdca26\"], [1.0, \"#f0f921\"]], \"type\": \"heatmap\"}], \"heatmapgl\": [{\"colorbar\": {\"outlinewidth\": 0, \"ticks\": \"\"}, \"colorscale\": [[0.0, \"#0d0887\"], [0.1111111111111111, \"#46039f\"], [0.2222222222222222, \"#7201a8\"], [0.3333333333333333, \"#9c179e\"], [0.4444444444444444, \"#bd3786\"], [0.5555555555555556, \"#d8576b\"], [0.6666666666666666, \"#ed7953\"], [0.7777777777777778, \"#fb9f3a\"], [0.8888888888888888, \"#fdca26\"], [1.0, \"#f0f921\"]], \"type\": \"heatmapgl\"}], \"histogram\": [{\"marker\": {\"colorbar\": {\"outlinewidth\": 0, \"ticks\": \"\"}}, \"type\": \"histogram\"}], \"histogram2d\": [{\"colorbar\": {\"outlinewidth\": 0, \"ticks\": \"\"}, \"colorscale\": [[0.0, \"#0d0887\"], [0.1111111111111111, \"#46039f\"], [0.2222222222222222, \"#7201a8\"], [0.3333333333333333, \"#9c179e\"], [0.4444444444444444, \"#bd3786\"], [0.5555555555555556, \"#d8576b\"], [0.6666666666666666, \"#ed7953\"], [0.7777777777777778, \"#fb9f3a\"], [0.8888888888888888, \"#fdca26\"], [1.0, \"#f0f921\"]], \"type\": \"histogram2d\"}], \"histogram2dcontour\": [{\"colorbar\": {\"outlinewidth\": 0, \"ticks\": \"\"}, \"colorscale\": [[0.0, \"#0d0887\"], [0.1111111111111111, \"#46039f\"], [0.2222222222222222, \"#7201a8\"], [0.3333333333333333, \"#9c179e\"], [0.4444444444444444, \"#bd3786\"], [0.5555555555555556, \"#d8576b\"], [0.6666666666666666, \"#ed7953\"], [0.7777777777777778, \"#fb9f3a\"], [0.8888888888888888, \"#fdca26\"], [1.0, \"#f0f921\"]], \"type\": \"histogram2dcontour\"}], \"mesh3d\": [{\"colorbar\": {\"outlinewidth\": 0, \"ticks\": \"\"}, \"type\": \"mesh3d\"}], \"parcoords\": [{\"line\": {\"colorbar\": {\"outlinewidth\": 0, \"ticks\": \"\"}}, \"type\": \"parcoords\"}], \"pie\": [{\"automargin\": true, \"type\": \"pie\"}], \"scatter\": [{\"marker\": {\"colorbar\": {\"outlinewidth\": 0, \"ticks\": \"\"}}, \"type\": \"scatter\"}], \"scatter3d\": [{\"line\": {\"colorbar\": {\"outlinewidth\": 0, \"ticks\": \"\"}}, \"marker\": {\"colorbar\": {\"outlinewidth\": 0, \"ticks\": \"\"}}, \"type\": \"scatter3d\"}], \"scattercarpet\": [{\"marker\": {\"colorbar\": {\"outlinewidth\": 0, \"ticks\": \"\"}}, \"type\": \"scattercarpet\"}], \"scattergeo\": [{\"marker\": {\"colorbar\": {\"outlinewidth\": 0, \"ticks\": \"\"}}, \"type\": \"scattergeo\"}], \"scattergl\": [{\"marker\": {\"colorbar\": {\"outlinewidth\": 0, \"ticks\": \"\"}}, \"type\": \"scattergl\"}], \"scattermapbox\": [{\"marker\": {\"colorbar\": {\"outlinewidth\": 0, \"ticks\": \"\"}}, \"type\": \"scattermapbox\"}], \"scatterpolar\": [{\"marker\": {\"colorbar\": {\"outlinewidth\": 0, \"ticks\": \"\"}}, \"type\": \"scatterpolar\"}], \"scatterpolargl\": [{\"marker\": {\"colorbar\": {\"outlinewidth\": 0, \"ticks\": \"\"}}, \"type\": \"scatterpolargl\"}], \"scatterternary\": [{\"marker\": {\"colorbar\": {\"outlinewidth\": 0, \"ticks\": \"\"}}, \"type\": \"scatterternary\"}], \"surface\": [{\"colorbar\": {\"outlinewidth\": 0, \"ticks\": \"\"}, \"colorscale\": [[0.0, \"#0d0887\"], [0.1111111111111111, \"#46039f\"], [0.2222222222222222, \"#7201a8\"], [0.3333333333333333, \"#9c179e\"], [0.4444444444444444, \"#bd3786\"], [0.5555555555555556, \"#d8576b\"], [0.6666666666666666, \"#ed7953\"], [0.7777777777777778, \"#fb9f3a\"], [0.8888888888888888, \"#fdca26\"], [1.0, \"#f0f921\"]], \"type\": \"surface\"}], \"table\": [{\"cells\": {\"fill\": {\"color\": \"#EBF0F8\"}, \"line\": {\"color\": \"white\"}}, \"header\": {\"fill\": {\"color\": \"#C8D4E3\"}, \"line\": {\"color\": \"white\"}}, \"type\": \"table\"}]}, \"layout\": {\"annotationdefaults\": {\"arrowcolor\": \"#2a3f5f\", \"arrowhead\": 0, \"arrowwidth\": 1}, \"coloraxis\": {\"colorbar\": {\"outlinewidth\": 0, \"ticks\": \"\"}}, \"colorscale\": {\"diverging\": [[0, \"#8e0152\"], [0.1, \"#c51b7d\"], [0.2, \"#de77ae\"], [0.3, \"#f1b6da\"], [0.4, \"#fde0ef\"], [0.5, \"#f7f7f7\"], [0.6, \"#e6f5d0\"], [0.7, \"#b8e186\"], [0.8, \"#7fbc41\"], [0.9, \"#4d9221\"], [1, \"#276419\"]], \"sequential\": [[0.0, \"#0d0887\"], [0.1111111111111111, \"#46039f\"], [0.2222222222222222, \"#7201a8\"], [0.3333333333333333, \"#9c179e\"], [0.4444444444444444, \"#bd3786\"], [0.5555555555555556, \"#d8576b\"], [0.6666666666666666, \"#ed7953\"], [0.7777777777777778, \"#fb9f3a\"], [0.8888888888888888, \"#fdca26\"], [1.0, \"#f0f921\"]], \"sequentialminus\": [[0.0, \"#0d0887\"], [0.1111111111111111, \"#46039f\"], [0.2222222222222222, \"#7201a8\"], [0.3333333333333333, \"#9c179e\"], [0.4444444444444444, \"#bd3786\"], [0.5555555555555556, \"#d8576b\"], [0.6666666666666666, \"#ed7953\"], [0.7777777777777778, \"#fb9f3a\"], [0.8888888888888888, \"#fdca26\"], [1.0, \"#f0f921\"]]}, \"colorway\": [\"#636efa\", \"#EF553B\", \"#00cc96\", \"#ab63fa\", \"#FFA15A\", \"#19d3f3\", \"#FF6692\", \"#B6E880\", \"#FF97FF\", \"#FECB52\"], \"font\": {\"color\": \"#2a3f5f\"}, \"geo\": {\"bgcolor\": \"white\", \"lakecolor\": \"white\", \"landcolor\": \"#E5ECF6\", \"showlakes\": true, \"showland\": true, \"subunitcolor\": \"white\"}, \"hoverlabel\": {\"align\": \"left\"}, \"hovermode\": \"closest\", \"mapbox\": {\"style\": \"light\"}, \"paper_bgcolor\": \"white\", \"plot_bgcolor\": \"#E5ECF6\", \"polar\": {\"angularaxis\": {\"gridcolor\": \"white\", \"linecolor\": \"white\", \"ticks\": \"\"}, \"bgcolor\": \"#E5ECF6\", \"radialaxis\": {\"gridcolor\": \"white\", \"linecolor\": \"white\", \"ticks\": \"\"}}, \"scene\": {\"xaxis\": {\"backgroundcolor\": \"#E5ECF6\", \"gridcolor\": \"white\", \"gridwidth\": 2, \"linecolor\": \"white\", \"showbackground\": true, \"ticks\": \"\", \"zerolinecolor\": \"white\"}, \"yaxis\": {\"backgroundcolor\": \"#E5ECF6\", \"gridcolor\": \"white\", \"gridwidth\": 2, \"linecolor\": \"white\", \"showbackground\": true, \"ticks\": \"\", \"zerolinecolor\": \"white\"}, \"zaxis\": {\"backgroundcolor\": \"#E5ECF6\", \"gridcolor\": \"white\", \"gridwidth\": 2, \"linecolor\": \"white\", \"showbackground\": true, \"ticks\": \"\", \"zerolinecolor\": \"white\"}}, \"shapedefaults\": {\"line\": {\"color\": \"#2a3f5f\"}}, \"ternary\": {\"aaxis\": {\"gridcolor\": \"white\", \"linecolor\": \"white\", \"ticks\": \"\"}, \"baxis\": {\"gridcolor\": \"white\", \"linecolor\": \"white\", \"ticks\": \"\"}, \"bgcolor\": \"#E5ECF6\", \"caxis\": {\"gridcolor\": \"white\", \"linecolor\": \"white\", \"ticks\": \"\"}}, \"title\": {\"x\": 0.05}, \"xaxis\": {\"automargin\": true, \"gridcolor\": \"white\", \"linecolor\": \"white\", \"ticks\": \"\", \"title\": {\"standoff\": 15}, \"zerolinecolor\": \"white\", \"zerolinewidth\": 2}, \"yaxis\": {\"automargin\": true, \"gridcolor\": \"white\", \"linecolor\": \"white\", \"ticks\": \"\", \"title\": {\"standoff\": 15}, \"zerolinecolor\": \"white\", \"zerolinewidth\": 2}}}},\n",
              "                        {\"responsive\": true}\n",
              "                    ).then(function(){\n",
              "                            \n",
              "var gd = document.getElementById('5bce2880-b551-4f06-962a-8c0d5f0e9629');\n",
              "var x = new MutationObserver(function (mutations, observer) {{\n",
              "        var display = window.getComputedStyle(gd).display;\n",
              "        if (!display || display === 'none') {{\n",
              "            console.log([gd, 'removed!']);\n",
              "            Plotly.purge(gd);\n",
              "            observer.disconnect();\n",
              "        }}\n",
              "}});\n",
              "\n",
              "// Listen for the removal of the full notebook cells\n",
              "var notebookContainer = gd.closest('#notebook-container');\n",
              "if (notebookContainer) {{\n",
              "    x.observe(notebookContainer, {childList: true});\n",
              "}}\n",
              "\n",
              "// Listen for the clearing of the current output cell\n",
              "var outputEl = gd.closest('.output');\n",
              "if (outputEl) {{\n",
              "    x.observe(outputEl, {childList: true});\n",
              "}}\n",
              "\n",
              "                        })\n",
              "                };\n",
              "                \n",
              "            </script>\n",
              "        </div>\n",
              "</body>\n",
              "</html>"
            ]
          },
          "metadata": {
            "tags": []
          }
        }
      ]
    },
    {
      "cell_type": "code",
      "metadata": {
        "colab": {
          "base_uri": "https://localhost:8080/",
          "height": 542
        },
        "id": "mXEZeklpQMSW",
        "outputId": "8cc17e5e-01e6-48ca-bd9b-d8687be9f614"
      },
      "source": [
        "# Gráfico usando apenas marcadores\n",
        "trace1 = go.Scatter(x = ['2018', '2019', '2020'],\n",
        "                 y = [res_loc2018, res_loc2019, res_loc],\n",
        "                    mode = 'lines',\n",
        "                    name = 'Locação')\n",
        "\n",
        "trace2 = go.Scatter(x = ['2018', '2019', '2020'],\n",
        "                 y = [res_aer2018, res_aer2019, res_aer],\n",
        "                    mode = 'lines',\n",
        "                    name = 'Aereo')\n",
        "\n",
        "trace3= go.Scatter(x = ['2018', '2019', '2020'],\n",
        "                 y = [res_divu2018, res_divu2019, res_divu],\n",
        "                    mode = 'lines',\n",
        "                    name = 'Divulgação')\n",
        "\n",
        "trace4 = go.Scatter(x = ['2018', '2019', '2020'],\n",
        "                 y = [res_manu2018, res_manu2019, res_manu],\n",
        "                    mode = 'lines',\n",
        "                    name = 'Manutenção')\n",
        "\n",
        "trace5 = go.Scatter(x = ['2018', '2019', '2020'],\n",
        "                 y = [res_cons2018, res_cons2019, res_cons],\n",
        "                    mode = 'lines',\n",
        "                    name = 'Consultoria')\n",
        "data = [trace1, trace2, trace3, trace4, trace5]\n",
        "py.iplot(data)"
      ],
      "execution_count": null,
      "outputs": [
        {
          "output_type": "display_data",
          "data": {
            "text/html": [
              "<html>\n",
              "<head><meta charset=\"utf-8\" /></head>\n",
              "<body>\n",
              "    <div>\n",
              "            <script src=\"https://cdnjs.cloudflare.com/ajax/libs/mathjax/2.7.5/MathJax.js?config=TeX-AMS-MML_SVG\"></script><script type=\"text/javascript\">if (window.MathJax) {MathJax.Hub.Config({SVG: {font: \"STIX-Web\"}});}</script>\n",
              "                <script type=\"text/javascript\">window.PlotlyConfig = {MathJaxConfig: 'local'};</script>\n",
              "        <script src=\"https://cdn.plot.ly/plotly-latest.min.js\"></script>    \n",
              "            <div id=\"81968f3d-50ce-40d1-a12c-5887a208d8e4\" class=\"plotly-graph-div\" style=\"height:525px; width:100%;\"></div>\n",
              "            <script type=\"text/javascript\">\n",
              "                \n",
              "                    window.PLOTLYENV=window.PLOTLYENV || {};\n",
              "                    \n",
              "                if (document.getElementById(\"81968f3d-50ce-40d1-a12c-5887a208d8e4\")) {\n",
              "                    Plotly.newPlot(\n",
              "                        '81968f3d-50ce-40d1-a12c-5887a208d8e4',\n",
              "                        [{\"mode\": \"lines\", \"name\": \"Loca\\u00e7\\u00e3o\", \"type\": \"scatter\", \"x\": [\"2018\", \"2019\", \"2020\"], \"y\": [27110558.8502922, 26512119.148711707, 107551647.62447649]}, {\"mode\": \"lines\", \"name\": \"Aereo\", \"type\": \"scatter\", \"x\": [\"2018\", \"2019\", \"2020\"], \"y\": [54708180.24839683, 53980063.021343276, 209934258.07942766]}, {\"mode\": \"lines\", \"name\": \"Divulga\\u00e7\\u00e3o\", \"type\": \"scatter\", \"x\": [\"2018\", \"2019\", \"2020\"], \"y\": [51921375.38283484, 50058429.85115619, 204694931.92307004]}, {\"mode\": \"lines\", \"name\": \"Manuten\\u00e7\\u00e3o\", \"type\": \"scatter\", \"x\": [\"2018\", \"2019\", \"2020\"], \"y\": [23129651.68323141, 23122819.787711687, 94347455.69667006]}, {\"mode\": \"lines\", \"name\": \"Consultoria\", \"type\": \"scatter\", \"x\": [\"2018\", \"2019\", \"2020\"], \"y\": [20336870.35341662, 21065265.640988026, 84811716.17588319]}],\n",
              "                        {\"template\": {\"data\": {\"bar\": [{\"error_x\": {\"color\": \"#2a3f5f\"}, \"error_y\": {\"color\": \"#2a3f5f\"}, \"marker\": {\"line\": {\"color\": \"#E5ECF6\", \"width\": 0.5}}, \"type\": \"bar\"}], \"barpolar\": [{\"marker\": {\"line\": {\"color\": \"#E5ECF6\", \"width\": 0.5}}, \"type\": \"barpolar\"}], \"carpet\": [{\"aaxis\": {\"endlinecolor\": \"#2a3f5f\", \"gridcolor\": \"white\", \"linecolor\": \"white\", \"minorgridcolor\": \"white\", \"startlinecolor\": \"#2a3f5f\"}, \"baxis\": {\"endlinecolor\": \"#2a3f5f\", \"gridcolor\": \"white\", \"linecolor\": \"white\", \"minorgridcolor\": \"white\", \"startlinecolor\": \"#2a3f5f\"}, \"type\": \"carpet\"}], \"choropleth\": [{\"colorbar\": {\"outlinewidth\": 0, \"ticks\": \"\"}, \"type\": \"choropleth\"}], \"contour\": [{\"colorbar\": {\"outlinewidth\": 0, \"ticks\": \"\"}, \"colorscale\": [[0.0, \"#0d0887\"], [0.1111111111111111, \"#46039f\"], [0.2222222222222222, \"#7201a8\"], [0.3333333333333333, \"#9c179e\"], [0.4444444444444444, \"#bd3786\"], [0.5555555555555556, \"#d8576b\"], [0.6666666666666666, \"#ed7953\"], [0.7777777777777778, \"#fb9f3a\"], [0.8888888888888888, \"#fdca26\"], [1.0, \"#f0f921\"]], \"type\": \"contour\"}], \"contourcarpet\": [{\"colorbar\": {\"outlinewidth\": 0, \"ticks\": \"\"}, \"type\": \"contourcarpet\"}], \"heatmap\": [{\"colorbar\": {\"outlinewidth\": 0, \"ticks\": \"\"}, \"colorscale\": [[0.0, \"#0d0887\"], [0.1111111111111111, \"#46039f\"], [0.2222222222222222, \"#7201a8\"], [0.3333333333333333, \"#9c179e\"], [0.4444444444444444, \"#bd3786\"], [0.5555555555555556, \"#d8576b\"], [0.6666666666666666, \"#ed7953\"], [0.7777777777777778, \"#fb9f3a\"], [0.8888888888888888, \"#fdca26\"], [1.0, \"#f0f921\"]], \"type\": \"heatmap\"}], \"heatmapgl\": [{\"colorbar\": {\"outlinewidth\": 0, \"ticks\": \"\"}, \"colorscale\": [[0.0, \"#0d0887\"], [0.1111111111111111, \"#46039f\"], [0.2222222222222222, \"#7201a8\"], [0.3333333333333333, \"#9c179e\"], [0.4444444444444444, \"#bd3786\"], [0.5555555555555556, \"#d8576b\"], [0.6666666666666666, \"#ed7953\"], [0.7777777777777778, \"#fb9f3a\"], [0.8888888888888888, \"#fdca26\"], [1.0, \"#f0f921\"]], \"type\": \"heatmapgl\"}], \"histogram\": [{\"marker\": {\"colorbar\": {\"outlinewidth\": 0, \"ticks\": \"\"}}, \"type\": \"histogram\"}], \"histogram2d\": [{\"colorbar\": {\"outlinewidth\": 0, \"ticks\": \"\"}, \"colorscale\": [[0.0, \"#0d0887\"], [0.1111111111111111, \"#46039f\"], [0.2222222222222222, \"#7201a8\"], [0.3333333333333333, \"#9c179e\"], [0.4444444444444444, \"#bd3786\"], [0.5555555555555556, \"#d8576b\"], [0.6666666666666666, \"#ed7953\"], [0.7777777777777778, \"#fb9f3a\"], [0.8888888888888888, \"#fdca26\"], [1.0, \"#f0f921\"]], \"type\": \"histogram2d\"}], \"histogram2dcontour\": [{\"colorbar\": {\"outlinewidth\": 0, \"ticks\": \"\"}, \"colorscale\": [[0.0, \"#0d0887\"], [0.1111111111111111, \"#46039f\"], [0.2222222222222222, \"#7201a8\"], [0.3333333333333333, \"#9c179e\"], [0.4444444444444444, \"#bd3786\"], [0.5555555555555556, \"#d8576b\"], [0.6666666666666666, \"#ed7953\"], [0.7777777777777778, \"#fb9f3a\"], [0.8888888888888888, \"#fdca26\"], [1.0, \"#f0f921\"]], \"type\": \"histogram2dcontour\"}], \"mesh3d\": [{\"colorbar\": {\"outlinewidth\": 0, \"ticks\": \"\"}, \"type\": \"mesh3d\"}], \"parcoords\": [{\"line\": {\"colorbar\": {\"outlinewidth\": 0, \"ticks\": \"\"}}, \"type\": \"parcoords\"}], \"pie\": [{\"automargin\": true, \"type\": \"pie\"}], \"scatter\": [{\"marker\": {\"colorbar\": {\"outlinewidth\": 0, \"ticks\": \"\"}}, \"type\": \"scatter\"}], \"scatter3d\": [{\"line\": {\"colorbar\": {\"outlinewidth\": 0, \"ticks\": \"\"}}, \"marker\": {\"colorbar\": {\"outlinewidth\": 0, \"ticks\": \"\"}}, \"type\": \"scatter3d\"}], \"scattercarpet\": [{\"marker\": {\"colorbar\": {\"outlinewidth\": 0, \"ticks\": \"\"}}, \"type\": \"scattercarpet\"}], \"scattergeo\": [{\"marker\": {\"colorbar\": {\"outlinewidth\": 0, \"ticks\": \"\"}}, \"type\": \"scattergeo\"}], \"scattergl\": [{\"marker\": {\"colorbar\": {\"outlinewidth\": 0, \"ticks\": \"\"}}, \"type\": \"scattergl\"}], \"scattermapbox\": [{\"marker\": {\"colorbar\": {\"outlinewidth\": 0, \"ticks\": \"\"}}, \"type\": \"scattermapbox\"}], \"scatterpolar\": [{\"marker\": {\"colorbar\": {\"outlinewidth\": 0, \"ticks\": \"\"}}, \"type\": \"scatterpolar\"}], \"scatterpolargl\": [{\"marker\": {\"colorbar\": {\"outlinewidth\": 0, \"ticks\": \"\"}}, \"type\": \"scatterpolargl\"}], \"scatterternary\": [{\"marker\": {\"colorbar\": {\"outlinewidth\": 0, \"ticks\": \"\"}}, \"type\": \"scatterternary\"}], \"surface\": [{\"colorbar\": {\"outlinewidth\": 0, \"ticks\": \"\"}, \"colorscale\": [[0.0, \"#0d0887\"], [0.1111111111111111, \"#46039f\"], [0.2222222222222222, \"#7201a8\"], [0.3333333333333333, \"#9c179e\"], [0.4444444444444444, \"#bd3786\"], [0.5555555555555556, \"#d8576b\"], [0.6666666666666666, \"#ed7953\"], [0.7777777777777778, \"#fb9f3a\"], [0.8888888888888888, \"#fdca26\"], [1.0, \"#f0f921\"]], \"type\": \"surface\"}], \"table\": [{\"cells\": {\"fill\": {\"color\": \"#EBF0F8\"}, \"line\": {\"color\": \"white\"}}, \"header\": {\"fill\": {\"color\": \"#C8D4E3\"}, \"line\": {\"color\": \"white\"}}, \"type\": \"table\"}]}, \"layout\": {\"annotationdefaults\": {\"arrowcolor\": \"#2a3f5f\", \"arrowhead\": 0, \"arrowwidth\": 1}, \"coloraxis\": {\"colorbar\": {\"outlinewidth\": 0, \"ticks\": \"\"}}, \"colorscale\": {\"diverging\": [[0, \"#8e0152\"], [0.1, \"#c51b7d\"], [0.2, \"#de77ae\"], [0.3, \"#f1b6da\"], [0.4, \"#fde0ef\"], [0.5, \"#f7f7f7\"], [0.6, \"#e6f5d0\"], [0.7, \"#b8e186\"], [0.8, \"#7fbc41\"], [0.9, \"#4d9221\"], [1, \"#276419\"]], \"sequential\": [[0.0, \"#0d0887\"], [0.1111111111111111, \"#46039f\"], [0.2222222222222222, \"#7201a8\"], [0.3333333333333333, \"#9c179e\"], [0.4444444444444444, \"#bd3786\"], [0.5555555555555556, \"#d8576b\"], [0.6666666666666666, \"#ed7953\"], [0.7777777777777778, \"#fb9f3a\"], [0.8888888888888888, \"#fdca26\"], [1.0, \"#f0f921\"]], \"sequentialminus\": [[0.0, \"#0d0887\"], [0.1111111111111111, \"#46039f\"], [0.2222222222222222, \"#7201a8\"], [0.3333333333333333, \"#9c179e\"], [0.4444444444444444, \"#bd3786\"], [0.5555555555555556, \"#d8576b\"], [0.6666666666666666, \"#ed7953\"], [0.7777777777777778, \"#fb9f3a\"], [0.8888888888888888, \"#fdca26\"], [1.0, \"#f0f921\"]]}, \"colorway\": [\"#636efa\", \"#EF553B\", \"#00cc96\", \"#ab63fa\", \"#FFA15A\", \"#19d3f3\", \"#FF6692\", \"#B6E880\", \"#FF97FF\", \"#FECB52\"], \"font\": {\"color\": \"#2a3f5f\"}, \"geo\": {\"bgcolor\": \"white\", \"lakecolor\": \"white\", \"landcolor\": \"#E5ECF6\", \"showlakes\": true, \"showland\": true, \"subunitcolor\": \"white\"}, \"hoverlabel\": {\"align\": \"left\"}, \"hovermode\": \"closest\", \"mapbox\": {\"style\": \"light\"}, \"paper_bgcolor\": \"white\", \"plot_bgcolor\": \"#E5ECF6\", \"polar\": {\"angularaxis\": {\"gridcolor\": \"white\", \"linecolor\": \"white\", \"ticks\": \"\"}, \"bgcolor\": \"#E5ECF6\", \"radialaxis\": {\"gridcolor\": \"white\", \"linecolor\": \"white\", \"ticks\": \"\"}}, \"scene\": {\"xaxis\": {\"backgroundcolor\": \"#E5ECF6\", \"gridcolor\": \"white\", \"gridwidth\": 2, \"linecolor\": \"white\", \"showbackground\": true, \"ticks\": \"\", \"zerolinecolor\": \"white\"}, \"yaxis\": {\"backgroundcolor\": \"#E5ECF6\", \"gridcolor\": \"white\", \"gridwidth\": 2, \"linecolor\": \"white\", \"showbackground\": true, \"ticks\": \"\", \"zerolinecolor\": \"white\"}, \"zaxis\": {\"backgroundcolor\": \"#E5ECF6\", \"gridcolor\": \"white\", \"gridwidth\": 2, \"linecolor\": \"white\", \"showbackground\": true, \"ticks\": \"\", \"zerolinecolor\": \"white\"}}, \"shapedefaults\": {\"line\": {\"color\": \"#2a3f5f\"}}, \"ternary\": {\"aaxis\": {\"gridcolor\": \"white\", \"linecolor\": \"white\", \"ticks\": \"\"}, \"baxis\": {\"gridcolor\": \"white\", \"linecolor\": \"white\", \"ticks\": \"\"}, \"bgcolor\": \"#E5ECF6\", \"caxis\": {\"gridcolor\": \"white\", \"linecolor\": \"white\", \"ticks\": \"\"}}, \"title\": {\"x\": 0.05}, \"xaxis\": {\"automargin\": true, \"gridcolor\": \"white\", \"linecolor\": \"white\", \"ticks\": \"\", \"title\": {\"standoff\": 15}, \"zerolinecolor\": \"white\", \"zerolinewidth\": 2}, \"yaxis\": {\"automargin\": true, \"gridcolor\": \"white\", \"linecolor\": \"white\", \"ticks\": \"\", \"title\": {\"standoff\": 15}, \"zerolinecolor\": \"white\", \"zerolinewidth\": 2}}}},\n",
              "                        {\"responsive\": true}\n",
              "                    ).then(function(){\n",
              "                            \n",
              "var gd = document.getElementById('81968f3d-50ce-40d1-a12c-5887a208d8e4');\n",
              "var x = new MutationObserver(function (mutations, observer) {{\n",
              "        var display = window.getComputedStyle(gd).display;\n",
              "        if (!display || display === 'none') {{\n",
              "            console.log([gd, 'removed!']);\n",
              "            Plotly.purge(gd);\n",
              "            observer.disconnect();\n",
              "        }}\n",
              "}});\n",
              "\n",
              "// Listen for the removal of the full notebook cells\n",
              "var notebookContainer = gd.closest('#notebook-container');\n",
              "if (notebookContainer) {{\n",
              "    x.observe(notebookContainer, {childList: true});\n",
              "}}\n",
              "\n",
              "// Listen for the clearing of the current output cell\n",
              "var outputEl = gd.closest('.output');\n",
              "if (outputEl) {{\n",
              "    x.observe(outputEl, {childList: true});\n",
              "}}\n",
              "\n",
              "                        })\n",
              "                };\n",
              "                \n",
              "            </script>\n",
              "        </div>\n",
              "</body>\n",
              "</html>"
            ]
          },
          "metadata": {
            "tags": []
          }
        }
      ]
    },
    {
      "cell_type": "markdown",
      "metadata": {
        "id": "BQSJF62HUleF"
      },
      "source": [
        "## Conclusão"
      ]
    },
    {
      "cell_type": "markdown",
      "metadata": {
        "id": "GpyoUkEXUo7I"
      },
      "source": [
        "Nesse breve estudo de caso podemos ver os gastos dos Deputados \n",
        "Os 15 que mais gastaram \n",
        "As maiores despesas \n",
        "E a previsão que deveria ser para 2020\n",
        "\n",
        "Podemos tambem observa que os maiores custos foram das Passagens Aereas e Divulgação \n",
        "\n",
        "Temos que tendender melhor o porque esse custo representa uma grande diferença com relação aos demais\n",
        "\n",
        "Podemos ver em uns dos graficos acima que essas 2 despesas (divulgacao e Aereo ) somadas representam 50% das despesas totais ou seja de 22 despesas listadas neste estudo de caso 2 representa 50% \n",
        "\n",
        "Então uma acao imediata seria reduzir essa despesa\n"
      ]
    },
    {
      "cell_type": "code",
      "metadata": {
        "id": "HWn6-LXB0gqr"
      },
      "source": [
        "dados.to_csv('dados.csv', index=False)"
      ],
      "execution_count": null,
      "outputs": []
    }
  ]
}